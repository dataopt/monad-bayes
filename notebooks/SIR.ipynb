{
 "cells": [
  {
   "cell_type": "markdown",
   "id": "8d04c604-d27d-4f35-a38b-6d7a1b6b821b",
   "metadata": {},
   "source": [
    "# Susceptible, Infected, Recovered: Influenza in a Boarding School"
   ]
  },
  {
   "cell_type": "markdown",
   "id": "11c35a60-8cc3-445b-83dc-1455acf09683",
   "metadata": {},
   "source": [
    "In 1978, anonymous authors sent a note to the British Medical Journal\n",
    "reporting an influenza outbreak in a boarding school in the north of\n",
    "England (@bmj-influenza). The chart below shows the solution of the\n",
    "SIR (Susceptible, Infected, Record) model with parameters which give\n",
    "roughly the results observed in the school."
   ]
  },
  {
   "cell_type": "markdown",
   "id": "ff4443ca-8da1-487a-92ed-ef12eae452d7",
   "metadata": {},
   "source": [
    "We can model this using the [textbook\n",
    "model](https://en.wikipedia.org/wiki/Compartmental_models_in_epidemiology) which\n",
    "is more or less the one that @1927RSPSA.115 published almost 100 years\n",
    "ago and which treats the number of infected individuals as continuous."
   ]
  },
  {
   "cell_type": "markdown",
   "id": "7b02f284-149f-4576-a82d-4adbe3433be8",
   "metadata": {},
   "source": [
    "The Susceptible / Infected / Recovered (SIR) model has three\n",
    "parameters: one describing how infectious the pathogen is ($\\beta$), one\n",
    "describing how much contact a host has with other hosts ($c$) and one\n",
    "describing how quickly a host recovers ($\\gamma$).\n",
    "\n",
    "$$\n",
    "\\begin{aligned}\n",
    "\\frac{d S}{d t} &=-c \\beta S \\frac{I}{N} \\\\\n",
    "\\frac{d I}{d t} &=c \\beta S \\frac{I}{N}-\\gamma I \\\\\n",
    "\\frac{d R}{d t} &=\\gamma I\n",
    "\\end{aligned}\n",
    "$$\n",
    "\n",
    "The infectivity rate and the contact rate are always used as $c\\beta$\n",
    "and are thus non-identifiable so we can replace this product with a\n",
    "single parameter $\\alpha = c\\beta$).\n",
    "\n",
    "$$\n",
    "\\begin{aligned}\n",
    "\\frac{d S}{d t} &=-\\alpha S \\frac{I}{N} \\\\\n",
    "\\frac{d I}{d t} &=\\alpha S \\frac{I}{N}-\\gamma I \\\\\n",
    "\\frac{d R}{d t} &=\\gamma I\n",
    "\\end{aligned}\n",
    "$$"
   ]
  },
  {
   "cell_type": "code",
   "execution_count": 49,
   "id": "53e33aa5-6e81-4f7a-9e94-85bed78fd116",
   "metadata": {},
   "outputs": [],
   "source": [
    "{-# LANGUAGE ViewPatterns        #-}\n",
    "{-# LANGUAGE NumDecimals         #-}\n",
    "{-# LANGUAGE OverloadedLists     #-}\n",
    "{-# LANGUAGE FlexibleContexts    #-}\n",
    "{-# LANGUAGE RecordWildCards     #-}\n",
    "\n",
    "import           Numeric.Sundials\n",
    "import           Numeric.LinearAlgebra\n",
    "import qualified Data.Vector.Storable as VS\n",
    "import           Control.Monad.Bayes.Class\n",
    "import qualified Data.Vector as V\n",
    "import           Control.Exception\n",
    "import           Control.Monad.IO.Class\n",
    "import           Katip\n",
    "import           Katip.Monadic ()\n",
    "import           System.IO\n",
    "\n",
    ":l Plotting.hs"
   ]
  },
  {
   "cell_type": "code",
   "execution_count": 50,
   "id": "4f47ca0a-3f75-4d8f-8197-02912f565b60",
   "metadata": {},
   "outputs": [],
   "source": [
    "data SirState = SirState {\n",
    "    sirStateS :: Double\n",
    "  , sirStateI :: Double\n",
    "  , sirStateR :: Double\n",
    "  } deriving (Eq, Show)\n",
    "\n",
    "data SirParams = SirParams {\n",
    "    sirParamsBeta  :: Double\n",
    "  , sirParamsC     :: Double\n",
    "  , sirParamsGamma :: Double\n",
    "  } deriving (Eq, Show)\n",
    "\n",
    "data SirParams' = SirParams' {\n",
    "    sirParamsR0    :: Double\n",
    "  , sirParamsKappa :: Double\n",
    "  } deriving (Eq, Show)\n",
    "\n",
    "data Sir = Sir {\n",
    "    sirS     :: SirState\n",
    "  , sirP     :: SirParams\n",
    "  } deriving (Eq, Show)\n",
    "\n",
    "data SirReparam = SirReparam {\n",
    "    sirS'     :: SirState\n",
    "  , sirP'     :: SirParams'\n",
    "  } deriving (Eq, Show)\n"
   ]
  },
  {
   "cell_type": "code",
   "execution_count": 51,
   "id": "4a0494ac-284a-40e8-9925-c337cb36f321",
   "metadata": {},
   "outputs": [
    {
     "data": {},
     "metadata": {},
     "output_type": "display_data"
    },
    {
     "data": {
      "text/html": [
       "<div style='background: rgb(247, 247, 247);'><form><textarea id='code'>type SirParams :: *\n",
       "data SirParams = SirParams {sirParamsBeta :: Double, sirParamsC :: Double, sirParamsGamma :: Double}\n",
       "  \t-- Defined at <interactive>:6:1\n",
       "instance [safe] Show SirParams -- Defined at <interactive>:10:19\n",
       "instance [safe] Eq SirParams -- Defined at <interactive>:10:15\n",
       "</textarea></form></div><script>CodeMirror.fromTextArea(document.getElementById('code'), {mode: 'haskell', readOnly: 'nocursor'});</script>"
      ],
      "text/plain": [
       "type SirParams :: *\n",
       "data SirParams = SirParams {sirParamsBeta :: Double, sirParamsC :: Double, sirParamsGamma :: Double}\n",
       "  \t-- Defined at <interactive>:6:1\n",
       "instance [safe] Show SirParams -- Defined at <interactive>:10:19\n",
       "instance [safe] Eq SirParams -- Defined at <interactive>:10:15"
      ]
     },
     "metadata": {},
     "output_type": "display_data"
    }
   ],
   "source": [
    ":i SirParams"
   ]
  },
  {
   "cell_type": "code",
   "execution_count": 52,
   "id": "606ef6f5-02bc-4e26-b965-443197346d70",
   "metadata": {},
   "outputs": [
    {
     "data": {},
     "metadata": {},
     "output_type": "display_data"
    },
    {
     "data": {
      "text/html": [
       "<div style='background: rgb(247, 247, 247);'><form><textarea id='code'>type SunMatrix :: *\n",
       "data SunMatrix = SunMatrix {Numeric.Sundials.rows :: SunIndexType, Numeric.Sundials.cols :: SunIndexType, vals :: Vector Foreign.C.Types.CDouble}\n",
       "  \t-- Defined in ‘hmatrix-sundials-0.20.0.0:Numeric.Sundials.Foreign’\n",
       "instance VS.Storable SunMatrix -- Defined in ‘hmatrix-sundials-0.20.0.0:Numeric.Sundials.Foreign’\n",
       "</textarea></form></div><script>CodeMirror.fromTextArea(document.getElementById('code'), {mode: 'haskell', readOnly: 'nocursor'});</script>"
      ],
      "text/plain": [
       "type SunMatrix :: *\n",
       "data SunMatrix = SunMatrix {Numeric.Sundials.rows :: SunIndexType, Numeric.Sundials.cols :: SunIndexType, vals :: Vector Foreign.C.Types.CDouble}\n",
       "  \t-- Defined in ‘hmatrix-sundials-0.20.0.0:Numeric.Sundials.Foreign’\n",
       "instance VS.Storable SunMatrix -- Defined in ‘hmatrix-sundials-0.20.0.0:Numeric.Sundials.Foreign’"
      ]
     },
     "metadata": {},
     "output_type": "display_data"
    }
   ],
   "source": [
    ":i SunMatrix"
   ]
  },
  {
   "cell_type": "markdown",
   "id": "c79f7c7f-d139-419f-834f-1fae2292d715",
   "metadata": {},
   "source": [
    "As in most languages, it's easy enough to define the actual ODE\n",
    "problem itself and then run a solver to return the results and then\n",
    "plot them. Here we are using a 4-th order implicit method from the\n",
    "[SUNDIALS ODE solver\n",
    "package](https://sundials.readthedocs.io/en/latest/arkode/Butcher_link.html#sdirk-5-3-4)\n",
    "but almost any solver would have worked for the set of equations we\n",
    "using as our example.\n",
    "\n",
    "I have hidden the details which can made be visible if the reader is\n",
    "interested."
   ]
  },
  {
   "cell_type": "code",
   "execution_count": 53,
   "id": "b5b1e447-84f6-4e04-83fd-0f4034ce3d33",
   "metadata": {},
   "outputs": [],
   "source": [
    "defaultOpts :: OdeMethod -> ODEOpts\n",
    "defaultOpts method = ODEOpts\n",
    "  { maxNumSteps = 1e5\n",
    "  , minStep     = 1.0e-14\n",
    "  , fixedStep   = 0\n",
    "  , maxFail     = 10\n",
    "  , odeMethod   = method\n",
    "  , initStep    = Nothing\n",
    "  , jacobianRepr = DenseJacobian\n",
    "  }\n",
    "\n",
    "emptyOdeProblem :: OdeProblem\n",
    "emptyOdeProblem = OdeProblem\n",
    "      { odeRhs = error \"emptyOdeProblem: no odeRhs provided\"\n",
    "      , odeJacobian = Nothing\n",
    "      , odeInitCond = error \"emptyOdeProblem: no odeInitCond provided\"\n",
    "      , odeEventDirections = V.empty\n",
    "      , odeEventConditions = eventConditionsPure V.empty\n",
    "      , odeTimeBasedEvents = TimeEventSpec $ return $ 1.0 / 0.0\n",
    "      , odeEventHandler = nilEventHandler\n",
    "      , odeMaxEvents = 100\n",
    "      , odeSolTimes = error \"emptyOdeProblem: no odeSolTimes provided\"\n",
    "      , odeTolerances = defaultTolerances\n",
    "      }\n",
    "\n",
    "nilEventHandler :: EventHandler\n",
    "nilEventHandler _ _ _ = throwIO $ ErrorCall \"nilEventHandler\"\n",
    "\n",
    "defaultTolerances :: Tolerances\n",
    "defaultTolerances = Tolerances\n",
    "  { absTolerances = Left 1.0e-6\n",
    "  , relTolerance = 1.0e-10\n",
    "  }"
   ]
  },
  {
   "cell_type": "code",
   "execution_count": 54,
   "id": "bc166a9e-bdb2-4976-8442-e778410e56e2",
   "metadata": {},
   "outputs": [
    {
     "data": {},
     "metadata": {},
     "output_type": "display_data"
    },
    {
     "data": {
      "text/html": [
       "<div style='background: rgb(247, 247, 247);'><form><textarea id='code'>type OdeRhs :: *\n",
       "data OdeRhs = OdeRhsHaskell (Foreign.C.Types.CDouble -> Vector Foreign.C.Types.CDouble -> IO (Vector Foreign.C.Types.CDouble)) | OdeRhsC (GHC.Ptr.FunPtr OdeRhsCType) (GHC.Ptr.Ptr UserData)\n",
       "  \t-- Defined in ‘hmatrix-sundials-0.20.0.0:Numeric.Sundials.Common’\n",
       "</textarea></form></div><script>CodeMirror.fromTextArea(document.getElementById('code'), {mode: 'haskell', readOnly: 'nocursor'});</script>"
      ],
      "text/plain": [
       "type OdeRhs :: *\n",
       "data OdeRhs = OdeRhsHaskell (Foreign.C.Types.CDouble -> Vector Foreign.C.Types.CDouble -> IO (Vector Foreign.C.Types.CDouble)) | OdeRhsC (GHC.Ptr.FunPtr OdeRhsCType) (GHC.Ptr.Ptr UserData)\n",
       "  \t-- Defined in ‘hmatrix-sundials-0.20.0.0:Numeric.Sundials.Common’"
      ]
     },
     "metadata": {},
     "output_type": "display_data"
    }
   ],
   "source": [
    ":i OdeRhs"
   ]
  },
  {
   "cell_type": "code",
   "execution_count": 55,
   "id": "0c3c87dd-af8a-43b2-b2dc-7758ae6bb004",
   "metadata": {},
   "outputs": [],
   "source": [
    "sir :: Vector Double -> Sir -> OdeProblem\n",
    "sir ts ps = emptyOdeProblem\n",
    "  { odeRhs = odeRhsPure f\n",
    "  , odeJacobian = Nothing\n",
    "  , odeInitCond = [initS, initI, initR]\n",
    "  , odeEventHandler = nilEventHandler\n",
    "  , odeMaxEvents = 0\n",
    "  , odeSolTimes = ts\n",
    "  , odeTolerances = defaultTolerances\n",
    "  }\n",
    "  where\n",
    "    f _ (VS.toList -> [s, i, r]) =\n",
    "      let n = s + i + r in\n",
    "        [ -beta * c * i / n * s\n",
    "        , beta * c * i / n * s - gamma * i\n",
    "        , gamma * i\n",
    "        ]\n",
    "    f _ _ = error \"Incorrect number of parameters\"\n",
    "\n",
    "    beta  = realToFrac (sirParamsBeta  $ sirP ps)\n",
    "    c     = realToFrac (sirParamsC     $ sirP ps)\n",
    "    gamma = realToFrac (sirParamsGamma $ sirP ps)\n",
    "    initS = realToFrac (sirStateS $ sirS ps)\n",
    "    initI = realToFrac (sirStateI $ sirS ps)\n",
    "    initR = realToFrac (sirStateR $ sirS ps)"
   ]
  },
  {
   "cell_type": "code",
   "execution_count": 56,
   "id": "9e11044a-8037-40e9-84f5-fd9ce177e60f",
   "metadata": {},
   "outputs": [],
   "source": [
    "us :: [Double]\n",
    "us = map fromIntegral [1 .. length actuals]\n",
    "\n",
    "actuals :: [Double]\n",
    "actuals = [1, 3, 8, 28, 76, 222, 293, 257, 237, 192, 126, 70, 28, 12, 5]"
   ]
  },
  {
   "cell_type": "code",
   "execution_count": 57,
   "id": "788345df-e3af-4d51-a9d7-d7314596eefb",
   "metadata": {},
   "outputs": [],
   "source": [
    "solK :: (MonadIO m, Katip m) =>\n",
    "        (a -> b -> OdeProblem) -> b -> a -> m (Matrix Double)\n",
    "solK s ps ts = do\n",
    "  x <- solve (defaultOpts $ ARKMethod SDIRK_5_3_4) (s ts ps)\n",
    "  case x of\n",
    "    Left e  -> error $ show e\n",
    "    Right y -> return (solutionMatrix y)\n",
    "\n",
    "testSolK :: (MonadIO m, KatipContext m) => m [Double]\n",
    "testSolK = do\n",
    "  m <- solK sir (Sir (SirState 762 1 0) (SirParams 0.2 10.0 0.5)) (vector us)\n",
    "  let n = tr m\n",
    "  return $ toList (n!1)"
   ]
  },
  {
   "cell_type": "code",
   "execution_count": 58,
   "id": "edbbf306-8ed8-45b1-969e-f318c306f4de",
   "metadata": {},
   "outputs": [],
   "source": [
    "myBracketFormat :: LogItem a => ItemFormatter a\n",
    "myBracketFormat _withColor _verb Item {..} =\n",
    "    unLogStr _itemMessage"
   ]
  },
  {
   "cell_type": "code",
   "execution_count": 59,
   "id": "ff14de28-c784-4625-a578-29fe1ea63a94",
   "metadata": {},
   "outputs": [],
   "source": [
    "main :: IO ()\n",
    "main = do\n",
    "  handleScribe <- mkHandleScribeWithFormatter myBracketFormat ColorIfTerminal stderr (permitItem DebugS) V2\n",
    "  logEnv <- registerScribe \"stderr\" handleScribe defaultScribeSettings =<< initLogEnv \"test\" \"devel\"\n",
    "  r <- runKatipContextT logEnv (mempty :: LogContexts) mempty testSolK\n",
    "  print r\n",
    "  return ()"
   ]
  },
  {
   "cell_type": "code",
   "execution_count": 60,
   "id": "a2c2fad4-df9f-46e1-815a-11fbcf22a3c7",
   "metadata": {},
   "outputs": [
    {
     "data": {
      "text/plain": [
       "[1.0,4.449470258029982,19.260613955067594,74.56001407651216,203.53132707275714,303.9377394431499,280.8355064841971,208.44313889488538,141.93376055400773,93.16867111576789,60.098401961236064,38.41317069995869,24.42723523310017,15.487105777221927,9.80136250623264]"
      ]
     },
     "metadata": {},
     "output_type": "display_data"
    }
   ],
   "source": [
    "main"
   ]
  },
  {
   "cell_type": "markdown",
   "id": "d547a105-7dc2-4436-9963-81f9c1fec90b",
   "metadata": {},
   "source": [
    "Definition: Let $\\mathcal{C}$ be a category. A monad on $\\mathcal{C}$ is a triple\n",
    "\n",
    "$$\n",
    "\\left(C \\stackrel{T}{\\longrightarrow} C, T^{2} \\stackrel{\\mu}{\\Longrightarrow} T, I \\stackrel{\\eta}{\\Longrightarrow} T\\right)\n",
    "$$\n",
    "\n",
    "obeying the standard associativity and identity properties."
   ]
  },
  {
   "cell_type": "markdown",
   "id": "0d2f2eda-e6d1-400b-a26d-839c50a383a3",
   "metadata": {},
   "source": [
    "${\\mathcal{C}}_0$ measurable spaces ${\\mathcal{C}}_1$ measurable functions on the former"
   ]
  },
  {
   "cell_type": "markdown",
   "id": "43d90c1e-ba92-4e13-be9e-e767ab6c3813",
   "metadata": {},
   "source": [
    "Objects of ${\\mathcal{C}}$ and morphisms"
   ]
  },
  {
   "cell_type": "markdown",
   "id": "be551248-088d-4819-8712-486ca511b9ed",
   "metadata": {},
   "source": [
    "$$\n",
    "P : (X, \\Sigma_X) \\longrightarrow (PX, \\Sigma_{PX})\n",
    "$$"
   ]
  },
  {
   "cell_type": "markdown",
   "id": "5d279613-7f14-4adb-bdb5-cf47ea47a1d6",
   "metadata": {},
   "source": [
    "$$\n",
    "\\begin{array}{ll}\n",
    "P X \\stackrel{ev_{E}}{\\longrightarrow}[0,1] & \\text { are measurable } \\\\\n",
    "\\mu \\longmapsto \\mu(E) & \\forall E \\in \\sum_{X}\n",
    "\\end{array}\n",
    "$$"
   ]
  },
  {
   "cell_type": "markdown",
   "id": "6fdeae08-c603-46de-8d9f-2e1f363abd10",
   "metadata": {},
   "source": [
    "$\\Sigma_{PX}$ is the smallest $\\sigma$-algebra that makes the evaluation map $ev_E$ measurable."
   ]
  },
  {
   "cell_type": "markdown",
   "id": "d1715acc-650e-4b63-986a-8a6658388ebc",
   "metadata": {},
   "source": [
    "$$\n",
    "\\begin{aligned}\n",
    "\\left(X, \\Sigma_{X}\\right) \\stackrel{f}{\\longrightarrow}\\left(Y, \\Sigma_{r}\\right) & \\\\\n",
    "P X \\stackrel{P f}{\\longrightarrow} P Y \\quad(P f)(\\mu)=f_{*} \\mu \\\\\n",
    "\\left(f_{* \\mu}\\right)(A)=\\mu\\left(f^{-1}(A)\\right)\n",
    "\\end{aligned}\n",
    "$$"
   ]
  },
  {
   "cell_type": "markdown",
   "id": "9bc62dca-1321-42f6-8efe-f65e0da66248",
   "metadata": {},
   "source": [
    "Monad on measurable spaces aka the Giry Monad"
   ]
  },
  {
   "cell_type": "markdown",
   "id": "ae4f7127-ef9b-48c2-8a24-3e9ce90c73c6",
   "metadata": {},
   "source": [
    "$$\n",
    "\\left(C \\stackrel{T}{\\longrightarrow} C, T^{2} \\stackrel{\\mu}{\\Longrightarrow} T, I \\stackrel{\\eta}{\\Longrightarrow} T\\right)\n",
    "$$\n",
    "\n",
    "The Kleisli categany associated with $(T, \\mu, \\eta)$ has objets the same as $C$"
   ]
  },
  {
   "cell_type": "markdown",
   "id": "8b8ae20a-7457-45c7-93ca-5cc5aab16d0c",
   "metadata": {},
   "source": [
    "while a morphism from $a$ to $b$ denoted $a \\stackrel{f}\\rightsquigarrow b$, is defined to be a morphism $a \\stackrel{f}{\\longrightarrow} T b$."
   ]
  },
  {
   "cell_type": "markdown",
   "id": "69729f80-c0de-4b29-8605-cdc7d7387ff9",
   "metadata": {},
   "source": [
    "$$\n",
    "T_{c} \\stackrel{B_{c}}{\\longleftarrow} T_{c}^{2} \\stackrel{T_{g}}{\\longleftarrow} T_{\\hookleftarrow} \\stackrel{\\&}{\\longleftarrow}\n",
    "$$"
   ]
  },
  {
   "cell_type": "markdown",
   "id": "dc3e1b40-ef7f-49f5-9505-43f1954b8b5f",
   "metadata": {},
   "source": [
    "$C \\stackrel{1_C}\\rightsquigarrow C$ is $C \\stackrel{\\eta_C}\\rightarrow TC$ "
   ]
  },
  {
   "cell_type": "markdown",
   "id": "8d60d933-ef5b-4e0b-bff4-b1a7676eddc1",
   "metadata": {},
   "source": [
    "${\\mathcal{C}} \\longrightarrow \\mathrm{Kl}(T)$"
   ]
  },
  {
   "cell_type": "markdown",
   "id": "e25b8d8f-26ae-40b9-be73-ab7366175874",
   "metadata": {},
   "source": [
    "Giry monad has the Kleisli category of measurable spaces and Markov kernels"
   ]
  },
  {
   "cell_type": "markdown",
   "id": "0fb3b82c-6717-4ce3-a2b8-9f76a280631c",
   "metadata": {},
   "source": [
    "Example: let $X = \\{0, 1, \\ldots, n - 1\\}$\n",
    "\n",
    "$PX = \\{(p_0, p_1, \\ldots, p_{n-1}) \\in \\mathbb{R}^n \\mid p_j \\ge 0 \\forall j \\& \\sum_j p_j =1 \\}$ in other words a $n - 1$-simplex."
   ]
  },
  {
   "cell_type": "markdown",
   "id": "11433435-c01f-419e-a23d-2b147c54c70b",
   "metadata": {},
   "source": [
    "Recall the $\\sigma$-algebra on the space $PX$ is defined as the one which makes the evaluation maps measurable."
   ]
  },
  {
   "cell_type": "code",
   "execution_count": null,
   "id": "4f7c21db-091b-4965-b829-0355771e851d",
   "metadata": {},
   "outputs": [],
   "source": []
  }
 ],
 "metadata": {
  "kernelspec": {
   "display_name": "Haskell - nixpkgs",
   "language": "haskell",
   "name": "ihaskell_nixpkgs"
  },
  "language_info": {
   "codemirror_mode": "ihaskell",
   "file_extension": ".hs",
   "mimetype": "text/x-haskell",
   "name": "haskell",
   "pygments_lexer": "Haskell",
   "version": "9.0.2"
  }
 },
 "nbformat": 4,
 "nbformat_minor": 5
}
