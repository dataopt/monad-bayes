{
 "cells": [
  {
   "cell_type": "code",
   "execution_count": 27,
   "metadata": {},
   "outputs": [],
   "source": [
    ":e ImportQualifiedPost\n",
    ":e FlexibleContexts\n",
    ":e BlockArguments\n",
    ":e TupleSections\n",
    ":e FlexibleContexts\n",
    ":e OverloadedStrings\n",
    ":e LambdaCase\n",
    "\n",
    "import Control.Arrow (first)\n",
    "import Data.Text (pack)\n",
    "import Control.Monad\n",
    "import Numeric.Log\n",
    "\n",
    "\n",
    ":l Plotting.hs\n",
    ":l ../src/Control/Monad/Bayes/Class.hs\n",
    ":l ../src/Control/Monad/Bayes/Enumerator.hs\n",
    ":l ../src/Control/Monad/Bayes/Weighted.hs\n",
    ":l ../src/Control/Monad/Bayes/Integrator.hs\n",
    ":l ../src/Control/Monad/Bayes/Sampler.hs"
   ]
  },
  {
   "cell_type": "markdown",
   "metadata": {},
   "source": [
    "# Introduction to Monad-Bayes\n",
    "\n",
    "This serves as an interactive alternative to [the user guide](https://monad-bayes.netlify.app/probprog.html). This isn't intended as a tutorial to Haskell, but if you're familiar with probabilistic programming, the general flow of the code should look familiar.\n",
    "\n",
    "To get a sense of how probabilistic programming with monad-bayes works, consider the following:"
   ]
  },
  {
   "cell_type": "code",
   "execution_count": 28,
   "metadata": {},
   "outputs": [],
   "source": [
    "model :: MonadInfer m => Double -> m Double\n",
    "model observation = do\n",
    "    mean <- uniformD [-1, 0, 1]\n",
    "    factor (normalPdf mean 1 observation)\n",
    "    return mean"
   ]
  },
  {
   "cell_type": "markdown",
   "metadata": {},
   "source": [
    "The idea of monad-bayes, and probabilistic programming languages in general is to define distributions as programs. `model` corresponds to the distribution that you would express mathematically as:\n",
    "\n",
    "$$ P(m | o) = \\frac{P(m)P(o|m)}{P(o)} = \\frac{1/3 * \\mathbb{N}(o; m, 1)}{\\sum_{m' \\in \\{-1,0,1\\}} 1/3 * \\mathbb{N}(o; m', 1) } $$\n",
    "\n",
    "As a program, you can think of `model` as doing the following:\n",
    "\n",
    "- first draw from the prior over possible values of `mean` (that's the line `mean <- uniformD [-1, 0, 1]`)\n",
    "- then score a draw higher according to the likelihood placed on `observation` (the argument to `model`) by a normal with $\\mu$=`mean`\n",
    "\n",
    "- then return the `mean`\n",
    "\n",
    "To orient you on the relationship between the mathematical view of a distribution and the programming one, here are some notes:\n",
    "\n",
    "- a distribution over values of type `a` has type `MonadInfer m => m a`\n",
    "- a joint distribution over values of types `a` and `b` is a distribution over a tuple: `MonadInfer m => m (a, b)`\n",
    "- a conditional distribution over values of type `a` conditioned on values of type `b` is a function into a distribution: \n",
    "    `MonadInfer m => b -> m a`\n",
    "\n",
    "\n",
    "\n",
    "For example, if the value observed is $0.3$, then we can calculate the distribution over the mean:\n",
    "\n"
   ]
  },
  {
   "cell_type": "code",
   "execution_count": 29,
   "metadata": {},
   "outputs": [
    {
     "data": {
      "text/plain": [
       "[(0.0,0.44090549839518783),(1.0,0.36098289073731515),(-1.0,0.198111610867497)]"
      ]
     },
     "metadata": {},
     "output_type": "display_data"
    }
   ],
   "source": [
    "inferredDistribution = enumerate $ model 0.3\n",
    "inferredDistribution"
   ]
  },
  {
   "cell_type": "code",
   "execution_count": 30,
   "metadata": {},
   "outputs": [
    {
     "data": {
      "application/vnd.vegalite.v4+json": {
       "$schema": "https://vega.github.io/schema/vega-lite/v4.json",
       "data": {
        "values": [
         {
          "X": "0.0",
          "Y": 0.44090549839518783
         },
         {
          "X": "1.0",
          "Y": 0.36098289073731515
         },
         {
          "X": "-1.0",
          "Y": 0.198111610867497
         }
        ]
       },
       "encoding": {
        "x": {
         "field": "X",
         "sort": [
          "0.0",
          "1.0",
          "-1.0"
         ],
         "type": "nominal"
        },
        "y": {
         "field": "Y",
         "type": "quantitative"
        }
       },
       "height": 200,
       "mark": "bar",
       "width": 200
      }
     },
     "metadata": {},
     "output_type": "display_data"
    }
   ],
   "source": [
    "plotVega (first (pack . show) <$> inferredDistribution)"
   ]
  },
  {
   "cell_type": "markdown",
   "metadata": {},
   "source": [
    "To produce this plot, we performed *inference*, to obtain the exact form of the distribution represented by `model`. Because the only random variable in `model` had a support that was small and discrete (the set $\\{-1, 0, 1\\}$), performing this inference exactly was straightforward.\n",
    "\n",
    "`enumerate` is an exact inference method offered by monad-bayes targeted as discrete distributions.\n",
    "\n",
    "You are encouraged to change `model` in a number of ways and observe how the results change:\n",
    "- try changing the prior (currently `uniformD [-1, 0, 1]`)\n",
    "- try changing the score (currently `factor (normalPdf mean 1 observation)`)\n",
    "- try changing the types of the observation and latent variable (i.e. `mean`)"
   ]
  },
  {
   "cell_type": "markdown",
   "metadata": {},
   "source": [
    "# Exact inference for continuous distributions\n",
    "\n",
    "`enumerate` only works for discrete random variables (like categorical or bernoulli distributions).\n",
    "\n",
    "For continuous distributions, there is almost a (near) exact inference algorithm, which performs numerical integration. It is defined in `Control.Monad.Bayes.Integrator`, which also provides `histogram`:\n",
    "If you are familiar with Haskell, then it should be clear that the class of distributions you can express in this way is very broad, since we have monadic control flow. For example, you could build:"
   ]
  },
  {
   "cell_type": "code",
   "execution_count": 31,
   "metadata": {},
   "outputs": [],
   "source": [
    "lengthDist :: MonadInfer m => Double -> m Int\n",
    "lengthDist observation = do\n",
    "    means <- replicateM 3 (model observation)\n",
    "    return (length $ filter (>=1) means)"
   ]
  },
  {
   "cell_type": "markdown",
   "metadata": {},
   "source": [
    "Given an observation, this is the probability on how many (out of 3) independent draws from the posterior of the model conditioned on the observation will be greater or equal to 1. Consider the hassle of defining this with an equation, and you'll see why probabilistic programming is appealing as a way of accelerating modelling and inference."
   ]
  },
  {
   "cell_type": "code",
   "execution_count": 32,
   "metadata": {},
   "outputs": [
    {
     "data": {
      "text/plain": [
       "[(1,0.4228030765220977),(2,0.3090938161626379),(0,0.19278121201287118),(3,7.532189530239404e-2)]"
      ]
     },
     "metadata": {},
     "output_type": "display_data"
    }
   ],
   "source": [
    "enumerate $ lengthDist 0.5"
   ]
  },
  {
   "cell_type": "code",
   "execution_count": 33,
   "metadata": {},
   "outputs": [
    {
     "data": {
      "application/vnd.vegalite.v4+json": {
       "$schema": "https://vega.github.io/schema/vega-lite/v4.json",
       "data": {
        "values": [
         {
          "X": "-4.30e0",
          "Y": 0.00001130592323994957
         },
         {
          "X": "-4.10e0",
          "Y": 0.000026962655231993578
         },
         {
          "X": "-3.90e0",
          "Y": 0.00006453120955372177
         },
         {
          "X": "-3.70e0",
          "Y": 0.0001189366806105617
         },
         {
          "X": "-3.50e0",
          "Y": 0.00025201490031560956
         },
         {
          "X": "-3.30e0",
          "Y": 0.0004717412175174793
         },
         {
          "X": "-3.10e0",
          "Y": 0.0009386806724130568
         },
         {
          "X": "-2.90e0",
          "Y": 0.0016579159951963186
         },
         {
          "X": "-2.70e0",
          "Y": 0.0027804948691253608
         },
         {
          "X": "-2.50e0",
          "Y": 0.004448368834902654
         },
         {
          "X": "-2.30e0",
          "Y": 0.0068156828698555955
         },
         {
          "X": "-2.10e0",
          "Y": 0.011045176260450273
         },
         {
          "X": "-1.90e0",
          "Y": 0.016071861899033084
         },
         {
          "X": "-1.70e0",
          "Y": 0.022441046003226342
         },
         {
          "X": "-1.50e0",
          "Y": 0.03011723227393257
         },
         {
          "X": "-1.30e0",
          "Y": 0.03888527634021055
         },
         {
          "X": "-1.10e0",
          "Y": 0.04831693653557399
         },
         {
          "X": "-9.00e-1",
          "Y": 0.05777073830312579
         },
         {
          "X": "-7.00e-1",
          "Y": 0.06644067264567541
         },
         {
          "X": "-5.00e-1",
          "Y": 0.07345895150628963
         },
         {
          "X": "-3.00e-1",
          "Y": 0.07803999760903556
         },
         {
          "X": "-1.00e-1",
          "Y": 0.07963311467628828
         },
         {
          "X": "1.00e-1",
          "Y": 0.07803999760903556
         },
         {
          "X": "3.00e-1",
          "Y": 0.07345895150628963
         },
         {
          "X": "5.00e-1",
          "Y": 0.06644067264567541
         },
         {
          "X": "7.00e-1",
          "Y": 0.05777073830312579
         },
         {
          "X": "9.00e-1",
          "Y": 0.04831693653557399
         },
         {
          "X": "1.10e0",
          "Y": 0.03888527634021055
         },
         {
          "X": "1.30e0",
          "Y": 0.03011723227393257
         },
         {
          "X": "1.50e0",
          "Y": 0.022441046003226342
         },
         {
          "X": "1.70e0",
          "Y": 0.016071861899033084
         },
         {
          "X": "1.90e0",
          "Y": 0.011045176260450273
         },
         {
          "X": "2.10e0",
          "Y": 0.0068156828698555955
         },
         {
          "X": "2.30e0",
          "Y": 0.004448368834902654
         },
         {
          "X": "2.50e0",
          "Y": 0.0027804948691253608
         },
         {
          "X": "2.70e0",
          "Y": 0.0016579159951963186
         },
         {
          "X": "2.90e0",
          "Y": 0.0009386806724130568
         },
         {
          "X": "3.10e0",
          "Y": 0.0004717412175174793
         },
         {
          "X": "3.30e0",
          "Y": 0.00025201490031560956
         },
         {
          "X": "3.50e0",
          "Y": 0.0001189366806105617
         },
         {
          "X": "3.70e0",
          "Y": 0.00006453120955372177
         },
         {
          "X": "3.90e0",
          "Y": 0.000026962655231993578
         },
         {
          "X": "4.10e0",
          "Y": 0.00001130592323994957
         },
         {
          "X": "4.30e0",
          "Y": 0.000005562111413031443
         },
         {
          "X": "4.50e0",
          "Y": 0.0000020516512737287816
         }
        ]
       },
       "encoding": {
        "x": {
         "field": "X",
         "sort": [
          "-4.30e0",
          "-4.10e0",
          "-3.90e0",
          "-3.70e0",
          "-3.50e0",
          "-3.30e0",
          "-3.10e0",
          "-2.90e0",
          "-2.70e0",
          "-2.50e0",
          "-2.30e0",
          "-2.10e0",
          "-1.90e0",
          "-1.70e0",
          "-1.50e0",
          "-1.30e0",
          "-1.10e0",
          "-9.00e-1",
          "-7.00e-1",
          "-5.00e-1",
          "-3.00e-1",
          "-1.00e-1",
          "1.00e-1",
          "3.00e-1",
          "5.00e-1",
          "7.00e-1",
          "9.00e-1",
          "1.10e0",
          "1.30e0",
          "1.50e0",
          "1.70e0",
          "1.90e0",
          "2.10e0",
          "2.30e0",
          "2.50e0",
          "2.70e0",
          "2.90e0",
          "3.10e0",
          "3.30e0",
          "3.50e0",
          "3.70e0",
          "3.90e0",
          "4.10e0",
          "4.30e0",
          "4.50e0"
         ],
         "type": "nominal"
        },
        "y": {
         "field": "Y",
         "type": "quantitative"
        }
       },
       "height": 200,
       "mark": "bar",
       "width": 200
      }
     },
     "metadata": {},
     "output_type": "display_data"
    }
   ],
   "source": [
    "plotVega $ histogram 45 0.2 (normal 0 1)"
   ]
  },
  {
   "cell_type": "markdown",
   "metadata": {},
   "source": [
    "This will work for any distribution in principle, but in practice it is unfeasibly slow for complex distributions. That said, quite a few interesting distributions can be expressed, like this mixture of Gaussians:"
   ]
  },
  {
   "cell_type": "code",
   "execution_count": 34,
   "metadata": {},
   "outputs": [
    {
     "data": {
      "application/vnd.vegalite.v4+json": {
       "$schema": "https://vega.github.io/schema/vega-lite/v4.json",
       "data": {
        "values": [
         {
          "X": "-7.80e0",
          "Y": 0
         },
         {
          "X": "-7.60e0",
          "Y": 2.9617378332009236e-14
         },
         {
          "X": "-7.40e0",
          "Y": 1.8258722250133634e-13
         },
         {
          "X": "-7.20e0",
          "Y": 6.278154410978843e-13
         },
         {
          "X": "-7.00e0",
          "Y": 2.8630860863372452e-12
         },
         {
          "X": "-6.80e0",
          "Y": 1.1240841653973093e-11
         },
         {
          "X": "-6.60e0",
          "Y": 4.095856720523953e-11
         },
         {
          "X": "-6.40e0",
          "Y": 1.3905848800674738e-10
         },
         {
          "X": "-6.20e0",
          "Y": 4.4156354556823177e-10
         },
         {
          "X": "-6.00e0",
          "Y": 1.6440022541987611e-9
         },
         {
          "X": "-5.80e0",
          "Y": 5.289221187724906e-9
         },
         {
          "X": "-5.60e0",
          "Y": 1.5818325522899932e-8
         },
         {
          "X": "-5.40e0",
          "Y": 4.417200417737314e-8
         },
         {
          "X": "-5.20e0",
          "Y": 1.3911448814949322e-7
         },
         {
          "X": "-5.00e0",
          "Y": 3.802526898109911e-7
         },
         {
          "X": "-4.80e0",
          "Y": 9.68408447419414e-7
         },
         {
          "X": "-4.60e0",
          "Y": 0.00000230922291777111
         },
         {
          "X": "-4.40e0",
          "Y": 0.000005179554311714717
         },
         {
          "X": "-4.20e0",
          "Y": 0.00001275163880633865
         },
         {
          "X": "-4.00e0",
          "Y": 0.00002750409254871347
         },
         {
          "X": "-3.80e0",
          "Y": 0.0000638192739277946
         },
         {
          "X": "-3.60e0",
          "Y": 0.00013019369356207655
         },
         {
          "X": "-3.40e0",
          "Y": 0.0002500406827085461
         },
         {
          "X": "-3.20e0",
          "Y": 0.0004544823223903064
         },
         {
          "X": "-3.00e0",
          "Y": 0.0008791964528929996
         },
         {
          "X": "-2.80e0",
          "Y": 0.0015122357456979867
         },
         {
          "X": "-2.60e0",
          "Y": 0.0024757511220797304
         },
         {
          "X": "-2.40e0",
          "Y": 0.003874414025949214
         },
         {
          "X": "-2.20e0",
          "Y": 0.006408710219277448
         },
         {
          "X": "-2.00e0",
          "Y": 0.008649623513877897
         },
         {
          "X": "-1.80e0",
          "Y": 0.013190639321718324
         },
         {
          "X": "-1.60e0",
          "Y": 0.01808187322616114
         },
         {
          "X": "-1.40e0",
          "Y": 0.02383659240459124
         },
         {
          "X": "-1.20e0",
          "Y": 0.030238500286148783
         },
         {
          "X": "-1.00e0",
          "Y": 0.03691814305954609
         },
         {
          "X": "-8.00e-1",
          "Y": 0.04337292927941087
         },
         {
          "X": "-6.00e-1",
          "Y": 0.049011272339881756
         },
         {
          "X": "-4.00e-1",
          "Y": 0.05324875479419917
         },
         {
          "X": "-2.00e-1",
          "Y": 0.055612170521813144
         },
         {
          "X": "0.00e0",
          "Y": 0.060089336848680876
         },
         {
          "X": "2.00e-1",
          "Y": 0.0537896945895321
         },
         {
          "X": "4.00e-1",
          "Y": 0.05001650833993417
         },
         {
          "X": "6.00e-1",
          "Y": 0.04500603320483086
         },
         {
          "X": "8.00e-1",
          "Y": 0.039652920134172175
         },
         {
          "X": "1.00e0",
          "Y": 0.03393994696182113
         },
         {
          "X": "1.20e0",
          "Y": 0.029487325862574004
         },
         {
          "X": "1.40e0",
          "Y": 0.025829833656002606
         },
         {
          "X": "1.60e0",
          "Y": 0.023404955401941166
         },
         {
          "X": "1.80e0",
          "Y": 0.021606475676241226
         },
         {
          "X": "2.00e0",
          "Y": 0.02222566013814116
         },
         {
          "X": "2.20e0",
          "Y": 0.022451071451123666
         },
         {
          "X": "2.40e0",
          "Y": 0.023456662221439023
         },
         {
          "X": "2.60e0",
          "Y": 0.024287202561953686
         },
         {
          "X": "2.80e0",
          "Y": 0.024629506804641776
         },
         {
          "X": "3.00e0",
          "Y": 0.02604557013493273
         },
         {
          "X": "3.20e0",
          "Y": 0.02302500970617683
         },
         {
          "X": "3.40e0",
          "Y": 0.021111111554650067
         },
         {
          "X": "3.60e0",
          "Y": 0.018640495625143676
         },
         {
          "X": "3.80e0",
          "Y": 0.01584451363068031
         },
         {
          "X": "4.00e0",
          "Y": 0.012969766766339095
         },
         {
          "X": "4.20e0",
          "Y": 0.010219910666648053
         },
         {
          "X": "4.40e0",
          "Y": 0.007751259319705861
         },
         {
          "X": "4.60e0",
          "Y": 0.005653921675387381
         },
         {
          "X": "4.80e0",
          "Y": 0.0037072919163067
         },
         {
          "X": "5.00e0",
          "Y": 0.002746703656823519
         },
         {
          "X": "5.20e0",
          "Y": 0.0016604992127571556
         },
         {
          "X": "5.40e0",
          "Y": 0.001061049108095822
         },
         {
          "X": "5.60e0",
          "Y": 0.0006481053516021477
         },
         {
          "X": "5.80e0",
          "Y": 0.00037679982185394214
         },
         {
          "X": "6.00e0",
          "Y": 0.0001947784986273114
         },
         {
          "X": "6.20e0",
          "Y": 0.00010716040610651
         },
         {
          "X": "6.40e0",
          "Y": 0.00005579733067645504
         },
         {
          "X": "6.60e0",
          "Y": 0.00002735112657382353
         },
         {
          "X": "6.80e0",
          "Y": 0.00001178747057237605
         },
         {
          "X": "7.00e0",
          "Y": 0.000005464988572361823
         },
         {
          "X": "7.20e0",
          "Y": 0.000002219809139785673
         },
         {
          "X": "7.40e0",
          "Y": 9.89666988936499e-7
         },
         {
          "X": "7.60e0",
          "Y": 4.150321917511775e-7
         },
         {
          "X": "7.80e0",
          "Y": 1.629654384904248e-7
         },
         {
          "X": "8.00e0",
          "Y": 5.96204949212114e-8
         }
        ]
       },
       "encoding": {
        "x": {
         "field": "X",
         "sort": [
          "-7.80e0",
          "-7.60e0",
          "-7.40e0",
          "-7.20e0",
          "-7.00e0",
          "-6.80e0",
          "-6.60e0",
          "-6.40e0",
          "-6.20e0",
          "-6.00e0",
          "-5.80e0",
          "-5.60e0",
          "-5.40e0",
          "-5.20e0",
          "-5.00e0",
          "-4.80e0",
          "-4.60e0",
          "-4.40e0",
          "-4.20e0",
          "-4.00e0",
          "-3.80e0",
          "-3.60e0",
          "-3.40e0",
          "-3.20e0",
          "-3.00e0",
          "-2.80e0",
          "-2.60e0",
          "-2.40e0",
          "-2.20e0",
          "-2.00e0",
          "-1.80e0",
          "-1.60e0",
          "-1.40e0",
          "-1.20e0",
          "-1.00e0",
          "-8.00e-1",
          "-6.00e-1",
          "-4.00e-1",
          "-2.00e-1",
          "0.00e0",
          "2.00e-1",
          "4.00e-1",
          "6.00e-1",
          "8.00e-1",
          "1.00e0",
          "1.20e0",
          "1.40e0",
          "1.60e0",
          "1.80e0",
          "2.00e0",
          "2.20e0",
          "2.40e0",
          "2.60e0",
          "2.80e0",
          "3.00e0",
          "3.20e0",
          "3.40e0",
          "3.60e0",
          "3.80e0",
          "4.00e0",
          "4.20e0",
          "4.40e0",
          "4.60e0",
          "4.80e0",
          "5.00e0",
          "5.20e0",
          "5.40e0",
          "5.60e0",
          "5.80e0",
          "6.00e0",
          "6.20e0",
          "6.40e0",
          "6.60e0",
          "6.80e0",
          "7.00e0",
          "7.20e0",
          "7.40e0",
          "7.60e0",
          "7.80e0",
          "8.00e0"
         ],
         "type": "nominal"
        },
        "y": {
         "field": "Y",
         "type": "quantitative"
        }
       },
       "height": 200,
       "mark": "bar",
       "width": 200
      }
     },
     "metadata": {},
     "output_type": "display_data"
    }
   ],
   "source": [
    "model2 = do\n",
    "    p <- bernoulli 0.7\n",
    "    if p then normal 0 1 else normal 3 1\n",
    "\n",
    "plotVega $ histogram 80 0.2 model2"
   ]
  },
  {
   "cell_type": "markdown",
   "metadata": {},
   "source": [
    "Or this normal distribution restricted to the positive reals (i.e. $p(x) \\propto N(x;0,4)\\cdot I[x>0]$)"
   ]
  },
  {
   "cell_type": "code",
   "execution_count": 26,
   "metadata": {},
   "outputs": [
    {
     "data": {
      "application/vnd.vegalite.v4+json": {
       "$schema": "https://vega.github.io/schema/vega-lite/v4.json",
       "data": {
        "values": [
         {
          "X": "(-49.0,-48.0)",
          "Y": 0
         },
         {
          "X": "(-48.0,-47.0)",
          "Y": 0
         },
         {
          "X": "(-47.0,-46.0)",
          "Y": 0
         },
         {
          "X": "(-46.0,-45.0)",
          "Y": 0
         },
         {
          "X": "(-45.0,-44.0)",
          "Y": 0
         },
         {
          "X": "(-44.0,-43.0)",
          "Y": 0
         },
         {
          "X": "(-43.0,-42.0)",
          "Y": 0
         },
         {
          "X": "(-42.0,-41.0)",
          "Y": 0
         },
         {
          "X": "(-41.0,-40.0)",
          "Y": 0
         },
         {
          "X": "(-40.0,-39.0)",
          "Y": 0
         },
         {
          "X": "(-39.0,-38.0)",
          "Y": 0
         },
         {
          "X": "(-38.0,-37.0)",
          "Y": 0
         },
         {
          "X": "(-37.0,-36.0)",
          "Y": 0
         },
         {
          "X": "(-36.0,-35.0)",
          "Y": 0
         },
         {
          "X": "(-35.0,-34.0)",
          "Y": 0
         },
         {
          "X": "(-34.0,-33.0)",
          "Y": 0
         },
         {
          "X": "(-33.0,-32.0)",
          "Y": 0
         },
         {
          "X": "(-32.0,-31.0)",
          "Y": 0
         },
         {
          "X": "(-31.0,-30.0)",
          "Y": 0
         },
         {
          "X": "(-30.0,-29.0)",
          "Y": 0
         },
         {
          "X": "(-29.0,-28.0)",
          "Y": 0
         },
         {
          "X": "(-28.0,-27.0)",
          "Y": 0
         },
         {
          "X": "(-27.0,-26.0)",
          "Y": 0
         },
         {
          "X": "(-26.0,-25.0)",
          "Y": 0
         },
         {
          "X": "(-25.0,-24.0)",
          "Y": 0
         },
         {
          "X": "(-24.0,-23.0)",
          "Y": 0
         },
         {
          "X": "(-23.0,-22.0)",
          "Y": 0
         },
         {
          "X": "(-22.0,-21.0)",
          "Y": 0
         },
         {
          "X": "(-21.0,-20.0)",
          "Y": 0
         },
         {
          "X": "(-20.0,-19.0)",
          "Y": 0
         },
         {
          "X": "(-19.0,-18.0)",
          "Y": 0
         },
         {
          "X": "(-18.0,-17.0)",
          "Y": 0
         },
         {
          "X": "(-17.0,-16.0)",
          "Y": 0
         },
         {
          "X": "(-16.0,-15.0)",
          "Y": 0
         },
         {
          "X": "(-15.0,-14.0)",
          "Y": 0
         },
         {
          "X": "(-14.0,-13.0)",
          "Y": 0
         },
         {
          "X": "(-13.0,-12.0)",
          "Y": 0
         },
         {
          "X": "(-12.0,-11.0)",
          "Y": 0
         },
         {
          "X": "(-11.0,-10.0)",
          "Y": 0
         },
         {
          "X": "(-10.0,-9.0)",
          "Y": 0
         },
         {
          "X": "(-9.0,-8.0)",
          "Y": 0
         },
         {
          "X": "(-8.0,-7.0)",
          "Y": 0
         },
         {
          "X": "(-7.0,-6.0)",
          "Y": 0
         },
         {
          "X": "(-6.0,-5.0)",
          "Y": 0
         },
         {
          "X": "(-5.0,-4.0)",
          "Y": 0
         },
         {
          "X": "(-4.0,-3.0)",
          "Y": 0
         },
         {
          "X": "(-3.0,-2.0)",
          "Y": 0
         },
         {
          "X": "(-2.0,-1.0)",
          "Y": 0
         },
         {
          "X": "(-1.0,0.0)",
          "Y": 0
         },
         {
          "X": "(0.0,1.0)",
          "Y": 0.09708380143178771
         },
         {
          "X": "(1.0,2.0)",
          "Y": 0.09116374344591034
         },
         {
          "X": "(2.0,3.0)",
          "Y": 0.08058440976426846
         },
         {
          "X": "(3.0,4.0)",
          "Y": 0.07083432506943224
         },
         {
          "X": "(4.0,5.0)",
          "Y": 0.051832251441290174
         },
         {
          "X": "(5.0,6.0)",
          "Y": 0.03827986982352741
         },
         {
          "X": "(6.0,7.0)",
          "Y": 0.026665824962546193
         },
         {
          "X": "(7.0,8.0)",
          "Y": 0.01749059133121634
         },
         {
          "X": "(8.0,9.0)",
          "Y": 0.010766113817481236
         },
         {
          "X": "(9.0,10.0)",
          "Y": 0.0058996057562241775
         },
         {
          "X": "(10.0,11.0)",
          "Y": 0.0032821742782908237
         },
         {
          "X": "(11.0,12.0)",
          "Y": 0.001695276524974739
         },
         {
          "X": "(12.0,13.0)",
          "Y": 0.0007696015733338744
         },
         {
          "X": "(13.0,14.0)",
          "Y": 0.000353795277968388
         },
         {
          "X": "(14.0,15.0)",
          "Y": 0.0001417240807243191
         },
         {
          "X": "(15.0,16.0)",
          "Y": 0.0000577930575465766
         },
         {
          "X": "(16.0,17.0)",
          "Y": 0.000020387958805420835
         },
         {
          "X": "(17.0,18.0)",
          "Y": 0.00000739348297294151
         },
         {
          "X": "(18.0,19.0)",
          "Y": 0.0000023080699473099987
         },
         {
          "X": "(19.0,20.0)",
          "Y": 7.520265786795028e-7
         },
         {
          "X": "(20.0,21.0)",
          "Y": 2.2076641984108828e-7
         },
         {
          "X": "(21.0,22.0)",
          "Y": 5.530912373282285e-8
         },
         {
          "X": "(22.0,23.0)",
          "Y": 1.4745640703834217e-8
         },
         {
          "X": "(23.0,24.0)",
          "Y": 3.518874710383193e-9
         },
         {
          "X": "(24.0,25.0)",
          "Y": 7.130564496715343e-10
         },
         {
          "X": "(25.0,26.0)",
          "Y": 1.5835158801321552e-10
         },
         {
          "X": "(26.0,27.0)",
          "Y": 2.996664889840122e-11
         },
         {
          "X": "(27.0,28.0)",
          "Y": 6.746068446176159e-12
         },
         {
          "X": "(28.0,29.0)",
          "Y": 1.0156957338193877e-12
         },
         {
          "X": "(29.0,30.0)",
          "Y": 1.7494675056824054e-13
         },
         {
          "X": "(30.0,31.0)",
          "Y": 9.386146942700103e-15
         },
         {
          "X": "(31.0,32.0)",
          "Y": 0
         },
         {
          "X": "(32.0,33.0)",
          "Y": 0
         },
         {
          "X": "(33.0,34.0)",
          "Y": 0
         },
         {
          "X": "(34.0,35.0)",
          "Y": 0
         },
         {
          "X": "(35.0,36.0)",
          "Y": 0
         },
         {
          "X": "(36.0,37.0)",
          "Y": 0
         },
         {
          "X": "(37.0,38.0)",
          "Y": 0
         },
         {
          "X": "(38.0,39.0)",
          "Y": 0
         },
         {
          "X": "(39.0,40.0)",
          "Y": 0
         },
         {
          "X": "(40.0,41.0)",
          "Y": 0
         },
         {
          "X": "(41.0,42.0)",
          "Y": 0
         },
         {
          "X": "(42.0,43.0)",
          "Y": 0
         },
         {
          "X": "(43.0,44.0)",
          "Y": 0
         },
         {
          "X": "(44.0,45.0)",
          "Y": 0
         },
         {
          "X": "(45.0,46.0)",
          "Y": 0
         },
         {
          "X": "(46.0,47.0)",
          "Y": 0
         },
         {
          "X": "(47.0,48.0)",
          "Y": 0
         },
         {
          "X": "(48.0,49.0)",
          "Y": 0
         },
         {
          "X": "(49.0,50.0)",
          "Y": 0
         },
         {
          "X": "(50.0,51.0)",
          "Y": 0
         }
        ]
       },
       "encoding": {
        "x": {
         "field": "X",
         "sort": [
          "(-49.0,-48.0)",
          "(-48.0,-47.0)",
          "(-47.0,-46.0)",
          "(-46.0,-45.0)",
          "(-45.0,-44.0)",
          "(-44.0,-43.0)",
          "(-43.0,-42.0)",
          "(-42.0,-41.0)",
          "(-41.0,-40.0)",
          "(-40.0,-39.0)",
          "(-39.0,-38.0)",
          "(-38.0,-37.0)",
          "(-37.0,-36.0)",
          "(-36.0,-35.0)",
          "(-35.0,-34.0)",
          "(-34.0,-33.0)",
          "(-33.0,-32.0)",
          "(-32.0,-31.0)",
          "(-31.0,-30.0)",
          "(-30.0,-29.0)",
          "(-29.0,-28.0)",
          "(-28.0,-27.0)",
          "(-27.0,-26.0)",
          "(-26.0,-25.0)",
          "(-25.0,-24.0)",
          "(-24.0,-23.0)",
          "(-23.0,-22.0)",
          "(-22.0,-21.0)",
          "(-21.0,-20.0)",
          "(-20.0,-19.0)",
          "(-19.0,-18.0)",
          "(-18.0,-17.0)",
          "(-17.0,-16.0)",
          "(-16.0,-15.0)",
          "(-15.0,-14.0)",
          "(-14.0,-13.0)",
          "(-13.0,-12.0)",
          "(-12.0,-11.0)",
          "(-11.0,-10.0)",
          "(-10.0,-9.0)",
          "(-9.0,-8.0)",
          "(-8.0,-7.0)",
          "(-7.0,-6.0)",
          "(-6.0,-5.0)",
          "(-5.0,-4.0)",
          "(-4.0,-3.0)",
          "(-3.0,-2.0)",
          "(-2.0,-1.0)",
          "(-1.0,0.0)",
          "(0.0,1.0)",
          "(1.0,2.0)",
          "(2.0,3.0)",
          "(3.0,4.0)",
          "(4.0,5.0)",
          "(5.0,6.0)",
          "(6.0,7.0)",
          "(7.0,8.0)",
          "(8.0,9.0)",
          "(9.0,10.0)",
          "(10.0,11.0)",
          "(11.0,12.0)",
          "(12.0,13.0)",
          "(13.0,14.0)",
          "(14.0,15.0)",
          "(15.0,16.0)",
          "(16.0,17.0)",
          "(17.0,18.0)",
          "(18.0,19.0)",
          "(19.0,20.0)",
          "(20.0,21.0)",
          "(21.0,22.0)",
          "(22.0,23.0)",
          "(23.0,24.0)",
          "(24.0,25.0)",
          "(25.0,26.0)",
          "(26.0,27.0)",
          "(27.0,28.0)",
          "(28.0,29.0)",
          "(29.0,30.0)",
          "(30.0,31.0)",
          "(31.0,32.0)",
          "(32.0,33.0)",
          "(33.0,34.0)",
          "(34.0,35.0)",
          "(35.0,36.0)",
          "(36.0,37.0)",
          "(37.0,38.0)",
          "(38.0,39.0)",
          "(39.0,40.0)",
          "(40.0,41.0)",
          "(41.0,42.0)",
          "(42.0,43.0)",
          "(43.0,44.0)",
          "(44.0,45.0)",
          "(45.0,46.0)",
          "(46.0,47.0)",
          "(47.0,48.0)",
          "(48.0,49.0)",
          "(49.0,50.0)",
          "(50.0,51.0)"
         ],
         "type": "nominal"
        },
        "y": {
         "field": "Y",
         "type": "quantitative"
        }
       },
       "height": 200,
       "mark": "bar",
       "width": 200
      }
     },
     "metadata": {},
     "output_type": "display_data"
    }
   ],
   "source": [
    "model3 :: MonadInfer m => m Double\n",
    "model3 = do\n",
    "\n",
    "    x <- normal 0 4\n",
    "    condition (x > 0)\n",
    "    return x\n",
    "\n",
    "plotVega $ histogram 100 1.0 model3"
   ]
  },
  {
   "cell_type": "markdown",
   "metadata": {},
   "source": [
    "Or this unusual distribution with $p(x) \\propto N(x;0,4)*e^{sin(x)}$:"
   ]
  },
  {
   "cell_type": "code",
   "execution_count": 22,
   "metadata": {},
   "outputs": [
    {
     "data": {
      "text/html": [
       "<style>/* Styles used for the Hoogle display in the pager */\n",
       ".hoogle-doc {\n",
       "display: block;\n",
       "padding-bottom: 1.3em;\n",
       "padding-left: 0.4em;\n",
       "}\n",
       ".hoogle-code {\n",
       "display: block;\n",
       "font-family: monospace;\n",
       "white-space: pre;\n",
       "}\n",
       ".hoogle-text {\n",
       "display: block;\n",
       "}\n",
       ".hoogle-name {\n",
       "color: green;\n",
       "font-weight: bold;\n",
       "}\n",
       ".hoogle-head {\n",
       "font-weight: bold;\n",
       "}\n",
       ".hoogle-sub {\n",
       "display: block;\n",
       "margin-left: 0.4em;\n",
       "}\n",
       ".hoogle-package {\n",
       "font-weight: bold;\n",
       "font-style: italic;\n",
       "}\n",
       ".hoogle-module {\n",
       "font-weight: bold;\n",
       "}\n",
       ".hoogle-class {\n",
       "font-weight: bold;\n",
       "}\n",
       ".get-type {\n",
       "color: green;\n",
       "font-weight: bold;\n",
       "font-family: monospace;\n",
       "display: block;\n",
       "white-space: pre-wrap;\n",
       "}\n",
       ".show-type {\n",
       "color: green;\n",
       "font-weight: bold;\n",
       "font-family: monospace;\n",
       "margin-left: 1em;\n",
       "}\n",
       ".mono {\n",
       "font-family: monospace;\n",
       "display: block;\n",
       "}\n",
       ".err-msg {\n",
       "color: red;\n",
       "font-style: italic;\n",
       "font-family: monospace;\n",
       "white-space: pre;\n",
       "display: block;\n",
       "}\n",
       "#unshowable {\n",
       "color: red;\n",
       "font-weight: bold;\n",
       "}\n",
       ".err-msg.in.collapse {\n",
       "padding-top: 0.7em;\n",
       "}\n",
       ".highlight-code {\n",
       "white-space: pre;\n",
       "font-family: monospace;\n",
       "}\n",
       ".suggestion-warning { \n",
       "font-weight: bold;\n",
       "color: rgb(200, 130, 0);\n",
       "}\n",
       ".suggestion-error { \n",
       "font-weight: bold;\n",
       "color: red;\n",
       "}\n",
       ".suggestion-name {\n",
       "font-weight: bold;\n",
       "}\n",
       "</style><div class=\"suggestion-name\" style=\"clear:both;\">Redundant bracket</div><div class=\"suggestion-row\" style=\"float: left;\"><div class=\"suggestion-warning\">Found:</div><div class=\"highlight-code\" id=\"haskell\">(model4)</div></div><div class=\"suggestion-row\" style=\"float: left;\"><div class=\"suggestion-warning\">Why Not:</div><div class=\"highlight-code\" id=\"haskell\">model4</div></div>"
      ],
      "text/plain": [
       "Line 9: Redundant bracket\n",
       "Found:\n",
       "(model4)\n",
       "Why not:\n",
       "model4"
      ]
     },
     "metadata": {},
     "output_type": "display_data"
    },
    {
     "data": {
      "application/vnd.vegalite.v4+json": {
       "$schema": "https://vega.github.io/schema/vega-lite/v4.json",
       "data": {
        "values": [
         {
          "X": "(-19.900000000000002,-19.8)",
          "Y": 0.0003706865498562282
         },
         {
          "X": "(-19.8,-19.700000000000003)",
          "Y": 0.00041880558007525965
         },
         {
          "X": "(-19.700000000000003,-19.6)",
          "Y": 0
         },
         {
          "X": "(-19.6,-19.5)",
          "Y": 0.0004820114557922429
         },
         {
          "X": "(-19.5,-19.400000000000002)",
          "Y": 0.0005635544765896957
         },
         {
          "X": "(-19.400000000000002,-19.3)",
          "Y": 0
         },
         {
          "X": "(-19.3,-19.200000000000003)",
          "Y": 0.0006672331575003425
         },
         {
          "X": "(-19.200000000000003,-19.1)",
          "Y": 0
         },
         {
          "X": "(-19.1,-19.0)",
          "Y": 0.0007972264459463319
         },
         {
          "X": "(-19.0,-18.900000000000002)",
          "Y": 0.0009577548623236819
         },
         {
          "X": "(-18.900000000000002,-18.8)",
          "Y": 0
         },
         {
          "X": "(-18.8,-18.7)",
          "Y": 0.001152519370751599
         },
         {
          "X": "(-18.7,-18.6)",
          "Y": 0.0013838933080054811
         },
         {
          "X": "(-18.6,-18.5)",
          "Y": 0
         },
         {
          "X": "(-18.5,-18.400000000000002)",
          "Y": 0.0016519003363444306
         },
         {
          "X": "(-18.400000000000002,-18.3)",
          "Y": 0.0019531010323624737
         },
         {
          "X": "(-18.3,-18.2)",
          "Y": 0
         },
         {
          "X": "(-18.2,-18.1)",
          "Y": 0.0022796172347350186
         },
         {
          "X": "(-18.1,-18.0)",
          "Y": 0
         },
         {
          "X": "(-18.0,-17.900000000000002)",
          "Y": 0.002618610571360746
         },
         {
          "X": "(-17.900000000000002,-17.8)",
          "Y": 0.0029525478999558965
         },
         {
          "X": "(-17.8,-17.7)",
          "Y": 0
         },
         {
          "X": "(-17.7,-17.6)",
          "Y": 0.0032604843319876003
         },
         {
          "X": "(-17.6,-17.5)",
          "Y": 0.0035203619840597287
         },
         {
          "X": "(-17.5,-17.400000000000002)",
          "Y": 0
         },
         {
          "X": "(-17.400000000000002,-17.3)",
          "Y": 0.003712008632696022
         },
         {
          "X": "(-17.3,-17.2)",
          "Y": 0.003820233883369486
         },
         {
          "X": "(-17.2,-17.1)",
          "Y": 0
         },
         {
          "X": "(-17.1,-17.0)",
          "Y": 0.003837289782828694
         },
         {
          "X": "(-17.0,-16.900000000000002)",
          "Y": 0.003764070583588382
         },
         {
          "X": "(-16.900000000000002,-16.8)",
          "Y": 0
         },
         {
          "X": "(-16.8,-16.7)",
          "Y": 0.0036097559966311032
         },
         {
          "X": "(-16.7,-16.6)",
          "Y": 0
         },
         {
          "X": "(-16.6,-16.5)",
          "Y": 0.0033900348569501785
         },
         {
          "X": "(-16.5,-16.400000000000002)",
          "Y": 0.003124415830506297
         },
         {
          "X": "(-16.400000000000002,-16.3)",
          "Y": 0
         },
         {
          "X": "(-16.3,-16.2)",
          "Y": 0.002833307807062908
         },
         {
          "X": "(-16.2,-16.1)",
          "Y": 0.002535497948127896
         },
         {
          "X": "(-16.1,-16.0)",
          "Y": 0
         },
         {
          "X": "(-16.0,-15.9)",
          "Y": 0.0022464303487960834
         },
         {
          "X": "(-15.9,-15.8)",
          "Y": 0.0019774053234880022
         },
         {
          "X": "(-15.8,-15.700000000000001)",
          "Y": 0
         },
         {
          "X": "(-15.700000000000001,-15.600000000000001)",
          "Y": 0.001735583036827231
         },
         {
          "X": "(-15.600000000000001,-15.5)",
          "Y": 0.0015245425089322386
         },
         {
          "X": "(-15.5,-15.4)",
          "Y": 0
         },
         {
          "X": "(-15.4,-15.3)",
          "Y": 0.0013451208922170398
         },
         {
          "X": "(-15.3,-15.200000000000001)",
          "Y": 0.0011963059367599536
         },
         {
          "X": "(-15.200000000000001,-15.100000000000001)",
          "Y": 0
         },
         {
          "X": "(-15.100000000000001,-15.0)",
          "Y": 0.0010760344820221561
         },
         {
          "X": "(-15.0,-14.9)",
          "Y": 0
         },
         {
          "X": "(-14.9,-14.8)",
          "Y": 0.0009818280356998956
         },
         {
          "X": "(-14.8,-14.700000000000001)",
          "Y": 0.0009112550329653203
         },
         {
          "X": "(-14.700000000000001,-14.600000000000001)",
          "Y": 0
         },
         {
          "X": "(-14.600000000000001,-14.5)",
          "Y": 0.0008622439639625763
         },
         {
          "X": "(-14.5,-14.4)",
          "Y": 0.0008332861393123243
         },
         {
          "X": "(-14.4,-14.3)",
          "Y": 0
         },
         {
          "X": "(-14.3,-14.200000000000001)",
          "Y": 0.0008235681843351193
         },
         {
          "X": "(-14.200000000000001,-14.100000000000001)",
          "Y": 0.0008330685846907595
         },
         {
          "X": "(-14.100000000000001,-14.0)",
          "Y": 0
         },
         {
          "X": "(-14.0,-13.9)",
          "Y": 0.0008626439051824703
         },
         {
          "X": "(-13.9,-13.8)",
          "Y": 0.0009141206593509216
         },
         {
          "X": "(-13.8,-13.700000000000001)",
          "Y": 0
         },
         {
          "X": "(-13.700000000000001,-13.600000000000001)",
          "Y": 0.000990398474995205
         },
         {
          "X": "(-13.600000000000001,-13.5)",
          "Y": 0.0010955582835438442
         },
         {
          "X": "(-13.5,-13.4)",
          "Y": 0
         },
         {
          "X": "(-13.4,-13.3)",
          "Y": 0.0012349543198417502
         },
         {
          "X": "(-13.3,-13.200000000000001)",
          "Y": 0.0014152494925691293
         },
         {
          "X": "(-13.200000000000001,-13.100000000000001)",
          "Y": 0
         },
         {
          "X": "(-13.100000000000001,-13.0)",
          "Y": 0.0016443301177482624
         },
         {
          "X": "(-13.0,-12.9)",
          "Y": 0
         },
         {
          "X": "(-12.9,-12.8)",
          "Y": 0.0019310107192965042
         },
         {
          "X": "(-12.8,-12.700000000000001)",
          "Y": 0.0022844196807798047
         },
         {
          "X": "(-12.700000000000001,-12.600000000000001)",
          "Y": 0
         },
         {
          "X": "(-12.600000000000001,-12.5)",
          "Y": 0.002712954955878232
         },
         {
          "X": "(-12.5,-12.4)",
          "Y": 0.0032227342128299313
         },
         {
          "X": "(-12.4,-12.3)",
          "Y": 0
         },
         {
          "X": "(-12.3,-12.200000000000001)",
          "Y": 0.003815555057523025
         },
         {
          "X": "(-12.200000000000001,-12.100000000000001)",
          "Y": 0.00448653846496682
         },
         {
          "X": "(-12.100000000000001,-12.0)",
          "Y": 0
         },
         {
          "X": "(-12.0,-11.9)",
          "Y": 0.005221838081480637
         },
         {
          "X": "(-11.9,-11.8)",
          "Y": 0.005997007315861162
         },
         {
          "X": "(-11.8,-11.700000000000001)",
          "Y": 0
         },
         {
          "X": "(-11.700000000000001,-11.600000000000001)",
          "Y": 0.006776733507570704
         },
         {
          "X": "(-11.600000000000001,-11.5)",
          "Y": 0.007516567108035207
         },
         {
          "X": "(-11.5,-11.4)",
          "Y": 0
         },
         {
          "X": "(-11.4,-11.3)",
          "Y": 0.008166923608395197
         },
         {
          "X": "(-11.3,-11.200000000000001)",
          "Y": 0.008679045204322047
         },
         {
          "X": "(-11.200000000000001,-11.100000000000001)",
          "Y": 0
         },
         {
          "X": "(-11.100000000000001,-11.0)",
          "Y": 0.009011937561186711
         },
         {
          "X": "(-11.0,-10.9)",
          "Y": 0.009138800747034364
         },
         {
          "X": "(-10.9,-10.8)",
          "Y": 0
         },
         {
          "X": "(-10.8,-10.700000000000001)",
          "Y": 0.009051397073099356
         },
         {
          "X": "(-10.700000000000001,-10.600000000000001)",
          "Y": 0
         },
         {
          "X": "(-10.600000000000001,-10.5)",
          "Y": 0.00876124160843156
         },
         {
          "X": "(-10.5,-10.4)",
          "Y": 0.008297340417100046
         },
         {
          "X": "(-10.4,-10.3)",
          "Y": 0
         },
         {
          "X": "(-10.3,-10.200000000000001)",
          "Y": 0.007701131035832664
         },
         {
          "X": "(-10.200000000000001,-10.100000000000001)",
          "Y": 0.007019954438153155
         },
         {
          "X": "(-10.100000000000001,-10.0)",
          "Y": 0
         },
         {
          "X": "(-10.0,-9.9)",
          "Y": 0.00630058895527087
         },
         {
          "X": "(-9.9,-9.8)",
          "Y": 0.005584100459445144
         },
         {
          "X": "(-9.8,-9.700000000000001)",
          "Y": 0
         },
         {
          "X": "(-9.700000000000001,-9.600000000000001)",
          "Y": 0.004902690400775276
         },
         {
          "X": "(-9.600000000000001,-9.5)",
          "Y": 0.004278605613605291
         },
         {
          "X": "(-9.5,-9.4)",
          "Y": 0
         },
         {
          "X": "(-9.4,-9.3)",
          "Y": 0.003724712989994653
         },
         {
          "X": "(-9.3,-9.200000000000001)",
          "Y": 0.003246125329050622
         },
         {
          "X": "(-9.200000000000001,-9.1)",
          "Y": 0
         },
         {
          "X": "(-9.1,-9.0)",
          "Y": 0.0028422694337266814
         },
         {
          "X": "(-9.0,-8.9)",
          "Y": 0.0025089299634691205
         },
         {
          "X": "(-8.9,-8.8)",
          "Y": 0
         },
         {
          "X": "(-8.8,-8.700000000000001)",
          "Y": 0.0022399908718587296
         },
         {
          "X": "(-8.700000000000001,-8.6)",
          "Y": 0.002028764579946855
         },
         {
          "X": "(-8.6,-8.5)",
          "Y": 0
         },
         {
          "X": "(-8.5,-8.4)",
          "Y": 0.0018689165889227831
         },
         {
          "X": "(-8.4,-8.3)",
          "Y": 0
         },
         {
          "X": "(-8.3,-8.200000000000001)",
          "Y": 0.0017550570467586093
         },
         {
          "X": "(-8.200000000000001,-8.1)",
          "Y": 0.0016830927751329224
         },
         {
          "X": "(-8.1,-8.0)",
          "Y": 0
         },
         {
          "X": "(-8.0,-7.9)",
          "Y": 0.0016504292437555313
         },
         {
          "X": "(-7.9,-7.800000000000001)",
          "Y": 0.0016560952352659807
         },
         {
          "X": "(-7.800000000000001,-7.7)",
          "Y": 0
         },
         {
          "X": "(-7.7,-7.6000000000000005)",
          "Y": 0.001700841948300421
         },
         {
          "X": "(-7.6000000000000005,-7.5)",
          "Y": 0.0017872468873621498
         },
         {
          "X": "(-7.5,-7.4)",
          "Y": 0
         },
         {
          "X": "(-7.4,-7.300000000000001)",
          "Y": 0.001919831498719253
         },
         {
          "X": "(-7.300000000000001,-7.2)",
          "Y": 0.002105178464207412
         },
         {
          "X": "(-7.2,-7.1000000000000005)",
          "Y": 0
         },
         {
          "X": "(-7.1000000000000005,-7.0)",
          "Y": 0.002352007407304772
         },
         {
          "X": "(-7.0,-6.9)",
          "Y": 0.002671134671339748
         },
         {
          "X": "(-6.9,-6.800000000000001)",
          "Y": 0
         },
         {
          "X": "(-6.800000000000001,-6.7)",
          "Y": 0.0030752044446863726
         },
         {
          "X": "(-6.7,-6.6000000000000005)",
          "Y": 0.0035780404218667037
         },
         {
          "X": "(-6.6000000000000005,-6.5)",
          "Y": 0
         },
         {
          "X": "(-6.5,-6.4)",
          "Y": 0.004193442683728948
         },
         {
          "X": "(-6.4,-6.300000000000001)",
          "Y": 0.004933266217572779
         },
         {
          "X": "(-6.300000000000001,-6.2)",
          "Y": 0
         },
         {
          "X": "(-6.2,-6.1000000000000005)",
          "Y": 0.005804695544447311
         },
         {
          "X": "(-6.1000000000000005,-6.0)",
          "Y": 0
         },
         {
          "X": "(-6.0,-5.9)",
          "Y": 0.0068068027048386395
         },
         {
          "X": "(-5.9,-5.800000000000001)",
          "Y": 0.00792675195114081
         },
         {
          "X": "(-5.800000000000001,-5.7)",
          "Y": 0
         },
         {
          "X": "(-5.7,-5.6000000000000005)",
          "Y": 0.009136358096457912
         },
         {
          "X": "(-5.6000000000000005,-5.5)",
          "Y": 0.010390017080686487
         },
         {
          "X": "(-5.5,-5.4)",
          "Y": 0
         },
         {
          "X": "(-5.4,-5.300000000000001)",
          "Y": 0.011625149383449872
         },
         {
          "X": "(-5.300000000000001,-5.2)",
          "Y": 0.012766062707938623
         },
         {
          "X": "(-5.2,-5.1000000000000005)",
          "Y": 0
         },
         {
          "X": "(-5.1000000000000005,-5.0)",
          "Y": 0.013731464838590078
         },
         {
          "X": "(-5.0,-4.9)",
          "Y": 0.014444833447078614
         },
         {
          "X": "(-4.9,-4.800000000000001)",
          "Y": 0
         },
         {
          "X": "(-4.800000000000001,-4.7)",
          "Y": 0.014845782085198683
         },
         {
          "X": "(-4.7,-4.6000000000000005)",
          "Y": 0.014899884547810192
         },
         {
          "X": "(-4.6000000000000005,-4.5)",
          "Y": 0
         },
         {
          "X": "(-4.5,-4.4)",
          "Y": 0.014604500178020285
         },
         {
          "X": "(-4.4,-4.3)",
          "Y": 0.013989067760343853
         },
         {
          "X": "(-4.3,-4.2)",
          "Y": 0
         },
         {
          "X": "(-4.2,-4.1000000000000005)",
          "Y": 0.013109819944055332
         },
         {
          "X": "(-4.1000000000000005,-4.0)",
          "Y": 0
         },
         {
          "X": "(-4.0,-3.9000000000000004)",
          "Y": 0.012040364019206619
         },
         {
          "X": "(-3.9000000000000004,-3.8000000000000003)",
          "Y": 0.010860527190877668
         },
         {
          "X": "(-3.8000000000000003,-3.7)",
          "Y": 0
         },
         {
          "X": "(-3.7,-3.6)",
          "Y": 0.009645984698620168
         },
         {
          "X": "(-3.6,-3.5)",
          "Y": 0.008460555252807788
         },
         {
          "X": "(-3.5,-3.4000000000000004)",
          "Y": 0
         },
         {
          "X": "(-3.4000000000000004,-3.3000000000000003)",
          "Y": 0.007352015814174383
         },
         {
          "X": "(-3.3000000000000003,-3.2)",
          "Y": 0.006351281199541523
         },
         {
          "X": "(-3.2,-3.1)",
          "Y": 0
         },
         {
          "X": "(-3.1,-3.0)",
          "Y": 0.005474115383852232
         },
         {
          "X": "(-3.0,-2.9000000000000004)",
          "Y": 0.004724287603546845
         },
         {
          "X": "(-2.9000000000000004,-2.8000000000000003)",
          "Y": 0
         },
         {
          "X": "(-2.8000000000000003,-2.7)",
          "Y": 0.004097181384141327
         },
         {
          "X": "(-2.7,-2.6)",
          "Y": 0.0035831509990809714
         },
         {
          "X": "(-2.6,-2.5)",
          "Y": 0
         },
         {
          "X": "(-2.5,-2.4000000000000004)",
          "Y": 0.0031702461736909954
         },
         {
          "X": "(-2.4000000000000004,-2.3000000000000003)",
          "Y": 0.0028461943220938726
         },
         {
          "X": "(-2.3000000000000003,-2.2)",
          "Y": 0
         },
         {
          "X": "(-2.2,-2.1)",
          "Y": 0.0025997027653662224
         },
         {
          "X": "(-2.1,-2.0)",
          "Y": 0
         },
         {
          "X": "(-2.0,-1.9000000000000001)",
          "Y": 0.0024212265796397683
         },
         {
          "X": "(-1.9000000000000001,-1.8)",
          "Y": 0.00230336623076112
         },
         {
          "X": "(-1.8,-1.7000000000000002)",
          "Y": 0
         },
         {
          "X": "(-1.7000000000000002,-1.6)",
          "Y": 0.002241040763205214
         },
         {
          "X": "(-1.6,-1.5)",
          "Y": 0.0022315484106434974
         },
         {
          "X": "(-1.5,-1.4000000000000001)",
          "Y": 0
         },
         {
          "X": "(-1.4000000000000001,-1.3)",
          "Y": 0.002274589759909932
         },
         {
          "X": "(-1.3,-1.2000000000000002)",
          "Y": 0.002372294261964034
         },
         {
          "X": "(-1.2000000000000002,-1.1)",
          "Y": 0
         },
         {
          "X": "(-1.1,-1.0)",
          "Y": 0.0025292591561421733
         },
         {
          "X": "(-1.0,-0.9)",
          "Y": 0.00275257830792961
         },
         {
          "X": "(-0.9,-0.8)",
          "Y": 0
         },
         {
          "X": "(-0.8,-0.7000000000000001)",
          "Y": 0.0030518039717562255
         },
         {
          "X": "(-0.7000000000000001,-0.6000000000000001)",
          "Y": 0.0034387453387352915
         },
         {
          "X": "(-0.6000000000000001,-0.5)",
          "Y": 0
         },
         {
          "X": "(-0.5,-0.4)",
          "Y": 0.003926965851476862
         },
         {
          "X": "(-0.4,-0.30000000000000004)",
          "Y": 0.004530805090784909
         },
         {
          "X": "(-0.30000000000000004,-0.2)",
          "Y": 0
         },
         {
          "X": "(-0.2,-0.1)",
          "Y": 0.00526373814382579
         },
         {
          "X": "(-0.1,0.0)",
          "Y": 0
         },
         {
          "X": "(0.0,0.1)",
          "Y": 0.006135923151542565
         },
         {
          "X": "(0.1,0.2)",
          "Y": 0.00715090892537304
         },
         {
          "X": "(0.2,0.30000000000000004)",
          "Y": 0
         },
         {
          "X": "(0.30000000000000004,0.4)",
          "Y": 0.008301704038333978
         },
         {
          "X": "(0.4,0.5)",
          "Y": 0.009566741095961374
         },
         {
          "X": "(0.5,0.6000000000000001)",
          "Y": 0
         },
         {
          "X": "(0.6000000000000001,0.7000000000000001)",
          "Y": 0.010906642737690413
         },
         {
          "X": "(0.7000000000000001,0.8)",
          "Y": 0.012262976377157007
         },
         {
          "X": "(0.8,0.9)",
          "Y": 0
         },
         {
          "X": "(0.9,1.0)",
          "Y": 0.013560189870462766
         },
         {
          "X": "(1.0,1.1)",
          "Y": 0.014711487994334254
         },
         {
          "X": "(1.1,1.2000000000000002)",
          "Y": 0
         },
         {
          "X": "(1.2000000000000002,1.3)",
          "Y": 0.015628505803672137
         },
         {
          "X": "(1.3,1.4000000000000001)",
          "Y": 0.016233444824549796
         },
         {
          "X": "(1.4000000000000001,1.5)",
          "Y": 0
         },
         {
          "X": "(1.5,1.6)",
          "Y": 0.01647126471295335
         },
         {
          "X": "(1.6,1.7000000000000002)",
          "Y": 0.01631904768930294
         },
         {
          "X": "(1.7000000000000002,1.8)",
          "Y": 0
         },
         {
          "X": "(1.8,1.9000000000000001)",
          "Y": 0.015790096506956237
         },
         {
          "X": "(1.9000000000000001,2.0)",
          "Y": 0.014931641608987505
         },
         {
          "X": "(2.0,2.1)",
          "Y": 0
         },
         {
          "X": "(2.1,2.2)",
          "Y": 0.013816772442188974
         },
         {
          "X": "(2.2,2.3000000000000003)",
          "Y": 0
         },
         {
          "X": "(2.3000000000000003,2.4000000000000004)",
          "Y": 0.01253271818390491
         },
         {
          "X": "(2.4000000000000004,2.5)",
          "Y": 0.011168341439596706
         },
         {
          "X": "(2.5,2.6)",
          "Y": 0
         },
         {
          "X": "(2.6,2.7)",
          "Y": 0.009803493347404123
         },
         {
          "X": "(2.7,2.8000000000000003)",
          "Y": 0.008501932631506757
         },
         {
          "X": "(2.8000000000000003,2.9000000000000004)",
          "Y": 0
         },
         {
          "X": "(2.9000000000000004,3.0)",
          "Y": 0.007308295908249866
         },
         {
          "X": "(3.0,3.1)",
          "Y": 0.006248574780643178
         },
         {
          "X": "(3.1,3.2)",
          "Y": 0
         },
         {
          "X": "(3.2,3.3000000000000003)",
          "Y": 0.005332969023864944
         },
         {
          "X": "(3.3000000000000003,3.4000000000000004)",
          "Y": 0.004559871744742948
         },
         {
          "X": "(3.4000000000000004,3.5)",
          "Y": 0
         },
         {
          "X": "(3.5,3.6)",
          "Y": 0.003919964998519423
         },
         {
          "X": "(3.6,3.7)",
          "Y": 0.0033997735355975217
         },
         {
          "X": "(3.7,3.8000000000000003)",
          "Y": 0
         },
         {
          "X": "(3.8000000000000003,3.9000000000000004)",
          "Y": 0.002984384906988432
         },
         {
          "X": "(3.9000000000000004,4.0)",
          "Y": 0.0026593112585237425
         },
         {
          "X": "(4.0,4.1000000000000005)",
          "Y": 0
         },
         {
          "X": "(4.1000000000000005,4.2)",
          "Y": 0.002411621560998104
         },
         {
          "X": "(4.2,4.3)",
          "Y": 0
         },
         {
          "X": "(4.3,4.4)",
          "Y": 0.0022305319337429406
         },
         {
          "X": "(4.4,4.5)",
          "Y": 0.002107639302543307
         },
         {
          "X": "(4.5,4.6000000000000005)",
          "Y": 0
         },
         {
          "X": "(4.6000000000000005,4.7)",
          "Y": 0.0020369505427580083
         },
         {
          "X": "(4.7,4.800000000000001)",
          "Y": 0.002014816707458832
         },
         {
          "X": "(4.800000000000001,4.9)",
          "Y": 0
         },
         {
          "X": "(4.9,5.0)",
          "Y": 0.002039841236359174
         },
         {
          "X": "(5.0,5.1000000000000005)",
          "Y": 0.0021127960260900786
         },
         {
          "X": "(5.1000000000000005,5.2)",
          "Y": 0
         },
         {
          "X": "(5.2,5.300000000000001)",
          "Y": 0.0022365492693686203
         },
         {
          "X": "(5.300000000000001,5.4)",
          "Y": 0.0024159814080563437
         },
         {
          "X": "(5.4,5.5)",
          "Y": 0
         },
         {
          "X": "(5.5,5.6000000000000005)",
          "Y": 0.002657837710948342
         },
         {
          "X": "(5.6000000000000005,5.7)",
          "Y": 0.0029704368411522424
         },
         {
          "X": "(5.7,5.800000000000001)",
          "Y": 0
         },
         {
          "X": "(5.800000000000001,5.9)",
          "Y": 0.0033631267146645534
         },
         {
          "X": "(5.9,6.0)",
          "Y": 0.0038453597124586962
         },
         {
          "X": "(6.0,6.1000000000000005)",
          "Y": 0
         },
         {
          "X": "(6.1000000000000005,6.2)",
          "Y": 0.004425263369411469
         },
         {
          "X": "(6.2,6.300000000000001)",
          "Y": 0
         },
         {
          "X": "(6.300000000000001,6.4)",
          "Y": 0.00510763054902189
         },
         {
          "X": "(6.4,6.5)",
          "Y": 0.005891366329880979
         },
         {
          "X": "(6.5,6.6000000000000005)",
          "Y": 0
         },
         {
          "X": "(6.6000000000000005,6.7)",
          "Y": 0.0067666184512770134
         },
         {
          "X": "(6.7,6.800000000000001)",
          "Y": 0.00771206774516659
         },
         {
          "X": "(6.800000000000001,6.9)",
          "Y": 0
         },
         {
          "X": "(6.9,7.0)",
          "Y": 0.008693104031030522
         },
         {
          "X": "(7.0,7.1000000000000005)",
          "Y": 0.00966175381254866
         },
         {
          "X": "(7.1000000000000005,7.2)",
          "Y": 0
         },
         {
          "X": "(7.2,7.300000000000001)",
          "Y": 0.010559129303665224
         },
         {
          "X": "(7.300000000000001,7.4)",
          "Y": 0.011320742034041865
         },
         {
          "X": "(7.4,7.5)",
          "Y": 0
         },
         {
          "X": "(7.5,7.6000000000000005)",
          "Y": 0.011884290651389426
         },
         {
          "X": "(7.6000000000000005,7.7)",
          "Y": 0.012198676303907379
         },
         {
          "X": "(7.7,7.800000000000001)",
          "Y": 0
         },
         {
          "X": "(7.800000000000001,7.9)",
          "Y": 0.012232337909987717
         },
         {
          "X": "(7.9,8.0)",
          "Y": 0.011978858936040055
         },
         {
          "X": "(8.0,8.1)",
          "Y": 0
         },
         {
          "X": "(8.1,8.200000000000001)",
          "Y": 0.011458336421545957
         },
         {
          "X": "(8.200000000000001,8.3)",
          "Y": 0.010714096072440383
         },
         {
          "X": "(8.3,8.4)",
          "Y": 0
         },
         {
          "X": "(8.4,8.5)",
          "Y": 0.009805598092824603
         },
         {
          "X": "(8.5,8.6)",
          "Y": 0
         },
         {
          "X": "(8.6,8.700000000000001)",
          "Y": 0.00879933531451965
         },
         {
          "X": "(8.700000000000001,8.8)",
          "Y": 0.007759848766304743
         },
         {
          "X": "(8.8,8.9)",
          "Y": 0
         },
         {
          "X": "(8.9,9.0)",
          "Y": 0.006742634318918311
         },
         {
          "X": "(9.0,9.1)",
          "Y": 0.005789917463327412
         },
         {
          "X": "(9.1,9.200000000000001)",
          "Y": 0
         },
         {
          "X": "(9.200000000000001,9.3)",
          "Y": 0.004929385827266017
         },
         {
          "X": "(9.3,9.4)",
          "Y": 0.004175292747127301
         },
         {
          "X": "(9.4,9.5)",
          "Y": 0
         },
         {
          "X": "(9.5,9.600000000000001)",
          "Y": 0.003531022349823395
         },
         {
          "X": "(9.600000000000001,9.700000000000001)",
          "Y": 0.0029922144281776556
         },
         {
          "X": "(9.700000000000001,9.8)",
          "Y": 0
         },
         {
          "X": "(9.8,9.9)",
          "Y": 0.0025497643245699923
         },
         {
          "X": "(9.9,10.0)",
          "Y": 0.002192299850780223
         },
         {
          "X": "(10.0,10.100000000000001)",
          "Y": 0
         },
         {
          "X": "(10.100000000000001,10.200000000000001)",
          "Y": 0.0019079919158321954
         },
         {
          "X": "(10.200000000000001,10.3)",
          "Y": 0.0016857300634615616
         },
         {
          "X": "(10.3,10.4)",
          "Y": 0
         },
         {
          "X": "(10.4,10.5)",
          "Y": 0.001515784511239882
         },
         {
          "X": "(10.5,10.600000000000001)",
          "Y": 0.00139010225681635
         },
         {
          "X": "(10.600000000000001,10.700000000000001)",
          "Y": 0
         },
         {
          "X": "(10.700000000000001,10.8)",
          "Y": 0.0013023721809206517
         },
         {
          "X": "(10.8,10.9)",
          "Y": 0
         },
         {
          "X": "(10.9,11.0)",
          "Y": 0.00124796443663066
         },
         {
          "X": "(11.0,11.100000000000001)",
          "Y": 0.0012238166726138654
         },
         {
          "X": "(11.100000000000001,11.200000000000001)",
          "Y": 0
         },
         {
          "X": "(11.200000000000001,11.3)",
          "Y": 0.0012283105907546523
         },
         {
          "X": "(11.3,11.4)",
          "Y": 0.0012611588392442636
         },
         {
          "X": "(11.4,11.5)",
          "Y": 0
         },
         {
          "X": "(11.5,11.600000000000001)",
          "Y": 0.0013233034166287105
         },
         {
          "X": "(11.600000000000001,11.700000000000001)",
          "Y": 0.0014168107094293867
         },
         {
          "X": "(11.700000000000001,11.8)",
          "Y": 0
         },
         {
          "X": "(11.8,11.9)",
          "Y": 0.001544733280011599
         },
         {
          "X": "(11.9,12.0)",
          "Y": 0.0017108939578575906
         },
         {
          "X": "(12.0,12.100000000000001)",
          "Y": 0
         },
         {
          "X": "(12.100000000000001,12.200000000000001)",
          "Y": 0.0019195350894754917
         },
         {
          "X": "(12.200000000000001,12.3)",
          "Y": 0.0021747692912892384
         },
         {
          "X": "(12.3,12.4)",
          "Y": 0
         },
         {
          "X": "(12.4,12.5)",
          "Y": 0.0024797754114944262
         },
         {
          "X": "(12.5,12.600000000000001)",
          "Y": 0.0028357149224677684
         },
         {
          "X": "(12.600000000000001,12.700000000000001)",
          "Y": 0
         },
         {
          "X": "(12.700000000000001,12.8)",
          "Y": 0.0032404093760038536
         },
         {
          "X": "(12.8,12.9)",
          "Y": 0.003686921761897636
         },
         {
          "X": "(12.9,13.0)",
          "Y": 0
         },
         {
          "X": "(13.0,13.100000000000001)",
          "Y": 0.004162311002532824
         },
         {
          "X": "(13.100000000000001,13.200000000000001)",
          "Y": 0
         },
         {
          "X": "(13.200000000000001,13.3)",
          "Y": 0.004646943931374979
         },
         {
          "X": "(13.3,13.4)",
          "Y": 0.005114795478546035
         },
         {
          "X": "(13.4,13.5)",
          "Y": 0
         },
         {
          "X": "(13.5,13.600000000000001)",
          "Y": 0.005535082097622864
         },
         {
          "X": "(13.600000000000001,13.700000000000001)",
          "Y": 0.0058753191164631555
         },
         {
          "X": "(13.700000000000001,13.8)",
          "Y": 0
         },
         {
          "X": "(13.8,13.9)",
          "Y": 0.0061054974323855715
         },
         {
          "X": "(13.9,14.0)",
          "Y": 0.006202649524742164
         },
         {
          "X": "(14.0,14.100000000000001)",
          "Y": 0
         },
         {
          "X": "(14.100000000000001,14.200000000000001)",
          "Y": 0.006154788066328415
         },
         {
          "X": "(14.200000000000001,14.3)",
          "Y": 0.005963207804187306
         },
         {
          "X": "(14.3,14.4)",
          "Y": 0
         },
         {
          "X": "(14.4,14.5)",
          "Y": 0.0056424965823188575
         },
         {
          "X": "(14.5,14.600000000000001)",
          "Y": 0.005218206746715366
         },
         {
          "X": "(14.600000000000001,14.700000000000001)",
          "Y": 0
         },
         {
          "X": "(14.700000000000001,14.8)",
          "Y": 0.004722774416570248
         },
         {
          "X": "(14.8,14.9)",
          "Y": 0.00419070216395769
         },
         {
          "X": "(14.9,15.0)",
          "Y": 0
         },
         {
          "X": "(15.0,15.100000000000001)",
          "Y": 0.0036540977208396183
         },
         {
          "X": "(15.100000000000001,15.200000000000001)",
          "Y": 0
         },
         {
          "X": "(15.200000000000001,15.3)",
          "Y": 0.0031394016141574927
         },
         {
          "X": "(15.3,15.4)",
          "Y": 0.0026656853468287364
         },
         {
          "X": "(15.4,15.5)",
          "Y": 0
         },
         {
          "X": "(15.5,15.600000000000001)",
          "Y": 0.0022444482696704093
         },
         {
          "X": "(15.600000000000001,15.700000000000001)",
          "Y": 0.001880529340606785
         },
         {
          "X": "(15.700000000000001,15.8)",
          "Y": 0
         },
         {
          "X": "(15.8,15.9)",
          "Y": 0.001573631958643657
         },
         {
          "X": "(15.9,16.0)",
          "Y": 0.0013200055961491292
         },
         {
          "X": "(16.0,16.1)",
          "Y": 0
         },
         {
          "X": "(16.1,16.2)",
          "Y": 0.0011139644792462868
         },
         {
          "X": "(16.2,16.3)",
          "Y": 0.0009490786794277675
         },
         {
          "X": "(16.3,16.400000000000002)",
          "Y": 0
         },
         {
          "X": "(16.400000000000002,16.5)",
          "Y": 0.0008189991809745358
         },
         {
          "X": "(16.5,16.6)",
          "Y": 0.0007179576757729513
         },
         {
          "X": "(16.6,16.7)",
          "Y": 0
         },
         {
          "X": "(16.7,16.8)",
          "Y": 0.0006410171829396178
         },
         {
          "X": "(16.8,16.900000000000002)",
          "Y": 0
         },
         {
          "X": "(16.900000000000002,17.0)",
          "Y": 0.0005841541438207443
         },
         {
          "X": "(17.0,17.1)",
          "Y": 0.0005442405342097537
         },
         {
          "X": "(17.1,17.2)",
          "Y": 0
         },
         {
          "X": "(17.2,17.3)",
          "Y": 0.0005189764989366362
         },
         {
          "X": "(17.3,17.400000000000002)",
          "Y": 0.0005068063528128275
         },
         {
          "X": "(17.400000000000002,17.5)",
          "Y": 0
         },
         {
          "X": "(17.5,17.6)",
          "Y": 0.000506836175389675
         },
         {
          "X": "(17.6,17.7)",
          "Y": 0.0005187600186800429
         },
         {
          "X": "(17.7,17.8)",
          "Y": 0
         },
         {
          "X": "(17.8,17.900000000000002)",
          "Y": 0.0005427931825030969
         },
         {
          "X": "(17.900000000000002,18.0)",
          "Y": 0.0005796040310882791
         },
         {
          "X": "(18.0,18.1)",
          "Y": 0
         },
         {
          "X": "(18.1,18.2)",
          "Y": 0.0006302296245400568
         },
         {
          "X": "(18.2,18.3)",
          "Y": 0
         },
         {
          "X": "(18.3,18.400000000000002)",
          "Y": 0.0006959548940452814
         },
         {
          "X": "(18.400000000000002,18.5)",
          "Y": 0.0007781311324801582
         },
         {
          "X": "(18.5,18.6)",
          "Y": 0
         },
         {
          "X": "(18.6,18.7)",
          "Y": 0.0008779095005675035
         },
         {
          "X": "(18.7,18.8)",
          "Y": 0.0009958727311330526
         },
         {
          "X": "(18.8,18.900000000000002)",
          "Y": 0
         },
         {
          "X": "(18.900000000000002,19.0)",
          "Y": 0.00113156755395245
         },
         {
          "X": "(19.0,19.1)",
          "Y": 0.0012829745409855418
         },
         {
          "X": "(19.1,19.200000000000003)",
          "Y": 0
         },
         {
          "X": "(19.200000000000003,19.3)",
          "Y": 0.001445999436277368
         },
         {
          "X": "(19.3,19.400000000000002)",
          "Y": 0
         },
         {
          "X": "(19.400000000000002,19.5)",
          "Y": 0.001614120544398385
         },
         {
          "X": "(19.5,19.6)",
          "Y": 0.0017783601493525595
         },
         {
          "X": "(19.6,19.700000000000003)",
          "Y": 0
         },
         {
          "X": "(19.700000000000003,19.8)",
          "Y": 0.00192773729751937
         },
         {
          "X": "(19.8,19.900000000000002)",
          "Y": 0.0020502822362977896
         },
         {
          "X": "(19.900000000000002,20.0)",
          "Y": 0
         },
         {
          "X": "(20.0,20.1)",
          "Y": 0.0021345482634914014
         }
        ]
       },
       "encoding": {
        "x": {
         "field": "X",
         "sort": [
          "(-19.900000000000002,-19.8)",
          "(-19.8,-19.700000000000003)",
          "(-19.700000000000003,-19.6)",
          "(-19.6,-19.5)",
          "(-19.5,-19.400000000000002)",
          "(-19.400000000000002,-19.3)",
          "(-19.3,-19.200000000000003)",
          "(-19.200000000000003,-19.1)",
          "(-19.1,-19.0)",
          "(-19.0,-18.900000000000002)",
          "(-18.900000000000002,-18.8)",
          "(-18.8,-18.7)",
          "(-18.7,-18.6)",
          "(-18.6,-18.5)",
          "(-18.5,-18.400000000000002)",
          "(-18.400000000000002,-18.3)",
          "(-18.3,-18.2)",
          "(-18.2,-18.1)",
          "(-18.1,-18.0)",
          "(-18.0,-17.900000000000002)",
          "(-17.900000000000002,-17.8)",
          "(-17.8,-17.7)",
          "(-17.7,-17.6)",
          "(-17.6,-17.5)",
          "(-17.5,-17.400000000000002)",
          "(-17.400000000000002,-17.3)",
          "(-17.3,-17.2)",
          "(-17.2,-17.1)",
          "(-17.1,-17.0)",
          "(-17.0,-16.900000000000002)",
          "(-16.900000000000002,-16.8)",
          "(-16.8,-16.7)",
          "(-16.7,-16.6)",
          "(-16.6,-16.5)",
          "(-16.5,-16.400000000000002)",
          "(-16.400000000000002,-16.3)",
          "(-16.3,-16.2)",
          "(-16.2,-16.1)",
          "(-16.1,-16.0)",
          "(-16.0,-15.9)",
          "(-15.9,-15.8)",
          "(-15.8,-15.700000000000001)",
          "(-15.700000000000001,-15.600000000000001)",
          "(-15.600000000000001,-15.5)",
          "(-15.5,-15.4)",
          "(-15.4,-15.3)",
          "(-15.3,-15.200000000000001)",
          "(-15.200000000000001,-15.100000000000001)",
          "(-15.100000000000001,-15.0)",
          "(-15.0,-14.9)",
          "(-14.9,-14.8)",
          "(-14.8,-14.700000000000001)",
          "(-14.700000000000001,-14.600000000000001)",
          "(-14.600000000000001,-14.5)",
          "(-14.5,-14.4)",
          "(-14.4,-14.3)",
          "(-14.3,-14.200000000000001)",
          "(-14.200000000000001,-14.100000000000001)",
          "(-14.100000000000001,-14.0)",
          "(-14.0,-13.9)",
          "(-13.9,-13.8)",
          "(-13.8,-13.700000000000001)",
          "(-13.700000000000001,-13.600000000000001)",
          "(-13.600000000000001,-13.5)",
          "(-13.5,-13.4)",
          "(-13.4,-13.3)",
          "(-13.3,-13.200000000000001)",
          "(-13.200000000000001,-13.100000000000001)",
          "(-13.100000000000001,-13.0)",
          "(-13.0,-12.9)",
          "(-12.9,-12.8)",
          "(-12.8,-12.700000000000001)",
          "(-12.700000000000001,-12.600000000000001)",
          "(-12.600000000000001,-12.5)",
          "(-12.5,-12.4)",
          "(-12.4,-12.3)",
          "(-12.3,-12.200000000000001)",
          "(-12.200000000000001,-12.100000000000001)",
          "(-12.100000000000001,-12.0)",
          "(-12.0,-11.9)",
          "(-11.9,-11.8)",
          "(-11.8,-11.700000000000001)",
          "(-11.700000000000001,-11.600000000000001)",
          "(-11.600000000000001,-11.5)",
          "(-11.5,-11.4)",
          "(-11.4,-11.3)",
          "(-11.3,-11.200000000000001)",
          "(-11.200000000000001,-11.100000000000001)",
          "(-11.100000000000001,-11.0)",
          "(-11.0,-10.9)",
          "(-10.9,-10.8)",
          "(-10.8,-10.700000000000001)",
          "(-10.700000000000001,-10.600000000000001)",
          "(-10.600000000000001,-10.5)",
          "(-10.5,-10.4)",
          "(-10.4,-10.3)",
          "(-10.3,-10.200000000000001)",
          "(-10.200000000000001,-10.100000000000001)",
          "(-10.100000000000001,-10.0)",
          "(-10.0,-9.9)",
          "(-9.9,-9.8)",
          "(-9.8,-9.700000000000001)",
          "(-9.700000000000001,-9.600000000000001)",
          "(-9.600000000000001,-9.5)",
          "(-9.5,-9.4)",
          "(-9.4,-9.3)",
          "(-9.3,-9.200000000000001)",
          "(-9.200000000000001,-9.1)",
          "(-9.1,-9.0)",
          "(-9.0,-8.9)",
          "(-8.9,-8.8)",
          "(-8.8,-8.700000000000001)",
          "(-8.700000000000001,-8.6)",
          "(-8.6,-8.5)",
          "(-8.5,-8.4)",
          "(-8.4,-8.3)",
          "(-8.3,-8.200000000000001)",
          "(-8.200000000000001,-8.1)",
          "(-8.1,-8.0)",
          "(-8.0,-7.9)",
          "(-7.9,-7.800000000000001)",
          "(-7.800000000000001,-7.7)",
          "(-7.7,-7.6000000000000005)",
          "(-7.6000000000000005,-7.5)",
          "(-7.5,-7.4)",
          "(-7.4,-7.300000000000001)",
          "(-7.300000000000001,-7.2)",
          "(-7.2,-7.1000000000000005)",
          "(-7.1000000000000005,-7.0)",
          "(-7.0,-6.9)",
          "(-6.9,-6.800000000000001)",
          "(-6.800000000000001,-6.7)",
          "(-6.7,-6.6000000000000005)",
          "(-6.6000000000000005,-6.5)",
          "(-6.5,-6.4)",
          "(-6.4,-6.300000000000001)",
          "(-6.300000000000001,-6.2)",
          "(-6.2,-6.1000000000000005)",
          "(-6.1000000000000005,-6.0)",
          "(-6.0,-5.9)",
          "(-5.9,-5.800000000000001)",
          "(-5.800000000000001,-5.7)",
          "(-5.7,-5.6000000000000005)",
          "(-5.6000000000000005,-5.5)",
          "(-5.5,-5.4)",
          "(-5.4,-5.300000000000001)",
          "(-5.300000000000001,-5.2)",
          "(-5.2,-5.1000000000000005)",
          "(-5.1000000000000005,-5.0)",
          "(-5.0,-4.9)",
          "(-4.9,-4.800000000000001)",
          "(-4.800000000000001,-4.7)",
          "(-4.7,-4.6000000000000005)",
          "(-4.6000000000000005,-4.5)",
          "(-4.5,-4.4)",
          "(-4.4,-4.3)",
          "(-4.3,-4.2)",
          "(-4.2,-4.1000000000000005)",
          "(-4.1000000000000005,-4.0)",
          "(-4.0,-3.9000000000000004)",
          "(-3.9000000000000004,-3.8000000000000003)",
          "(-3.8000000000000003,-3.7)",
          "(-3.7,-3.6)",
          "(-3.6,-3.5)",
          "(-3.5,-3.4000000000000004)",
          "(-3.4000000000000004,-3.3000000000000003)",
          "(-3.3000000000000003,-3.2)",
          "(-3.2,-3.1)",
          "(-3.1,-3.0)",
          "(-3.0,-2.9000000000000004)",
          "(-2.9000000000000004,-2.8000000000000003)",
          "(-2.8000000000000003,-2.7)",
          "(-2.7,-2.6)",
          "(-2.6,-2.5)",
          "(-2.5,-2.4000000000000004)",
          "(-2.4000000000000004,-2.3000000000000003)",
          "(-2.3000000000000003,-2.2)",
          "(-2.2,-2.1)",
          "(-2.1,-2.0)",
          "(-2.0,-1.9000000000000001)",
          "(-1.9000000000000001,-1.8)",
          "(-1.8,-1.7000000000000002)",
          "(-1.7000000000000002,-1.6)",
          "(-1.6,-1.5)",
          "(-1.5,-1.4000000000000001)",
          "(-1.4000000000000001,-1.3)",
          "(-1.3,-1.2000000000000002)",
          "(-1.2000000000000002,-1.1)",
          "(-1.1,-1.0)",
          "(-1.0,-0.9)",
          "(-0.9,-0.8)",
          "(-0.8,-0.7000000000000001)",
          "(-0.7000000000000001,-0.6000000000000001)",
          "(-0.6000000000000001,-0.5)",
          "(-0.5,-0.4)",
          "(-0.4,-0.30000000000000004)",
          "(-0.30000000000000004,-0.2)",
          "(-0.2,-0.1)",
          "(-0.1,0.0)",
          "(0.0,0.1)",
          "(0.1,0.2)",
          "(0.2,0.30000000000000004)",
          "(0.30000000000000004,0.4)",
          "(0.4,0.5)",
          "(0.5,0.6000000000000001)",
          "(0.6000000000000001,0.7000000000000001)",
          "(0.7000000000000001,0.8)",
          "(0.8,0.9)",
          "(0.9,1.0)",
          "(1.0,1.1)",
          "(1.1,1.2000000000000002)",
          "(1.2000000000000002,1.3)",
          "(1.3,1.4000000000000001)",
          "(1.4000000000000001,1.5)",
          "(1.5,1.6)",
          "(1.6,1.7000000000000002)",
          "(1.7000000000000002,1.8)",
          "(1.8,1.9000000000000001)",
          "(1.9000000000000001,2.0)",
          "(2.0,2.1)",
          "(2.1,2.2)",
          "(2.2,2.3000000000000003)",
          "(2.3000000000000003,2.4000000000000004)",
          "(2.4000000000000004,2.5)",
          "(2.5,2.6)",
          "(2.6,2.7)",
          "(2.7,2.8000000000000003)",
          "(2.8000000000000003,2.9000000000000004)",
          "(2.9000000000000004,3.0)",
          "(3.0,3.1)",
          "(3.1,3.2)",
          "(3.2,3.3000000000000003)",
          "(3.3000000000000003,3.4000000000000004)",
          "(3.4000000000000004,3.5)",
          "(3.5,3.6)",
          "(3.6,3.7)",
          "(3.7,3.8000000000000003)",
          "(3.8000000000000003,3.9000000000000004)",
          "(3.9000000000000004,4.0)",
          "(4.0,4.1000000000000005)",
          "(4.1000000000000005,4.2)",
          "(4.2,4.3)",
          "(4.3,4.4)",
          "(4.4,4.5)",
          "(4.5,4.6000000000000005)",
          "(4.6000000000000005,4.7)",
          "(4.7,4.800000000000001)",
          "(4.800000000000001,4.9)",
          "(4.9,5.0)",
          "(5.0,5.1000000000000005)",
          "(5.1000000000000005,5.2)",
          "(5.2,5.300000000000001)",
          "(5.300000000000001,5.4)",
          "(5.4,5.5)",
          "(5.5,5.6000000000000005)",
          "(5.6000000000000005,5.7)",
          "(5.7,5.800000000000001)",
          "(5.800000000000001,5.9)",
          "(5.9,6.0)",
          "(6.0,6.1000000000000005)",
          "(6.1000000000000005,6.2)",
          "(6.2,6.300000000000001)",
          "(6.300000000000001,6.4)",
          "(6.4,6.5)",
          "(6.5,6.6000000000000005)",
          "(6.6000000000000005,6.7)",
          "(6.7,6.800000000000001)",
          "(6.800000000000001,6.9)",
          "(6.9,7.0)",
          "(7.0,7.1000000000000005)",
          "(7.1000000000000005,7.2)",
          "(7.2,7.300000000000001)",
          "(7.300000000000001,7.4)",
          "(7.4,7.5)",
          "(7.5,7.6000000000000005)",
          "(7.6000000000000005,7.7)",
          "(7.7,7.800000000000001)",
          "(7.800000000000001,7.9)",
          "(7.9,8.0)",
          "(8.0,8.1)",
          "(8.1,8.200000000000001)",
          "(8.200000000000001,8.3)",
          "(8.3,8.4)",
          "(8.4,8.5)",
          "(8.5,8.6)",
          "(8.6,8.700000000000001)",
          "(8.700000000000001,8.8)",
          "(8.8,8.9)",
          "(8.9,9.0)",
          "(9.0,9.1)",
          "(9.1,9.200000000000001)",
          "(9.200000000000001,9.3)",
          "(9.3,9.4)",
          "(9.4,9.5)",
          "(9.5,9.600000000000001)",
          "(9.600000000000001,9.700000000000001)",
          "(9.700000000000001,9.8)",
          "(9.8,9.9)",
          "(9.9,10.0)",
          "(10.0,10.100000000000001)",
          "(10.100000000000001,10.200000000000001)",
          "(10.200000000000001,10.3)",
          "(10.3,10.4)",
          "(10.4,10.5)",
          "(10.5,10.600000000000001)",
          "(10.600000000000001,10.700000000000001)",
          "(10.700000000000001,10.8)",
          "(10.8,10.9)",
          "(10.9,11.0)",
          "(11.0,11.100000000000001)",
          "(11.100000000000001,11.200000000000001)",
          "(11.200000000000001,11.3)",
          "(11.3,11.4)",
          "(11.4,11.5)",
          "(11.5,11.600000000000001)",
          "(11.600000000000001,11.700000000000001)",
          "(11.700000000000001,11.8)",
          "(11.8,11.9)",
          "(11.9,12.0)",
          "(12.0,12.100000000000001)",
          "(12.100000000000001,12.200000000000001)",
          "(12.200000000000001,12.3)",
          "(12.3,12.4)",
          "(12.4,12.5)",
          "(12.5,12.600000000000001)",
          "(12.600000000000001,12.700000000000001)",
          "(12.700000000000001,12.8)",
          "(12.8,12.9)",
          "(12.9,13.0)",
          "(13.0,13.100000000000001)",
          "(13.100000000000001,13.200000000000001)",
          "(13.200000000000001,13.3)",
          "(13.3,13.4)",
          "(13.4,13.5)",
          "(13.5,13.600000000000001)",
          "(13.600000000000001,13.700000000000001)",
          "(13.700000000000001,13.8)",
          "(13.8,13.9)",
          "(13.9,14.0)",
          "(14.0,14.100000000000001)",
          "(14.100000000000001,14.200000000000001)",
          "(14.200000000000001,14.3)",
          "(14.3,14.4)",
          "(14.4,14.5)",
          "(14.5,14.600000000000001)",
          "(14.600000000000001,14.700000000000001)",
          "(14.700000000000001,14.8)",
          "(14.8,14.9)",
          "(14.9,15.0)",
          "(15.0,15.100000000000001)",
          "(15.100000000000001,15.200000000000001)",
          "(15.200000000000001,15.3)",
          "(15.3,15.4)",
          "(15.4,15.5)",
          "(15.5,15.600000000000001)",
          "(15.600000000000001,15.700000000000001)",
          "(15.700000000000001,15.8)",
          "(15.8,15.9)",
          "(15.9,16.0)",
          "(16.0,16.1)",
          "(16.1,16.2)",
          "(16.2,16.3)",
          "(16.3,16.400000000000002)",
          "(16.400000000000002,16.5)",
          "(16.5,16.6)",
          "(16.6,16.7)",
          "(16.7,16.8)",
          "(16.8,16.900000000000002)",
          "(16.900000000000002,17.0)",
          "(17.0,17.1)",
          "(17.1,17.2)",
          "(17.2,17.3)",
          "(17.3,17.400000000000002)",
          "(17.400000000000002,17.5)",
          "(17.5,17.6)",
          "(17.6,17.7)",
          "(17.7,17.8)",
          "(17.8,17.900000000000002)",
          "(17.900000000000002,18.0)",
          "(18.0,18.1)",
          "(18.1,18.2)",
          "(18.2,18.3)",
          "(18.3,18.400000000000002)",
          "(18.400000000000002,18.5)",
          "(18.5,18.6)",
          "(18.6,18.7)",
          "(18.7,18.8)",
          "(18.8,18.900000000000002)",
          "(18.900000000000002,19.0)",
          "(19.0,19.1)",
          "(19.1,19.200000000000003)",
          "(19.200000000000003,19.3)",
          "(19.3,19.400000000000002)",
          "(19.400000000000002,19.5)",
          "(19.5,19.6)",
          "(19.6,19.700000000000003)",
          "(19.700000000000003,19.8)",
          "(19.8,19.900000000000002)",
          "(19.900000000000002,20.0)",
          "(20.0,20.1)"
         ],
         "type": "nominal"
        },
        "y": {
         "field": "Y",
         "type": "quantitative"
        }
       },
       "height": 200,
       "mark": "bar",
       "width": 200
      }
     },
     "metadata": {},
     "output_type": "display_data"
    }
   ],
   "source": [
    "\n",
    "model4 :: MonadInfer m => m Double\n",
    "model4 = do\n",
    "\n",
    "    x <- normal 0 10\n",
    "    factor $ Exp (sin x )\n",
    "    return x\n",
    "\n",
    "plotVega $ histogram 400 0.1 (model4)\n",
    "\n"
   ]
  },
  {
   "cell_type": "markdown",
   "metadata": {},
   "source": [
    "We can also plot the CDF, as in:"
   ]
  },
  {
   "cell_type": "code",
   "execution_count": 23,
   "metadata": {},
   "outputs": [
    {
     "data": {
      "application/vnd.vegalite.v4+json": {
       "$schema": "https://vega.github.io/schema/vega-lite/v4.json",
       "data": {
        "values": [
         {
          "X": "-3.4000000000000004",
          "Y": 0.0003475896968846559
         },
         {
          "X": "-3.3000000000000003",
          "Y": 0.00048266882627062897
         },
         {
          "X": "-3.2",
          "Y": 0.000704790587044729
         },
         {
          "X": "-3.1",
          "Y": 0.0009544100437881077
         },
         {
          "X": "-3.0",
          "Y": 0.0013540507772572814
         },
         {
          "X": "-2.9000000000000004",
          "Y": 0.0018930907162011644
         },
         {
          "X": "-2.8000000000000003",
          "Y": 0.0026100447034295747
         },
         {
          "X": "-2.7",
          "Y": 0.003551006711397484
         },
         {
          "X": "-2.6",
          "Y": 0.004770378244699442
         },
         {
          "X": "-2.5",
          "Y": 0.006331501580522845
         },
         {
          "X": "-2.4000000000000004",
          "Y": 0.008307155877267096
         },
         {
          "X": "-2.3000000000000003",
          "Y": 0.010779870415425495
         },
         {
          "X": "-2.2",
          "Y": 0.013842006013110359
         },
         {
          "X": "-2.1",
          "Y": 0.017595553285281097
         },
         {
          "X": "-2.0",
          "Y": 0.02299722115422826
         },
         {
          "X": "-1.9000000000000001",
          "Y": 0.02864072954573137
         },
         {
          "X": "-1.8",
          "Y": 0.03535359336628454
         },
         {
          "X": "-1.7000000000000002",
          "Y": 0.04471259144476443
         },
         {
          "X": "-1.6",
          "Y": 0.05419677092275107
         },
         {
          "X": "-1.5",
          "Y": 0.06715363744799083
         },
         {
          "X": "-1.4000000000000001",
          "Y": 0.08002660457875374
         },
         {
          "X": "-1.3",
          "Y": 0.09727086972192343
         },
         {
          "X": "-1.2000000000000002",
          "Y": 0.1140757082868024
         },
         {
          "X": "-1.1",
          "Y": 0.13615614606213394
         },
         {
          "X": "-1.0",
          "Y": 0.1572657587128084
         },
         {
          "X": "-0.9",
          "Y": 0.18447308259770795
         },
         {
          "X": "-0.8",
          "Y": 0.20998912384400384
         },
         {
          "X": "-0.7000000000000001",
          "Y": 0.24224382090083374
         },
         {
          "X": "-0.6000000000000001",
          "Y": 0.27191137836411516
         },
         {
          "X": "-0.5",
          "Y": 0.3086844935465092
         },
         {
          "X": "-0.4",
          "Y": 0.34184777129292077
         },
         {
          "X": "-0.30000000000000004",
          "Y": 0.38214344505279874
         },
         {
          "X": "-0.2",
          "Y": 0.4177643349031366
         },
         {
          "X": "-0.1",
          "Y": 0.4601834426618343
         },
         {
          "X": "0.0",
          "Y": 0.5030679615757497
         },
         {
          "X": "0.1",
          "Y": 0.5398165573381224
         },
         {
          "X": "0.2",
          "Y": 0.5822356650968201
         },
         {
          "X": "0.30000000000000004",
          "Y": 0.617856554947158
         },
         {
          "X": "0.4",
          "Y": 0.658152228707036
         },
         {
          "X": "0.5",
          "Y": 0.6913155064534476
         },
         {
          "X": "0.6000000000000001",
          "Y": 0.7280886216358415
         },
         {
          "X": "0.7000000000000001",
          "Y": 0.757756179099123
         },
         {
          "X": "0.8",
          "Y": 0.7900108761559529
         },
         {
          "X": "0.9",
          "Y": 0.8155269174022488
         },
         {
          "X": "1.0",
          "Y": 0.8427342412871484
         },
         {
          "X": "1.1",
          "Y": 0.8638438539378228
         },
         {
          "X": "1.2000000000000002",
          "Y": 0.8859242917131545
         },
         {
          "X": "1.3",
          "Y": 0.9027291302780333
         },
         {
          "X": "1.4000000000000001",
          "Y": 0.9199733954212028
         },
         {
          "X": "1.5",
          "Y": 0.9328463625519657
         },
         {
          "X": "1.6",
          "Y": 0.9458032290772054
         },
         {
          "X": "1.7000000000000002",
          "Y": 0.9552874085551921
         },
         {
          "X": "1.8",
          "Y": 0.964646406633672
         },
         {
          "X": "1.9000000000000001",
          "Y": 0.9713592704542252
         },
         {
          "X": "2.0",
          "Y": 0.9770027788457283
         },
         {
          "X": "2.1",
          "Y": 0.9824044467146755
         },
         {
          "X": "2.2",
          "Y": 0.9861579939868463
         },
         {
          "X": "2.3000000000000003",
          "Y": 0.9892201295845311
         },
         {
          "X": "2.4000000000000004",
          "Y": 0.9916928441226894
         },
         {
          "X": "2.5",
          "Y": 0.9936684984194337
         },
         {
          "X": "2.6",
          "Y": 0.9952296217552572
         },
         {
          "X": "2.7",
          "Y": 0.9964489932885592
         },
         {
          "X": "2.8000000000000003",
          "Y": 0.9973899552965271
         },
         {
          "X": "2.9000000000000004",
          "Y": 0.9981069092837556
         },
         {
          "X": "3.0",
          "Y": 0.9986459492226994
         },
         {
          "X": "3.1",
          "Y": 0.9990455899561685
         },
         {
          "X": "3.2",
          "Y": 0.9992952094129119
         },
         {
          "X": "3.3000000000000003",
          "Y": 0.9995173311736862
         },
         {
          "X": "3.4000000000000004",
          "Y": 0.9996524103030721
         },
         {
          "X": "3.5",
          "Y": 0.9997693460740017
         }
        ]
       },
       "encoding": {
        "x": {
         "field": "X",
         "sort": [
          "-3.4000000000000004",
          "-3.3000000000000003",
          "-3.2",
          "-3.1",
          "-3.0",
          "-2.9000000000000004",
          "-2.8000000000000003",
          "-2.7",
          "-2.6",
          "-2.5",
          "-2.4000000000000004",
          "-2.3000000000000003",
          "-2.2",
          "-2.1",
          "-2.0",
          "-1.9000000000000001",
          "-1.8",
          "-1.7000000000000002",
          "-1.6",
          "-1.5",
          "-1.4000000000000001",
          "-1.3",
          "-1.2000000000000002",
          "-1.1",
          "-1.0",
          "-0.9",
          "-0.8",
          "-0.7000000000000001",
          "-0.6000000000000001",
          "-0.5",
          "-0.4",
          "-0.30000000000000004",
          "-0.2",
          "-0.1",
          "0.0",
          "0.1",
          "0.2",
          "0.30000000000000004",
          "0.4",
          "0.5",
          "0.6000000000000001",
          "0.7000000000000001",
          "0.8",
          "0.9",
          "1.0",
          "1.1",
          "1.2000000000000002",
          "1.3",
          "1.4000000000000001",
          "1.5",
          "1.6",
          "1.7000000000000002",
          "1.8",
          "1.9000000000000001",
          "2.0",
          "2.1",
          "2.2",
          "2.3000000000000003",
          "2.4000000000000004",
          "2.5",
          "2.6",
          "2.7",
          "2.8000000000000003",
          "2.9000000000000004",
          "3.0",
          "3.1",
          "3.2",
          "3.3000000000000003",
          "3.4000000000000004",
          "3.5"
         ],
         "type": "nominal"
        },
        "y": {
         "field": "Y",
         "type": "quantitative"
        }
       },
       "height": 200,
       "mark": "bar",
       "width": 200
      }
     },
     "metadata": {},
     "output_type": "display_data"
    }
   ],
   "source": [
    "plotVega $ plotCdf 70 0.1 (normal 0 1)"
   ]
  },
  {
   "cell_type": "code",
   "execution_count": 10,
   "metadata": {},
   "outputs": [
    {
     "data": {
      "application/vnd.vegalite.v4+json": {
       "$schema": "https://vega.github.io/schema/vega-lite/v4.json",
       "data": {
        "values": [
         {
          "X": "-34.9",
          "Y": 0.0004158915823618061
         },
         {
          "X": "-34.800000000000004",
          "Y": 0.0004158915823618061
         },
         {
          "X": "-34.7",
          "Y": 0.00043717822312581143
         },
         {
          "X": "-34.6",
          "Y": 0.00043717822312581143
         },
         {
          "X": "-34.5",
          "Y": 0.0004560098805357021
         },
         {
          "X": "-34.4",
          "Y": 0.0004560098805357021
         },
         {
          "X": "-34.300000000000004",
          "Y": 0.00047266882774578325
         },
         {
          "X": "-34.2",
          "Y": 0.00047266882774578325
         },
         {
          "X": "-34.1",
          "Y": 0.0004874969217290645
         },
         {
          "X": "-34.0",
          "Y": 0.0005008558251695843
         },
         {
          "X": "-33.9",
          "Y": 0.0005008558251695843
         },
         {
          "X": "-33.800000000000004",
          "Y": 0.000513103595293049
         },
         {
          "X": "-33.7",
          "Y": 0.000513103595293049
         },
         {
          "X": "-33.6",
          "Y": 0.0005245853055656536
         },
         {
          "X": "-33.5",
          "Y": 0.0005245853055656536
         },
         {
          "X": "-33.4",
          "Y": 0.0005356344455799826
         },
         {
          "X": "-33.300000000000004",
          "Y": 0.0005356344455799826
         },
         {
          "X": "-33.2",
          "Y": 0.0005465822747166835
         },
         {
          "X": "-33.1",
          "Y": 0.0005465822747166835
         },
         {
          "X": "-33.0",
          "Y": 0.0005577733316667302
         },
         {
          "X": "-32.9",
          "Y": 0.0005695864282989724
         },
         {
          "X": "-32.800000000000004",
          "Y": 0.0005695864282989724
         },
         {
          "X": "-32.7",
          "Y": 0.0005824614179444031
         },
         {
          "X": "-32.6",
          "Y": 0.0005824614179444031
         },
         {
          "X": "-32.5",
          "Y": 0.0005969326784088663
         },
         {
          "X": "-32.4",
          "Y": 0.0005969326784088663
         },
         {
          "X": "-32.300000000000004",
          "Y": 0.0006136704399808484
         },
         {
          "X": "-32.2",
          "Y": 0.0006136704399808484
         },
         {
          "X": "-32.1",
          "Y": 0.0006335305724867173
         },
         {
          "X": "-32.0",
          "Y": 0.0006576118317828514
         },
         {
          "X": "-31.900000000000002",
          "Y": 0.0006576118317828514
         },
         {
          "X": "-31.8",
          "Y": 0.0006873163532101448
         },
         {
          "X": "-31.700000000000003",
          "Y": 0.0006873163532101448
         },
         {
          "X": "-31.6",
          "Y": 0.0007244039412056186
         },
         {
          "X": "-31.5",
          "Y": 0.0007244039412056186
         },
         {
          "X": "-31.400000000000002",
          "Y": 0.0007710235031511594
         },
         {
          "X": "-31.3",
          "Y": 0.0008296970093456318
         },
         {
          "X": "-31.200000000000003",
          "Y": 0.0008296970093456318
         },
         {
          "X": "-31.1",
          "Y": 0.000903225631604654
         },
         {
          "X": "-31.0",
          "Y": 0.000903225631604654
         },
         {
          "X": "-30.900000000000002",
          "Y": 0.0009944891623128768
         },
         {
          "X": "-30.8",
          "Y": 0.0009944891623128768
         },
         {
          "X": "-30.700000000000003",
          "Y": 0.0011061241048173015
         },
         {
          "X": "-30.6",
          "Y": 0.001240096207622041
         },
         {
          "X": "-30.5",
          "Y": 0.001240096207622041
         },
         {
          "X": "-30.400000000000002",
          "Y": 0.0013972261948482995
         },
         {
          "X": "-30.3",
          "Y": 0.0013972261948482995
         },
         {
          "X": "-30.200000000000003",
          "Y": 0.0015767698655785663
         },
         {
          "X": "-30.1",
          "Y": 0.0015767698655785663
         },
         {
          "X": "-30.0",
          "Y": 0.0017761749887076597
         },
         {
          "X": "-29.900000000000002",
          "Y": 0.0019911186165228064
         },
         {
          "X": "-29.8",
          "Y": 0.0019911186165228064
         },
         {
          "X": "-29.700000000000003",
          "Y": 0.0022158651080168533
         },
         {
          "X": "-29.6",
          "Y": 0.0022158651080168533
         },
         {
          "X": "-29.5",
          "Y": 0.00244389501543308
         },
         {
          "X": "-29.400000000000002",
          "Y": 0.00244389501543308
         },
         {
          "X": "-29.3",
          "Y": 0.0026686729783289916
         },
         {
          "X": "-29.200000000000003",
          "Y": 0.002884383692105539
         },
         {
          "X": "-29.1",
          "Y": 0.002884383692105539
         },
         {
          "X": "-29.0",
          "Y": 0.003086484334651953
         },
         {
          "X": "-28.900000000000002",
          "Y": 0.003086484334651953
         },
         {
          "X": "-28.8",
          "Y": 0.0032719877109627284
         },
         {
          "X": "-28.700000000000003",
          "Y": 0.0032719877109627284
         },
         {
          "X": "-28.6",
          "Y": 0.003439472038217374
         },
         {
          "X": "-28.5",
          "Y": 0.003588878863034601
         },
         {
          "X": "-28.400000000000002",
          "Y": 0.003588878863034601
         },
         {
          "X": "-28.3",
          "Y": 0.0037211920708483262
         },
         {
          "X": "-28.200000000000003",
          "Y": 0.0037211920708483262
         },
         {
          "X": "-28.1",
          "Y": 0.003838088359242181
         },
         {
          "X": "-28.0",
          "Y": 0.003941625208119753
         },
         {
          "X": "-27.900000000000002",
          "Y": 0.003941625208119753
         },
         {
          "X": "-27.8",
          "Y": 0.004034001495548263
         },
         {
          "X": "-27.700000000000003",
          "Y": 0.004034001495548263
         },
         {
          "X": "-27.6",
          "Y": 0.004117399663367825
         },
         {
          "X": "-27.5",
          "Y": 0.004193901629380851
         },
         {
          "X": "-27.400000000000002",
          "Y": 0.004193901629380851
         },
         {
          "X": "-27.3",
          "Y": 0.004265463342589318
         },
         {
          "X": "-27.200000000000003",
          "Y": 0.004265463342589318
         },
         {
          "X": "-27.1",
          "Y": 0.004333932337878648
         },
         {
          "X": "-27.0",
          "Y": 0.004401095804713666
         },
         {
          "X": "-26.900000000000002",
          "Y": 0.004401095804713666
         },
         {
          "X": "-26.8",
          "Y": 0.004468751164478896
         },
         {
          "X": "-26.700000000000003",
          "Y": 0.004468751164478896
         },
         {
          "X": "-26.6",
          "Y": 0.004538795513111002
         },
         {
          "X": "-26.5",
          "Y": 0.004613333813235766
         },
         {
          "X": "-26.400000000000002",
          "Y": 0.004613333813235766
         },
         {
          "X": "-26.3",
          "Y": 0.004694808063191261
         },
         {
          "X": "-26.200000000000003",
          "Y": 0.004694808063191261
         },
         {
          "X": "-26.1",
          "Y": 0.004786150514034495
         },
         {
          "X": "-26.0",
          "Y": 0.00489096282554468
         },
         {
          "X": "-25.900000000000002",
          "Y": 0.00489096282554468
         },
         {
          "X": "-25.8",
          "Y": 0.005013718985486972
         },
         {
          "X": "-25.700000000000003",
          "Y": 0.005013718985486972
         },
         {
          "X": "-25.6",
          "Y": 0.0051599817012686205
         },
         {
          "X": "-25.5",
          "Y": 0.005336608667834985
         },
         {
          "X": "-25.400000000000002",
          "Y": 0.005336608667834985
         },
         {
          "X": "-25.3",
          "Y": 0.005551906242630119
         },
         {
          "X": "-25.200000000000003",
          "Y": 0.005551906242630119
         },
         {
          "X": "-25.1",
          "Y": 0.005815665253885033
         },
         {
          "X": "-25.0",
          "Y": 0.006138992142498857
         },
         {
          "X": "-24.900000000000002",
          "Y": 0.006138992142498857
         },
         {
          "X": "-24.8",
          "Y": 0.006533838310895552
         },
         {
          "X": "-24.700000000000003",
          "Y": 0.006533838310895552
         },
         {
          "X": "-24.6",
          "Y": 0.007012145383845848
         },
         {
          "X": "-24.5",
          "Y": 0.007584577977909174
         },
         {
          "X": "-24.400000000000002",
          "Y": 0.007584577977909174
         },
         {
          "X": "-24.3",
          "Y": 0.008258914253080497
         },
         {
          "X": "-24.200000000000003",
          "Y": 0.008258914253080497
         },
         {
          "X": "-24.1",
          "Y": 0.009038295588466048
         },
         {
          "X": "-24.0",
          "Y": 0.00991966378910605
         },
         {
          "X": "-23.900000000000002",
          "Y": 0.00991966378910605
         },
         {
          "X": "-23.8",
          "Y": 0.010892782638351042
         },
         {
          "X": "-23.700000000000003",
          "Y": 0.011940198452661834
         },
         {
          "X": "-23.6",
          "Y": 0.011940198452661834
         },
         {
          "X": "-23.5",
          "Y": 0.013038322313548385
         },
         {
          "X": "-23.400000000000002",
          "Y": 0.013038322313548385
         },
         {
          "X": "-23.3",
          "Y": 0.014159550164371959
         },
         {
          "X": "-23.200000000000003",
          "Y": 0.015275061802523388
         },
         {
          "X": "-23.1",
          "Y": 0.015275061802523388
         },
         {
          "X": "-23.0",
          "Y": 0.016357757666153737
         },
         {
          "X": "-22.900000000000002",
          "Y": 0.016357757666153737
         },
         {
          "X": "-22.8",
          "Y": 0.017384772024452384
         },
         {
          "X": "-22.700000000000003",
          "Y": 0.018339144703392228
         },
         {
          "X": "-22.6",
          "Y": 0.018339144703392228
         },
         {
          "X": "-22.5",
          "Y": 0.01921047759515613
         },
         {
          "X": "-22.400000000000002",
          "Y": 0.019994653237671856
         },
         {
          "X": "-22.3",
          "Y": 0.019994653237671856
         },
         {
          "X": "-22.200000000000003",
          "Y": 0.020692871438365498
         },
         {
          "X": "-22.1",
          "Y": 0.020692871438365498
         },
         {
          "X": "-22.0",
          "Y": 0.0213103307054638
         },
         {
          "X": "-21.900000000000002",
          "Y": 0.021854854721931105
         },
         {
          "X": "-21.8",
          "Y": 0.021854854721931105
         },
         {
          "X": "-21.700000000000003",
          "Y": 0.022335678824897884
         },
         {
          "X": "-21.6",
          "Y": 0.022762510499983842
         },
         {
          "X": "-21.5",
          "Y": 0.022762510499983842
         },
         {
          "X": "-21.400000000000002",
          "Y": 0.023144892402123467
         },
         {
          "X": "-21.3",
          "Y": 0.023144892402123467
         },
         {
          "X": "-21.200000000000003",
          "Y": 0.023491840375232158
         },
         {
          "X": "-21.1",
          "Y": 0.023811702440880038
         },
         {
          "X": "-21.0",
          "Y": 0.023811702440880038
         },
         {
          "X": "-20.900000000000002",
          "Y": 0.024112180368827056
         },
         {
          "X": "-20.8",
          "Y": 0.024400464077041353
         },
         {
          "X": "-20.700000000000003",
          "Y": 0.024400464077041353
         },
         {
          "X": "-20.6",
          "Y": 0.024683443148488374
         },
         {
          "X": "-20.5",
          "Y": 0.024967974253180668
         },
         {
          "X": "-20.400000000000002",
          "Y": 0.024967974253180668
         },
         {
          "X": "-20.3",
          "Y": 0.025261195620469558
         },
         {
          "X": "-20.200000000000003",
          "Y": 0.025261195620469558
         },
         {
          "X": "-20.1",
          "Y": 0.025570888792862602
         },
         {
          "X": "-20.0",
          "Y": 0.025905893174997308
         },
         {
          "X": "-19.900000000000002",
          "Y": 0.025905893174997308
         },
         {
          "X": "-19.8",
          "Y": 0.02627657972485354
         },
         {
          "X": "-19.700000000000003",
          "Y": 0.0266953853049288
         },
         {
          "X": "-19.6",
          "Y": 0.0266953853049288
         },
         {
          "X": "-19.5",
          "Y": 0.02717739676072104
         },
         {
          "X": "-19.400000000000002",
          "Y": 0.027740951237310733
         },
         {
          "X": "-19.3",
          "Y": 0.027740951237310733
         },
         {
          "X": "-19.200000000000003",
          "Y": 0.028408184394811076
         },
         {
          "X": "-19.1",
          "Y": 0.028408184394811076
         },
         {
          "X": "-19.0",
          "Y": 0.02920541084075741
         },
         {
          "X": "-18.900000000000002",
          "Y": 0.030163165703081092
         },
         {
          "X": "-18.8",
          "Y": 0.030163165703081092
         },
         {
          "X": "-18.7",
          "Y": 0.03131568507383269
         },
         {
          "X": "-18.6",
          "Y": 0.03269957838183817
         },
         {
          "X": "-18.5",
          "Y": 0.03269957838183817
         },
         {
          "X": "-18.400000000000002",
          "Y": 0.0343514787181826
         },
         {
          "X": "-18.3",
          "Y": 0.036304579750545074
         },
         {
          "X": "-18.2",
          "Y": 0.036304579750545074
         },
         {
          "X": "-18.1",
          "Y": 0.038584196985280095
         },
         {
          "X": "-18.0",
          "Y": 0.038584196985280095
         },
         {
          "X": "-17.900000000000002",
          "Y": 0.04120280755664084
         },
         {
          "X": "-17.8",
          "Y": 0.04415535545659674
         },
         {
          "X": "-17.7",
          "Y": 0.04415535545659674
         },
         {
          "X": "-17.6",
          "Y": 0.04741583978858434
         },
         {
          "X": "-17.5",
          "Y": 0.05093620177264407
         },
         {
          "X": "-17.400000000000002",
          "Y": 0.05093620177264407
         },
         {
          "X": "-17.3",
          "Y": 0.0546482104053401
         },
         {
          "X": "-17.2",
          "Y": 0.05846844428870958
         },
         {
          "X": "-17.1",
          "Y": 0.05846844428870958
         },
         {
          "X": "-17.0",
          "Y": 0.06230573407153832
         },
         {
          "X": "-16.900000000000002",
          "Y": 0.0660698046551267
         },
         {
          "X": "-16.8",
          "Y": 0.0660698046551267
         },
         {
          "X": "-16.7",
          "Y": 0.06967956065175779
         },
         {
          "X": "-16.6",
          "Y": 0.06967956065175779
         },
         {
          "X": "-16.5",
          "Y": 0.07306959550870798
         },
         {
          "X": "-16.400000000000002",
          "Y": 0.07619401133921427
         },
         {
          "X": "-16.3",
          "Y": 0.07619401133921427
         },
         {
          "X": "-16.2",
          "Y": 0.0790273191462772
         },
         {
          "X": "-16.1",
          "Y": 0.08156281709440508
         },
         {
          "X": "-16.0",
          "Y": 0.08156281709440508
         },
         {
          "X": "-15.9",
          "Y": 0.08380924744320116
         },
         {
          "X": "-15.8",
          "Y": 0.08578665276668918
         },
         {
          "X": "-15.700000000000001",
          "Y": 0.08578665276668918
         },
         {
          "X": "-15.600000000000001",
          "Y": 0.0875222358035164
         },
         {
          "X": "-15.5",
          "Y": 0.08904677831244862
         },
         {
          "X": "-15.4",
          "Y": 0.08904677831244862
         },
         {
          "X": "-15.3",
          "Y": 0.09039189920466567
         },
         {
          "X": "-15.200000000000001",
          "Y": 0.09158820514142563
         },
         {
          "X": "-15.100000000000001",
          "Y": 0.09158820514142563
         },
         {
          "X": "-15.0",
          "Y": 0.09266423962344777
         },
         {
          "X": "-14.9",
          "Y": 0.09266423962344777
         },
         {
          "X": "-14.8",
          "Y": 0.09364606765914768
         },
         {
          "X": "-14.700000000000001",
          "Y": 0.094557322692113
         },
         {
          "X": "-14.600000000000001",
          "Y": 0.094557322692113
         },
         {
          "X": "-14.5",
          "Y": 0.09541956665607557
         },
         {
          "X": "-14.4",
          "Y": 0.0962528527953879
         },
         {
          "X": "-14.3",
          "Y": 0.0962528527953879
         },
         {
          "X": "-14.200000000000001",
          "Y": 0.09707642097972302
         },
         {
          "X": "-14.100000000000001",
          "Y": 0.09790948956441378
         },
         {
          "X": "-14.0",
          "Y": 0.09790948956441378
         },
         {
          "X": "-13.9",
          "Y": 0.09877213346959623
         },
         {
          "X": "-13.8",
          "Y": 0.09968625412894716
         },
         {
          "X": "-13.700000000000001",
          "Y": 0.09968625412894716
         },
         {
          "X": "-13.600000000000001",
          "Y": 0.10067665260394237
         },
         {
          "X": "-13.5",
          "Y": 0.10177221088748623
         },
         {
          "X": "-13.4",
          "Y": 0.10177221088748623
         },
         {
          "X": "-13.3",
          "Y": 0.10300716520732797
         },
         {
          "X": "-13.200000000000001",
          "Y": 0.1044224146998971
         },
         {
          "X": "-13.100000000000001",
          "Y": 0.1044224146998971
         },
         {
          "X": "-13.0",
          "Y": 0.10606674481764536
         },
         {
          "X": "-12.9",
          "Y": 0.10606674481764536
         },
         {
          "X": "-12.8",
          "Y": 0.10799775553694185
         },
         {
          "X": "-12.700000000000001",
          "Y": 0.11028217521772166
         },
         {
          "X": "-12.600000000000001",
          "Y": 0.11028217521772166
         },
         {
          "X": "-12.5",
          "Y": 0.11299513017359988
         },
         {
          "X": "-12.4",
          "Y": 0.11621786438642981
         },
         {
          "X": "-12.3",
          "Y": 0.11621786438642981
         },
         {
          "X": "-12.200000000000001",
          "Y": 0.12003341944395285
         },
         {
          "X": "-12.100000000000001",
          "Y": 0.1245199579089196
         },
         {
          "X": "-12.0",
          "Y": 0.1245199579089196
         },
         {
          "X": "-11.9",
          "Y": 0.12974179599040023
         },
         {
          "X": "-11.8",
          "Y": 0.1357388033062614
         },
         {
          "X": "-11.700000000000001",
          "Y": 0.1357388033062614
         },
         {
          "X": "-11.600000000000001",
          "Y": 0.1425155368138321
         },
         {
          "X": "-11.5",
          "Y": 0.1500321039218673
         },
         {
          "X": "-11.4",
          "Y": 0.1500321039218673
         },
         {
          "X": "-11.3",
          "Y": 0.15819902753026252
         },
         {
          "X": "-11.200000000000001",
          "Y": 0.16687807273458458
         },
         {
          "X": "-11.100000000000001",
          "Y": 0.16687807273458458
         },
         {
          "X": "-11.0",
          "Y": 0.17589001029577128
         },
         {
          "X": "-10.9",
          "Y": 0.18502881104280564
         },
         {
          "X": "-10.8",
          "Y": 0.18502881104280564
         },
         {
          "X": "-10.700000000000001",
          "Y": 0.19408020811590498
         },
         {
          "X": "-10.600000000000001",
          "Y": 0.19408020811590498
         },
         {
          "X": "-10.5",
          "Y": 0.20284144972433654
         },
         {
          "X": "-10.4",
          "Y": 0.2111387901414366
         },
         {
          "X": "-10.3",
          "Y": 0.2111387901414366
         },
         {
          "X": "-10.200000000000001",
          "Y": 0.21883992117726925
         },
         {
          "X": "-10.100000000000001",
          "Y": 0.22585987561542242
         },
         {
          "X": "-10.0",
          "Y": 0.22585987561542242
         },
         {
          "X": "-9.9",
          "Y": 0.23216046457069328
         },
         {
          "X": "-9.8",
          "Y": 0.2377445650301384
         },
         {
          "X": "-9.700000000000001",
          "Y": 0.2377445650301384
         },
         {
          "X": "-9.600000000000001",
          "Y": 0.24264725543091367
         },
         {
          "X": "-9.5",
          "Y": 0.24692586104451897
         },
         {
          "X": "-9.4",
          "Y": 0.24692586104451897
         },
         {
          "X": "-9.3",
          "Y": 0.25065057403451363
         },
         {
          "X": "-9.200000000000001",
          "Y": 0.2538966993635643
         },
         {
          "X": "-9.1",
          "Y": 0.2538966993635643
         },
         {
          "X": "-9.0",
          "Y": 0.25673896879729097
         },
         {
          "X": "-8.9",
          "Y": 0.25924789876076004
         },
         {
          "X": "-8.8",
          "Y": 0.25924789876076004
         },
         {
          "X": "-8.700000000000001",
          "Y": 0.2614878896326188
         },
         {
          "X": "-8.6",
          "Y": 0.26351665421256565
         },
         {
          "X": "-8.5",
          "Y": 0.26351665421256565
         },
         {
          "X": "-8.4",
          "Y": 0.26538557080148845
         },
         {
          "X": "-8.3",
          "Y": 0.26538557080148845
         },
         {
          "X": "-8.200000000000001",
          "Y": 0.2671406278482471
         },
         {
          "X": "-8.1",
          "Y": 0.26882372062338
         },
         {
          "X": "-8.0",
          "Y": 0.26882372062338
         },
         {
          "X": "-7.9",
          "Y": 0.2704741498671355
         },
         {
          "X": "-7.800000000000001",
          "Y": 0.2721302451024015
         },
         {
          "X": "-7.7",
          "Y": 0.2721302451024015
         },
         {
          "X": "-7.6000000000000005",
          "Y": 0.2738310870507019
         },
         {
          "X": "-7.5",
          "Y": 0.27561833393806406
         },
         {
          "X": "-7.4",
          "Y": 0.27561833393806406
         },
         {
          "X": "-7.300000000000001",
          "Y": 0.27753816543678334
         },
         {
          "X": "-7.2",
          "Y": 0.27964334390099077
         },
         {
          "X": "-7.1000000000000005",
          "Y": 0.27964334390099077
         },
         {
          "X": "-7.0",
          "Y": 0.28199535130829545
         },
         {
          "X": "-6.9",
          "Y": 0.28466648597963523
         },
         {
          "X": "-6.800000000000001",
          "Y": 0.28466648597963523
         },
         {
          "X": "-6.7",
          "Y": 0.28774169042432163
         },
         {
          "X": "-6.6000000000000005",
          "Y": 0.29131973084618834
         },
         {
          "X": "-6.5",
          "Y": 0.29131973084618834
         },
         {
          "X": "-6.4",
          "Y": 0.29551317352991724
         },
         {
          "X": "-6.300000000000001",
          "Y": 0.3004464397474901
         },
         {
          "X": "-6.2",
          "Y": 0.3004464397474901
         },
         {
          "X": "-6.1000000000000005",
          "Y": 0.30625113529193737
         },
         {
          "X": "-6.0",
          "Y": 0.30625113529193737
         },
         {
          "X": "-5.9",
          "Y": 0.31305793799677606
         },
         {
          "X": "-5.800000000000001",
          "Y": 0.32098468994791685
         },
         {
          "X": "-5.7",
          "Y": 0.32098468994791685
         },
         {
          "X": "-5.6000000000000005",
          "Y": 0.3301210480443748
         },
         {
          "X": "-5.5",
          "Y": 0.34051106512506124
         },
         {
          "X": "-5.4",
          "Y": 0.34051106512506124
         },
         {
          "X": "-5.300000000000001",
          "Y": 0.3521362145085112
         },
         {
          "X": "-5.2",
          "Y": 0.36490227721644986
         },
         {
          "X": "-5.1000000000000005",
          "Y": 0.36490227721644986
         },
         {
          "X": "-5.0",
          "Y": 0.37863374205503997
         },
         {
          "X": "-4.9",
          "Y": 0.39307857550211855
         },
         {
          "X": "-4.800000000000001",
          "Y": 0.39307857550211855
         },
         {
          "X": "-4.7",
          "Y": 0.4079243575873172
         },
         {
          "X": "-4.6000000000000005",
          "Y": 0.4228242421351274
         },
         {
          "X": "-4.5",
          "Y": 0.4228242421351274
         },
         {
          "X": "-4.4",
          "Y": 0.4374287423131477
         },
         {
          "X": "-4.3",
          "Y": 0.4514178100734915
         },
         {
          "X": "-4.2",
          "Y": 0.4514178100734915
         },
         {
          "X": "-4.1000000000000005",
          "Y": 0.4645276300175468
         },
         {
          "X": "-4.0",
          "Y": 0.4645276300175468
         },
         {
          "X": "-3.9000000000000004",
          "Y": 0.47656799403675354
         },
         {
          "X": "-3.8000000000000003",
          "Y": 0.48742852122763114
         },
         {
          "X": "-3.7",
          "Y": 0.48742852122763114
         },
         {
          "X": "-3.6",
          "Y": 0.49707450592625135
         },
         {
          "X": "-3.5",
          "Y": 0.505535061179059
         },
         {
          "X": "-3.4000000000000004",
          "Y": 0.505535061179059
         },
         {
          "X": "-3.3000000000000003",
          "Y": 0.5128870769932333
         },
         {
          "X": "-3.2",
          "Y": 0.5192383581927749
         },
         {
          "X": "-3.1",
          "Y": 0.5192383581927749
         },
         {
          "X": "-3.0",
          "Y": 0.5247124735766271
         },
         {
          "X": "-2.9000000000000004",
          "Y": 0.5294367611801739
         },
         {
          "X": "-2.8000000000000003",
          "Y": 0.5294367611801739
         },
         {
          "X": "-2.7",
          "Y": 0.5335339425643153
         },
         {
          "X": "-2.6",
          "Y": 0.5371170935633962
         },
         {
          "X": "-2.5",
          "Y": 0.5371170935633962
         },
         {
          "X": "-2.4000000000000004",
          "Y": 0.5402873397370873
         },
         {
          "X": "-2.3000000000000003",
          "Y": 0.5431335340591812
         },
         {
          "X": "-2.2",
          "Y": 0.5431335340591812
         },
         {
          "X": "-2.1",
          "Y": 0.5457332368245473
         },
         {
          "X": "-2.0",
          "Y": 0.5457332368245473
         },
         {
          "X": "-1.9000000000000001",
          "Y": 0.5481544634041872
         },
         {
          "X": "-1.8",
          "Y": 0.5504578296349483
         },
         {
          "X": "-1.7000000000000002",
          "Y": 0.5504578296349483
         },
         {
          "X": "-1.6",
          "Y": 0.5526988703981535
         },
         {
          "X": "-1.5",
          "Y": 0.5549304188087969
         },
         {
          "X": "-1.4000000000000001",
          "Y": 0.5549304188087969
         },
         {
          "X": "-1.3",
          "Y": 0.5572050085687069
         },
         {
          "X": "-1.2000000000000002",
          "Y": 0.559577302830671
         },
         {
          "X": "-1.1",
          "Y": 0.559577302830671
         },
         {
          "X": "-1.0",
          "Y": 0.5621065619868131
         },
         {
          "X": "-0.9",
          "Y": 0.5648591402947427
         },
         {
          "X": "-0.8",
          "Y": 0.5648591402947427
         },
         {
          "X": "-0.7000000000000001",
          "Y": 0.5679109442664989
         },
         {
          "X": "-0.6000000000000001",
          "Y": 0.5713496896052342
         },
         {
          "X": "-0.5",
          "Y": 0.5713496896052342
         },
         {
          "X": "-0.4",
          "Y": 0.5752766554567111
         },
         {
          "X": "-0.30000000000000004",
          "Y": 0.579807460547496
         },
         {
          "X": "-0.2",
          "Y": 0.579807460547496
         },
         {
          "X": "-0.1",
          "Y": 0.5850711986913217
         },
         {
          "X": "0.0",
          "Y": 0.5912071218428643
         },
         {
          "X": "0.1",
          "Y": 0.5912071218428643
         },
         {
          "X": "0.2",
          "Y": 0.5983580307682373
         },
         {
          "X": "0.30000000000000004",
          "Y": 0.5983580307682373
         },
         {
          "X": "0.4",
          "Y": 0.6066597348065713
         },
         {
          "X": "0.5",
          "Y": 0.6162264759025327
         },
         {
          "X": "0.6000000000000001",
          "Y": 0.6162264759025327
         },
         {
          "X": "0.7000000000000001",
          "Y": 0.6271331186402231
         },
         {
          "X": "0.8",
          "Y": 0.6393960950173803
         },
         {
          "X": "0.9",
          "Y": 0.6393960950173803
         },
         {
          "X": "1.0",
          "Y": 0.652956284887843
         },
         {
          "X": "1.1",
          "Y": 0.6676677728821772
         },
         {
          "X": "1.2000000000000002",
          "Y": 0.6676677728821772
         },
         {
          "X": "1.3",
          "Y": 0.6832962786858494
         },
         {
          "X": "1.4000000000000001",
          "Y": 0.6995297235103992
         },
         {
          "X": "1.5",
          "Y": 0.6995297235103992
         },
         {
          "X": "1.6",
          "Y": 0.7160009882233525
         },
         {
          "X": "1.7000000000000002",
          "Y": 0.7323200359126554
         },
         {
          "X": "1.8",
          "Y": 0.7323200359126554
         },
         {
          "X": "1.9000000000000001",
          "Y": 0.7481101324196116
         },
         {
          "X": "2.0",
          "Y": 0.7630417740285991
         },
         {
          "X": "2.1",
          "Y": 0.7630417740285991
         },
         {
          "X": "2.2",
          "Y": 0.776858546470788
         },
         {
          "X": "2.3000000000000003",
          "Y": 0.776858546470788
         },
         {
          "X": "2.4000000000000004",
          "Y": 0.789391264654693
         },
         {
          "X": "2.5",
          "Y": 0.8005596060942897
         },
         {
          "X": "2.6",
          "Y": 0.8005596060942897
         },
         {
          "X": "2.7",
          "Y": 0.8103630994416939
         },
         {
          "X": "2.8000000000000003",
          "Y": 0.8188650320732007
         },
         {
          "X": "2.9000000000000004",
          "Y": 0.8188650320732007
         },
         {
          "X": "3.0",
          "Y": 0.8261733279814505
         },
         {
          "X": "3.1",
          "Y": 0.8324219027620936
         },
         {
          "X": "3.2",
          "Y": 0.8324219027620936
         },
         {
          "X": "3.3000000000000003",
          "Y": 0.8377548717859585
         },
         {
          "X": "3.4000000000000004",
          "Y": 0.8423147435307015
         },
         {
          "X": "3.5",
          "Y": 0.8423147435307015
         },
         {
          "X": "3.6",
          "Y": 0.846234708529221
         },
         {
          "X": "3.7",
          "Y": 0.8496344820648185
         },
         {
          "X": "3.8000000000000003",
          "Y": 0.8496344820648185
         },
         {
          "X": "3.9000000000000004",
          "Y": 0.8526188669718069
         },
         {
          "X": "4.0",
          "Y": 0.8552781782303307
         },
         {
          "X": "4.1000000000000005",
          "Y": 0.8552781782303307
         },
         {
          "X": "4.2",
          "Y": 0.8576897997913288
         },
         {
          "X": "4.3",
          "Y": 0.8576897997913288
         },
         {
          "X": "4.4",
          "Y": 0.8599203317250717
         },
         {
          "X": "4.5",
          "Y": 0.862027971027615
         },
         {
          "X": "4.6000000000000005",
          "Y": 0.862027971027615
         },
         {
          "X": "4.7",
          "Y": 0.8640649215703731
         },
         {
          "X": "4.800000000000001",
          "Y": 0.8660797382778318
         },
         {
          "X": "4.9",
          "Y": 0.8660797382778318
         },
         {
          "X": "5.0",
          "Y": 0.8681195795141909
         },
         {
          "X": "5.1000000000000005",
          "Y": 0.8702323755402811
         },
         {
          "X": "5.2",
          "Y": 0.8702323755402811
         },
         {
          "X": "5.300000000000001",
          "Y": 0.8724689248096498
         },
         {
          "X": "5.4",
          "Y": 0.874884906217706
         },
         {
          "X": "5.5",
          "Y": 0.874884906217706
         },
         {
          "X": "5.6000000000000005",
          "Y": 0.8775427439286544
         },
         {
          "X": "5.7",
          "Y": 0.8805131807698066
         },
         {
          "X": "5.800000000000001",
          "Y": 0.8805131807698066
         },
         {
          "X": "5.9",
          "Y": 0.8838763074844711
         },
         {
          "X": "6.0",
          "Y": 0.8877216671969299
         },
         {
          "X": "6.1000000000000005",
          "Y": 0.8877216671969299
         },
         {
          "X": "6.2",
          "Y": 0.8921469305663413
         },
         {
          "X": "6.300000000000001",
          "Y": 0.8921469305663413
         },
         {
          "X": "6.4",
          "Y": 0.8972545611153632
         },
         {
          "X": "6.5",
          "Y": 0.9031459274452441
         },
         {
          "X": "6.6000000000000005",
          "Y": 0.9031459274452441
         },
         {
          "X": "6.7",
          "Y": 0.9099125458965212
         },
         {
          "X": "6.800000000000001",
          "Y": 0.9176246136416878
         },
         {
          "X": "6.9",
          "Y": 0.9176246136416878
         },
         {
          "X": "7.0",
          "Y": 0.9263177176727183
         },
         {
          "X": "7.1000000000000005",
          "Y": 0.935979471485267
         },
         {
          "X": "7.2",
          "Y": 0.935979471485267
         },
         {
          "X": "7.300000000000001",
          "Y": 0.9465386007889321
         },
         {
          "X": "7.4",
          "Y": 0.957859342822974
         },
         {
          "X": "7.5",
          "Y": 0.957859342822974
         },
         {
          "X": "7.6000000000000005",
          "Y": 0.9697436334743634
         },
         {
          "X": "7.7",
          "Y": 0.9819423097782709
         },
         {
          "X": "7.800000000000001",
          "Y": 0.9819423097782709
         },
         {
          "X": "7.9",
          "Y": 0.9941746476882586
         },
         {
          "X": "8.0",
          "Y": 1.0061535066242986
         },
         {
          "X": "8.1",
          "Y": 1.0061535066242986
         },
         {
          "X": "8.200000000000001",
          "Y": 1.0176118430458445
         },
         {
          "X": "8.3",
          "Y": 1.0283259391182848
         },
         {
          "X": "8.4",
          "Y": 1.0283259391182848
         },
         {
          "X": "8.5",
          "Y": 1.0381315372111095
         },
         {
          "X": "8.6",
          "Y": 1.0381315372111095
         },
         {
          "X": "8.700000000000001",
          "Y": 1.0469308725256292
         },
         {
          "X": "8.8",
          "Y": 1.054690721291934
         },
         {
          "X": "8.9",
          "Y": 1.054690721291934
         },
         {
          "X": "9.0",
          "Y": 1.0614333556108524
         },
         {
          "X": "9.1",
          "Y": 1.0672232730741797
         },
         {
          "X": "9.200000000000001",
          "Y": 1.0672232730741797
         },
         {
          "X": "9.3",
          "Y": 1.0721526589014458
         },
         {
          "X": "9.4",
          "Y": 1.076327951648573
         },
         {
          "X": "9.5",
          "Y": 1.076327951648573
         },
         {
          "X": "9.600000000000001",
          "Y": 1.0798589739983964
         },
         {
          "X": "9.700000000000001",
          "Y": 1.0828511884265741
         },
         {
          "X": "9.8",
          "Y": 1.0828511884265741
         },
         {
          "X": "9.9",
          "Y": 1.0854009527511441
         },
         {
          "X": "10.0",
          "Y": 1.0875932526019243
         },
         {
          "X": "10.100000000000001",
          "Y": 1.0875932526019243
         },
         {
          "X": "10.200000000000001",
          "Y": 1.0895012445177565
         },
         {
          "X": "10.3",
          "Y": 1.091186974581218
         },
         {
          "X": "10.4",
          "Y": 1.091186974581218
         },
         {
          "X": "10.5",
          "Y": 1.0927027590924578
         },
         {
          "X": "10.600000000000001",
          "Y": 1.0940928613492742
         },
         {
          "X": "10.700000000000001",
          "Y": 1.0940928613492742
         },
         {
          "X": "10.8",
          "Y": 1.0953952335301949
         },
         {
          "X": "10.9",
          "Y": 1.0953952335301949
         },
         {
          "X": "11.0",
          "Y": 1.0966431979668256
         },
         {
          "X": "11.100000000000001",
          "Y": 1.0978670146394396
         },
         {
          "X": "11.200000000000001",
          "Y": 1.0978670146394396
         },
         {
          "X": "11.3",
          "Y": 1.099095325230194
         },
         {
          "X": "11.4",
          "Y": 1.1003564840694382
         },
         {
          "X": "11.5",
          "Y": 1.1003564840694382
         },
         {
          "X": "11.600000000000001",
          "Y": 1.1016797874860669
         },
         {
          "X": "11.700000000000001",
          "Y": 1.1030965981954963
         },
         {
          "X": "11.8",
          "Y": 1.1030965981954963
         },
         {
          "X": "11.9",
          "Y": 1.104641331475508
         },
         {
          "X": "12.0",
          "Y": 1.1063522254333655
         },
         {
          "X": "12.100000000000001",
          "Y": 1.1063522254333655
         },
         {
          "X": "12.200000000000001",
          "Y": 1.108271760522841
         },
         {
          "X": "12.3",
          "Y": 1.1104465298141302
         },
         {
          "X": "12.4",
          "Y": 1.1104465298141302
         },
         {
          "X": "12.5",
          "Y": 1.1129263052256246
         },
         {
          "X": "12.600000000000001",
          "Y": 1.1157620201480922
         },
         {
          "X": "12.700000000000001",
          "Y": 1.1157620201480922
         },
         {
          "X": "12.8",
          "Y": 1.1190024295240963
         },
         {
          "X": "12.9",
          "Y": 1.122689351285994
         },
         {
          "X": "13.0",
          "Y": 1.122689351285994
         },
         {
          "X": "13.100000000000001",
          "Y": 1.1268516622885267
         },
         {
          "X": "13.200000000000001",
          "Y": 1.1268516622885267
         },
         {
          "X": "13.3",
          "Y": 1.1314986062199017
         },
         {
          "X": "13.4",
          "Y": 1.1366134016984477
         },
         {
          "X": "13.5",
          "Y": 1.1366134016984477
         },
         {
          "X": "13.600000000000001",
          "Y": 1.1421484837960705
         },
         {
          "X": "13.700000000000001",
          "Y": 1.1480238029125336
         },
         {
          "X": "13.8",
          "Y": 1.1480238029125336
         },
         {
          "X": "13.9",
          "Y": 1.1541293003449193
         },
         {
          "X": "14.0",
          "Y": 1.1603319498696616
         },
         {
          "X": "14.100000000000001",
          "Y": 1.1603319498696616
         },
         {
          "X": "14.200000000000001",
          "Y": 1.16648673793599
         },
         {
          "X": "14.3",
          "Y": 1.1724499457401774
         },
         {
          "X": "14.4",
          "Y": 1.1724499457401774
         },
         {
          "X": "14.5",
          "Y": 1.178092442322496
         },
         {
          "X": "14.600000000000001",
          "Y": 1.1833106490692114
         },
         {
          "X": "14.700000000000001",
          "Y": 1.1833106490692114
         },
         {
          "X": "14.8",
          "Y": 1.1880334234857817
         },
         {
          "X": "14.9",
          "Y": 1.1922241256497395
         },
         {
          "X": "15.0",
          "Y": 1.1922241256497395
         },
         {
          "X": "15.100000000000001",
          "Y": 1.195878223370579
         },
         {
          "X": "15.200000000000001",
          "Y": 1.195878223370579
         },
         {
          "X": "15.3",
          "Y": 1.1990176249847364
         },
         {
          "X": "15.4",
          "Y": 1.2016833103315654
         },
         {
          "X": "15.5",
          "Y": 1.2016833103315654
         },
         {
          "X": "15.600000000000001",
          "Y": 1.2039277586012358
         },
         {
          "X": "15.700000000000001",
          "Y": 1.2058082879418426
         },
         {
          "X": "15.8",
          "Y": 1.2058082879418426
         },
         {
          "X": "15.9",
          "Y": 1.2073819199004863
         },
         {
          "X": "16.0",
          "Y": 1.2087019254966354
         },
         {
          "X": "16.1",
          "Y": 1.2087019254966354
         },
         {
          "X": "16.2",
          "Y": 1.2098158899758817
         },
         {
          "X": "16.3",
          "Y": 1.2107649686553095
         },
         {
          "X": "16.400000000000002",
          "Y": 1.2107649686553095
         },
         {
          "X": "16.5",
          "Y": 1.211583967836284
         },
         {
          "X": "16.6",
          "Y": 1.2123019255120568
         },
         {
          "X": "16.7",
          "Y": 1.2123019255120568
         },
         {
          "X": "16.8",
          "Y": 1.2129429426949965
         },
         {
          "X": "16.900000000000002",
          "Y": 1.2129429426949965
         },
         {
          "X": "17.0",
          "Y": 1.2135270968388172
         },
         {
          "X": "17.1",
          "Y": 1.214071337373027
         },
         {
          "X": "17.2",
          "Y": 1.214071337373027
         },
         {
          "X": "17.3",
          "Y": 1.2145903138719636
         },
         {
          "X": "17.400000000000002",
          "Y": 1.2150971202247765
         },
         {
          "X": "17.5",
          "Y": 1.2150971202247765
         },
         {
          "X": "17.6",
          "Y": 1.215603956400166
         },
         {
          "X": "17.7",
          "Y": 1.216122716418846
         },
         {
          "X": "17.8",
          "Y": 1.216122716418846
         },
         {
          "X": "17.900000000000002",
          "Y": 1.2166655096013494
         },
         {
          "X": "18.0",
          "Y": 1.2172451136324378
         },
         {
          "X": "18.1",
          "Y": 1.2172451136324378
         },
         {
          "X": "18.2",
          "Y": 1.2178753432569778
         },
         {
          "X": "18.3",
          "Y": 1.2178753432569778
         },
         {
          "X": "18.400000000000002",
          "Y": 1.2185712981510228
         },
         {
          "X": "18.5",
          "Y": 1.2193494292835032
         },
         {
          "X": "18.6",
          "Y": 1.2193494292835032
         },
         {
          "X": "18.7",
          "Y": 1.2202273387840705
         },
         {
          "X": "18.8",
          "Y": 1.2212232115152037
         },
         {
          "X": "18.900000000000002",
          "Y": 1.2212232115152037
         },
         {
          "X": "19.0",
          "Y": 1.2223547790691562
         },
         {
          "X": "19.1",
          "Y": 1.223637753610142
         },
         {
          "X": "19.200000000000003",
          "Y": 1.223637753610142
         },
         {
          "X": "19.3",
          "Y": 1.2250837530464191
         },
         {
          "X": "19.400000000000002",
          "Y": 1.2250837530464191
         },
         {
          "X": "19.5",
          "Y": 1.2266978735908176
         },
         {
          "X": "19.6",
          "Y": 1.22847623374017
         },
         {
          "X": "19.700000000000003",
          "Y": 1.22847623374017
         },
         {
          "X": "19.8",
          "Y": 1.2304039710376893
         },
         {
          "X": "19.900000000000002",
          "Y": 1.2324542532739873
         },
         {
          "X": "20.0",
          "Y": 1.2324542532739873
         },
         {
          "X": "20.1",
          "Y": 1.2345888015374786
         },
         {
          "X": "20.200000000000003",
          "Y": 1.2367601799079753
         },
         {
          "X": "20.3",
          "Y": 1.2367601799079753
         },
         {
          "X": "20.400000000000002",
          "Y": 1.2389157180351886
         },
         {
          "X": "20.5",
          "Y": 1.2389157180351886
         },
         {
          "X": "20.6",
          "Y": 1.2410025048218603
         },
         {
          "X": "20.700000000000003",
          "Y": 1.242972572350383
         },
         {
          "X": "20.8",
          "Y": 1.242972572350383
         },
         {
          "X": "20.900000000000002",
          "Y": 1.2447873055314584
         },
         {
          "X": "21.0",
          "Y": 1.2464203060591987
         },
         {
          "X": "21.1",
          "Y": 1.2464203060591987
         },
         {
          "X": "21.200000000000003",
          "Y": 1.2478583410419284
         },
         {
          "X": "21.3",
          "Y": 1.2491004710584046
         },
         {
          "X": "21.400000000000002",
          "Y": 1.2491004710584046
         },
         {
          "X": "21.5",
          "Y": 1.2501558243767226
         },
         {
          "X": "21.6",
          "Y": 1.2501558243767226
         },
         {
          "X": "21.700000000000003",
          "Y": 1.2510406660202666
         },
         {
          "X": "21.8",
          "Y": 1.251775390858447
         },
         {
          "X": "21.900000000000002",
          "Y": 1.251775390858447
         },
         {
          "X": "22.0",
          "Y": 1.2523819078868068
         },
         {
          "X": "22.1",
          "Y": 1.2528816657859294
         },
         {
          "X": "22.200000000000003",
          "Y": 1.2528816657859294
         },
         {
          "X": "22.3",
          "Y": 1.2532943730514314
         },
         {
          "X": "22.400000000000002",
          "Y": 1.2532943730514314
         },
         {
          "X": "22.5",
          "Y": 1.2536373311480633
         },
         {
          "X": "22.6",
          "Y": 1.253925233824074
         },
         {
          "X": "22.700000000000003",
          "Y": 1.253925233824074
         },
         {
          "X": "22.8",
          "Y": 1.2541702754701514
         },
         {
          "X": "22.900000000000002",
          "Y": 1.2543824340249055
         },
         {
          "X": "23.0",
          "Y": 1.2543824340249055
         },
         {
          "X": "23.1",
          "Y": 1.2545698295360257
         },
         {
          "X": "23.200000000000003",
          "Y": 1.2545698295360257
         },
         {
          "X": "23.3",
          "Y": 1.2547390948285928
         },
         {
          "X": "23.400000000000002",
          "Y": 1.254895723249732
         },
         {
          "X": "23.5",
          "Y": 1.254895723249732
         },
         {
          "X": "23.6",
          "Y": 1.2550443783728893
         },
         {
          "X": "23.700000000000003",
          "Y": 1.2550443783728893
         },
         {
          "X": "23.8",
          "Y": 1.2551891626580107
         },
         {
          "X": "23.900000000000002",
          "Y": 1.255333848090888
         },
         {
          "X": "24.0",
          "Y": 1.255333848090888
         },
         {
          "X": "24.1",
          "Y": 1.2554820734252083
         },
         {
          "X": "24.200000000000003",
          "Y": 1.2556375110239915
         },
         {
          "X": "24.3",
          "Y": 1.2556375110239915
         },
         {
          "X": "24.400000000000002",
          "Y": 1.2558040021500605
         },
         {
          "X": "24.5",
          "Y": 1.2558040021500605
         },
         {
          "X": "24.6",
          "Y": 1.2559856533046772
         },
         {
          "X": "24.700000000000003",
          "Y": 1.2561868783615902
         },
         {
          "X": "24.8",
          "Y": 1.2561868783615902
         },
         {
          "X": "24.900000000000002",
          "Y": 1.256412362897484
         },
         {
          "X": "25.0",
          "Y": 1.256412362897484
         },
         {
          "X": "25.1",
          "Y": 1.2566669205711123
         },
         {
          "X": "25.200000000000003",
          "Y": 1.2569552105311803
         },
         {
          "X": "25.3",
          "Y": 1.2569552105311803
         },
         {
          "X": "25.400000000000002",
          "Y": 1.25728129486291
         },
         {
          "X": "25.5",
          "Y": 1.25728129486291
         },
         {
          "X": "25.6",
          "Y": 1.2576480411016495
         },
         {
          "X": "25.700000000000003",
          "Y": 1.2580564187062038
         },
         {
          "X": "25.8",
          "Y": 1.2580564187062038
         },
         {
          "X": "25.900000000000002",
          "Y": 1.2585047946031849
         },
         {
          "X": "26.0",
          "Y": 1.2585047946031849
         },
         {
          "X": "26.1",
          "Y": 1.2589883856225998
         },
         {
          "X": "26.200000000000003",
          "Y": 1.2594990500671508
         },
         {
          "X": "26.3",
          "Y": 1.2594990500671508
         },
         {
          "X": "26.400000000000002",
          "Y": 1.2600255717106381
         },
         {
          "X": "26.5",
          "Y": 1.2600255717106381
         },
         {
          "X": "26.6",
          "Y": 1.260554496290673
         },
         {
          "X": "26.700000000000003",
          "Y": 1.2610714394687519
         },
         {
          "X": "26.8",
          "Y": 1.2610714394687519
         },
         {
          "X": "26.900000000000002",
          "Y": 1.2615626414527674
         },
         {
          "X": "27.0",
          "Y": 1.2615626414527674
         },
         {
          "X": "27.1",
          "Y": 1.2620164545511012
         },
         {
          "X": "27.200000000000003",
          "Y": 1.2624244572419774
         },
         {
          "X": "27.3",
          "Y": 1.2624244572419774
         },
         {
          "X": "27.400000000000002",
          "Y": 1.262781993219748
         },
         {
          "X": "27.5",
          "Y": 1.262781993219748
         },
         {
          "X": "27.6",
          "Y": 1.263088094823711
         },
         {
          "X": "27.700000000000003",
          "Y": 1.2633449043853515
         },
         {
          "X": "27.8",
          "Y": 1.2633449043853515
         },
         {
          "X": "27.900000000000002",
          "Y": 1.263556801961798
         },
         {
          "X": "28.0",
          "Y": 1.263556801961798
         },
         {
          "X": "28.1",
          "Y": 1.2637294641075378
         },
         {
          "X": "28.200000000000003",
          "Y": 1.263869030608423
         },
         {
          "X": "28.3",
          "Y": 1.263869030608423
         },
         {
          "X": "28.400000000000002",
          "Y": 1.2639814782199985
         },
         {
          "X": "28.5",
          "Y": 1.2639814782199985
         },
         {
          "X": "28.6",
          "Y": 1.2640722254988264
         },
         {
          "X": "28.700000000000003",
          "Y": 1.2641459406831022
         },
         {
          "X": "28.8",
          "Y": 1.2641459406831022
         },
         {
          "X": "28.900000000000002",
          "Y": 1.2642064998939269
         },
         {
          "X": "29.0",
          "Y": 1.2642064998939269
         },
         {
          "X": "29.1",
          "Y": 1.2642570400248037
         },
         {
          "X": "29.200000000000003",
          "Y": 1.2642570400248037
         },
         {
          "X": "29.3",
          "Y": 1.264300060261467
         },
         {
          "X": "29.400000000000002",
          "Y": 1.2643375400316297
         },
         {
          "X": "29.5",
          "Y": 1.2643375400316297
         },
         {
          "X": "29.6",
          "Y": 1.2643710541573188
         },
         {
          "X": "29.700000000000003",
          "Y": 1.2643710541573188
         },
         {
          "X": "29.8",
          "Y": 1.2644018758125548
         },
         {
          "X": "29.900000000000002",
          "Y": 1.2644018758125548
         },
         {
          "X": "30.0",
          "Y": 1.2644310642449401
         },
         {
          "X": "30.1",
          "Y": 1.2644595376848724
         },
         {
          "X": "30.200000000000003",
          "Y": 1.2644595376848724
         },
         {
          "X": "30.3",
          "Y": 1.264488133245065
         },
         {
          "X": "30.400000000000002",
          "Y": 1.264488133245065
         },
         {
          "X": "30.5",
          "Y": 1.264517655582054
         },
         {
          "X": "30.6",
          "Y": 1.264517655582054
         },
         {
          "X": "30.700000000000003",
          "Y": 1.2645489150968938
         },
         {
          "X": "30.8",
          "Y": 1.26458275475618
         },
         {
          "X": "30.900000000000002",
          "Y": 1.26458275475618
         },
         {
          "X": "31.0",
          "Y": 1.2646200624260144
         },
         {
          "X": "31.1",
          "Y": 1.2646200624260144
         },
         {
          "X": "31.200000000000003",
          "Y": 1.2646617632771195
         },
         {
          "X": "31.3",
          "Y": 1.2646617632771195
         },
         {
          "X": "31.400000000000002",
          "Y": 1.2647087850397587
         },
         {
          "X": "31.5",
          "Y": 1.264761988871673
         },
         {
          "X": "31.6",
          "Y": 1.264761988871673
         },
         {
          "X": "31.700000000000003",
          "Y": 1.2648220619803439
         },
         {
          "X": "31.8",
          "Y": 1.2648220619803439
         },
         {
          "X": "31.900000000000002",
          "Y": 1.2648893763877669
         },
         {
          "X": "32.0",
          "Y": 1.2648893763877669
         },
         {
          "X": "32.1",
          "Y": 1.2649638314798644
         },
         {
          "X": "32.2",
          "Y": 1.265044713574294
         },
         {
          "X": "32.300000000000004",
          "Y": 1.265044713574294
         },
         {
          "X": "32.4",
          "Y": 1.2651306174526562
         },
         {
          "X": "32.5",
          "Y": 1.2651306174526562
         },
         {
          "X": "32.6",
          "Y": 1.265219474286122
         },
         {
          "X": "32.7",
          "Y": 1.265219474286122
         },
         {
          "X": "32.800000000000004",
          "Y": 1.265308711393474
         },
         {
          "X": "32.9",
          "Y": 1.265308711393474
         },
         {
          "X": "33.0",
          "Y": 1.2653955331587141
         },
         {
          "X": "33.1",
          "Y": 1.2654772709174495
         },
         {
          "X": "33.2",
          "Y": 1.2654772709174495
         },
         {
          "X": "33.300000000000004",
          "Y": 1.2655517210323004
         },
         {
          "X": "33.4",
          "Y": 1.2655517210323004
         },
         {
          "X": "33.5",
          "Y": 1.265617389841218
         },
         {
          "X": "33.6",
          "Y": 1.265617389841218
         },
         {
          "X": "33.7",
          "Y": 1.2656735937487436
         },
         {
          "X": "33.800000000000004",
          "Y": 1.2656735937487436
         },
         {
          "X": "33.9",
          "Y": 1.265720409211877
         },
         {
          "X": "34.0",
          "Y": 1.265720409211877
         },
         {
          "X": "34.1",
          "Y": 1.2657585099227435
         },
         {
          "X": "34.2",
          "Y": 1.265788950778338
         },
         {
          "X": "34.300000000000004",
          "Y": 1.265788950778338
         },
         {
          "X": "34.4",
          "Y": 1.2658129562437335
         },
         {
          "X": "34.5",
          "Y": 1.2658129562437335
         },
         {
          "X": "34.6",
          "Y": 1.2658317519327644
         },
         {
          "X": "34.7",
          "Y": 1.2658317519327644
         },
         {
          "X": "34.800000000000004",
          "Y": 1.265846454689806
         },
         {
          "X": "34.9",
          "Y": 1.265846454689806
         },
         {
          "X": "35.0",
          "Y": 1.2658580177109415
         }
        ]
       },
       "encoding": {
        "x": {
         "field": "X",
         "sort": [
          "-34.9",
          "-34.800000000000004",
          "-34.7",
          "-34.6",
          "-34.5",
          "-34.4",
          "-34.300000000000004",
          "-34.2",
          "-34.1",
          "-34.0",
          "-33.9",
          "-33.800000000000004",
          "-33.7",
          "-33.6",
          "-33.5",
          "-33.4",
          "-33.300000000000004",
          "-33.2",
          "-33.1",
          "-33.0",
          "-32.9",
          "-32.800000000000004",
          "-32.7",
          "-32.6",
          "-32.5",
          "-32.4",
          "-32.300000000000004",
          "-32.2",
          "-32.1",
          "-32.0",
          "-31.900000000000002",
          "-31.8",
          "-31.700000000000003",
          "-31.6",
          "-31.5",
          "-31.400000000000002",
          "-31.3",
          "-31.200000000000003",
          "-31.1",
          "-31.0",
          "-30.900000000000002",
          "-30.8",
          "-30.700000000000003",
          "-30.6",
          "-30.5",
          "-30.400000000000002",
          "-30.3",
          "-30.200000000000003",
          "-30.1",
          "-30.0",
          "-29.900000000000002",
          "-29.8",
          "-29.700000000000003",
          "-29.6",
          "-29.5",
          "-29.400000000000002",
          "-29.3",
          "-29.200000000000003",
          "-29.1",
          "-29.0",
          "-28.900000000000002",
          "-28.8",
          "-28.700000000000003",
          "-28.6",
          "-28.5",
          "-28.400000000000002",
          "-28.3",
          "-28.200000000000003",
          "-28.1",
          "-28.0",
          "-27.900000000000002",
          "-27.8",
          "-27.700000000000003",
          "-27.6",
          "-27.5",
          "-27.400000000000002",
          "-27.3",
          "-27.200000000000003",
          "-27.1",
          "-27.0",
          "-26.900000000000002",
          "-26.8",
          "-26.700000000000003",
          "-26.6",
          "-26.5",
          "-26.400000000000002",
          "-26.3",
          "-26.200000000000003",
          "-26.1",
          "-26.0",
          "-25.900000000000002",
          "-25.8",
          "-25.700000000000003",
          "-25.6",
          "-25.5",
          "-25.400000000000002",
          "-25.3",
          "-25.200000000000003",
          "-25.1",
          "-25.0",
          "-24.900000000000002",
          "-24.8",
          "-24.700000000000003",
          "-24.6",
          "-24.5",
          "-24.400000000000002",
          "-24.3",
          "-24.200000000000003",
          "-24.1",
          "-24.0",
          "-23.900000000000002",
          "-23.8",
          "-23.700000000000003",
          "-23.6",
          "-23.5",
          "-23.400000000000002",
          "-23.3",
          "-23.200000000000003",
          "-23.1",
          "-23.0",
          "-22.900000000000002",
          "-22.8",
          "-22.700000000000003",
          "-22.6",
          "-22.5",
          "-22.400000000000002",
          "-22.3",
          "-22.200000000000003",
          "-22.1",
          "-22.0",
          "-21.900000000000002",
          "-21.8",
          "-21.700000000000003",
          "-21.6",
          "-21.5",
          "-21.400000000000002",
          "-21.3",
          "-21.200000000000003",
          "-21.1",
          "-21.0",
          "-20.900000000000002",
          "-20.8",
          "-20.700000000000003",
          "-20.6",
          "-20.5",
          "-20.400000000000002",
          "-20.3",
          "-20.200000000000003",
          "-20.1",
          "-20.0",
          "-19.900000000000002",
          "-19.8",
          "-19.700000000000003",
          "-19.6",
          "-19.5",
          "-19.400000000000002",
          "-19.3",
          "-19.200000000000003",
          "-19.1",
          "-19.0",
          "-18.900000000000002",
          "-18.8",
          "-18.7",
          "-18.6",
          "-18.5",
          "-18.400000000000002",
          "-18.3",
          "-18.2",
          "-18.1",
          "-18.0",
          "-17.900000000000002",
          "-17.8",
          "-17.7",
          "-17.6",
          "-17.5",
          "-17.400000000000002",
          "-17.3",
          "-17.2",
          "-17.1",
          "-17.0",
          "-16.900000000000002",
          "-16.8",
          "-16.7",
          "-16.6",
          "-16.5",
          "-16.400000000000002",
          "-16.3",
          "-16.2",
          "-16.1",
          "-16.0",
          "-15.9",
          "-15.8",
          "-15.700000000000001",
          "-15.600000000000001",
          "-15.5",
          "-15.4",
          "-15.3",
          "-15.200000000000001",
          "-15.100000000000001",
          "-15.0",
          "-14.9",
          "-14.8",
          "-14.700000000000001",
          "-14.600000000000001",
          "-14.5",
          "-14.4",
          "-14.3",
          "-14.200000000000001",
          "-14.100000000000001",
          "-14.0",
          "-13.9",
          "-13.8",
          "-13.700000000000001",
          "-13.600000000000001",
          "-13.5",
          "-13.4",
          "-13.3",
          "-13.200000000000001",
          "-13.100000000000001",
          "-13.0",
          "-12.9",
          "-12.8",
          "-12.700000000000001",
          "-12.600000000000001",
          "-12.5",
          "-12.4",
          "-12.3",
          "-12.200000000000001",
          "-12.100000000000001",
          "-12.0",
          "-11.9",
          "-11.8",
          "-11.700000000000001",
          "-11.600000000000001",
          "-11.5",
          "-11.4",
          "-11.3",
          "-11.200000000000001",
          "-11.100000000000001",
          "-11.0",
          "-10.9",
          "-10.8",
          "-10.700000000000001",
          "-10.600000000000001",
          "-10.5",
          "-10.4",
          "-10.3",
          "-10.200000000000001",
          "-10.100000000000001",
          "-10.0",
          "-9.9",
          "-9.8",
          "-9.700000000000001",
          "-9.600000000000001",
          "-9.5",
          "-9.4",
          "-9.3",
          "-9.200000000000001",
          "-9.1",
          "-9.0",
          "-8.9",
          "-8.8",
          "-8.700000000000001",
          "-8.6",
          "-8.5",
          "-8.4",
          "-8.3",
          "-8.200000000000001",
          "-8.1",
          "-8.0",
          "-7.9",
          "-7.800000000000001",
          "-7.7",
          "-7.6000000000000005",
          "-7.5",
          "-7.4",
          "-7.300000000000001",
          "-7.2",
          "-7.1000000000000005",
          "-7.0",
          "-6.9",
          "-6.800000000000001",
          "-6.7",
          "-6.6000000000000005",
          "-6.5",
          "-6.4",
          "-6.300000000000001",
          "-6.2",
          "-6.1000000000000005",
          "-6.0",
          "-5.9",
          "-5.800000000000001",
          "-5.7",
          "-5.6000000000000005",
          "-5.5",
          "-5.4",
          "-5.300000000000001",
          "-5.2",
          "-5.1000000000000005",
          "-5.0",
          "-4.9",
          "-4.800000000000001",
          "-4.7",
          "-4.6000000000000005",
          "-4.5",
          "-4.4",
          "-4.3",
          "-4.2",
          "-4.1000000000000005",
          "-4.0",
          "-3.9000000000000004",
          "-3.8000000000000003",
          "-3.7",
          "-3.6",
          "-3.5",
          "-3.4000000000000004",
          "-3.3000000000000003",
          "-3.2",
          "-3.1",
          "-3.0",
          "-2.9000000000000004",
          "-2.8000000000000003",
          "-2.7",
          "-2.6",
          "-2.5",
          "-2.4000000000000004",
          "-2.3000000000000003",
          "-2.2",
          "-2.1",
          "-2.0",
          "-1.9000000000000001",
          "-1.8",
          "-1.7000000000000002",
          "-1.6",
          "-1.5",
          "-1.4000000000000001",
          "-1.3",
          "-1.2000000000000002",
          "-1.1",
          "-1.0",
          "-0.9",
          "-0.8",
          "-0.7000000000000001",
          "-0.6000000000000001",
          "-0.5",
          "-0.4",
          "-0.30000000000000004",
          "-0.2",
          "-0.1",
          "0.0",
          "0.1",
          "0.2",
          "0.30000000000000004",
          "0.4",
          "0.5",
          "0.6000000000000001",
          "0.7000000000000001",
          "0.8",
          "0.9",
          "1.0",
          "1.1",
          "1.2000000000000002",
          "1.3",
          "1.4000000000000001",
          "1.5",
          "1.6",
          "1.7000000000000002",
          "1.8",
          "1.9000000000000001",
          "2.0",
          "2.1",
          "2.2",
          "2.3000000000000003",
          "2.4000000000000004",
          "2.5",
          "2.6",
          "2.7",
          "2.8000000000000003",
          "2.9000000000000004",
          "3.0",
          "3.1",
          "3.2",
          "3.3000000000000003",
          "3.4000000000000004",
          "3.5",
          "3.6",
          "3.7",
          "3.8000000000000003",
          "3.9000000000000004",
          "4.0",
          "4.1000000000000005",
          "4.2",
          "4.3",
          "4.4",
          "4.5",
          "4.6000000000000005",
          "4.7",
          "4.800000000000001",
          "4.9",
          "5.0",
          "5.1000000000000005",
          "5.2",
          "5.300000000000001",
          "5.4",
          "5.5",
          "5.6000000000000005",
          "5.7",
          "5.800000000000001",
          "5.9",
          "6.0",
          "6.1000000000000005",
          "6.2",
          "6.300000000000001",
          "6.4",
          "6.5",
          "6.6000000000000005",
          "6.7",
          "6.800000000000001",
          "6.9",
          "7.0",
          "7.1000000000000005",
          "7.2",
          "7.300000000000001",
          "7.4",
          "7.5",
          "7.6000000000000005",
          "7.7",
          "7.800000000000001",
          "7.9",
          "8.0",
          "8.1",
          "8.200000000000001",
          "8.3",
          "8.4",
          "8.5",
          "8.6",
          "8.700000000000001",
          "8.8",
          "8.9",
          "9.0",
          "9.1",
          "9.200000000000001",
          "9.3",
          "9.4",
          "9.5",
          "9.600000000000001",
          "9.700000000000001",
          "9.8",
          "9.9",
          "10.0",
          "10.100000000000001",
          "10.200000000000001",
          "10.3",
          "10.4",
          "10.5",
          "10.600000000000001",
          "10.700000000000001",
          "10.8",
          "10.9",
          "11.0",
          "11.100000000000001",
          "11.200000000000001",
          "11.3",
          "11.4",
          "11.5",
          "11.600000000000001",
          "11.700000000000001",
          "11.8",
          "11.9",
          "12.0",
          "12.100000000000001",
          "12.200000000000001",
          "12.3",
          "12.4",
          "12.5",
          "12.600000000000001",
          "12.700000000000001",
          "12.8",
          "12.9",
          "13.0",
          "13.100000000000001",
          "13.200000000000001",
          "13.3",
          "13.4",
          "13.5",
          "13.600000000000001",
          "13.700000000000001",
          "13.8",
          "13.9",
          "14.0",
          "14.100000000000001",
          "14.200000000000001",
          "14.3",
          "14.4",
          "14.5",
          "14.600000000000001",
          "14.700000000000001",
          "14.8",
          "14.9",
          "15.0",
          "15.100000000000001",
          "15.200000000000001",
          "15.3",
          "15.4",
          "15.5",
          "15.600000000000001",
          "15.700000000000001",
          "15.8",
          "15.9",
          "16.0",
          "16.1",
          "16.2",
          "16.3",
          "16.400000000000002",
          "16.5",
          "16.6",
          "16.7",
          "16.8",
          "16.900000000000002",
          "17.0",
          "17.1",
          "17.2",
          "17.3",
          "17.400000000000002",
          "17.5",
          "17.6",
          "17.7",
          "17.8",
          "17.900000000000002",
          "18.0",
          "18.1",
          "18.2",
          "18.3",
          "18.400000000000002",
          "18.5",
          "18.6",
          "18.7",
          "18.8",
          "18.900000000000002",
          "19.0",
          "19.1",
          "19.200000000000003",
          "19.3",
          "19.400000000000002",
          "19.5",
          "19.6",
          "19.700000000000003",
          "19.8",
          "19.900000000000002",
          "20.0",
          "20.1",
          "20.200000000000003",
          "20.3",
          "20.400000000000002",
          "20.5",
          "20.6",
          "20.700000000000003",
          "20.8",
          "20.900000000000002",
          "21.0",
          "21.1",
          "21.200000000000003",
          "21.3",
          "21.400000000000002",
          "21.5",
          "21.6",
          "21.700000000000003",
          "21.8",
          "21.900000000000002",
          "22.0",
          "22.1",
          "22.200000000000003",
          "22.3",
          "22.400000000000002",
          "22.5",
          "22.6",
          "22.700000000000003",
          "22.8",
          "22.900000000000002",
          "23.0",
          "23.1",
          "23.200000000000003",
          "23.3",
          "23.400000000000002",
          "23.5",
          "23.6",
          "23.700000000000003",
          "23.8",
          "23.900000000000002",
          "24.0",
          "24.1",
          "24.200000000000003",
          "24.3",
          "24.400000000000002",
          "24.5",
          "24.6",
          "24.700000000000003",
          "24.8",
          "24.900000000000002",
          "25.0",
          "25.1",
          "25.200000000000003",
          "25.3",
          "25.400000000000002",
          "25.5",
          "25.6",
          "25.700000000000003",
          "25.8",
          "25.900000000000002",
          "26.0",
          "26.1",
          "26.200000000000003",
          "26.3",
          "26.400000000000002",
          "26.5",
          "26.6",
          "26.700000000000003",
          "26.8",
          "26.900000000000002",
          "27.0",
          "27.1",
          "27.200000000000003",
          "27.3",
          "27.400000000000002",
          "27.5",
          "27.6",
          "27.700000000000003",
          "27.8",
          "27.900000000000002",
          "28.0",
          "28.1",
          "28.200000000000003",
          "28.3",
          "28.400000000000002",
          "28.5",
          "28.6",
          "28.700000000000003",
          "28.8",
          "28.900000000000002",
          "29.0",
          "29.1",
          "29.200000000000003",
          "29.3",
          "29.400000000000002",
          "29.5",
          "29.6",
          "29.700000000000003",
          "29.8",
          "29.900000000000002",
          "30.0",
          "30.1",
          "30.200000000000003",
          "30.3",
          "30.400000000000002",
          "30.5",
          "30.6",
          "30.700000000000003",
          "30.8",
          "30.900000000000002",
          "31.0",
          "31.1",
          "31.200000000000003",
          "31.3",
          "31.400000000000002",
          "31.5",
          "31.6",
          "31.700000000000003",
          "31.8",
          "31.900000000000002",
          "32.0",
          "32.1",
          "32.2",
          "32.300000000000004",
          "32.4",
          "32.5",
          "32.6",
          "32.7",
          "32.800000000000004",
          "32.9",
          "33.0",
          "33.1",
          "33.2",
          "33.300000000000004",
          "33.4",
          "33.5",
          "33.6",
          "33.7",
          "33.800000000000004",
          "33.9",
          "34.0",
          "34.1",
          "34.2",
          "34.300000000000004",
          "34.4",
          "34.5",
          "34.6",
          "34.7",
          "34.800000000000004",
          "34.9",
          "35.0"
         ],
         "type": "nominal"
        },
        "y": {
         "field": "Y",
         "type": "quantitative"
        }
       },
       "height": 200,
       "mark": "bar",
       "width": 200
      }
     },
     "metadata": {},
     "output_type": "display_data"
    }
   ],
   "source": [
    "plotVega $ plotCdf 700 0.1 model4"
   ]
  },
  {
   "cell_type": "code",
   "execution_count": 24,
   "metadata": {},
   "outputs": [
    {
     "data": {
      "application/vnd.vegalite.v4+json": {
       "$schema": "https://vega.github.io/schema/vega-lite/v4.json",
       "data": {
        "values": [
         {
          "X": "-3.4000000000000004",
          "Y": 0.00006950317017405424
         },
         {
          "X": "-3.3000000000000003",
          "Y": 0.00010164148887630666
         },
         {
          "X": "-3.2",
          "Y": 0.00014714278717500919
         },
         {
          "X": "-3.1",
          "Y": 0.0002116359331091854
         },
         {
          "X": "-3.0",
          "Y": 0.0003008830961431438
         },
         {
          "X": "-2.9000000000000004",
          "Y": 0.0004245565559178024
         },
         {
          "X": "-2.8000000000000003",
          "Y": 0.000592958914929261
         },
         {
          "X": "-2.7",
          "Y": 0.0008210921898807828
         },
         {
          "X": "-2.6",
          "Y": 0.0011295218764828085
         },
         {
          "X": "-2.5",
          "Y": 0.0015370833432355548
         },
         {
          "X": "-2.4000000000000004",
          "Y": 0.0020767346995768524
         },
         {
          "X": "-2.3000000000000003",
          "Y": 0.0027750550507635594
         },
         {
          "X": "-2.2",
          "Y": 0.003682003095772265
         },
         {
          "X": "-2.1",
          "Y": 0.004836377479561093
         },
         {
          "X": "-2.0",
          "Y": 0.0063037376968154545
         },
         {
          "X": "-1.9000000000000001",
          "Y": 0.00815563985387498
         },
         {
          "X": "-1.8",
          "Y": 0.010445470950775741
         },
         {
          "X": "-1.7000000000000002",
          "Y": 0.013287292043947026
         },
         {
          "X": "-1.6",
          "Y": 0.016729364345415422
         },
         {
          "X": "-1.5",
          "Y": 0.020920698541232886
         },
         {
          "X": "-1.4000000000000001",
          "Y": 0.025949070122595248
         },
         {
          "X": "-1.3",
          "Y": 0.0319278845185567
         },
         {
          "X": "-1.2000000000000002",
          "Y": 0.038977618089017146
         },
         {
          "X": "-1.1",
          "Y": 0.04717377520148923
         },
         {
          "X": "-1.0",
          "Y": 0.05669628899414307
         },
         {
          "X": "-0.9",
          "Y": 0.06763582816867231
         },
         {
          "X": "-0.8",
          "Y": 0.07996363197165399
         },
         {
          "X": "-0.7000000000000001",
          "Y": 0.09399792755350353
         },
         {
          "X": "-0.6000000000000001",
          "Y": 0.10961956296236852
         },
         {
          "X": "-0.5",
          "Y": 0.1270642721005723
         },
         {
          "X": "-0.4",
          "Y": 0.14594054174594856
         },
         {
          "X": "-0.30000000000000004",
          "Y": 0.1667455754322485
         },
         {
          "X": "-0.2",
          "Y": 0.18898965850078664
         },
         {
          "X": "-0.1",
          "Y": 0.21300741023510444
         },
         {
          "X": "0.0",
          "Y": 0.23837738025618643
         },
         {
          "X": "0.1",
          "Y": 0.26529176788222536
         },
         {
          "X": "0.2",
          "Y": 0.29324552125305514
         },
         {
          "X": "0.30000000000000004",
          "Y": 0.32243763790607055
         },
         {
          "X": "0.4",
          "Y": 0.3522145494355974
         },
         {
          "X": "0.5",
          "Y": 0.38302771430139804
         },
         {
          "X": "0.6000000000000001",
          "Y": 0.41380020335761064
         },
         {
          "X": "0.7000000000000001",
          "Y": 0.4453312940716577
         },
         {
          "X": "0.8",
          "Y": 0.47627118275475033
         },
         {
          "X": "0.9",
          "Y": 0.5076247482728029
         },
         {
          "X": "1.0",
          "Y": 0.5378594530580645
         },
         {
          "X": "1.1",
          "Y": 0.5681276391528831
         },
         {
          "X": "1.2000000000000002",
          "Y": 0.597067457157867
         },
         {
          "X": "1.3",
          "Y": 0.6256058513648695
         },
         {
          "X": "1.4000000000000001",
          "Y": 0.6525978918543351
         },
         {
          "X": "1.5",
          "Y": 0.6788978994261632
         },
         {
          "X": "1.6",
          "Y": 0.7035287765151896
         },
         {
          "X": "1.7000000000000002",
          "Y": 0.7270983751452831
         },
         {
          "X": "1.8",
          "Y": 0.7491904916216832
         },
         {
          "X": "1.9000000000000001",
          "Y": 0.7700751600787092
         },
         {
          "X": "2.0",
          "Y": 0.7895590499347593
         },
         {
          "X": "2.1",
          "Y": 0.8076546744364452
         },
         {
          "X": "2.2",
          "Y": 0.8244722667497988
         },
         {
          "X": "2.3000000000000003",
          "Y": 0.8399754533832623
         },
         {
          "X": "2.4000000000000004",
          "Y": 0.854374010814152
         },
         {
          "X": "2.5",
          "Y": 0.8675029404443491
         },
         {
          "X": "2.6",
          "Y": 0.8796500039536462
         },
         {
          "X": "2.7",
          "Y": 0.8906621206366212
         },
         {
          "X": "2.8000000000000003",
          "Y": 0.9008027011551201
         },
         {
          "X": "2.9000000000000004",
          "Y": 0.9099942009284938
         },
         {
          "X": "3.0",
          "Y": 0.918454890673649
         },
         {
          "X": "3.1",
          "Y": 0.9260988435620305
         },
         {
          "X": "3.2",
          "Y": 0.9330649684929808
         },
         {
          "X": "3.3000000000000003",
          "Y": 0.939388711836513
         },
         {
          "X": "3.4000000000000004",
          "Y": 0.9451029311503909
         },
         {
          "X": "3.5",
          "Y": 0.9503124607308405
         }
        ]
       },
       "encoding": {
        "x": {
         "field": "X",
         "sort": [
          "-3.4000000000000004",
          "-3.3000000000000003",
          "-3.2",
          "-3.1",
          "-3.0",
          "-2.9000000000000004",
          "-2.8000000000000003",
          "-2.7",
          "-2.6",
          "-2.5",
          "-2.4000000000000004",
          "-2.3000000000000003",
          "-2.2",
          "-2.1",
          "-2.0",
          "-1.9000000000000001",
          "-1.8",
          "-1.7000000000000002",
          "-1.6",
          "-1.5",
          "-1.4000000000000001",
          "-1.3",
          "-1.2000000000000002",
          "-1.1",
          "-1.0",
          "-0.9",
          "-0.8",
          "-0.7000000000000001",
          "-0.6000000000000001",
          "-0.5",
          "-0.4",
          "-0.30000000000000004",
          "-0.2",
          "-0.1",
          "0.0",
          "0.1",
          "0.2",
          "0.30000000000000004",
          "0.4",
          "0.5",
          "0.6000000000000001",
          "0.7000000000000001",
          "0.8",
          "0.9",
          "1.0",
          "1.1",
          "1.2000000000000002",
          "1.3",
          "1.4000000000000001",
          "1.5",
          "1.6",
          "1.7000000000000002",
          "1.8",
          "1.9000000000000001",
          "2.0",
          "2.1",
          "2.2",
          "2.3000000000000003",
          "2.4000000000000004",
          "2.5",
          "2.6",
          "2.7",
          "2.8000000000000003",
          "2.9000000000000004",
          "3.0",
          "3.1",
          "3.2",
          "3.3000000000000003",
          "3.4000000000000004",
          "3.5"
         ],
         "type": "nominal"
        },
        "y": {
         "field": "Y",
         "type": "quantitative"
        }
       },
       "height": 200,
       "mark": "bar",
       "width": 200
      }
     },
     "metadata": {},
     "output_type": "display_data"
    }
   ],
   "source": [
    "plotVega $ plotCdf 70 0.1 (normal 0 1 + gamma 1 1)"
   ]
  },
  {
   "cell_type": "markdown",
   "metadata": {},
   "source": [
    "# Expressing distributions with code\n",
    "\n",
    "If you are familiar with Haskell, then it should be clear that the class of distributions you can express by writing probabilistic programs is very broad, since `m` is a monad. For example, you can use `fmap` to apply a function to the support of the distribution, like:"
   ]
  },
  {
   "cell_type": "code",
   "execution_count": 12,
   "metadata": {},
   "outputs": [],
   "source": [
    "mapped :: MonadInfer m => m Bool\n",
    "mapped = fmap (> 0) (model 0.5)"
   ]
  },
  {
   "cell_type": "markdown",
   "metadata": {},
   "source": [
    "And you can use the standard set of monadic and applicative combinators, like `when`, `filterM` or `replicateM`:"
   ]
  },
  {
   "cell_type": "code",
   "execution_count": 13,
   "metadata": {},
   "outputs": [],
   "source": [
    "lengthDist :: MonadInfer m => Double -> m Int\n",
    "lengthDist observation = do\n",
    "    means <- replicateM 3 (model observation)\n",
    "    return (length $ filter (>=1) means)"
   ]
  },
  {
   "cell_type": "markdown",
   "metadata": {},
   "source": [
    "Given an observation, this is the probability on how many (out of 3) independent draws from the posterior of the model conditioned on the observation will be greater or equal to 1. Consider the hassle of defining this with an equation, and you'll see why probabilistic programming is appealing as a way of accelerating modelling and inference."
   ]
  },
  {
   "cell_type": "code",
   "execution_count": 14,
   "metadata": {},
   "outputs": [
    {
     "data": {
      "text/plain": [
       "[(0,0.19278121201287118),(1,0.4228030765220977),(2,0.3090938161626379),(3,7.532189530239404e-2)]"
      ]
     },
     "metadata": {},
     "output_type": "display_data"
    }
   ],
   "source": [
    "enumerate $ lengthDist 0.5"
   ]
  },
  {
   "cell_type": "code",
   "execution_count": 15,
   "metadata": {},
   "outputs": [
    {
     "data": {
      "application/vnd.vegalite.v4+json": {
       "$schema": "https://vega.github.io/schema/vega-lite/v4.json",
       "data": {
        "values": [
         {
          "X": "0",
          "Y": 0.07884237924752768
         },
         {
          "X": "1",
          "Y": 0.31507728008413355
         },
         {
          "X": "2",
          "Y": 0.4197137519723297
         },
         {
          "X": "3",
          "Y": 0.18636658869600853
         }
        ]
       },
       "encoding": {
        "x": {
         "field": "X",
         "sort": [
          "0",
          "1",
          "2",
          "3"
         ],
         "type": "nominal"
        },
        "y": {
         "field": "Y",
         "type": "quantitative"
        }
       },
       "height": 200,
       "mark": "bar",
       "width": 200
      }
     },
     "metadata": {},
     "output_type": "display_data"
    }
   ],
   "source": [
    "plotVega $ fmap (first (pack . show)) $ enumerate $ lengthDist 0.99"
   ]
  },
  {
   "cell_type": "code",
   "execution_count": 16,
   "metadata": {},
   "outputs": [
    {
     "data": {
      "application/vnd.vegalite.v4+json": {
       "$schema": "https://vega.github.io/schema/vega-lite/v4.json",
       "data": {
        "values": [
         {
          "X": "0",
          "Y": 0.38211546660576284
         },
         {
          "X": "1",
          "Y": 0.43338893548101054
         },
         {
          "X": "2",
          "Y": 0.16384748050615444
         },
         {
          "X": "3",
          "Y": 0.020648117407072838
         }
        ]
       },
       "encoding": {
        "x": {
         "field": "X",
         "sort": [
          "0",
          "1",
          "2",
          "3"
         ],
         "type": "nominal"
        },
        "y": {
         "field": "Y",
         "type": "quantitative"
        }
       },
       "height": 200,
       "mark": "bar",
       "width": 200
      }
     },
     "metadata": {},
     "output_type": "display_data"
    }
   ],
   "source": [
    "plotVega $ fmap (first (pack . show)) $ enumerate $ lengthDist 0.001"
   ]
  },
  {
   "cell_type": "markdown",
   "metadata": {},
   "source": [
    "Exact sampling is pretty limited. For models with continuous random variables, or large discrete ones, it is a no-go. \n",
    "\n",
    "The broader goal is to be able to define your distribution of interest, like `model`, and then apply different inference technique, usually approximate, to it. This is what monad-bayes (and other probabilistic programming languages) enable. See the following tutorials for details."
   ]
  },
  {
   "cell_type": "markdown",
   "metadata": {},
   "source": []
  }
 ],
 "metadata": {
  "kernelspec": {
   "display_name": "Haskell",
   "language": "haskell",
   "name": "haskell"
  },
  "language_info": {
   "codemirror_mode": "ihaskell",
   "file_extension": ".hs",
   "mimetype": "text/x-haskell",
   "name": "haskell",
   "pygments_lexer": "Haskell",
   "version": "8.10.7"
  }
 },
 "nbformat": 4,
 "nbformat_minor": 2
}
