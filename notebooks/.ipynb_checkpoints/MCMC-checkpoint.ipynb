{
 "cells": [
  {
   "cell_type": "code",
   "execution_count": 1,
   "metadata": {},
   "outputs": [],
   "source": [
    ":e ImportQualifiedPost\n",
    ":e FlexibleContexts\n",
    ":e BlockArguments\n",
    ":e TupleSections\n",
    ":e FlexibleContexts\n",
    ":e OverloadedStrings\n",
    ":e LambdaCase\n",
    "\n",
    "import qualified Data.Text as T\n",
    "import Control.Arrow (first,second)\n",
    "import Control.Monad\n",
    "import Graphics.Vega.VegaLite hiding (density)\n",
    "import qualified Graphics.Vega.VegaLite as VL\n",
    "import IHaskell.Display.Hvega (vlShow)\n",
    "\n",
    "import Control.Monad.Bayes.Class\n",
    "import Control.Monad.Bayes.Enumerator\n",
    "import Control.Monad.Bayes.Weighted\n",
    "import Control.Monad.Bayes.Sampler\n",
    "import Control.Monad.Bayes.Traced.Static\n",
    "\n",
    ":l Plotting.hs\n"
   ]
  },
  {
   "cell_type": "markdown",
   "metadata": {},
   "source": [
    "We'll start with the example of a simple regression"
   ]
  },
  {
   "cell_type": "code",
   "execution_count": 2,
   "metadata": {},
   "outputs": [],
   "source": [
    "paramPriorRegression = do\n",
    "    slope <- normal 0 2\n",
    "    intercept <- normal 0 2\n",
    "    noise <- gamma 4 4\n",
    "    return (slope, intercept, noise)\n",
    "\n",
    "\n",
    "regressionData :: (MonadSample m, Traversable t) => t Double -> m (t (Double, Double))\n",
    "regressionData xs = do\n",
    "    (slope, intercept, noise) <- paramPriorRegression\n",
    "    forM xs \\x -> do\n",
    "        y <- normal (x*slope + intercept) (sqrt noise)\n",
    "        return (x, y)"
   ]
  },
  {
   "cell_type": "code",
   "execution_count": 3,
   "metadata": {},
   "outputs": [],
   "source": [
    "range = [-10,-9.9..10] :: [Double]\n",
    "regressionSamples <- sampleIOfixed $ regressionData range"
   ]
  },
  {
   "cell_type": "code",
   "execution_count": 4,
   "metadata": {},
   "outputs": [
    {
     "data": {
      "application/vnd.vegalite.v4+json": {
       "$schema": "https://vega.github.io/schema/vega-lite/v4.json",
       "data": {
        "values": [
         {
          "Outlier": "\"\\\"N/A\\\"\"",
          "X": -10,
          "Y": 42.03323056555809
         },
         {
          "Outlier": "\"\\\"N/A\\\"\"",
          "X": -9.9,
          "Y": 37.999554806234904
         },
         {
          "Outlier": "\"\\\"N/A\\\"\"",
          "X": -9.8,
          "Y": 39.406675882280574
         },
         {
          "Outlier": "\"\\\"N/A\\\"\"",
          "X": -9.700000000000001,
          "Y": 39.544797392460346
         },
         {
          "Outlier": "\"\\\"N/A\\\"\"",
          "X": -9.600000000000001,
          "Y": 35.611154022506945
         },
         {
          "Outlier": "\"\\\"N/A\\\"\"",
          "X": -9.500000000000002,
          "Y": 38.786031409418925
         },
         {
          "Outlier": "\"\\\"N/A\\\"\"",
          "X": -9.400000000000002,
          "Y": 33.613454503743476
         },
         {
          "Outlier": "\"\\\"N/A\\\"\"",
          "X": -9.300000000000002,
          "Y": 41.729542182498406
         },
         {
          "Outlier": "\"\\\"N/A\\\"\"",
          "X": -9.200000000000003,
          "Y": 39.392124954686764
         },
         {
          "Outlier": "\"\\\"N/A\\\"\"",
          "X": -9.100000000000003,
          "Y": 39.170678285225044
         },
         {
          "Outlier": "\"\\\"N/A\\\"\"",
          "X": -9.000000000000004,
          "Y": 34.197452715820354
         },
         {
          "Outlier": "\"\\\"N/A\\\"\"",
          "X": -8.900000000000004,
          "Y": 33.78956368992538
         },
         {
          "Outlier": "\"\\\"N/A\\\"\"",
          "X": -8.800000000000004,
          "Y": 38.9840006328825
         },
         {
          "Outlier": "\"\\\"N/A\\\"\"",
          "X": -8.700000000000005,
          "Y": 36.49357360324419
         },
         {
          "Outlier": "\"\\\"N/A\\\"\"",
          "X": -8.600000000000005,
          "Y": 35.19060965667984
         },
         {
          "Outlier": "\"\\\"N/A\\\"\"",
          "X": -8.500000000000005,
          "Y": 35.98010964079125
         },
         {
          "Outlier": "\"\\\"N/A\\\"\"",
          "X": -8.400000000000006,
          "Y": 37.64496270727057
         },
         {
          "Outlier": "\"\\\"N/A\\\"\"",
          "X": -8.300000000000006,
          "Y": 37.124556752093696
         },
         {
          "Outlier": "\"\\\"N/A\\\"\"",
          "X": -8.200000000000006,
          "Y": 31.714574908294747
         },
         {
          "Outlier": "\"\\\"N/A\\\"\"",
          "X": -8.100000000000007,
          "Y": 28.878633955151624
         },
         {
          "Outlier": "\"\\\"N/A\\\"\"",
          "X": -8.000000000000007,
          "Y": 30.715158522658356
         },
         {
          "Outlier": "\"\\\"N/A\\\"\"",
          "X": -7.9000000000000075,
          "Y": 33.630410808608325
         },
         {
          "Outlier": "\"\\\"N/A\\\"\"",
          "X": -7.800000000000008,
          "Y": 27.796851348683585
         },
         {
          "Outlier": "\"\\\"N/A\\\"\"",
          "X": -7.700000000000008,
          "Y": 33.74359477880951
         },
         {
          "Outlier": "\"\\\"N/A\\\"\"",
          "X": -7.6000000000000085,
          "Y": 29.338357865839313
         },
         {
          "Outlier": "\"\\\"N/A\\\"\"",
          "X": -7.500000000000009,
          "Y": 32.55734655375148
         },
         {
          "Outlier": "\"\\\"N/A\\\"\"",
          "X": -7.400000000000009,
          "Y": 23.87525823551339
         },
         {
          "Outlier": "\"\\\"N/A\\\"\"",
          "X": -7.30000000000001,
          "Y": 30.089375606582173
         },
         {
          "Outlier": "\"\\\"N/A\\\"\"",
          "X": -7.20000000000001,
          "Y": 30.535774062694397
         },
         {
          "Outlier": "\"\\\"N/A\\\"\"",
          "X": -7.10000000000001,
          "Y": 21.392339976391572
         },
         {
          "Outlier": "\"\\\"N/A\\\"\"",
          "X": -7.000000000000011,
          "Y": 31.842895805281145
         },
         {
          "Outlier": "\"\\\"N/A\\\"\"",
          "X": -6.900000000000011,
          "Y": 30.034274661599728
         },
         {
          "Outlier": "\"\\\"N/A\\\"\"",
          "X": -6.800000000000011,
          "Y": 28.84742801189693
         },
         {
          "Outlier": "\"\\\"N/A\\\"\"",
          "X": -6.700000000000012,
          "Y": 25.100009782872213
         },
         {
          "Outlier": "\"\\\"N/A\\\"\"",
          "X": -6.600000000000012,
          "Y": 31.561388965700914
         },
         {
          "Outlier": "\"\\\"N/A\\\"\"",
          "X": -6.500000000000012,
          "Y": 27.316427296906205
         },
         {
          "Outlier": "\"\\\"N/A\\\"\"",
          "X": -6.400000000000013,
          "Y": 26.821655031407705
         },
         {
          "Outlier": "\"\\\"N/A\\\"\"",
          "X": -6.300000000000013,
          "Y": 29.940749454063944
         },
         {
          "Outlier": "\"\\\"N/A\\\"\"",
          "X": -6.2000000000000135,
          "Y": 25.55563225513449
         },
         {
          "Outlier": "\"\\\"N/A\\\"\"",
          "X": -6.100000000000014,
          "Y": 27.433342805133105
         },
         {
          "Outlier": "\"\\\"N/A\\\"\"",
          "X": -6.000000000000014,
          "Y": 24.269620238419535
         },
         {
          "Outlier": "\"\\\"N/A\\\"\"",
          "X": -5.900000000000015,
          "Y": 25.127152826570686
         },
         {
          "Outlier": "\"\\\"N/A\\\"\"",
          "X": -5.800000000000015,
          "Y": 17.58564605488167
         },
         {
          "Outlier": "\"\\\"N/A\\\"\"",
          "X": -5.700000000000015,
          "Y": 16.137275907136768
         },
         {
          "Outlier": "\"\\\"N/A\\\"\"",
          "X": -5.600000000000016,
          "Y": 23.4716665892332
         },
         {
          "Outlier": "\"\\\"N/A\\\"\"",
          "X": -5.500000000000016,
          "Y": 24.853895463693394
         },
         {
          "Outlier": "\"\\\"N/A\\\"\"",
          "X": -5.400000000000016,
          "Y": 22.196907177091177
         },
         {
          "Outlier": "\"\\\"N/A\\\"\"",
          "X": -5.300000000000017,
          "Y": 15.845553956214607
         },
         {
          "Outlier": "\"\\\"N/A\\\"\"",
          "X": -5.200000000000017,
          "Y": 20.613329939610917
         },
         {
          "Outlier": "\"\\\"N/A\\\"\"",
          "X": -5.100000000000017,
          "Y": 20.207329023447976
         },
         {
          "Outlier": "\"\\\"N/A\\\"\"",
          "X": -5.000000000000018,
          "Y": 18.542938085410132
         },
         {
          "Outlier": "\"\\\"N/A\\\"\"",
          "X": -4.900000000000018,
          "Y": 19.82849558161579
         },
         {
          "Outlier": "\"\\\"N/A\\\"\"",
          "X": -4.8000000000000185,
          "Y": 17.096664328422225
         },
         {
          "Outlier": "\"\\\"N/A\\\"\"",
          "X": -4.700000000000019,
          "Y": 23.61221373830234
         },
         {
          "Outlier": "\"\\\"N/A\\\"\"",
          "X": -4.600000000000019,
          "Y": 18.139276050711533
         },
         {
          "Outlier": "\"\\\"N/A\\\"\"",
          "X": -4.5000000000000195,
          "Y": 19.218618744681105
         },
         {
          "Outlier": "\"\\\"N/A\\\"\"",
          "X": -4.40000000000002,
          "Y": 16.25871471540143
         },
         {
          "Outlier": "\"\\\"N/A\\\"\"",
          "X": -4.30000000000002,
          "Y": 19.068038430442183
         },
         {
          "Outlier": "\"\\\"N/A\\\"\"",
          "X": -4.200000000000021,
          "Y": 16.394644356531252
         },
         {
          "Outlier": "\"\\\"N/A\\\"\"",
          "X": -4.100000000000021,
          "Y": 19.34867510616638
         },
         {
          "Outlier": "\"\\\"N/A\\\"\"",
          "X": -4.000000000000021,
          "Y": 17.118552231439548
         },
         {
          "Outlier": "\"\\\"N/A\\\"\"",
          "X": -3.9000000000000217,
          "Y": 17.450889104412468
         },
         {
          "Outlier": "\"\\\"N/A\\\"\"",
          "X": -3.800000000000022,
          "Y": 17.28429657774685
         },
         {
          "Outlier": "\"\\\"N/A\\\"\"",
          "X": -3.7000000000000224,
          "Y": 13.93720876545455
         },
         {
          "Outlier": "\"\\\"N/A\\\"\"",
          "X": -3.6000000000000227,
          "Y": 11.323133310862293
         },
         {
          "Outlier": "\"\\\"N/A\\\"\"",
          "X": -3.500000000000023,
          "Y": 15.110288584034281
         },
         {
          "Outlier": "\"\\\"N/A\\\"\"",
          "X": -3.4000000000000234,
          "Y": 12.82232242393533
         },
         {
          "Outlier": "\"\\\"N/A\\\"\"",
          "X": -3.300000000000024,
          "Y": 14.963986027268305
         },
         {
          "Outlier": "\"\\\"N/A\\\"\"",
          "X": -3.200000000000024,
          "Y": 15.868276010547635
         },
         {
          "Outlier": "\"\\\"N/A\\\"\"",
          "X": -3.1000000000000245,
          "Y": 9.142160961106327
         },
         {
          "Outlier": "\"\\\"N/A\\\"\"",
          "X": -3.000000000000025,
          "Y": 14.586178781303701
         },
         {
          "Outlier": "\"\\\"N/A\\\"\"",
          "X": -2.9000000000000252,
          "Y": 16.598149541095605
         },
         {
          "Outlier": "\"\\\"N/A\\\"\"",
          "X": -2.8000000000000256,
          "Y": 12.866921073275742
         },
         {
          "Outlier": "\"\\\"N/A\\\"\"",
          "X": -2.700000000000026,
          "Y": 12.080325477040164
         },
         {
          "Outlier": "\"\\\"N/A\\\"\"",
          "X": -2.6000000000000263,
          "Y": 13.8124880655986
         },
         {
          "Outlier": "\"\\\"N/A\\\"\"",
          "X": -2.5000000000000266,
          "Y": 12.69701326458972
         },
         {
          "Outlier": "\"\\\"N/A\\\"\"",
          "X": -2.400000000000027,
          "Y": 13.102880241673814
         },
         {
          "Outlier": "\"\\\"N/A\\\"\"",
          "X": -2.3000000000000274,
          "Y": 10.410818470202093
         },
         {
          "Outlier": "\"\\\"N/A\\\"\"",
          "X": -2.2000000000000277,
          "Y": 10.066276180000694
         },
         {
          "Outlier": "\"\\\"N/A\\\"\"",
          "X": -2.100000000000028,
          "Y": 8.360123265449646
         },
         {
          "Outlier": "\"\\\"N/A\\\"\"",
          "X": -2.0000000000000284,
          "Y": 9.224108250624889
         },
         {
          "Outlier": "\"\\\"N/A\\\"\"",
          "X": -1.9000000000000288,
          "Y": 9.292086741978899
         },
         {
          "Outlier": "\"\\\"N/A\\\"\"",
          "X": -1.8000000000000291,
          "Y": 7.110801640129807
         },
         {
          "Outlier": "\"\\\"N/A\\\"\"",
          "X": -1.7000000000000295,
          "Y": 10.89358866203775
         },
         {
          "Outlier": "\"\\\"N/A\\\"\"",
          "X": -1.6000000000000298,
          "Y": 6.561811863114551
         },
         {
          "Outlier": "\"\\\"N/A\\\"\"",
          "X": -1.5000000000000302,
          "Y": 6.780282820160856
         },
         {
          "Outlier": "\"\\\"N/A\\\"\"",
          "X": -1.4000000000000306,
          "Y": 1.8077383978196861
         },
         {
          "Outlier": "\"\\\"N/A\\\"\"",
          "X": -1.300000000000031,
          "Y": 6.032901604651922
         },
         {
          "Outlier": "\"\\\"N/A\\\"\"",
          "X": -1.2000000000000313,
          "Y": 2.061856598987738
         },
         {
          "Outlier": "\"\\\"N/A\\\"\"",
          "X": -1.1000000000000316,
          "Y": 6.642255342842187
         },
         {
          "Outlier": "\"\\\"N/A\\\"\"",
          "X": -1.000000000000032,
          "Y": 1.631055577697773
         },
         {
          "Outlier": "\"\\\"N/A\\\"\"",
          "X": -0.9000000000000323,
          "Y": -0.9340068216379303
         },
         {
          "Outlier": "\"\\\"N/A\\\"\"",
          "X": -0.8000000000000327,
          "Y": 8.151901484490143
         },
         {
          "Outlier": "\"\\\"N/A\\\"\"",
          "X": -0.700000000000033,
          "Y": 5.1539672629167805
         },
         {
          "Outlier": "\"\\\"N/A\\\"\"",
          "X": -0.6000000000000334,
          "Y": 2.2707141712307015
         },
         {
          "Outlier": "\"\\\"N/A\\\"\"",
          "X": -0.5000000000000338,
          "Y": 2.959397664073527
         },
         {
          "Outlier": "\"\\\"N/A\\\"\"",
          "X": -0.4000000000000341,
          "Y": 3.5681277981209982
         },
         {
          "Outlier": "\"\\\"N/A\\\"\"",
          "X": -0.30000000000003446,
          "Y": 2.9601719349386926
         },
         {
          "Outlier": "\"\\\"N/A\\\"\"",
          "X": -0.20000000000003482,
          "Y": 3.8064254823049635
         },
         {
          "Outlier": "\"\\\"N/A\\\"\"",
          "X": -0.10000000000003517,
          "Y": -0.3157440649651664
         },
         {
          "Outlier": "\"\\\"N/A\\\"\"",
          "X": -3.552713678800501e-14,
          "Y": -0.08454039542176561
         },
         {
          "Outlier": "\"\\\"N/A\\\"\"",
          "X": 0.09999999999996412,
          "Y": 0.8638774319159747
         },
         {
          "Outlier": "\"\\\"N/A\\\"\"",
          "X": 0.19999999999996376,
          "Y": 3.2509225365107066
         },
         {
          "Outlier": "\"\\\"N/A\\\"\"",
          "X": 0.2999999999999634,
          "Y": -0.2648533348986002
         },
         {
          "Outlier": "\"\\\"N/A\\\"\"",
          "X": 0.39999999999996305,
          "Y": 4.682441913927745
         },
         {
          "Outlier": "\"\\\"N/A\\\"\"",
          "X": 0.4999999999999627,
          "Y": 0.5719734169877149
         },
         {
          "Outlier": "\"\\\"N/A\\\"\"",
          "X": 0.5999999999999623,
          "Y": 2.4245368486494208
         },
         {
          "Outlier": "\"\\\"N/A\\\"\"",
          "X": 0.699999999999962,
          "Y": -5.204785412183889
         },
         {
          "Outlier": "\"\\\"N/A\\\"\"",
          "X": 0.7999999999999616,
          "Y": -1.9477575142338746
         },
         {
          "Outlier": "\"\\\"N/A\\\"\"",
          "X": 0.8999999999999613,
          "Y": -4.528434635625948
         },
         {
          "Outlier": "\"\\\"N/A\\\"\"",
          "X": 0.9999999999999609,
          "Y": -2.205838797284081
         },
         {
          "Outlier": "\"\\\"N/A\\\"\"",
          "X": 1.0999999999999606,
          "Y": -2.558714488037996
         },
         {
          "Outlier": "\"\\\"N/A\\\"\"",
          "X": 1.1999999999999602,
          "Y": -4.436223483346961
         },
         {
          "Outlier": "\"\\\"N/A\\\"\"",
          "X": 1.2999999999999599,
          "Y": -4.873193863188025
         },
         {
          "Outlier": "\"\\\"N/A\\\"\"",
          "X": 1.3999999999999595,
          "Y": -4.973368359378956
         },
         {
          "Outlier": "\"\\\"N/A\\\"\"",
          "X": 1.4999999999999591,
          "Y": -5.384990987378259
         },
         {
          "Outlier": "\"\\\"N/A\\\"\"",
          "X": 1.5999999999999588,
          "Y": -3.384777841994817
         },
         {
          "Outlier": "\"\\\"N/A\\\"\"",
          "X": 1.6999999999999584,
          "Y": -3.9411944066102302
         },
         {
          "Outlier": "\"\\\"N/A\\\"\"",
          "X": 1.799999999999958,
          "Y": -5.273374063394311
         },
         {
          "Outlier": "\"\\\"N/A\\\"\"",
          "X": 1.8999999999999577,
          "Y": -6.232848785449246
         },
         {
          "Outlier": "\"\\\"N/A\\\"\"",
          "X": 1.9999999999999574,
          "Y": -8.37255720967583
         },
         {
          "Outlier": "\"\\\"N/A\\\"\"",
          "X": 2.099999999999957,
          "Y": -6.39760964421012
         },
         {
          "Outlier": "\"\\\"N/A\\\"\"",
          "X": 2.1999999999999567,
          "Y": -8.19558831978914
         },
         {
          "Outlier": "\"\\\"N/A\\\"\"",
          "X": 2.2999999999999563,
          "Y": -8.398139684686942
         },
         {
          "Outlier": "\"\\\"N/A\\\"\"",
          "X": 2.399999999999956,
          "Y": -4.379388378770706
         },
         {
          "Outlier": "\"\\\"N/A\\\"\"",
          "X": 2.4999999999999556,
          "Y": -10.135670471633574
         },
         {
          "Outlier": "\"\\\"N/A\\\"\"",
          "X": 2.5999999999999552,
          "Y": -11.490338334952739
         },
         {
          "Outlier": "\"\\\"N/A\\\"\"",
          "X": 2.699999999999955,
          "Y": -5.204553880982006
         },
         {
          "Outlier": "\"\\\"N/A\\\"\"",
          "X": 2.7999999999999545,
          "Y": -7.145086768351461
         },
         {
          "Outlier": "\"\\\"N/A\\\"\"",
          "X": 2.899999999999954,
          "Y": -9.620423257321475
         },
         {
          "Outlier": "\"\\\"N/A\\\"\"",
          "X": 2.999999999999954,
          "Y": -10.006686063089816
         },
         {
          "Outlier": "\"\\\"N/A\\\"\"",
          "X": 3.0999999999999535,
          "Y": -10.166325523125701
         },
         {
          "Outlier": "\"\\\"N/A\\\"\"",
          "X": 3.199999999999953,
          "Y": -11.100021677500234
         },
         {
          "Outlier": "\"\\\"N/A\\\"\"",
          "X": 3.2999999999999527,
          "Y": -7.661468321576206
         },
         {
          "Outlier": "\"\\\"N/A\\\"\"",
          "X": 3.3999999999999524,
          "Y": -16.73620733663085
         },
         {
          "Outlier": "\"\\\"N/A\\\"\"",
          "X": 3.499999999999952,
          "Y": -7.728077428157092
         },
         {
          "Outlier": "\"\\\"N/A\\\"\"",
          "X": 3.5999999999999517,
          "Y": -14.27117515932619
         },
         {
          "Outlier": "\"\\\"N/A\\\"\"",
          "X": 3.6999999999999513,
          "Y": -7.970105325286256
         },
         {
          "Outlier": "\"\\\"N/A\\\"\"",
          "X": 3.799999999999951,
          "Y": -13.01045721575976
         },
         {
          "Outlier": "\"\\\"N/A\\\"\"",
          "X": 3.8999999999999506,
          "Y": -15.916133483279875
         },
         {
          "Outlier": "\"\\\"N/A\\\"\"",
          "X": 3.9999999999999503,
          "Y": -17.590898867005404
         },
         {
          "Outlier": "\"\\\"N/A\\\"\"",
          "X": 4.09999999999995,
          "Y": -13.791022104345533
         },
         {
          "Outlier": "\"\\\"N/A\\\"\"",
          "X": 4.1999999999999496,
          "Y": -15.055936420871861
         },
         {
          "Outlier": "\"\\\"N/A\\\"\"",
          "X": 4.299999999999949,
          "Y": -20.11155944725803
         },
         {
          "Outlier": "\"\\\"N/A\\\"\"",
          "X": 4.399999999999949,
          "Y": -16.824115238022365
         },
         {
          "Outlier": "\"\\\"N/A\\\"\"",
          "X": 4.4999999999999485,
          "Y": -15.970560084405085
         },
         {
          "Outlier": "\"\\\"N/A\\\"\"",
          "X": 4.599999999999948,
          "Y": -18.12790378041153
         },
         {
          "Outlier": "\"\\\"N/A\\\"\"",
          "X": 4.699999999999948,
          "Y": -23.014646071585396
         },
         {
          "Outlier": "\"\\\"N/A\\\"\"",
          "X": 4.799999999999947,
          "Y": -17.595234136942036
         },
         {
          "Outlier": "\"\\\"N/A\\\"\"",
          "X": 4.899999999999947,
          "Y": -17.262987523408846
         },
         {
          "Outlier": "\"\\\"N/A\\\"\"",
          "X": 4.999999999999947,
          "Y": -18.332678754044643
         },
         {
          "Outlier": "\"\\\"N/A\\\"\"",
          "X": 5.099999999999946,
          "Y": -22.661538649097256
         },
         {
          "Outlier": "\"\\\"N/A\\\"\"",
          "X": 5.199999999999946,
          "Y": -19.25165090801072
         },
         {
          "Outlier": "\"\\\"N/A\\\"\"",
          "X": 5.299999999999946,
          "Y": -25.741574564480683
         },
         {
          "Outlier": "\"\\\"N/A\\\"\"",
          "X": 5.399999999999945,
          "Y": -19.1799479008487
         },
         {
          "Outlier": "\"\\\"N/A\\\"\"",
          "X": 5.499999999999945,
          "Y": -20.913964976134952
         },
         {
          "Outlier": "\"\\\"N/A\\\"\"",
          "X": 5.599999999999945,
          "Y": -18.821213354120083
         },
         {
          "Outlier": "\"\\\"N/A\\\"\"",
          "X": 5.699999999999944,
          "Y": -18.81426898638453
         },
         {
          "Outlier": "\"\\\"N/A\\\"\"",
          "X": 5.799999999999944,
          "Y": -20.063747696130065
         },
         {
          "Outlier": "\"\\\"N/A\\\"\"",
          "X": 5.8999999999999435,
          "Y": -21.947217968813952
         },
         {
          "Outlier": "\"\\\"N/A\\\"\"",
          "X": 5.999999999999943,
          "Y": -21.712986690710288
         },
         {
          "Outlier": "\"\\\"N/A\\\"\"",
          "X": 6.099999999999945,
          "Y": -23.735511292386853
         },
         {
          "Outlier": "\"\\\"N/A\\\"\"",
          "X": 6.1999999999999424,
          "Y": -19.473910516141814
         },
         {
          "Outlier": "\"\\\"N/A\\\"\"",
          "X": 6.29999999999994,
          "Y": -22.74722039053462
         },
         {
          "Outlier": "\"\\\"N/A\\\"\"",
          "X": 6.399999999999942,
          "Y": -24.27417219780458
         },
         {
          "Outlier": "\"\\\"N/A\\\"\"",
          "X": 6.499999999999943,
          "Y": -24.088228360270858
         },
         {
          "Outlier": "\"\\\"N/A\\\"\"",
          "X": 6.599999999999941,
          "Y": -24.330306662882414
         },
         {
          "Outlier": "\"\\\"N/A\\\"\"",
          "X": 6.699999999999939,
          "Y": -24.23721458696589
         },
         {
          "Outlier": "\"\\\"N/A\\\"\"",
          "X": 6.79999999999994,
          "Y": -25.460621308828795
         },
         {
          "Outlier": "\"\\\"N/A\\\"\"",
          "X": 6.899999999999942,
          "Y": -25.1670261093582
         },
         {
          "Outlier": "\"\\\"N/A\\\"\"",
          "X": 6.99999999999994,
          "Y": -29.695182566699287
         },
         {
          "Outlier": "\"\\\"N/A\\\"\"",
          "X": 7.0999999999999375,
          "Y": -24.036248904976336
         },
         {
          "Outlier": "\"\\\"N/A\\\"\"",
          "X": 7.199999999999939,
          "Y": -29.060778261039232
         },
         {
          "Outlier": "\"\\\"N/A\\\"\"",
          "X": 7.29999999999994,
          "Y": -30.03379383086917
         },
         {
          "Outlier": "\"\\\"N/A\\\"\"",
          "X": 7.399999999999938,
          "Y": -30.82413366690183
         },
         {
          "Outlier": "\"\\\"N/A\\\"\"",
          "X": 7.499999999999936,
          "Y": -33.46623587403489
         },
         {
          "Outlier": "\"\\\"N/A\\\"\"",
          "X": 7.5999999999999375,
          "Y": -20.982259435859813
         },
         {
          "Outlier": "\"\\\"N/A\\\"\"",
          "X": 7.699999999999939,
          "Y": -29.01623110547328
         },
         {
          "Outlier": "\"\\\"N/A\\\"\"",
          "X": 7.799999999999937,
          "Y": -26.564828372744667
         },
         {
          "Outlier": "\"\\\"N/A\\\"\"",
          "X": 7.899999999999935,
          "Y": -31.660358791882324
         },
         {
          "Outlier": "\"\\\"N/A\\\"\"",
          "X": 7.999999999999936,
          "Y": -32.90657618841533
         },
         {
          "Outlier": "\"\\\"N/A\\\"\"",
          "X": 8.099999999999937,
          "Y": -26.932587620227604
         },
         {
          "Outlier": "\"\\\"N/A\\\"\"",
          "X": 8.199999999999935,
          "Y": -31.14385192883412
         },
         {
          "Outlier": "\"\\\"N/A\\\"\"",
          "X": 8.299999999999933,
          "Y": -31.461855339440355
         },
         {
          "Outlier": "\"\\\"N/A\\\"\"",
          "X": 8.399999999999935,
          "Y": -34.36512778494121
         },
         {
          "Outlier": "\"\\\"N/A\\\"\"",
          "X": 8.499999999999936,
          "Y": -30.94994956691331
         },
         {
          "Outlier": "\"\\\"N/A\\\"\"",
          "X": 8.599999999999934,
          "Y": -32.275879995886264
         },
         {
          "Outlier": "\"\\\"N/A\\\"\"",
          "X": 8.699999999999932,
          "Y": -30.45820988999892
         },
         {
          "Outlier": "\"\\\"N/A\\\"\"",
          "X": 8.799999999999933,
          "Y": -33.580862522454275
         },
         {
          "Outlier": "\"\\\"N/A\\\"\"",
          "X": 8.899999999999935,
          "Y": -31.602458263313228
         },
         {
          "Outlier": "\"\\\"N/A\\\"\"",
          "X": 8.999999999999932,
          "Y": -32.262298339152025
         },
         {
          "Outlier": "\"\\\"N/A\\\"\"",
          "X": 9.09999999999993,
          "Y": -33.084105132333185
         },
         {
          "Outlier": "\"\\\"N/A\\\"\"",
          "X": 9.199999999999932,
          "Y": -41.74586107822527
         },
         {
          "Outlier": "\"\\\"N/A\\\"\"",
          "X": 9.299999999999933,
          "Y": -36.96319325923758
         },
         {
          "Outlier": "\"\\\"N/A\\\"\"",
          "X": 9.399999999999931,
          "Y": -34.314611920841024
         },
         {
          "Outlier": "\"\\\"N/A\\\"\"",
          "X": 9.499999999999929,
          "Y": -30.453776392846066
         },
         {
          "Outlier": "\"\\\"N/A\\\"\"",
          "X": 9.59999999999993,
          "Y": -34.997893742270264
         },
         {
          "Outlier": "\"\\\"N/A\\\"\"",
          "X": 9.699999999999932,
          "Y": -41.82196607318404
         },
         {
          "Outlier": "\"\\\"N/A\\\"\"",
          "X": 9.79999999999993,
          "Y": -35.772596531625894
         },
         {
          "Outlier": "\"\\\"N/A\\\"\"",
          "X": 9.899999999999928,
          "Y": -37.30481151039532
         },
         {
          "Outlier": "\"\\\"N/A\\\"\"",
          "X": 9.999999999999929,
          "Y": -34.90015006575538
         }
        ]
       },
       "encoding": {
        "color": {
         "field": "Outlier"
        },
        "x": {
         "field": "X",
         "type": "quantitative"
        },
        "y": {
         "field": "Y",
         "type": "quantitative"
        }
       },
       "height": 200,
       "mark": "circle",
       "width": 200
      },
      "image/png": "[encoded data removed]"
     },
     "metadata": {},
     "output_type": "display_data"
    }
   ],
   "source": [
    "plotVega (fmap (second (T.pack . show)) (zip regressionSamples (Prelude.repeat \"N/A\")))"
   ]
  },
  {
   "cell_type": "code",
   "execution_count": 5,
   "metadata": {},
   "outputs": [
    {
     "data": {
      "text/plain": []
     },
     "metadata": {},
     "output_type": "display_data"
    }
   ],
   "source": [
    "regression :: (MonadInfer m) => [Double] -> [Double] -> m (Double, Double, Double)\n",
    "regression xs ys = do\n",
    "    params@(slope, intercept, noise) <- paramPriorRegression\n",
    "    forM (zip xs ys) \\(x, y) -> factor $ normalPdf (slope * x + intercept) (sqrt noise) y\n",
    "    return (slope, intercept, noise)\n",
    "\n",
    "mhRunsRegression <- sampleIOfixed $ prior $  mh 1000 $ regression range (snd <$> regressionSamples)\n"
   ]
  },
  {
   "cell_type": "code",
   "execution_count": 6,
   "metadata": {},
   "outputs": [
    {
     "data": {
      "application/vnd.vegalite.v4+json": {
       "$schema": "https://vega.github.io/schema/vega-lite/v4.json",
       "data": {
        "values": [
         {
          "Outlier": 1,
          "X": -10,
          "Y": 40.29061268903545
         },
         {
          "Outlier": 1,
          "X": -9.9,
          "Y": 39.89484314109689
         },
         {
          "Outlier": 1,
          "X": -9.8,
          "Y": 39.499073593158336
         },
         {
          "Outlier": 1,
          "X": -9.700000000000001,
          "Y": 39.10330404521978
         },
         {
          "Outlier": 1,
          "X": -9.600000000000001,
          "Y": 38.707534497281216
         },
         {
          "Outlier": 1,
          "X": -9.500000000000002,
          "Y": 38.31176494934266
         },
         {
          "Outlier": 1,
          "X": -9.400000000000002,
          "Y": 37.9159954014041
         },
         {
          "Outlier": 1,
          "X": -9.300000000000002,
          "Y": 37.52022585346554
         },
         {
          "Outlier": 1,
          "X": -9.200000000000003,
          "Y": 37.124456305526984
         },
         {
          "Outlier": 1,
          "X": -9.100000000000003,
          "Y": 36.72868675758843
         },
         {
          "Outlier": 1,
          "X": -9.000000000000004,
          "Y": 36.332917209649864
         },
         {
          "Outlier": 1,
          "X": -8.900000000000004,
          "Y": 35.93714766171131
         },
         {
          "Outlier": 1,
          "X": -8.800000000000004,
          "Y": 35.54137811377275
         },
         {
          "Outlier": 1,
          "X": -8.700000000000005,
          "Y": 35.14560856583419
         },
         {
          "Outlier": 1,
          "X": -8.600000000000005,
          "Y": 34.74983901789563
         },
         {
          "Outlier": 1,
          "X": -8.500000000000005,
          "Y": 34.354069469957075
         },
         {
          "Outlier": 1,
          "X": -8.400000000000006,
          "Y": 33.95829992201851
         },
         {
          "Outlier": 1,
          "X": -8.300000000000006,
          "Y": 33.562530374079955
         },
         {
          "Outlier": 1,
          "X": -8.200000000000006,
          "Y": 33.1667608261414
         },
         {
          "Outlier": 1,
          "X": -8.100000000000007,
          "Y": 32.770991278202835
         },
         {
          "Outlier": 1,
          "X": -8.000000000000007,
          "Y": 32.37522173026428
         },
         {
          "Outlier": 1,
          "X": -7.9000000000000075,
          "Y": 31.97945218232572
         },
         {
          "Outlier": 1,
          "X": -7.800000000000008,
          "Y": 31.583682634387163
         },
         {
          "Outlier": 1,
          "X": -7.700000000000008,
          "Y": 31.187913086448603
         },
         {
          "Outlier": 1,
          "X": -7.6000000000000085,
          "Y": 30.792143538510043
         },
         {
          "Outlier": 1,
          "X": -7.500000000000009,
          "Y": 30.396373990571487
         },
         {
          "Outlier": 1,
          "X": -7.400000000000009,
          "Y": 30.000604442632927
         },
         {
          "Outlier": 1,
          "X": -7.30000000000001,
          "Y": 29.604834894694367
         },
         {
          "Outlier": 1,
          "X": -7.20000000000001,
          "Y": 29.20906534675581
         },
         {
          "Outlier": 1,
          "X": -7.10000000000001,
          "Y": 28.81329579881725
         },
         {
          "Outlier": 1,
          "X": -7.000000000000011,
          "Y": 28.41752625087869
         },
         {
          "Outlier": 1,
          "X": -6.900000000000011,
          "Y": 28.021756702940134
         },
         {
          "Outlier": 1,
          "X": -6.800000000000011,
          "Y": 27.625987155001575
         },
         {
          "Outlier": 1,
          "X": -6.700000000000012,
          "Y": 27.230217607063015
         },
         {
          "Outlier": 1,
          "X": -6.600000000000012,
          "Y": 26.83444805912446
         },
         {
          "Outlier": 1,
          "X": -6.500000000000012,
          "Y": 26.4386785111859
         },
         {
          "Outlier": 1,
          "X": -6.400000000000013,
          "Y": 26.04290896324734
         },
         {
          "Outlier": 1,
          "X": -6.300000000000013,
          "Y": 25.647139415308782
         },
         {
          "Outlier": 1,
          "X": -6.2000000000000135,
          "Y": 25.251369867370222
         },
         {
          "Outlier": 1,
          "X": -6.100000000000014,
          "Y": 24.855600319431662
         },
         {
          "Outlier": 1,
          "X": -6.000000000000014,
          "Y": 24.459830771493106
         },
         {
          "Outlier": 1,
          "X": -5.900000000000015,
          "Y": 24.064061223554546
         },
         {
          "Outlier": 1,
          "X": -5.800000000000015,
          "Y": 23.66829167561599
         },
         {
          "Outlier": 1,
          "X": -5.700000000000015,
          "Y": 23.27252212767743
         },
         {
          "Outlier": 1,
          "X": -5.600000000000016,
          "Y": 22.87675257973887
         },
         {
          "Outlier": 1,
          "X": -5.500000000000016,
          "Y": 22.480983031800314
         },
         {
          "Outlier": 1,
          "X": -5.400000000000016,
          "Y": 22.085213483861754
         },
         {
          "Outlier": 1,
          "X": -5.300000000000017,
          "Y": 21.689443935923194
         },
         {
          "Outlier": 1,
          "X": -5.200000000000017,
          "Y": 21.293674387984638
         },
         {
          "Outlier": 1,
          "X": -5.100000000000017,
          "Y": 20.897904840046078
         },
         {
          "Outlier": 1,
          "X": -5.000000000000018,
          "Y": 20.502135292107518
         },
         {
          "Outlier": 1,
          "X": -4.900000000000018,
          "Y": 20.10636574416896
         },
         {
          "Outlier": 1,
          "X": -4.8000000000000185,
          "Y": 19.7105961962304
         },
         {
          "Outlier": 1,
          "X": -4.700000000000019,
          "Y": 19.31482664829184
         },
         {
          "Outlier": 1,
          "X": -4.600000000000019,
          "Y": 18.919057100353285
         },
         {
          "Outlier": 1,
          "X": -4.5000000000000195,
          "Y": 18.523287552414725
         },
         {
          "Outlier": 1,
          "X": -4.40000000000002,
          "Y": 18.127518004476165
         },
         {
          "Outlier": 1,
          "X": -4.30000000000002,
          "Y": 17.73174845653761
         },
         {
          "Outlier": 1,
          "X": -4.200000000000021,
          "Y": 17.33597890859905
         },
         {
          "Outlier": 1,
          "X": -4.100000000000021,
          "Y": 16.94020936066049
         },
         {
          "Outlier": 1,
          "X": -4.000000000000021,
          "Y": 16.544439812721933
         },
         {
          "Outlier": 1,
          "X": -3.9000000000000217,
          "Y": 16.148670264783373
         },
         {
          "Outlier": 1,
          "X": -3.800000000000022,
          "Y": 15.752900716844817
         },
         {
          "Outlier": 1,
          "X": -3.7000000000000224,
          "Y": 15.357131168906259
         },
         {
          "Outlier": 1,
          "X": -3.6000000000000227,
          "Y": 14.961361620967699
         },
         {
          "Outlier": 1,
          "X": -3.500000000000023,
          "Y": 14.56559207302914
         },
         {
          "Outlier": 1,
          "X": -3.4000000000000234,
          "Y": 14.169822525090582
         },
         {
          "Outlier": 1,
          "X": -3.300000000000024,
          "Y": 13.774052977152023
         },
         {
          "Outlier": 1,
          "X": -3.200000000000024,
          "Y": 13.378283429213464
         },
         {
          "Outlier": 1,
          "X": -3.1000000000000245,
          "Y": 12.982513881274906
         },
         {
          "Outlier": 1,
          "X": -3.000000000000025,
          "Y": 12.586744333336346
         },
         {
          "Outlier": 1,
          "X": -2.9000000000000252,
          "Y": 12.190974785397788
         },
         {
          "Outlier": 1,
          "X": -2.8000000000000256,
          "Y": 11.79520523745923
         },
         {
          "Outlier": 1,
          "X": -2.700000000000026,
          "Y": 11.39943568952067
         },
         {
          "Outlier": 1,
          "X": -2.6000000000000263,
          "Y": 11.003666141582112
         },
         {
          "Outlier": 1,
          "X": -2.5000000000000266,
          "Y": 10.607896593643554
         },
         {
          "Outlier": 1,
          "X": -2.400000000000027,
          "Y": 10.212127045704996
         },
         {
          "Outlier": 1,
          "X": -2.3000000000000274,
          "Y": 9.816357497766436
         },
         {
          "Outlier": 1,
          "X": -2.2000000000000277,
          "Y": 9.420587949827878
         },
         {
          "Outlier": 1,
          "X": -2.100000000000028,
          "Y": 9.02481840188932
         },
         {
          "Outlier": 1,
          "X": -2.0000000000000284,
          "Y": 8.62904885395076
         },
         {
          "Outlier": 1,
          "X": -1.9000000000000288,
          "Y": 8.233279306012202
         },
         {
          "Outlier": 1,
          "X": -1.8000000000000291,
          "Y": 7.837509758073642
         },
         {
          "Outlier": 1,
          "X": -1.7000000000000295,
          "Y": 7.441740210135084
         },
         {
          "Outlier": 1,
          "X": -1.6000000000000298,
          "Y": 7.045970662196525
         },
         {
          "Outlier": 1,
          "X": -1.5000000000000302,
          "Y": 6.650201114257967
         },
         {
          "Outlier": 1,
          "X": -1.4000000000000306,
          "Y": 6.254431566319408
         },
         {
          "Outlier": 1,
          "X": -1.300000000000031,
          "Y": 5.858662018380849
         },
         {
          "Outlier": 1,
          "X": -1.2000000000000313,
          "Y": 5.4628924704422905
         },
         {
          "Outlier": 1,
          "X": -1.1000000000000316,
          "Y": 5.0671229225037315
         },
         {
          "Outlier": 1,
          "X": -1.000000000000032,
          "Y": 4.671353374565173
         },
         {
          "Outlier": 1,
          "X": -0.9000000000000323,
          "Y": 4.275583826626614
         },
         {
          "Outlier": 1,
          "X": -0.8000000000000327,
          "Y": 3.8798142786880554
         },
         {
          "Outlier": 1,
          "X": -0.700000000000033,
          "Y": 3.4840447307494973
         },
         {
          "Outlier": 1,
          "X": -0.6000000000000334,
          "Y": 3.0882751828109383
         },
         {
          "Outlier": 1,
          "X": -0.5000000000000338,
          "Y": 2.69250563487238
         },
         {
          "Outlier": 1,
          "X": -0.4000000000000341,
          "Y": 2.296736086933821
         },
         {
          "Outlier": 1,
          "X": -0.30000000000003446,
          "Y": 1.9009665389952626
         },
         {
          "Outlier": 1,
          "X": -0.20000000000003482,
          "Y": 1.5051969910567038
         },
         {
          "Outlier": 1,
          "X": -0.10000000000003517,
          "Y": 1.1094274431181452
         },
         {
          "Outlier": 1,
          "X": -3.552713678800501e-14,
          "Y": 0.7136578951795864
         },
         {
          "Outlier": 1,
          "X": 0.09999999999996412,
          "Y": 0.3178883472410278
         },
         {
          "Outlier": 1,
          "X": 0.19999999999996376,
          "Y": -0.0778812006975308
         },
         {
          "Outlier": 1,
          "X": 0.2999999999999634,
          "Y": -0.47365074863608947
         },
         {
          "Outlier": 1,
          "X": 0.39999999999996305,
          "Y": -0.8694202965746483
         },
         {
          "Outlier": 1,
          "X": 0.4999999999999627,
          "Y": -1.2651898445132068
         },
         {
          "Outlier": 1,
          "X": 0.5999999999999623,
          "Y": -1.6609593924517656
         },
         {
          "Outlier": 1,
          "X": 0.699999999999962,
          "Y": -2.0567289403903244
         },
         {
          "Outlier": 1,
          "X": 0.7999999999999616,
          "Y": -2.4524984883288825
         },
         {
          "Outlier": 1,
          "X": 0.8999999999999613,
          "Y": -2.8482680362674415
         },
         {
          "Outlier": 1,
          "X": 0.9999999999999609,
          "Y": -3.2440375842060005
         },
         {
          "Outlier": 1,
          "X": 1.0999999999999606,
          "Y": -3.6398071321445586
         },
         {
          "Outlier": 1,
          "X": 1.1999999999999602,
          "Y": -4.035576680083118
         },
         {
          "Outlier": 1,
          "X": 1.2999999999999599,
          "Y": -4.431346228021677
         },
         {
          "Outlier": 1,
          "X": 1.3999999999999595,
          "Y": -4.827115775960235
         },
         {
          "Outlier": 1,
          "X": 1.4999999999999591,
          "Y": -5.222885323898794
         },
         {
          "Outlier": 1,
          "X": 1.5999999999999588,
          "Y": -5.618654871837353
         },
         {
          "Outlier": 1,
          "X": 1.6999999999999584,
          "Y": -6.014424419775911
         },
         {
          "Outlier": 1,
          "X": 1.799999999999958,
          "Y": -6.41019396771447
         },
         {
          "Outlier": 1,
          "X": 1.8999999999999577,
          "Y": -6.805963515653028
         },
         {
          "Outlier": 1,
          "X": 1.9999999999999574,
          "Y": -7.201733063591587
         },
         {
          "Outlier": 1,
          "X": 2.099999999999957,
          "Y": -7.597502611530145
         },
         {
          "Outlier": 1,
          "X": 2.1999999999999567,
          "Y": -7.993272159468705
         },
         {
          "Outlier": 1,
          "X": 2.2999999999999563,
          "Y": -8.389041707407262
         },
         {
          "Outlier": 1,
          "X": 2.399999999999956,
          "Y": -8.78481125534582
         },
         {
          "Outlier": 1,
          "X": 2.4999999999999556,
          "Y": -9.18058080328438
         },
         {
          "Outlier": 1,
          "X": 2.5999999999999552,
          "Y": -9.576350351222938
         },
         {
          "Outlier": 1,
          "X": 2.699999999999955,
          "Y": -9.972119899161497
         },
         {
          "Outlier": 1,
          "X": 2.7999999999999545,
          "Y": -10.367889447100055
         },
         {
          "Outlier": 1,
          "X": 2.899999999999954,
          "Y": -10.763658995038615
         },
         {
          "Outlier": 1,
          "X": 2.999999999999954,
          "Y": -11.159428542977173
         },
         {
          "Outlier": 1,
          "X": 3.0999999999999535,
          "Y": -11.55519809091573
         },
         {
          "Outlier": 1,
          "X": 3.199999999999953,
          "Y": -11.95096763885429
         },
         {
          "Outlier": 1,
          "X": 3.2999999999999527,
          "Y": -12.346737186792849
         },
         {
          "Outlier": 1,
          "X": 3.3999999999999524,
          "Y": -12.742506734731407
         },
         {
          "Outlier": 1,
          "X": 3.499999999999952,
          "Y": -13.138276282669967
         },
         {
          "Outlier": 1,
          "X": 3.5999999999999517,
          "Y": -13.534045830608525
         },
         {
          "Outlier": 1,
          "X": 3.6999999999999513,
          "Y": -13.929815378547083
         },
         {
          "Outlier": 1,
          "X": 3.799999999999951,
          "Y": -14.325584926485643
         },
         {
          "Outlier": 1,
          "X": 3.8999999999999506,
          "Y": -14.721354474424201
         },
         {
          "Outlier": 1,
          "X": 3.9999999999999503,
          "Y": -15.11712402236276
         },
         {
          "Outlier": 1,
          "X": 4.09999999999995,
          "Y": -15.512893570301317
         },
         {
          "Outlier": 1,
          "X": 4.1999999999999496,
          "Y": -15.908663118239877
         },
         {
          "Outlier": 1,
          "X": 4.299999999999949,
          "Y": -16.30443266617844
         },
         {
          "Outlier": 1,
          "X": 4.399999999999949,
          "Y": -16.700202214116995
         },
         {
          "Outlier": 1,
          "X": 4.4999999999999485,
          "Y": -17.095971762055555
         },
         {
          "Outlier": 1,
          "X": 4.599999999999948,
          "Y": -17.491741309994115
         },
         {
          "Outlier": 1,
          "X": 4.699999999999948,
          "Y": -17.88751085793267
         },
         {
          "Outlier": 1,
          "X": 4.799999999999947,
          "Y": -18.28328040587123
         },
         {
          "Outlier": 1,
          "X": 4.899999999999947,
          "Y": -18.679049953809788
         },
         {
          "Outlier": 1,
          "X": 4.999999999999947,
          "Y": -19.074819501748348
         },
         {
          "Outlier": 1,
          "X": 5.099999999999946,
          "Y": -19.470589049686907
         },
         {
          "Outlier": 1,
          "X": 5.199999999999946,
          "Y": -19.866358597625464
         },
         {
          "Outlier": 1,
          "X": 5.299999999999946,
          "Y": -20.262128145564024
         },
         {
          "Outlier": 1,
          "X": 5.399999999999945,
          "Y": -20.657897693502584
         },
         {
          "Outlier": 1,
          "X": 5.499999999999945,
          "Y": -21.05366724144114
         },
         {
          "Outlier": 1,
          "X": 5.599999999999945,
          "Y": -21.4494367893797
         },
         {
          "Outlier": 1,
          "X": 5.699999999999944,
          "Y": -21.84520633731826
         },
         {
          "Outlier": 1,
          "X": 5.799999999999944,
          "Y": -22.240975885256816
         },
         {
          "Outlier": 1,
          "X": 5.8999999999999435,
          "Y": -22.636745433195376
         },
         {
          "Outlier": 1,
          "X": 5.999999999999943,
          "Y": -23.032514981133936
         },
         {
          "Outlier": 1,
          "X": 6.099999999999945,
          "Y": -23.4282845290725
         },
         {
          "Outlier": 1,
          "X": 6.1999999999999424,
          "Y": -23.824054077011052
         },
         {
          "Outlier": 1,
          "X": 6.29999999999994,
          "Y": -24.219823624949605
         },
         {
          "Outlier": 1,
          "X": 6.399999999999942,
          "Y": -24.61559317288817
         },
         {
          "Outlier": 1,
          "X": 6.499999999999943,
          "Y": -25.011362720826735
         },
         {
          "Outlier": 1,
          "X": 6.599999999999941,
          "Y": -25.407132268765288
         },
         {
          "Outlier": 1,
          "X": 6.699999999999939,
          "Y": -25.802901816703837
         },
         {
          "Outlier": 1,
          "X": 6.79999999999994,
          "Y": -26.198671364642404
         },
         {
          "Outlier": 1,
          "X": 6.899999999999942,
          "Y": -26.59444091258097
         },
         {
          "Outlier": 1,
          "X": 6.99999999999994,
          "Y": -26.99021046051952
         },
         {
          "Outlier": 1,
          "X": 7.0999999999999375,
          "Y": -27.385980008458073
         },
         {
          "Outlier": 1,
          "X": 7.199999999999939,
          "Y": -27.78174955639664
         },
         {
          "Outlier": 1,
          "X": 7.29999999999994,
          "Y": -28.177519104335204
         },
         {
          "Outlier": 1,
          "X": 7.399999999999938,
          "Y": -28.573288652273757
         },
         {
          "Outlier": 1,
          "X": 7.499999999999936,
          "Y": -28.96905820021231
         },
         {
          "Outlier": 1,
          "X": 7.5999999999999375,
          "Y": -29.364827748150873
         },
         {
          "Outlier": 1,
          "X": 7.699999999999939,
          "Y": -29.76059729608944
         },
         {
          "Outlier": 1,
          "X": 7.799999999999937,
          "Y": -30.15636684402799
         },
         {
          "Outlier": 1,
          "X": 7.899999999999935,
          "Y": -30.552136391966542
         },
         {
          "Outlier": 1,
          "X": 7.999999999999936,
          "Y": -30.94790593990511
         },
         {
          "Outlier": 1,
          "X": 8.099999999999937,
          "Y": -31.343675487843676
         },
         {
          "Outlier": 1,
          "X": 8.199999999999935,
          "Y": -31.739445035782225
         },
         {
          "Outlier": 1,
          "X": 8.299999999999933,
          "Y": -32.135214583720774
         },
         {
          "Outlier": 1,
          "X": 8.399999999999935,
          "Y": -32.530984131659345
         },
         {
          "Outlier": 1,
          "X": 8.499999999999936,
          "Y": -32.92675367959791
         },
         {
          "Outlier": 1,
          "X": 8.599999999999934,
          "Y": -33.32252322753646
         },
         {
          "Outlier": 1,
          "X": 8.699999999999932,
          "Y": -33.718292775475014
         },
         {
          "Outlier": 1,
          "X": 8.799999999999933,
          "Y": -34.11406232341358
         },
         {
          "Outlier": 1,
          "X": 8.899999999999935,
          "Y": -34.50983187135214
         },
         {
          "Outlier": 1,
          "X": 8.999999999999932,
          "Y": -34.9056014192907
         },
         {
          "Outlier": 1,
          "X": 9.09999999999993,
          "Y": -35.301370967229246
         },
         {
          "Outlier": 1,
          "X": 9.199999999999932,
          "Y": -35.69714051516781
         },
         {
          "Outlier": 1,
          "X": 9.299999999999933,
          "Y": -36.09291006310638
         },
         {
          "Outlier": 1,
          "X": 9.399999999999931,
          "Y": -36.48867961104493
         },
         {
          "Outlier": 1,
          "X": 9.499999999999929,
          "Y": -36.88444915898348
         },
         {
          "Outlier": 1,
          "X": 9.59999999999993,
          "Y": -37.28021870692205
         },
         {
          "Outlier": 1,
          "X": 9.699999999999932,
          "Y": -37.67598825486061
         },
         {
          "Outlier": 1,
          "X": 9.79999999999993,
          "Y": -38.07175780279916
         },
         {
          "Outlier": 1,
          "X": 9.899999999999928,
          "Y": -38.46752735073772
         },
         {
          "Outlier": 1,
          "X": 9.999999999999929,
          "Y": -38.86329689867628
         }
        ]
       },
       "encoding": {
        "color": {},
        "x": {
         "field": "X",
         "type": "quantitative"
        },
        "y": {
         "field": "Y",
         "type": "quantitative"
        }
       },
       "height": 200,
       "mark": "line",
       "width": 200
      },
      "image/png": "[encoded data removed]"
     },
     "metadata": {},
     "output_type": "display_data"
    }
   ],
   "source": [
    "plotVega (range, (\\(s,i,_) -> (s,i)) $ head mhRunsRegression) \n"
   ]
  },
  {
   "cell_type": "markdown",
   "metadata": {},
   "source": [
    "This is a sample from the MCMC walk. Since this is an easy inference problem, it wasn't hard to generate good samples.\n",
    "\n",
    "We can also view the posterior predictive, as follows:"
   ]
  },
  {
   "cell_type": "code",
   "execution_count": 7,
   "metadata": {},
   "outputs": [
    {
     "data": {
      "application/vnd.vegalite.v4+json": {
       "$schema": "https://vega.github.io/schema/vega-lite/v4.json",
       "data": {
        "values": [
         {
          "Outlier": "\"\\\"N/A\\\"\"",
          "X": -10,
          "Y": 33.89297296354226
         },
         {
          "Outlier": "\"\\\"N/A\\\"\"",
          "X": -9.9,
          "Y": 40.0430836326801
         },
         {
          "Outlier": "\"\\\"N/A\\\"\"",
          "X": -9.8,
          "Y": 38.66161102535759
         },
         {
          "Outlier": "\"\\\"N/A\\\"\"",
          "X": -9.700000000000001,
          "Y": 37.8698801956449
         },
         {
          "Outlier": "\"\\\"N/A\\\"\"",
          "X": -9.600000000000001,
          "Y": 35.77282616091393
         },
         {
          "Outlier": "\"\\\"N/A\\\"\"",
          "X": -9.500000000000002,
          "Y": 36.82727280879963
         },
         {
          "Outlier": "\"\\\"N/A\\\"\"",
          "X": -9.400000000000002,
          "Y": 33.79832328551383
         },
         {
          "Outlier": "\"\\\"N/A\\\"\"",
          "X": -9.300000000000002,
          "Y": 39.585067252338504
         },
         {
          "Outlier": "\"\\\"N/A\\\"\"",
          "X": -9.200000000000003,
          "Y": 44.794542932959146
         },
         {
          "Outlier": "\"\\\"N/A\\\"\"",
          "X": -9.100000000000003,
          "Y": 34.80906192195939
         },
         {
          "Outlier": "\"\\\"N/A\\\"\"",
          "X": -9.000000000000004,
          "Y": 44.78379497996606
         },
         {
          "Outlier": "\"\\\"N/A\\\"\"",
          "X": -8.900000000000004,
          "Y": 31.213147682557146
         },
         {
          "Outlier": "\"\\\"N/A\\\"\"",
          "X": -8.800000000000004,
          "Y": 30.682256661892012
         },
         {
          "Outlier": "\"\\\"N/A\\\"\"",
          "X": -8.700000000000005,
          "Y": 39.27664930882383
         },
         {
          "Outlier": "\"\\\"N/A\\\"\"",
          "X": -8.600000000000005,
          "Y": 36.76902658200223
         },
         {
          "Outlier": "\"\\\"N/A\\\"\"",
          "X": -8.500000000000005,
          "Y": 33.37763585785953
         },
         {
          "Outlier": "\"\\\"N/A\\\"\"",
          "X": -8.400000000000006,
          "Y": 33.559852573890986
         },
         {
          "Outlier": "\"\\\"N/A\\\"\"",
          "X": -8.300000000000006,
          "Y": 33.15901651759206
         },
         {
          "Outlier": "\"\\\"N/A\\\"\"",
          "X": -8.200000000000006,
          "Y": 33.763521513969515
         },
         {
          "Outlier": "\"\\\"N/A\\\"\"",
          "X": -8.100000000000007,
          "Y": 30.560036577852973
         },
         {
          "Outlier": "\"\\\"N/A\\\"\"",
          "X": -8.000000000000007,
          "Y": 38.84854838059727
         },
         {
          "Outlier": "\"\\\"N/A\\\"\"",
          "X": -7.9000000000000075,
          "Y": 34.4136283183364
         },
         {
          "Outlier": "\"\\\"N/A\\\"\"",
          "X": -7.800000000000008,
          "Y": 29.16167230018845
         },
         {
          "Outlier": "\"\\\"N/A\\\"\"",
          "X": -7.700000000000008,
          "Y": 29.589037809034387
         },
         {
          "Outlier": "\"\\\"N/A\\\"\"",
          "X": -7.6000000000000085,
          "Y": 27.8405943349252
         },
         {
          "Outlier": "\"\\\"N/A\\\"\"",
          "X": -7.500000000000009,
          "Y": 32.573057013568494
         },
         {
          "Outlier": "\"\\\"N/A\\\"\"",
          "X": -7.400000000000009,
          "Y": 29.952118001634137
         },
         {
          "Outlier": "\"\\\"N/A\\\"\"",
          "X": -7.30000000000001,
          "Y": 28.632495804232956
         },
         {
          "Outlier": "\"\\\"N/A\\\"\"",
          "X": -7.20000000000001,
          "Y": 27.8242132743096
         },
         {
          "Outlier": "\"\\\"N/A\\\"\"",
          "X": -7.10000000000001,
          "Y": 27.654393358785978
         },
         {
          "Outlier": "\"\\\"N/A\\\"\"",
          "X": -7.000000000000011,
          "Y": 22.06656173060328
         },
         {
          "Outlier": "\"\\\"N/A\\\"\"",
          "X": -6.900000000000011,
          "Y": 26.927060285132303
         },
         {
          "Outlier": "\"\\\"N/A\\\"\"",
          "X": -6.800000000000011,
          "Y": 27.44084791254536
         },
         {
          "Outlier": "\"\\\"N/A\\\"\"",
          "X": -6.700000000000012,
          "Y": 32.22970796729254
         },
         {
          "Outlier": "\"\\\"N/A\\\"\"",
          "X": -6.600000000000012,
          "Y": 31.71815332601078
         },
         {
          "Outlier": "\"\\\"N/A\\\"\"",
          "X": -6.500000000000012,
          "Y": 25.998502104609162
         },
         {
          "Outlier": "\"\\\"N/A\\\"\"",
          "X": -6.400000000000013,
          "Y": 29.30403233781999
         },
         {
          "Outlier": "\"\\\"N/A\\\"\"",
          "X": -6.300000000000013,
          "Y": 27.436444186731904
         },
         {
          "Outlier": "\"\\\"N/A\\\"\"",
          "X": -6.2000000000000135,
          "Y": 24.52147144417808
         },
         {
          "Outlier": "\"\\\"N/A\\\"\"",
          "X": -6.100000000000014,
          "Y": 19.54205443974908
         },
         {
          "Outlier": "\"\\\"N/A\\\"\"",
          "X": -6.000000000000014,
          "Y": 25.90648501031238
         },
         {
          "Outlier": "\"\\\"N/A\\\"\"",
          "X": -5.900000000000015,
          "Y": 23.493206073269366
         },
         {
          "Outlier": "\"\\\"N/A\\\"\"",
          "X": -5.800000000000015,
          "Y": 23.37963029838749
         },
         {
          "Outlier": "\"\\\"N/A\\\"\"",
          "X": -5.700000000000015,
          "Y": 24.390903824526692
         },
         {
          "Outlier": "\"\\\"N/A\\\"\"",
          "X": -5.600000000000016,
          "Y": 25.651783294620817
         },
         {
          "Outlier": "\"\\\"N/A\\\"\"",
          "X": -5.500000000000016,
          "Y": 22.74848117093144
         },
         {
          "Outlier": "\"\\\"N/A\\\"\"",
          "X": -5.400000000000016,
          "Y": 19.3865093697708
         },
         {
          "Outlier": "\"\\\"N/A\\\"\"",
          "X": -5.300000000000017,
          "Y": 27.83944675944166
         },
         {
          "Outlier": "\"\\\"N/A\\\"\"",
          "X": -5.200000000000017,
          "Y": 25.84426692223377
         },
         {
          "Outlier": "\"\\\"N/A\\\"\"",
          "X": -5.100000000000017,
          "Y": 19.500281797246714
         },
         {
          "Outlier": "\"\\\"N/A\\\"\"",
          "X": -5.000000000000018,
          "Y": 20.693741501328137
         },
         {
          "Outlier": "\"\\\"N/A\\\"\"",
          "X": -4.900000000000018,
          "Y": 20.064319797816637
         },
         {
          "Outlier": "\"\\\"N/A\\\"\"",
          "X": -4.8000000000000185,
          "Y": 21.02352177707782
         },
         {
          "Outlier": "\"\\\"N/A\\\"\"",
          "X": -4.700000000000019,
          "Y": 21.906600783660142
         },
         {
          "Outlier": "\"\\\"N/A\\\"\"",
          "X": -4.600000000000019,
          "Y": 23.9972965550538
         },
         {
          "Outlier": "\"\\\"N/A\\\"\"",
          "X": -4.5000000000000195,
          "Y": 21.766589485225392
         },
         {
          "Outlier": "\"\\\"N/A\\\"\"",
          "X": -4.40000000000002,
          "Y": 22.09845236355146
         },
         {
          "Outlier": "\"\\\"N/A\\\"\"",
          "X": -4.30000000000002,
          "Y": 17.2018627101834
         },
         {
          "Outlier": "\"\\\"N/A\\\"\"",
          "X": -4.200000000000021,
          "Y": 12.96200286290361
         },
         {
          "Outlier": "\"\\\"N/A\\\"\"",
          "X": -4.100000000000021,
          "Y": 17.085346937425733
         },
         {
          "Outlier": "\"\\\"N/A\\\"\"",
          "X": -4.000000000000021,
          "Y": 15.797897537078514
         },
         {
          "Outlier": "\"\\\"N/A\\\"\"",
          "X": -3.9000000000000217,
          "Y": 13.840637597181455
         },
         {
          "Outlier": "\"\\\"N/A\\\"\"",
          "X": -3.800000000000022,
          "Y": 16.908900300833388
         },
         {
          "Outlier": "\"\\\"N/A\\\"\"",
          "X": -3.7000000000000224,
          "Y": 17.16949590929847
         },
         {
          "Outlier": "\"\\\"N/A\\\"\"",
          "X": -3.6000000000000227,
          "Y": 14.231732117819297
         },
         {
          "Outlier": "\"\\\"N/A\\\"\"",
          "X": -3.500000000000023,
          "Y": 9.242888579498647
         },
         {
          "Outlier": "\"\\\"N/A\\\"\"",
          "X": -3.4000000000000234,
          "Y": 13.046142669950612
         },
         {
          "Outlier": "\"\\\"N/A\\\"\"",
          "X": -3.300000000000024,
          "Y": 10.678528344183647
         },
         {
          "Outlier": "\"\\\"N/A\\\"\"",
          "X": -3.200000000000024,
          "Y": 14.8863364951644
         },
         {
          "Outlier": "\"\\\"N/A\\\"\"",
          "X": -3.1000000000000245,
          "Y": 11.19679701667571
         },
         {
          "Outlier": "\"\\\"N/A\\\"\"",
          "X": -3.000000000000025,
          "Y": 10.500372739629352
         },
         {
          "Outlier": "\"\\\"N/A\\\"\"",
          "X": -2.9000000000000252,
          "Y": 10.464343797779655
         },
         {
          "Outlier": "\"\\\"N/A\\\"\"",
          "X": -2.8000000000000256,
          "Y": 13.74526255120754
         },
         {
          "Outlier": "\"\\\"N/A\\\"\"",
          "X": -2.700000000000026,
          "Y": 11.889045010699158
         },
         {
          "Outlier": "\"\\\"N/A\\\"\"",
          "X": -2.6000000000000263,
          "Y": 12.60957304303249
         },
         {
          "Outlier": "\"\\\"N/A\\\"\"",
          "X": -2.5000000000000266,
          "Y": 9.50271586473591
         },
         {
          "Outlier": "\"\\\"N/A\\\"\"",
          "X": -2.400000000000027,
          "Y": 3.7122811841584626
         },
         {
          "Outlier": "\"\\\"N/A\\\"\"",
          "X": -2.3000000000000274,
          "Y": 10.988275149431514
         },
         {
          "Outlier": "\"\\\"N/A\\\"\"",
          "X": -2.2000000000000277,
          "Y": 8.024138471911753
         },
         {
          "Outlier": "\"\\\"N/A\\\"\"",
          "X": -2.100000000000028,
          "Y": 8.70543779995528
         },
         {
          "Outlier": "\"\\\"N/A\\\"\"",
          "X": -2.0000000000000284,
          "Y": 10.12432174442037
         },
         {
          "Outlier": "\"\\\"N/A\\\"\"",
          "X": -1.9000000000000288,
          "Y": 3.09300777748427
         },
         {
          "Outlier": "\"\\\"N/A\\\"\"",
          "X": -1.8000000000000291,
          "Y": 5.980673379127364
         },
         {
          "Outlier": "\"\\\"N/A\\\"\"",
          "X": -1.7000000000000295,
          "Y": 1.584190766678816
         },
         {
          "Outlier": "\"\\\"N/A\\\"\"",
          "X": -1.6000000000000298,
          "Y": 7.7440684379361
         },
         {
          "Outlier": "\"\\\"N/A\\\"\"",
          "X": -1.5000000000000302,
          "Y": 4.331296486622781
         },
         {
          "Outlier": "\"\\\"N/A\\\"\"",
          "X": -1.4000000000000306,
          "Y": 5.448479346151636
         },
         {
          "Outlier": "\"\\\"N/A\\\"\"",
          "X": -1.300000000000031,
          "Y": 9.985011317316436
         },
         {
          "Outlier": "\"\\\"N/A\\\"\"",
          "X": -1.2000000000000313,
          "Y": 1.3489395166230995
         },
         {
          "Outlier": "\"\\\"N/A\\\"\"",
          "X": -1.1000000000000316,
          "Y": 0.790191040537068
         },
         {
          "Outlier": "\"\\\"N/A\\\"\"",
          "X": -1.000000000000032,
          "Y": 0.6339907016545894
         },
         {
          "Outlier": "\"\\\"N/A\\\"\"",
          "X": -0.9000000000000323,
          "Y": 1.9412106106759812
         },
         {
          "Outlier": "\"\\\"N/A\\\"\"",
          "X": -0.8000000000000327,
          "Y": 8.339111574409076
         },
         {
          "Outlier": "\"\\\"N/A\\\"\"",
          "X": -0.700000000000033,
          "Y": 5.743015706113801
         },
         {
          "Outlier": "\"\\\"N/A\\\"\"",
          "X": -0.6000000000000334,
          "Y": 8.988083181110973
         },
         {
          "Outlier": "\"\\\"N/A\\\"\"",
          "X": -0.5000000000000338,
          "Y": -1.3503805960429247
         },
         {
          "Outlier": "\"\\\"N/A\\\"\"",
          "X": -0.4000000000000341,
          "Y": 7.782669485882764
         },
         {
          "Outlier": "\"\\\"N/A\\\"\"",
          "X": -0.30000000000003446,
          "Y": 2.9601719349386926
         },
         {
          "Outlier": "\"\\\"N/A\\\"\"",
          "X": -0.20000000000003482,
          "Y": 2.8878934479151672
         },
         {
          "Outlier": "\"\\\"N/A\\\"\"",
          "X": -0.10000000000003517,
          "Y": 0.47571304329862474
         },
         {
          "Outlier": "\"\\\"N/A\\\"\"",
          "X": -3.552713678800501e-14,
          "Y": 3.0403438303934633
         },
         {
          "Outlier": "\"\\\"N/A\\\"\"",
          "X": 0.09999999999996412,
          "Y": -2.9676023748974725
         },
         {
          "Outlier": "\"\\\"N/A\\\"\"",
          "X": 0.19999999999996376,
          "Y": 2.147735744535755
         },
         {
          "Outlier": "\"\\\"N/A\\\"\"",
          "X": 0.2999999999999634,
          "Y": 6.125547044976109
         },
         {
          "Outlier": "\"\\\"N/A\\\"\"",
          "X": 0.39999999999996305,
          "Y": 4.862905999680613
         },
         {
          "Outlier": "\"\\\"N/A\\\"\"",
          "X": 0.4999999999999627,
          "Y": -2.8790663445740114
         },
         {
          "Outlier": "\"\\\"N/A\\\"\"",
          "X": 0.5999999999999623,
          "Y": -5.162642401247264
         },
         {
          "Outlier": "\"\\\"N/A\\\"\"",
          "X": 0.699999999999962,
          "Y": -2.171349317089527
         },
         {
          "Outlier": "\"\\\"N/A\\\"\"",
          "X": 0.7999999999999616,
          "Y": -4.619364541792816
         },
         {
          "Outlier": "\"\\\"N/A\\\"\"",
          "X": 0.8999999999999613,
          "Y": 1.3281973102011522
         },
         {
          "Outlier": "\"\\\"N/A\\\"\"",
          "X": 0.9999999999999609,
          "Y": -1.0593262815788385
         },
         {
          "Outlier": "\"\\\"N/A\\\"\"",
          "X": 1.0999999999999606,
          "Y": -9.07924056870757
         },
         {
          "Outlier": "\"\\\"N/A\\\"\"",
          "X": 1.1999999999999602,
          "Y": -2.1614233059863004
         },
         {
          "Outlier": "\"\\\"N/A\\\"\"",
          "X": 1.2999999999999599,
          "Y": 0.31345430713853695
         },
         {
          "Outlier": "\"\\\"N/A\\\"\"",
          "X": 1.3999999999999595,
          "Y": -5.400277578279462
         },
         {
          "Outlier": "\"\\\"N/A\\\"\"",
          "X": 1.4999999999999591,
          "Y": -4.436188526671772
         },
         {
          "Outlier": "\"\\\"N/A\\\"\"",
          "X": 1.5999999999999588,
          "Y": -2.9102179378921664
         },
         {
          "Outlier": "\"\\\"N/A\\\"\"",
          "X": 1.6999999999999584,
          "Y": -5.135169825376525
         },
         {
          "Outlier": "\"\\\"N/A\\\"\"",
          "X": 1.799999999999958,
          "Y": -5.065288489461462
         },
         {
          "Outlier": "\"\\\"N/A\\\"\"",
          "X": 1.8999999999999577,
          "Y": -3.1211027470413693
         },
         {
          "Outlier": "\"\\\"N/A\\\"\"",
          "X": 1.9999999999999574,
          "Y": -6.459177978696219
         },
         {
          "Outlier": "\"\\\"N/A\\\"\"",
          "X": 2.099999999999957,
          "Y": -3.8896982088240093
         },
         {
          "Outlier": "\"\\\"N/A\\\"\"",
          "X": 2.1999999999999567,
          "Y": -4.7593136769019875
         },
         {
          "Outlier": "\"\\\"N/A\\\"\"",
          "X": 2.2999999999999563,
          "Y": -12.181190487174742
         },
         {
          "Outlier": "\"\\\"N/A\\\"\"",
          "X": 2.399999999999956,
          "Y": -6.673684284142729
         },
         {
          "Outlier": "\"\\\"N/A\\\"\"",
          "X": 2.4999999999999556,
          "Y": -9.789023088089891
         },
         {
          "Outlier": "\"\\\"N/A\\\"\"",
          "X": 2.5999999999999552,
          "Y": -4.740043170991181
         },
         {
          "Outlier": "\"\\\"N/A\\\"\"",
          "X": 2.699999999999955,
          "Y": -8.055683384988896
         },
         {
          "Outlier": "\"\\\"N/A\\\"\"",
          "X": 2.7999999999999545,
          "Y": -12.63437286025416
         },
         {
          "Outlier": "\"\\\"N/A\\\"\"",
          "X": 2.899999999999954,
          "Y": -12.085964619725967
         },
         {
          "Outlier": "\"\\\"N/A\\\"\"",
          "X": 2.999999999999954,
          "Y": -9.422524072024432
         },
         {
          "Outlier": "\"\\\"N/A\\\"\"",
          "X": 3.0999999999999535,
          "Y": -8.886074101407017
         },
         {
          "Outlier": "\"\\\"N/A\\\"\"",
          "X": 3.199999999999953,
          "Y": -11.27810399561823
         },
         {
          "Outlier": "\"\\\"N/A\\\"\"",
          "X": 3.2999999999999527,
          "Y": -9.855198652168369
         },
         {
          "Outlier": "\"\\\"N/A\\\"\"",
          "X": 3.3999999999999524,
          "Y": -10.170888705769473
         },
         {
          "Outlier": "\"\\\"N/A\\\"\"",
          "X": 3.499999999999952,
          "Y": -14.55708867386954
         },
         {
          "Outlier": "\"\\\"N/A\\\"\"",
          "X": 3.5999999999999517,
          "Y": -14.27117515932619
         },
         {
          "Outlier": "\"\\\"N/A\\\"\"",
          "X": 3.6999999999999513,
          "Y": -8.090394722911157
         },
         {
          "Outlier": "\"\\\"N/A\\\"\"",
          "X": 3.799999999999951,
          "Y": -10.273304567592001
         },
         {
          "Outlier": "\"\\\"N/A\\\"\"",
          "X": 3.8999999999999506,
          "Y": -11.695073212432655
         },
         {
          "Outlier": "\"\\\"N/A\\\"\"",
          "X": 3.9999999999999503,
          "Y": -11.867129810402322
         },
         {
          "Outlier": "\"\\\"N/A\\\"\"",
          "X": 4.09999999999995,
          "Y": -16.8498154588503
         },
         {
          "Outlier": "\"\\\"N/A\\\"\"",
          "X": 4.1999999999999496,
          "Y": -16.53896588436071
         },
         {
          "Outlier": "\"\\\"N/A\\\"\"",
          "X": 4.299999999999949,
          "Y": -11.663516915984527
         },
         {
          "Outlier": "\"\\\"N/A\\\"\"",
          "X": 4.399999999999949,
          "Y": -12.698087649578806
         },
         {
          "Outlier": "\"\\\"N/A\\\"\"",
          "X": 4.4999999999999485,
          "Y": -18.177565366157218
         },
         {
          "Outlier": "\"\\\"N/A\\\"\"",
          "X": 4.599999999999948,
          "Y": -16.84436848865934
         },
         {
          "Outlier": "\"\\\"N/A\\\"\"",
          "X": 4.699999999999948,
          "Y": -15.420716046678377
         },
         {
          "Outlier": "\"\\\"N/A\\\"\"",
          "X": 4.799999999999947,
          "Y": -18.473050756952166
         },
         {
          "Outlier": "\"\\\"N/A\\\"\"",
          "X": 4.899999999999947,
          "Y": -19.121156777139454
         },
         {
          "Outlier": "\"\\\"N/A\\\"\"",
          "X": 4.999999999999947,
          "Y": -17.165692870099107
         },
         {
          "Outlier": "\"\\\"N/A\\\"\"",
          "X": 5.099999999999946,
          "Y": -20.891369262299733
         },
         {
          "Outlier": "\"\\\"N/A\\\"\"",
          "X": 5.199999999999946,
          "Y": -13.607610821652585
         },
         {
          "Outlier": "\"\\\"N/A\\\"\"",
          "X": 5.299999999999946,
          "Y": -17.12307347164733
         },
         {
          "Outlier": "\"\\\"N/A\\\"\"",
          "X": 5.399999999999945,
          "Y": -13.958609602085442
         },
         {
          "Outlier": "\"\\\"N/A\\\"\"",
          "X": 5.499999999999945,
          "Y": -17.47768600225186
         },
         {
          "Outlier": "\"\\\"N/A\\\"\"",
          "X": 5.599999999999945,
          "Y": -17.604436050814414
         },
         {
          "Outlier": "\"\\\"N/A\\\"\"",
          "X": 5.699999999999944,
          "Y": -21.27275817850835
         },
         {
          "Outlier": "\"\\\"N/A\\\"\"",
          "X": 5.799999999999944,
          "Y": -19.55705686119181
         },
         {
          "Outlier": "\"\\\"N/A\\\"\"",
          "X": 5.8999999999999435,
          "Y": -17.404886201878703
         },
         {
          "Outlier": "\"\\\"N/A\\\"\"",
          "X": 5.999999999999943,
          "Y": -19.140197771117332
         },
         {
          "Outlier": "\"\\\"N/A\\\"\"",
          "X": 6.099999999999945,
          "Y": -20.337375686131875
         },
         {
          "Outlier": "\"\\\"N/A\\\"\"",
          "X": 6.1999999999999424,
          "Y": -24.110897872822957
         },
         {
          "Outlier": "\"\\\"N/A\\\"\"",
          "X": 6.29999999999994,
          "Y": -20.134833060486056
         },
         {
          "Outlier": "\"\\\"N/A\\\"\"",
          "X": 6.399999999999942,
          "Y": -27.569200086636886
         },
         {
          "Outlier": "\"\\\"N/A\\\"\"",
          "X": 6.499999999999943,
          "Y": -23.83296768502689
         },
         {
          "Outlier": "\"\\\"N/A\\\"\"",
          "X": 6.599999999999941,
          "Y": -19.568447927681344
         },
         {
          "Outlier": "\"\\\"N/A\\\"\"",
          "X": 6.699999999999939,
          "Y": -27.6097813814334
         },
         {
          "Outlier": "\"\\\"N/A\\\"\"",
          "X": 6.79999999999994,
          "Y": -25.481923917490427
         },
         {
          "Outlier": "\"\\\"N/A\\\"\"",
          "X": 6.899999999999942,
          "Y": -20.47696894626756
         },
         {
          "Outlier": "\"\\\"N/A\\\"\"",
          "X": 6.99999999999994,
          "Y": -30.072976724664414
         },
         {
          "Outlier": "\"\\\"N/A\\\"\"",
          "X": 7.0999999999999375,
          "Y": -24.217778137252267
         },
         {
          "Outlier": "\"\\\"N/A\\\"\"",
          "X": 7.199999999999939,
          "Y": -27.41626527539948
         },
         {
          "Outlier": "\"\\\"N/A\\\"\"",
          "X": 7.29999999999994,
          "Y": -24.29177692372403
         },
         {
          "Outlier": "\"\\\"N/A\\\"\"",
          "X": 7.399999999999938,
          "Y": -26.86607247588861
         },
         {
          "Outlier": "\"\\\"N/A\\\"\"",
          "X": 7.499999999999936,
          "Y": -33.371120085808656
         },
         {
          "Outlier": "\"\\\"N/A\\\"\"",
          "X": 7.5999999999999375,
          "Y": -27.69470537042696
         },
         {
          "Outlier": "\"\\\"N/A\\\"\"",
          "X": 7.699999999999939,
          "Y": -30.340277774372453
         },
         {
          "Outlier": "\"\\\"N/A\\\"\"",
          "X": 7.799999999999937,
          "Y": -29.33878658504028
         },
         {
          "Outlier": "\"\\\"N/A\\\"\"",
          "X": 7.899999999999935,
          "Y": -27.322602248932427
         },
         {
          "Outlier": "\"\\\"N/A\\\"\"",
          "X": 7.999999999999936,
          "Y": -24.961014504360598
         },
         {
          "Outlier": "\"\\\"N/A\\\"\"",
          "X": 8.099999999999937,
          "Y": -30.17995321583299
         },
         {
          "Outlier": "\"\\\"N/A\\\"\"",
          "X": 8.199999999999935,
          "Y": -30.913884146956836
         },
         {
          "Outlier": "\"\\\"N/A\\\"\"",
          "X": 8.299999999999933,
          "Y": -35.59069775591435
         },
         {
          "Outlier": "\"\\\"N/A\\\"\"",
          "X": 8.399999999999935,
          "Y": -32.51809926605115
         },
         {
          "Outlier": "\"\\\"N/A\\\"\"",
          "X": 8.499999999999936,
          "Y": -34.05406321361595
         },
         {
          "Outlier": "\"\\\"N/A\\\"\"",
          "X": 8.599999999999934,
          "Y": -35.060601380261694
         },
         {
          "Outlier": "\"\\\"N/A\\\"\"",
          "X": 8.699999999999932,
          "Y": -30.289200177070093
         },
         {
          "Outlier": "\"\\\"N/A\\\"\"",
          "X": 8.799999999999933,
          "Y": -33.30586313399759
         },
         {
          "Outlier": "\"\\\"N/A\\\"\"",
          "X": 8.899999999999935,
          "Y": -29.201854094753724
         },
         {
          "Outlier": "\"\\\"N/A\\\"\"",
          "X": 8.999999999999932,
          "Y": -33.052803274249136
         },
         {
          "Outlier": "\"\\\"N/A\\\"\"",
          "X": 9.09999999999993,
          "Y": -34.10907548599581
         },
         {
          "Outlier": "\"\\\"N/A\\\"\"",
          "X": 9.199999999999932,
          "Y": -34.656490155989154
         },
         {
          "Outlier": "\"\\\"N/A\\\"\"",
          "X": 9.299999999999933,
          "Y": -34.68778165829074
         },
         {
          "Outlier": "\"\\\"N/A\\\"\"",
          "X": 9.399999999999931,
          "Y": -38.19065664034532
         },
         {
          "Outlier": "\"\\\"N/A\\\"\"",
          "X": 9.499999999999929,
          "Y": -27.81001552071432
         },
         {
          "Outlier": "\"\\\"N/A\\\"\"",
          "X": 9.59999999999993,
          "Y": -28.888845574204367
         },
         {
          "Outlier": "\"\\\"N/A\\\"\"",
          "X": 9.699999999999932,
          "Y": -39.24911332358177
         },
         {
          "Outlier": "\"\\\"N/A\\\"\"",
          "X": 9.79999999999993,
          "Y": -36.60715162976766
         },
         {
          "Outlier": "\"\\\"N/A\\\"\"",
          "X": 9.899999999999928,
          "Y": -34.35270565592144
         },
         {
          "Outlier": "\"\\\"N/A\\\"\"",
          "X": 9.999999999999929,
          "Y": -44.00421495806466
         }
        ]
       },
       "encoding": {
        "color": {
         "field": "Outlier"
        },
        "x": {
         "field": "X",
         "type": "quantitative"
        },
        "y": {
         "field": "Y",
         "type": "quantitative"
        }
       },
       "height": 200,
       "mark": "circle",
       "width": 200
      },
      "image/png": "[encoded data removed]"
     },
     "metadata": {},
     "output_type": "display_data"
    }
   ],
   "source": [
    "posteriorPredictive :: MonadInfer m => [Double] -> [Double] -> m [Double]\n",
    "posteriorPredictive xs ys = do\n",
    "    (slope, intercept, noise) <- regression xs ys\n",
    "    forM xs \\x -> do\n",
    "            let y' = x * slope + intercept\n",
    "            normal y' (sqrt noise)\n",
    "\n",
    "\n",
    "predictive <- head <$> (sampleIOfixed $ prior $ mh 1000 $ posteriorPredictive range (snd <$> regressionSamples))\n",
    "plotVega (fmap (second (T.pack . show)) (zip (zip range predictive) (Prelude.repeat \"N/A\")))\n"
   ]
  },
  {
   "cell_type": "markdown",
   "metadata": {},
   "source": [
    "Inspired by the tutorials on probabilistic programming language Gen (https://www.gen.dev/tutorials/iterative-inference/tutorial), we'll make the inference problem harder by using the example of a regression with outliers. The idea is that each datapoint $(x,y)$ has $y$ either linearly dependent on $x$, or randomly sampled (an outlier). So the goal of inference is to *jointly* work out what the linear relationship is and which points flout it."
   ]
  },
  {
   "cell_type": "code",
   "execution_count": 8,
   "metadata": {},
   "outputs": [],
   "source": [
    "paramPrior = do\n",
    "    slope <- normal 0 2\n",
    "    intercept <- normal 0 2\n",
    "    noise <- gamma 1 1\n",
    "    prob_outlier <- uniform 0 0.5 \n",
    "    return (slope, intercept, noise, prob_outlier)\n",
    "\n",
    "forward (slope, intercept, noise, probOutlier) x = do\n",
    "    isOutlier <- bernoulli probOutlier\n",
    "    let meanParams = if isOutlier\n",
    "                    then (0, 20)\n",
    "                    else (x*slope + intercept, sqrt noise)\n",
    "    return (meanParams, isOutlier)\n",
    "\n",
    "regressionWithOutliersData :: (MonadSample m, Traversable t) => t Double -> m (t ((Double, Double), Bool))\n",
    "regressionWithOutliersData xs = do\n",
    "    params <- paramPrior\n",
    "\n",
    "    forM xs \\x -> do\n",
    "        ((mu, std), isOutlier) <- forward params x\n",
    "        y <- normal mu std\n",
    "        return ((x, y), isOutlier)"
   ]
  },
  {
   "cell_type": "markdown",
   "metadata": {},
   "source": [
    "This is our model. It describes a process for getting $y$ from $x$. Specifically, you start by drawing values for the slope $s$, bias $b$ and noise $n$. Then for each input $x$, you flip a coin. If it lands one way, you draw a $y$ value from a normal with mean $x*slope + bias$ and std $n$, and otherwise you draw from a centered normal with large variance.\n",
    "\n",
    "Given a list of $x$ values, this gives a distribution over lists of $y$ values, from which we can sample:\n",
    "\n",
    "\n"
   ]
  },
  {
   "cell_type": "code",
   "execution_count": 9,
   "metadata": {},
   "outputs": [
    {
     "data": {
      "application/vnd.vegalite.v4+json": {
       "$schema": "https://vega.github.io/schema/vega-lite/v4.json",
       "data": {
        "values": [
         {
          "Outlier": "\"True\"",
          "X": -10,
          "Y": -2.521234491836898
         },
         {
          "Outlier": "\"False\"",
          "X": -9.9,
          "Y": 39.67740025651369
         },
         {
          "Outlier": "\"False\"",
          "X": -9.8,
          "Y": 39.11002289889532
         },
         {
          "Outlier": "\"False\"",
          "X": -9.700000000000001,
          "Y": 39.663380750519416
         },
         {
          "Outlier": "\"False\"",
          "X": -9.600000000000001,
          "Y": 38.63525372379263
         },
         {
          "Outlier": "\"True\"",
          "X": -9.500000000000002,
          "Y": 21.718114769732157
         },
         {
          "Outlier": "\"False\"",
          "X": -9.400000000000002,
          "Y": 38.21945275561706
         },
         {
          "Outlier": "\"False\"",
          "X": -9.300000000000002,
          "Y": 38.293707944715315
         },
         {
          "Outlier": "\"False\"",
          "X": -9.200000000000003,
          "Y": 37.159549140254946
         },
         {
          "Outlier": "\"True\"",
          "X": -9.100000000000003,
          "Y": -13.755720847406922
         },
         {
          "Outlier": "\"False\"",
          "X": -9.000000000000004,
          "Y": 36.0359890625334
         },
         {
          "Outlier": "\"False\"",
          "X": -8.900000000000004,
          "Y": 35.97868424938885
         },
         {
          "Outlier": "\"False\"",
          "X": -8.800000000000004,
          "Y": 34.911871302379765
         },
         {
          "Outlier": "\"False\"",
          "X": -8.700000000000005,
          "Y": 35.59232125045854
         },
         {
          "Outlier": "\"True\"",
          "X": -8.600000000000005,
          "Y": 21.209522912272885
         },
         {
          "Outlier": "\"False\"",
          "X": -8.500000000000005,
          "Y": 34.79006042657316
         },
         {
          "Outlier": "\"True\"",
          "X": -8.400000000000006,
          "Y": 30.127415054316845
         },
         {
          "Outlier": "\"False\"",
          "X": -8.300000000000006,
          "Y": 33.93916942663839
         },
         {
          "Outlier": "\"False\"",
          "X": -8.200000000000006,
          "Y": 33.47724176988136
         },
         {
          "Outlier": "\"False\"",
          "X": -8.100000000000007,
          "Y": 33.01243325153256
         },
         {
          "Outlier": "\"False\"",
          "X": -8.000000000000007,
          "Y": 31.769667115158395
         },
         {
          "Outlier": "\"True\"",
          "X": -7.9000000000000075,
          "Y": 1.3254369926330278
         },
         {
          "Outlier": "\"False\"",
          "X": -7.800000000000008,
          "Y": 31.87530954056396
         },
         {
          "Outlier": "\"True\"",
          "X": -7.700000000000008,
          "Y": -7.583413175043844
         },
         {
          "Outlier": "\"False\"",
          "X": -7.6000000000000085,
          "Y": 30.789761918519794
         },
         {
          "Outlier": "\"False\"",
          "X": -7.500000000000009,
          "Y": 30.301856379875147
         },
         {
          "Outlier": "\"False\"",
          "X": -7.400000000000009,
          "Y": 30.172650542924796
         },
         {
          "Outlier": "\"False\"",
          "X": -7.30000000000001,
          "Y": 29.62215521214598
         },
         {
          "Outlier": "\"False\"",
          "X": -7.20000000000001,
          "Y": 29.362277797595393
         },
         {
          "Outlier": "\"False\"",
          "X": -7.10000000000001,
          "Y": 29.18714016670103
         },
         {
          "Outlier": "\"False\"",
          "X": -7.000000000000011,
          "Y": 28.931559665745826
         },
         {
          "Outlier": "\"True\"",
          "X": -6.900000000000011,
          "Y": -28.39230800017263
         },
         {
          "Outlier": "\"False\"",
          "X": -6.800000000000011,
          "Y": 27.729561858602
         },
         {
          "Outlier": "\"False\"",
          "X": -6.700000000000012,
          "Y": 27.889078879777298
         },
         {
          "Outlier": "\"True\"",
          "X": -6.600000000000012,
          "Y": 10.479809459457055
         },
         {
          "Outlier": "\"False\"",
          "X": -6.500000000000012,
          "Y": 26.89758640991153
         },
         {
          "Outlier": "\"False\"",
          "X": -6.400000000000013,
          "Y": 26.75439442696137
         },
         {
          "Outlier": "\"False\"",
          "X": -6.300000000000013,
          "Y": 26.37265763438327
         },
         {
          "Outlier": "\"False\"",
          "X": -6.2000000000000135,
          "Y": 25.655552716885865
         },
         {
          "Outlier": "\"True\"",
          "X": -6.100000000000014,
          "Y": 0.5479742283234765
         },
         {
          "Outlier": "\"False\"",
          "X": -6.000000000000014,
          "Y": 24.670672558031747
         },
         {
          "Outlier": "\"False\"",
          "X": -5.900000000000015,
          "Y": 24.312084136880483
         },
         {
          "Outlier": "\"False\"",
          "X": -5.800000000000015,
          "Y": 23.34745647561783
         },
         {
          "Outlier": "\"False\"",
          "X": -5.700000000000015,
          "Y": 23.104612468824392
         },
         {
          "Outlier": "\"False\"",
          "X": -5.600000000000016,
          "Y": 22.76305748363282
         },
         {
          "Outlier": "\"True\"",
          "X": -5.500000000000016,
          "Y": 25.726496546899146
         },
         {
          "Outlier": "\"False\"",
          "X": -5.400000000000016,
          "Y": 22.296310116841802
         },
         {
          "Outlier": "\"False\"",
          "X": -5.300000000000017,
          "Y": 22.203826486651263
         },
         {
          "Outlier": "\"False\"",
          "X": -5.200000000000017,
          "Y": 21.958702417247437
         },
         {
          "Outlier": "\"True\"",
          "X": -5.100000000000017,
          "Y": -9.523191338674229
         },
         {
          "Outlier": "\"False\"",
          "X": -5.000000000000018,
          "Y": 21.31970763642207
         },
         {
          "Outlier": "\"False\"",
          "X": -4.900000000000018,
          "Y": 21.246551409243814
         },
         {
          "Outlier": "\"False\"",
          "X": -4.8000000000000185,
          "Y": 20.641673068678983
         },
         {
          "Outlier": "\"True\"",
          "X": -4.700000000000019,
          "Y": -0.6823323610830885
         },
         {
          "Outlier": "\"True\"",
          "X": -4.600000000000019,
          "Y": 2.9649289118444173
         },
         {
          "Outlier": "\"False\"",
          "X": -4.5000000000000195,
          "Y": 18.814493048576566
         },
         {
          "Outlier": "\"False\"",
          "X": -4.40000000000002,
          "Y": 18.457611721819426
         },
         {
          "Outlier": "\"False\"",
          "X": -4.30000000000002,
          "Y": 18.407092683664164
         },
         {
          "Outlier": "\"False\"",
          "X": -4.200000000000021,
          "Y": 17.855439360174394
         },
         {
          "Outlier": "\"False\"",
          "X": -4.100000000000021,
          "Y": 17.129315506623794
         },
         {
          "Outlier": "\"False\"",
          "X": -4.000000000000021,
          "Y": 16.87535269377321
         },
         {
          "Outlier": "\"False\"",
          "X": -3.9000000000000217,
          "Y": 17.1458780919337
         },
         {
          "Outlier": "\"True\"",
          "X": -3.800000000000022,
          "Y": -17.80455292054352
         },
         {
          "Outlier": "\"False\"",
          "X": -3.7000000000000224,
          "Y": 16.18834858824815
         },
         {
          "Outlier": "\"False\"",
          "X": -3.6000000000000227,
          "Y": 15.496465465090925
         },
         {
          "Outlier": "\"False\"",
          "X": -3.500000000000023,
          "Y": 15.05942558800972
         },
         {
          "Outlier": "\"False\"",
          "X": -3.4000000000000234,
          "Y": 13.967667376376518
         },
         {
          "Outlier": "\"False\"",
          "X": -3.300000000000024,
          "Y": 14.043461647766236
         },
         {
          "Outlier": "\"False\"",
          "X": -3.200000000000024,
          "Y": 13.94568941318978
         },
         {
          "Outlier": "\"True\"",
          "X": -3.1000000000000245,
          "Y": -21.979946965155662
         },
         {
          "Outlier": "\"False\"",
          "X": -3.000000000000025,
          "Y": 13.09195834007663
         },
         {
          "Outlier": "\"True\"",
          "X": -2.9000000000000252,
          "Y": -5.809886295726887
         },
         {
          "Outlier": "\"False\"",
          "X": -2.8000000000000256,
          "Y": 12.090289164607391
         },
         {
          "Outlier": "\"True\"",
          "X": -2.700000000000026,
          "Y": -0.2791747814301354
         },
         {
          "Outlier": "\"False\"",
          "X": -2.6000000000000263,
          "Y": 11.501841514229575
         },
         {
          "Outlier": "\"True\"",
          "X": -2.5000000000000266,
          "Y": -0.8730342312852736
         },
         {
          "Outlier": "\"True\"",
          "X": -2.400000000000027,
          "Y": 5.055704668335648
         },
         {
          "Outlier": "\"False\"",
          "X": -2.3000000000000274,
          "Y": 10.59303057466537
         },
         {
          "Outlier": "\"False\"",
          "X": -2.2000000000000277,
          "Y": 10.134488085459694
         },
         {
          "Outlier": "\"False\"",
          "X": -2.100000000000028,
          "Y": 9.61733107229569
         },
         {
          "Outlier": "\"False\"",
          "X": -2.0000000000000284,
          "Y": 9.660560425993399
         },
         {
          "Outlier": "\"False\"",
          "X": -1.9000000000000288,
          "Y": 8.689276090660803
         },
         {
          "Outlier": "\"False\"",
          "X": -1.8000000000000291,
          "Y": 8.401718279331623
         },
         {
          "Outlier": "\"False\"",
          "X": -1.7000000000000295,
          "Y": 7.959348961546404
         },
         {
          "Outlier": "\"False\"",
          "X": -1.6000000000000298,
          "Y": 7.069593718231957
         },
         {
          "Outlier": "\"False\"",
          "X": -1.5000000000000302,
          "Y": 6.881556778045452
         },
         {
          "Outlier": "\"True\"",
          "X": -1.4000000000000306,
          "Y": -21.17291849671105
         },
         {
          "Outlier": "\"True\"",
          "X": -1.300000000000031,
          "Y": 52.34675095300174
         },
         {
          "Outlier": "\"False\"",
          "X": -1.2000000000000313,
          "Y": 6.4028715733143535
         },
         {
          "Outlier": "\"True\"",
          "X": -1.1000000000000316,
          "Y": -19.28137172938182
         },
         {
          "Outlier": "\"False\"",
          "X": -1.000000000000032,
          "Y": 5.1840045345284285
         },
         {
          "Outlier": "\"False\"",
          "X": -0.9000000000000323,
          "Y": 4.440284604758928
         },
         {
          "Outlier": "\"False\"",
          "X": -0.8000000000000327,
          "Y": 4.461920599647435
         },
         {
          "Outlier": "\"False\"",
          "X": -0.700000000000033,
          "Y": 3.9943780397841007
         },
         {
          "Outlier": "\"False\"",
          "X": -0.6000000000000334,
          "Y": 3.9049426407551766
         },
         {
          "Outlier": "\"False\"",
          "X": -0.5000000000000338,
          "Y": 2.2586980847837657
         },
         {
          "Outlier": "\"True\"",
          "X": -0.4000000000000341,
          "Y": 9.00654633879142
         },
         {
          "Outlier": "\"False\"",
          "X": -0.30000000000003446,
          "Y": 2.672283920145434
         },
         {
          "Outlier": "\"True\"",
          "X": -0.20000000000003482,
          "Y": 9.785458568911093
         },
         {
          "Outlier": "\"False\"",
          "X": -0.10000000000003517,
          "Y": 2.1274354431601026
         },
         {
          "Outlier": "\"True\"",
          "X": -3.552713678800501e-14,
          "Y": 5.487247935254752
         },
         {
          "Outlier": "\"False\"",
          "X": 0.09999999999996412,
          "Y": 0.8469985296439175
         },
         {
          "Outlier": "\"False\"",
          "X": 0.19999999999996376,
          "Y": -0.07399325655515332
         },
         {
          "Outlier": "\"False\"",
          "X": 0.2999999999999634,
          "Y": 0.6730492778465256
         },
         {
          "Outlier": "\"False\"",
          "X": 0.39999999999996305,
          "Y": -0.11855348023786239
         },
         {
          "Outlier": "\"True\"",
          "X": 0.4999999999999627,
          "Y": -2.794066957652075
         },
         {
          "Outlier": "\"False\"",
          "X": 0.5999999999999623,
          "Y": -0.9578611330012305
         },
         {
          "Outlier": "\"True\"",
          "X": 0.699999999999962,
          "Y": 1.9852879542151132
         },
         {
          "Outlier": "\"True\"",
          "X": 0.7999999999999616,
          "Y": -1.842165738760618
         },
         {
          "Outlier": "\"True\"",
          "X": 0.8999999999999613,
          "Y": -12.588776612448756
         },
         {
          "Outlier": "\"False\"",
          "X": 0.9999999999999609,
          "Y": -2.755502905439426
         },
         {
          "Outlier": "\"False\"",
          "X": 1.0999999999999606,
          "Y": -4.093688109832629
         },
         {
          "Outlier": "\"True\"",
          "X": 1.1999999999999602,
          "Y": 5.68975005029962
         },
         {
          "Outlier": "\"True\"",
          "X": 1.2999999999999599,
          "Y": 6.064884403004088
         },
         {
          "Outlier": "\"False\"",
          "X": 1.3999999999999595,
          "Y": -4.192760592225037
         },
         {
          "Outlier": "\"True\"",
          "X": 1.4999999999999591,
          "Y": 4.051796671307383
         },
         {
          "Outlier": "\"False\"",
          "X": 1.5999999999999588,
          "Y": -4.962382541700099
         },
         {
          "Outlier": "\"False\"",
          "X": 1.6999999999999584,
          "Y": -5.144758377818554
         },
         {
          "Outlier": "\"False\"",
          "X": 1.799999999999958,
          "Y": -6.263874192512141
         },
         {
          "Outlier": "\"False\"",
          "X": 1.8999999999999577,
          "Y": -6.0494304373928545
         },
         {
          "Outlier": "\"False\"",
          "X": 1.9999999999999574,
          "Y": -6.759341053764889
         },
         {
          "Outlier": "\"False\"",
          "X": 2.099999999999957,
          "Y": -7.43414720292558
         },
         {
          "Outlier": "\"True\"",
          "X": 2.1999999999999567,
          "Y": -20.685959009678115
         },
         {
          "Outlier": "\"False\"",
          "X": 2.2999999999999563,
          "Y": -7.518674105296605
         },
         {
          "Outlier": "\"False\"",
          "X": 2.399999999999956,
          "Y": -7.936389554349256
         },
         {
          "Outlier": "\"True\"",
          "X": 2.4999999999999556,
          "Y": -39.749638356895154
         },
         {
          "Outlier": "\"True\"",
          "X": 2.5999999999999552,
          "Y": -16.459571352871816
         },
         {
          "Outlier": "\"False\"",
          "X": 2.699999999999955,
          "Y": -8.929278886191215
         },
         {
          "Outlier": "\"False\"",
          "X": 2.7999999999999545,
          "Y": -9.991213003414062
         },
         {
          "Outlier": "\"False\"",
          "X": 2.899999999999954,
          "Y": -9.61310899196389
         },
         {
          "Outlier": "\"False\"",
          "X": 2.999999999999954,
          "Y": -10.762164152569243
         },
         {
          "Outlier": "\"False\"",
          "X": 3.0999999999999535,
          "Y": -10.834906417910803
         },
         {
          "Outlier": "\"False\"",
          "X": 3.199999999999953,
          "Y": -11.960453142233714
         },
         {
          "Outlier": "\"False\"",
          "X": 3.2999999999999527,
          "Y": -12.133124623377235
         },
         {
          "Outlier": "\"False\"",
          "X": 3.3999999999999524,
          "Y": -11.829356631327434
         },
         {
          "Outlier": "\"True\"",
          "X": 3.499999999999952,
          "Y": 1.9131500987249788
         },
         {
          "Outlier": "\"False\"",
          "X": 3.5999999999999517,
          "Y": -13.106120831255001
         },
         {
          "Outlier": "\"True\"",
          "X": 3.6999999999999513,
          "Y": 5.153684454115108
         },
         {
          "Outlier": "\"False\"",
          "X": 3.799999999999951,
          "Y": -13.177086158547187
         },
         {
          "Outlier": "\"True\"",
          "X": 3.8999999999999506,
          "Y": 22.84056140240709
         },
         {
          "Outlier": "\"True\"",
          "X": 3.9999999999999503,
          "Y": 3.2396386364094205
         },
         {
          "Outlier": "\"True\"",
          "X": 4.09999999999995,
          "Y": 6.708380733069407
         },
         {
          "Outlier": "\"True\"",
          "X": 4.1999999999999496,
          "Y": 20.86878984770728
         },
         {
          "Outlier": "\"True\"",
          "X": 4.299999999999949,
          "Y": -6.3966233979241345
         },
         {
          "Outlier": "\"False\"",
          "X": 4.399999999999949,
          "Y": -15.785735382891342
         },
         {
          "Outlier": "\"False\"",
          "X": 4.4999999999999485,
          "Y": -16.73382946331982
         },
         {
          "Outlier": "\"True\"",
          "X": 4.599999999999948,
          "Y": -7.517052069557901
         },
         {
          "Outlier": "\"True\"",
          "X": 4.699999999999948,
          "Y": 10.156710674811363
         },
         {
          "Outlier": "\"False\"",
          "X": 4.799999999999947,
          "Y": -16.83048878259643
         },
         {
          "Outlier": "\"False\"",
          "X": 4.899999999999947,
          "Y": -17.309640012988567
         },
         {
          "Outlier": "\"False\"",
          "X": 4.999999999999947,
          "Y": -18.079517856227127
         },
         {
          "Outlier": "\"False\"",
          "X": 5.099999999999946,
          "Y": -18.673627035327787
         },
         {
          "Outlier": "\"False\"",
          "X": 5.199999999999946,
          "Y": -18.74550820845924
         },
         {
          "Outlier": "\"False\"",
          "X": 5.299999999999946,
          "Y": -19.139435693179685
         },
         {
          "Outlier": "\"False\"",
          "X": 5.399999999999945,
          "Y": -20.946899682593696
         },
         {
          "Outlier": "\"False\"",
          "X": 5.499999999999945,
          "Y": -19.860593409044125
         },
         {
          "Outlier": "\"False\"",
          "X": 5.599999999999945,
          "Y": -20.386430448548364
         },
         {
          "Outlier": "\"True\"",
          "X": 5.699999999999944,
          "Y": -30.545333673724084
         },
         {
          "Outlier": "\"False\"",
          "X": 5.799999999999944,
          "Y": -21.256832565786333
         },
         {
          "Outlier": "\"False\"",
          "X": 5.8999999999999435,
          "Y": -21.911797460126905
         },
         {
          "Outlier": "\"False\"",
          "X": 5.999999999999943,
          "Y": -22.657705810789512
         },
         {
          "Outlier": "\"False\"",
          "X": 6.099999999999945,
          "Y": -22.23573086223646
         },
         {
          "Outlier": "\"True\"",
          "X": 6.1999999999999424,
          "Y": 0.6228623942149287
         },
         {
          "Outlier": "\"False\"",
          "X": 6.29999999999994,
          "Y": -23.472600505813528
         },
         {
          "Outlier": "\"True\"",
          "X": 6.399999999999942,
          "Y": 2.239515459618779
         },
         {
          "Outlier": "\"False\"",
          "X": 6.499999999999943,
          "Y": -24.185156799035344
         },
         {
          "Outlier": "\"False\"",
          "X": 6.599999999999941,
          "Y": -24.712246888441484
         },
         {
          "Outlier": "\"False\"",
          "X": 6.699999999999939,
          "Y": -25.22882161725313
         },
         {
          "Outlier": "\"False\"",
          "X": 6.79999999999994,
          "Y": -24.555155221653113
         },
         {
          "Outlier": "\"True\"",
          "X": 6.899999999999942,
          "Y": -9.982787037204472
         },
         {
          "Outlier": "\"False\"",
          "X": 6.99999999999994,
          "Y": -26.46551665634421
         },
         {
          "Outlier": "\"True\"",
          "X": 7.0999999999999375,
          "Y": -16.15505585602092
         },
         {
          "Outlier": "\"True\"",
          "X": 7.199999999999939,
          "Y": -8.329039625200902
         },
         {
          "Outlier": "\"False\"",
          "X": 7.29999999999994,
          "Y": -26.573155611851078
         },
         {
          "Outlier": "\"False\"",
          "X": 7.399999999999938,
          "Y": -28.259000340276867
         },
         {
          "Outlier": "\"False\"",
          "X": 7.499999999999936,
          "Y": -27.864677840134014
         },
         {
          "Outlier": "\"False\"",
          "X": 7.5999999999999375,
          "Y": -28.611064460117465
         },
         {
          "Outlier": "\"True\"",
          "X": 7.699999999999939,
          "Y": 16.081726222125667
         },
         {
          "Outlier": "\"False\"",
          "X": 7.799999999999937,
          "Y": -29.251467775513188
         },
         {
          "Outlier": "\"False\"",
          "X": 7.899999999999935,
          "Y": -30.112066080947912
         },
         {
          "Outlier": "\"False\"",
          "X": 7.999999999999936,
          "Y": -30.022705069078626
         },
         {
          "Outlier": "\"False\"",
          "X": 8.099999999999937,
          "Y": -30.459881346088824
         },
         {
          "Outlier": "\"False\"",
          "X": 8.199999999999935,
          "Y": -30.58168677459182
         },
         {
          "Outlier": "\"True\"",
          "X": 8.299999999999933,
          "Y": -8.965399225398668
         },
         {
          "Outlier": "\"True\"",
          "X": 8.399999999999935,
          "Y": 0.3844483081277079
         },
         {
          "Outlier": "\"False\"",
          "X": 8.499999999999936,
          "Y": -32.2668793571185
         },
         {
          "Outlier": "\"False\"",
          "X": 8.599999999999934,
          "Y": -32.89663365198977
         },
         {
          "Outlier": "\"True\"",
          "X": 8.699999999999932,
          "Y": -20.90534898412312
         },
         {
          "Outlier": "\"True\"",
          "X": 8.799999999999933,
          "Y": 41.63808599001814
         },
         {
          "Outlier": "\"False\"",
          "X": 8.899999999999935,
          "Y": -33.587713547319666
         },
         {
          "Outlier": "\"True\"",
          "X": 8.999999999999932,
          "Y": 43.48114623515133
         },
         {
          "Outlier": "\"False\"",
          "X": 9.09999999999993,
          "Y": -34.685798385060366
         },
         {
          "Outlier": "\"False\"",
          "X": 9.199999999999932,
          "Y": -34.601868328752744
         },
         {
          "Outlier": "\"False\"",
          "X": 9.299999999999933,
          "Y": -34.93076813877653
         },
         {
          "Outlier": "\"False\"",
          "X": 9.399999999999931,
          "Y": -35.93296957397491
         },
         {
          "Outlier": "\"False\"",
          "X": 9.499999999999929,
          "Y": -36.300393492283
         },
         {
          "Outlier": "\"False\"",
          "X": 9.59999999999993,
          "Y": -35.50303592371494
         },
         {
          "Outlier": "\"True\"",
          "X": 9.699999999999932,
          "Y": -2.805606058508546
         },
         {
          "Outlier": "\"False\"",
          "X": 9.79999999999993,
          "Y": -37.09554743147912
         },
         {
          "Outlier": "\"False\"",
          "X": 9.899999999999928,
          "Y": -37.342187269902
         },
         {
          "Outlier": "\"True\"",
          "X": 9.999999999999929,
          "Y": 19.83568065833196
         }
        ]
       },
       "encoding": {
        "color": {
         "field": "Outlier"
        },
        "x": {
         "field": "X",
         "type": "quantitative"
        },
        "y": {
         "field": "Y",
         "type": "quantitative"
        }
       },
       "height": 200,
       "mark": "circle",
       "width": 200
      },
      "image/png": "[encoded data removed]"
     },
     "metadata": {},
     "output_type": "display_data"
    }
   ],
   "source": [
    "range = [-10,-9.9..10] :: [Double]\n",
    "samples <- sampleIOfixed $ regressionWithOutliersData range\n",
    "plotVega (fmap (second (T.pack . show)) samples)\n"
   ]
  },
  {
   "cell_type": "markdown",
   "metadata": {},
   "source": [
    "This is our dataset, with outliers shown in orange.\n",
    "\n",
    "Given this dataset of $(x,y)$ pairs, we now consider the problem of inference. That is, we want to infer the slope, bias, noise and *for each datapoint*, whether it's an outlier.\n",
    "\n",
    "Our first attempt will be to average a large number of samples, weighted by how likely they are. TODO: add the conditioning\n"
   ]
  },
  {
   "cell_type": "markdown",
   "metadata": {},
   "source": [
    "Why did this result in a bad guess? Simply because there are so many more bad guesses than good ones, so that even if you weight the good guesses higher, if you have almost none, then it doesn't matter.\n",
    "\n",
    "The classic solution to this problem (the solution space is too large for independent sampling) is to use a Markov Chain method, where each sample depends on the last. You can do so in a clever way, to obtain unbiased samples from the true posterior distribution in the limit of a sufficiently long chain. Monad-bayes implements the standard Markov Chain Monte Carlo approach with Metropolis Hastings transitions.\n",
    "\n",
    "Here's how it goes:"
   ]
  },
  {
   "cell_type": "code",
   "execution_count": 10,
   "metadata": {},
   "outputs": [],
   "source": [
    "regressionWithOutliers :: (MonadSample m, MonadCond m) =>\n",
    "    [Double] -> [Double] -> m ((Double, Double, Double, Double), [Bool])\n",
    "regressionWithOutliers xs ys = do\n",
    "    params <- paramPrior\n",
    "    \n",
    "    outliers <- forM (zip xs ys) \\(x, y) -> do\n",
    "        ((mu, std), isOutlier) <- forward params x\n",
    "        factor $ normalPdf mu std y\n",
    "        return isOutlier\n",
    "    return (params, outliers)"
   ]
  },
  {
   "cell_type": "code",
   "execution_count": 3,
   "metadata": {},
   "outputs": [
    {
     "ename": "",
     "evalue": "",
     "header": "MessageHeader {mhIdentifiers = [\"c28a1df6-fe34-47c8-9bcd-70001e76a64b\"], mhParentHeader = Just (MessageHeader {mhIdentifiers = [\"c28a1df6-fe34-47c8-9bcd-70001e76a64b\"], mhParentHeader = Nothing, mhMetadata = Metadata (fromList [(\"cellId\",String \"a034d41b-03e3-497d-9ec4-8d59ec156c43\"),(\"deletedCells\",Array []),(\"recordTiming\",Bool False)]), mhMessageId = UUID {uuidToString = \"7c40ed52-2758-4c94-b90e-d0701a64f99c\"}, mhSessionId = UUID {uuidToString = \"c28a1df6-fe34-47c8-9bcd-70001e76a64b\"}, mhUsername = \"\", mhMsgType = ExecuteRequestMessage, mhBuffers = []}), mhMetadata = Metadata (fromList []), mhMessageId = UUID {uuidToString = \"e9cc63a0-9f6a-48b6-b4df-d58810e5a44f\"}, mhSessionId = UUID {uuidToString = \"c28a1df6-fe34-47c8-9bcd-70001e76a64b\"}, mhUsername = \"\", mhMsgType = ExecuteErrorMessage, mhBuffers = []}",
     "output_type": "error",
     "traceback": [
      "<interactive>:1:90: error: Variable not in scope: samples :: f0 ((a0, b1), b0)\n<interactive>:1:69: error: Variable not in scope: range\n<interactive>:1:46: error: Variable not in scope: regressionWithOutliers :: t0 -> f0 b1 -> t2\n<interactive>:1:35: error: Variable not in scope: mh :: t1 -> t2 -> t3\n<interactive>:1:27: error: Variable not in scope: prior :: t3 -> t4\n<interactive>:1:11: error: Variable not in scope: sampleIOfixed :: t4 -> IO a1"
     ]
    }
   ],
   "source": [
    "\n",
    "mhRuns <- sampleIOfixed $ prior $ mh 10000 $ regressionWithOutliers range (snd . fst <$> samples)\n"
   ]
  },
  {
   "cell_type": "code",
   "execution_count": 1,
   "metadata": {},
   "outputs": [
    {
     "data": {
      "text/html": [
       "<style>/* Styles used for the Hoogle display in the pager */\n",
       ".hoogle-doc {\n",
       "display: block;\n",
       "padding-bottom: 1.3em;\n",
       "padding-left: 0.4em;\n",
       "}\n",
       ".hoogle-code {\n",
       "display: block;\n",
       "font-family: monospace;\n",
       "white-space: pre;\n",
       "}\n",
       ".hoogle-text {\n",
       "display: block;\n",
       "}\n",
       ".hoogle-name {\n",
       "color: green;\n",
       "font-weight: bold;\n",
       "}\n",
       ".hoogle-head {\n",
       "font-weight: bold;\n",
       "}\n",
       ".hoogle-sub {\n",
       "display: block;\n",
       "margin-left: 0.4em;\n",
       "}\n",
       ".hoogle-package {\n",
       "font-weight: bold;\n",
       "font-style: italic;\n",
       "}\n",
       ".hoogle-module {\n",
       "font-weight: bold;\n",
       "}\n",
       ".hoogle-class {\n",
       "font-weight: bold;\n",
       "}\n",
       ".get-type {\n",
       "color: green;\n",
       "font-weight: bold;\n",
       "font-family: monospace;\n",
       "display: block;\n",
       "white-space: pre-wrap;\n",
       "}\n",
       ".show-type {\n",
       "color: green;\n",
       "font-weight: bold;\n",
       "font-family: monospace;\n",
       "margin-left: 1em;\n",
       "}\n",
       ".mono {\n",
       "font-family: monospace;\n",
       "display: block;\n",
       "}\n",
       ".err-msg {\n",
       "color: red;\n",
       "font-style: italic;\n",
       "font-family: monospace;\n",
       "white-space: pre;\n",
       "display: block;\n",
       "}\n",
       "#unshowable {\n",
       "color: red;\n",
       "font-weight: bold;\n",
       "}\n",
       ".err-msg.in.collapse {\n",
       "padding-top: 0.7em;\n",
       "}\n",
       ".highlight-code {\n",
       "white-space: pre;\n",
       "font-family: monospace;\n",
       "}\n",
       ".suggestion-warning { \n",
       "font-weight: bold;\n",
       "color: rgb(200, 130, 0);\n",
       "}\n",
       ".suggestion-error { \n",
       "font-weight: bold;\n",
       "color: red;\n",
       "}\n",
       ".suggestion-name {\n",
       "font-weight: bold;\n",
       "}\n",
       "</style><div class=\"suggestion-name\" style=\"clear:both;\">Redundant bracket</div><div class=\"suggestion-row\" style=\"float: left;\"><div class=\"suggestion-warning\">Found:</div><div class=\"highlight-code\" id=\"haskell\">(foldr\n",
       "   \\ (_, lb) li\n",
       "     -> [if b then (num1 + 1, num2) else (num1, num2 + 1) |\n",
       "           (b, (num1, num2)) <- zip lb li])\n",
       "  (Prelude.repeat (0, 0))</div></div><div class=\"suggestion-row\" style=\"float: left;\"><div class=\"suggestion-warning\">Why Not:</div><div class=\"highlight-code\" id=\"haskell\">foldr\n",
       "  \\ (_, lb) li\n",
       "    -> [if b then (num1 + 1, num2) else (num1, num2 + 1) |\n",
       "          (b, (num1, num2)) <- zip lb li]\n",
       "  (Prelude.repeat (0, 0))</div></div>"
      ],
      "text/plain": [
       "Line 4: Redundant bracket\n",
       "Found:\n",
       "(foldr\n",
       "   \\ (_, lb) li\n",
       "     -> [if b then (num1 + 1, num2) else (num1, num2 + 1) |\n",
       "           (b, (num1, num2)) <- zip lb li])\n",
       "  (Prelude.repeat (0, 0))\n",
       "Why not:\n",
       "foldr\n",
       "  \\ (_, lb) li\n",
       "    -> [if b then (num1 + 1, num2) else (num1, num2 + 1) |\n",
       "          (b, (num1, num2)) <- zip lb li]\n",
       "  (Prelude.repeat (0, 0))"
      ]
     },
     "metadata": {},
     "output_type": "display_data"
    },
    {
     "ename": "",
     "evalue": "",
     "header": "MessageHeader {mhIdentifiers = [\"c28a1df6-fe34-47c8-9bcd-70001e76a64b\"], mhParentHeader = Just (MessageHeader {mhIdentifiers = [\"c28a1df6-fe34-47c8-9bcd-70001e76a64b\"], mhParentHeader = Nothing, mhMetadata = Metadata (fromList [(\"cellId\",String \"f0008b7d-de09-482c-b666-f92a5a46f2c1\"),(\"deletedCells\",Array []),(\"recordTiming\",Bool False)]), mhMessageId = UUID {uuidToString = \"b5efd848-078f-41ef-9bb5-16f6494bcdcc\"}, mhSessionId = UUID {uuidToString = \"c28a1df6-fe34-47c8-9bcd-70001e76a64b\"}, mhUsername = \"\", mhMsgType = ExecuteRequestMessage, mhBuffers = []}), mhMetadata = Metadata (fromList []), mhMessageId = UUID {uuidToString = \"bec6e14a-a055-45b2-8e28-57f8d2ff6f0e\"}, mhSessionId = UUID {uuidToString = \"c28a1df6-fe34-47c8-9bcd-70001e76a64b\"}, mhUsername = \"\", mhMsgType = ExecuteErrorMessage, mhBuffers = []}",
     "output_type": "error",
     "traceback": [
      "<interactive>:3:5: error:\n    Unexpected lambda expression in function application:\n        \\ (_, lb) li -> [if b then (num1 + 1, num2) else (num1, num2 + 1) | (b, (num1, num2)) <- zip lb li]\n    You could write it with parentheses\n    Or perhaps you meant to enable BlockArguments?"
     ]
    }
   ],
   "source": [
    "\n",
    "\n",
    "outlierProb s = (\\(x, y) -> (\\k -> if k ==0 then 0 else log k) (fromIntegral y / fromIntegral x)) \n",
    "        <$> (foldr\n",
    "    \\(_,lb) li -> \n",
    "        [ if b then (num1+1, num2) else (num1,num2+1) | (b,(num1, num2)) <- zip lb li])\n",
    "    (Prelude.repeat (0,0)) s\n"
   ]
  },
  {
   "cell_type": "code",
   "execution_count": 2,
   "metadata": {},
   "outputs": [
    {
     "ename": "",
     "evalue": "",
     "header": "MessageHeader {mhIdentifiers = [\"c28a1df6-fe34-47c8-9bcd-70001e76a64b\"], mhParentHeader = Just (MessageHeader {mhIdentifiers = [\"c28a1df6-fe34-47c8-9bcd-70001e76a64b\"], mhParentHeader = Nothing, mhMetadata = Metadata (fromList [(\"cellId\",String \"3e9713a9-7f47-407c-8f5b-633d84d3bc43\"),(\"deletedCells\",Array []),(\"recordTiming\",Bool False)]), mhMessageId = UUID {uuidToString = \"060ac26a-0035-4175-96d7-0c948ad5b970\"}, mhSessionId = UUID {uuidToString = \"c28a1df6-fe34-47c8-9bcd-70001e76a64b\"}, mhUsername = \"\", mhMsgType = ExecuteRequestMessage, mhBuffers = []}), mhMetadata = Metadata (fromList []), mhMessageId = UUID {uuidToString = \"d1e2a126-7859-4822-ad3e-dcbcfdeaa4a3\"}, mhSessionId = UUID {uuidToString = \"c28a1df6-fe34-47c8-9bcd-70001e76a64b\"}, mhUsername = \"\", mhMsgType = ExecuteErrorMessage, mhBuffers = []}",
     "output_type": "error",
     "traceback": [
      "<interactive>:1:59: error: Variable not in scope: mhRuns\n<interactive>:1:47: error: Variable not in scope: outlierProb :: t0 -> [b1]\n<interactive>:1:37: error: Variable not in scope: samples :: [(a0, b0)]\n<interactive>:1:1: error: Variable not in scope: plotVega :: [(a0, b1)] -> t"
     ]
    }
   ],
   "source": [
    "plotVega  $ take 5000 (zip (fst <$> samples) (outlierProb mhRuns))"
   ]
  },
  {
   "cell_type": "markdown",
   "metadata": {},
   "source": [
    "Running MCMC gives us a list of samples. The graph displays points as more opaque according to how many samples consider that point to not be an outlier. The results make sense: points that are very near the line are opaque and ones very far are transparent. \n",
    "\n",
    "It would be nice to make our approach more sample efficient though. The key to that is to choose a proposal distribution more cleverly. "
   ]
  },
  {
   "cell_type": "code",
   "execution_count": 20,
   "metadata": {},
   "outputs": [],
   "source": [
    "-- import Numeric.Log\n",
    "\n",
    "-- countOutliersWithWeight :: [((a, [Bool]), Log Double)] -> [(Double, Double)]\n",
    "-- countOutliersWithWeight = foldr \n",
    "--     (\\((_,lb),w) li -> \n",
    "--         [ if b then (num1+ 1, num2) else (num1,num2+ 1) | ((b),(num1, num2)) <- zip lb li]) \n",
    "--     (Prelude.repeat (0,0))\n",
    "\n",
    "-- predData = baseData . \n",
    "--   dataColumn \"Outlier Prediction\" \n",
    "--       -- (Booleans $ (\\((_,s),_) -> s) (maximumBy (compare `on` (snd)) smcRuns))\n",
    "--       (Booleans ((\\(x, y) -> ( if x > y then False else True) )\n",
    "--         <$> (countOutliers (fst <$> smcRuns))))\n",
    "  \n",
    "-- predEncoding = baseEncoding . color [ MName \"Outlier Prediction\", VL.MmType VL.Quantitative]\n",
    "-- showPlot predEncoding predData"
   ]
  },
  {
   "cell_type": "markdown",
   "metadata": {},
   "source": []
  }
 ],
 "metadata": {
  "kernelspec": {
   "display_name": "Haskell - nixpkgs",
   "language": "haskell",
   "name": "ihaskell_nixpkgs"
  },
  "language_info": {
   "codemirror_mode": "ihaskell",
   "file_extension": ".hs",
   "mimetype": "text/x-haskell",
   "name": "haskell",
   "pygments_lexer": "Haskell",
   "version": "9.0.2"
  }
 },
 "nbformat": 4,
 "nbformat_minor": 4
}
