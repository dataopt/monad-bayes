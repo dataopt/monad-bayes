{
 "cells": [
  {
   "cell_type": "markdown",
   "metadata": {},
   "source": [
    "# Sequential Inference\n",
    "\n",
    "This tutorial discusses particle filters, and sequential Monte Carlo more generally.\n",
    "\n",
    "These techniques are relevant when performing inference on models where there is a large series of factor statements, some of which can be performed earlier than others. This situation often arises in time series models where the factor statements are the result of incoming observations, but the technique works for *any* probabilistic program.\n",
    "\n",
    "As a motivating example, consider the following program:"
   ]
  },
  {
   "cell_type": "code",
   "execution_count": 1,
   "metadata": {},
   "outputs": [],
   "source": [
    ":e ImportQualifiedPost\n",
    ":e FlexibleContexts\n",
    ":e BlockArguments\n",
    ":e TupleSections\n",
    ":e FlexibleContexts\n",
    ":e OverloadedStrings\n",
    ":e LambdaCase\n",
    "\n",
    "\n",
    "import Control.Monad.Bayes.Class\n",
    "import Control.Monad.Bayes.Enumerator\n",
    "import Control.Monad.Bayes.Weighted\n",
    "import Control.Monad.Bayes.Sampler\n",
    "import Control.Monad.Bayes.Free\n",
    "import Control.Monad.Bayes.Population\n",
    "import Control.Monad.Bayes.Sequential\n",
    "import Control.Monad.Bayes.Inference.SMC\n",
    "\n",
    "import qualified Graphics.Vega.VegaLite as VL\n",
    "import IHaskell.Display.Hvega (vlShow)\n",
    "import Control.Applicative\n",
    "import qualified Data.Text as T\n",
    "import Pipes (Producer, (>->))\n",
    "import qualified Pipes as P\n",
    "import Pipes.Prelude (unfoldr)\n",
    "import qualified Pipes.Prelude as P\n",
    "import Data.Ord\n",
    "import Data.List\n",
    "import Control.Monad\n",
    "import Control.Arrow (first)\n",
    "\n",
    ":l Plotting.hs"
   ]
  },
  {
   "cell_type": "code",
   "execution_count": 2,
   "metadata": {},
   "outputs": [],
   "source": [
    "ex :: MonadInfer m => Int -> m [Bool]\n",
    "ex n = replicateM n do\n",
    "    x <- bernoulli 0.5\n",
    "    condition x\n",
    "    return x"
   ]
  },
  {
   "cell_type": "markdown",
   "metadata": {},
   "source": [
    "What distribution does this represent? It is the distribution over all lists of Booleans of length $n$, which for e.g. $n=4$, places all the weight on the sequence `[True,True,True,True]`.\n",
    "\n"
   ]
  },
  {
   "cell_type": "code",
   "execution_count": 3,
   "metadata": {},
   "outputs": [
    {
     "data": {
      "text/plain": [
       "[([True,True,True,True],6.25e-2)]"
      ]
     },
     "metadata": {},
     "output_type": "display_data"
    }
   ],
   "source": [
    "normalForm $ ex 4"
   ]
  },
  {
   "cell_type": "markdown",
   "metadata": {},
   "source": [
    "# This is inefficient\n",
    "\n",
    "However, the naive approach to exactly inferring this distribution will not work. Why? Because it first constructs all $2^n$ possible solutions, and then throws away all but one. This has complexity exponential in $n$ and for e.g. $n=100$, it is hopeless. \n",
    "\n",
    "Now if we look at the structure of the program, it's clear that this is unnecessary. Each time a `condition` statement is made, we should throw away all possibilities with $0$ probability mass. If we do this, the size of the set of possible solutions never explodes.\n",
    "\n",
    "We can perform this *sequential enumeration\" with monad-bayes, as follows:"
   ]
  },
  {
   "cell_type": "code",
   "execution_count": 4,
   "metadata": {},
   "outputs": [
    {
     "data": {
      "text/plain": [
       "[([True,True,True,True,True,True,True,True,True,True,True,True,True,True,True,True,True,True,True,True,True,True,True,True,True,True,True,True,True,True,True,True,True,True,True,True,True,True,True,True,True,True,True,True,True,True,True,True,True,True,True,True,True,True,True,True,True,True,True,True,True,True,True,True,True,True,True,True,True,True,True,True,True,True,True,True,True,True,True,True,True,True,True,True,True,True,True,True,True,True,True,True,True,True,True,True,True,True,True,True],1.0)]"
      ]
     },
     "metadata": {},
     "output_type": "display_data"
    }
   ],
   "source": [
    "enumerate $ sis removeZeros 100 $ ex 100"
   ]
  },
  {
   "cell_type": "markdown",
   "metadata": {},
   "source": [
    "`sis` is an inference method which performs a step of inference at each `factor` statement in the program. In the present case, we have used it in conjunction with exact inference, but the idea generalizes naturally to approximate inference methods.\n",
    "\n",
    "To motivate this, let's examine a problem for which exact inference is no longer feasible, a non-linear state space model. Here we will make use of the *pipes* library, which offers an elegant way to represent distributions over discrete random walks as infinite streams"
   ]
  },
  {
   "cell_type": "code",
   "execution_count": 5,
   "metadata": {},
   "outputs": [],
   "source": [
    "-- how to move from one latent state to the next\n",
    "latentTransition :: MonadSample m => (Double, Double) -> m (Double, Double)\n",
    "latentTransition (x,y) = \n",
    "    liftA2 (,) (normal (x+0.5) 1) (normal (y+0.5) 1)\n",
    "\n",
    "-- a Markovian random walk starting at (0,0), with latentTransition as the kernel\n",
    "-- a Producer is an infinite stream of values\n",
    "walk :: MonadSample m => Producer (Double,Double) m r\n",
    "walk = flip P.unfoldr (0,0) $ \\s ->\n",
    "    Right <$> do\n",
    "        new <- latentTransition s\n",
    "        return (new, new)\n",
    "\n",
    "-- convert the stream to a list, taking only the first 100 steps\n",
    "toList :: Monad m => P.Producer a m () -> m [a]\n",
    "toList prod = P.fold  (\\x y -> x <> [y]) [] id (prod >-> P.take 100)\n"
   ]
  },
  {
   "cell_type": "code",
   "execution_count": 6,
   "metadata": {},
   "outputs": [],
   "source": [
    "-- generate a stream of observations by sampling a point noisily for each step in the walk\n",
    "observations = walk >-> P.mapM (\\(x,y) -> \n",
    "    do\n",
    "        x' <- normal x 10\n",
    "        y' <- normal y 10\n",
    "        return (x, y, x', y'))"
   ]
  },
  {
   "cell_type": "code",
   "execution_count": 7,
   "metadata": {},
   "outputs": [
    {
     "data": {
      "application/vnd.vegalite.v4+json": {
       "$schema": "https://vega.github.io/schema/vega-lite/v4.json",
       "data": {
        "values": [
         {
          "Outlier": "\"Latent\"",
          "X": -1.4632190584473854,
          "Y": 1.1460115674562212
         },
         {
          "Outlier": "\"Latent\"",
          "X": -1.7118276184317947,
          "Y": 1.5199498428643763
         },
         {
          "Outlier": "\"Latent\"",
          "X": -1.1451212558742327,
          "Y": 0.43325567442598056
         },
         {
          "Outlier": "\"Latent\"",
          "X": 0.09790530449735213,
          "Y": 0.09183823494208365
         },
         {
          "Outlier": "\"Latent\"",
          "X": 0.9581783158575121,
          "Y": 0.6372273839586171
         },
         {
          "Outlier": "\"Latent\"",
          "X": 2.5799803588469556,
          "Y": 0.523509451383241
         },
         {
          "Outlier": "\"Latent\"",
          "X": 3.5364105757371975,
          "Y": -0.40209772534924837
         },
         {
          "Outlier": "\"Latent\"",
          "X": 4.664932100604214,
          "Y": -2.140932642360747
         },
         {
          "Outlier": "\"Latent\"",
          "X": 2.4746963239138777,
          "Y": -0.5804564967471029
         },
         {
          "Outlier": "\"Latent\"",
          "X": 2.110229444435011,
          "Y": 1.4259142559687394
         },
         {
          "Outlier": "\"Latent\"",
          "X": 3.9634654660820057,
          "Y": 1.8981356297841037
         },
         {
          "Outlier": "\"Latent\"",
          "X": 4.69492568720881,
          "Y": 0.15677173775497621
         },
         {
          "Outlier": "\"Latent\"",
          "X": 5.875134046835195,
          "Y": 0.5537330762276659
         },
         {
          "Outlier": "\"Latent\"",
          "X": 5.991343105080134,
          "Y": 0.23003903694963534
         },
         {
          "Outlier": "\"Latent\"",
          "X": 7.828586324415983,
          "Y": 0.3099855688905947
         },
         {
          "Outlier": "\"Latent\"",
          "X": 8.637247799337462,
          "Y": 0.32972518643906573
         },
         {
          "Outlier": "\"Latent\"",
          "X": 9.429799089056653,
          "Y": 1.2004686406387626
         },
         {
          "Outlier": "\"Latent\"",
          "X": 9.955995145083149,
          "Y": 1.0710641023365364
         },
         {
          "Outlier": "\"Latent\"",
          "X": 8.961057894245952,
          "Y": 2.095054575309389
         },
         {
          "Outlier": "\"Latent\"",
          "X": 9.525714171430419,
          "Y": 3.3946910209095384
         },
         {
          "Outlier": "\"Latent\"",
          "X": 10.056149504214071,
          "Y": 3.941764888084009
         },
         {
          "Outlier": "\"Latent\"",
          "X": 10.742879558865761,
          "Y": 4.009795810182553
         },
         {
          "Outlier": "\"Latent\"",
          "X": 11.10403434697427,
          "Y": 2.7867422102933963
         },
         {
          "Outlier": "\"Latent\"",
          "X": 11.960713904173794,
          "Y": 2.0458423211435957
         },
         {
          "Outlier": "\"Latent\"",
          "X": 12.845856965497711,
          "Y": 2.069472339276387
         },
         {
          "Outlier": "\"Latent\"",
          "X": 13.515425374843076,
          "Y": 3.1675809626865705
         },
         {
          "Outlier": "\"Latent\"",
          "X": 14.003145109662707,
          "Y": 4.616807697671205
         },
         {
          "Outlier": "\"Latent\"",
          "X": 14.933163021487445,
          "Y": 6.323452975478005
         },
         {
          "Outlier": "\"Latent\"",
          "X": 14.642195760345665,
          "Y": 6.971699421070226
         },
         {
          "Outlier": "\"Latent\"",
          "X": 14.775243818496065,
          "Y": 7.205913941603486
         },
         {
          "Outlier": "\"Latent\"",
          "X": 15.773943814025744,
          "Y": 7.8796242281509095
         },
         {
          "Outlier": "\"Latent\"",
          "X": 16.46622774003378,
          "Y": 8.085796452489822
         },
         {
          "Outlier": "\"Latent\"",
          "X": 16.40876857559826,
          "Y": 7.695568806462646
         },
         {
          "Outlier": "\"Latent\"",
          "X": 17.072804858250798,
          "Y": 8.361812307996882
         },
         {
          "Outlier": "\"Latent\"",
          "X": 18.957721635080002,
          "Y": 7.243552986511533
         },
         {
          "Outlier": "\"Latent\"",
          "X": 21.27914857222183,
          "Y": 7.957316624967394
         },
         {
          "Outlier": "\"Latent\"",
          "X": 22.130363100896442,
          "Y": 8.506808830858049
         },
         {
          "Outlier": "\"Latent\"",
          "X": 22.77093465888502,
          "Y": 8.536962697132648
         },
         {
          "Outlier": "\"Latent\"",
          "X": 23.507718804789253,
          "Y": 9.03955307086803
         },
         {
          "Outlier": "\"Latent\"",
          "X": 21.854990347846474,
          "Y": 9.792338304284812
         },
         {
          "Outlier": "\"Latent\"",
          "X": 23.141717400402772,
          "Y": 10.782682280432736
         },
         {
          "Outlier": "\"Latent\"",
          "X": 23.269433524141743,
          "Y": 12.520322711011502
         },
         {
          "Outlier": "\"Latent\"",
          "X": 23.818412314122078,
          "Y": 13.121382793295346
         },
         {
          "Outlier": "\"Latent\"",
          "X": 24.537499170427317,
          "Y": 12.409977073697402
         },
         {
          "Outlier": "\"Latent\"",
          "X": 24.11641810369644,
          "Y": 11.85133114886185
         },
         {
          "Outlier": "\"Latent\"",
          "X": 24.590585697000975,
          "Y": 13.309267337721515
         },
         {
          "Outlier": "\"Latent\"",
          "X": 26.328764119133194,
          "Y": 13.726567615090897
         },
         {
          "Outlier": "\"Latent\"",
          "X": 27.220587927226052,
          "Y": 14.295563350437416
         },
         {
          "Outlier": "\"Latent\"",
          "X": 28.429975117902938,
          "Y": 15.412526141789447
         },
         {
          "Outlier": "\"Latent\"",
          "X": 28.328328865514294,
          "Y": 16.362853458729017
         },
         {
          "Outlier": "\"Latent\"",
          "X": 27.089280164867628,
          "Y": 17.35212638717457
         },
         {
          "Outlier": "\"Latent\"",
          "X": 26.242168901856726,
          "Y": 18.126488783937308
         },
         {
          "Outlier": "\"Latent\"",
          "X": 26.552623450761658,
          "Y": 17.232679047048723
         },
         {
          "Outlier": "\"Latent\"",
          "X": 27.00073737555883,
          "Y": 18.116692484780174
         },
         {
          "Outlier": "\"Latent\"",
          "X": 28.460039243781193,
          "Y": 18.87105220621511
         },
         {
          "Outlier": "\"Latent\"",
          "X": 27.91337421365696,
          "Y": 19.27894391927708
         },
         {
          "Outlier": "\"Latent\"",
          "X": 29.29898490135378,
          "Y": 19.488320247765536
         },
         {
          "Outlier": "\"Latent\"",
          "X": 28.491121548999818,
          "Y": 20.272807750280517
         },
         {
          "Outlier": "\"Latent\"",
          "X": 30.39367450911183,
          "Y": 20.802160156067767
         },
         {
          "Outlier": "\"Latent\"",
          "X": 31.6757702708152,
          "Y": 21.36911181648472
         },
         {
          "Outlier": "\"Latent\"",
          "X": 33.74759982260822,
          "Y": 20.69711986123539
         },
         {
          "Outlier": "\"Latent\"",
          "X": 34.63189322178316,
          "Y": 20.720728025011358
         },
         {
          "Outlier": "\"Latent\"",
          "X": 33.72095340440472,
          "Y": 20.18643007452745
         },
         {
          "Outlier": "\"Latent\"",
          "X": 34.062176871877654,
          "Y": 21.154543557624706
         },
         {
          "Outlier": "\"Latent\"",
          "X": 33.9848171930971,
          "Y": 20.831564989981114
         },
         {
          "Outlier": "\"Latent\"",
          "X": 35.04349980705378,
          "Y": 20.63743217750142
         },
         {
          "Outlier": "\"Latent\"",
          "X": 35.327480629872774,
          "Y": 20.477708401501026
         },
         {
          "Outlier": "\"Latent\"",
          "X": 37.20792284440542,
          "Y": 19.326738182567325
         },
         {
          "Outlier": "\"Latent\"",
          "X": 37.745210433704024,
          "Y": 20.375185659609897
         },
         {
          "Outlier": "\"Latent\"",
          "X": 38.34570792779762,
          "Y": 20.2440379874392
         },
         {
          "Outlier": "\"Latent\"",
          "X": 38.96315663662267,
          "Y": 21.827338481559668
         },
         {
          "Outlier": "\"Latent\"",
          "X": 38.938821748177446,
          "Y": 22.48932041338014
         },
         {
          "Outlier": "\"Latent\"",
          "X": 38.586660765051334,
          "Y": 24.032759905765502
         },
         {
          "Outlier": "\"Latent\"",
          "X": 39.37946081479034,
          "Y": 25.00934673042843
         },
         {
          "Outlier": "\"Latent\"",
          "X": 38.600692198851206,
          "Y": 25.133494126950534
         },
         {
          "Outlier": "\"Latent\"",
          "X": 39.869427588058,
          "Y": 27.372108339550444
         },
         {
          "Outlier": "\"Latent\"",
          "X": 40.03550317244538,
          "Y": 28.497694604719833
         },
         {
          "Outlier": "\"Latent\"",
          "X": 40.961974261437945,
          "Y": 29.90960678871004
         },
         {
          "Outlier": "\"Latent\"",
          "X": 41.83111229905103,
          "Y": 27.922721730186712
         },
         {
          "Outlier": "\"Latent\"",
          "X": 42.128431253487044,
          "Y": 29.165793778034555
         },
         {
          "Outlier": "\"Latent\"",
          "X": 42.268636065512254,
          "Y": 30.204582145083403
         },
         {
          "Outlier": "\"Latent\"",
          "X": 43.853310144993074,
          "Y": 29.765900683778092
         },
         {
          "Outlier": "\"Latent\"",
          "X": 43.14027816990447,
          "Y": 30.29704380348884
         },
         {
          "Outlier": "\"Latent\"",
          "X": 42.33178776448083,
          "Y": 30.909019576469777
         },
         {
          "Outlier": "\"Latent\"",
          "X": 43.2543632577272,
          "Y": 31.193541909053216
         },
         {
          "Outlier": "\"Latent\"",
          "X": 44.692788023961256,
          "Y": 33.739873028551365
         },
         {
          "Outlier": "\"Latent\"",
          "X": 46.853371516641204,
          "Y": 33.58590941650718
         },
         {
          "Outlier": "\"Latent\"",
          "X": 46.38726967451954,
          "Y": 33.66945743524713
         },
         {
          "Outlier": "\"Latent\"",
          "X": 48.184748103960075,
          "Y": 32.98049027724241
         },
         {
          "Outlier": "\"Latent\"",
          "X": 50.03296598020516,
          "Y": 33.33130480504601
         },
         {
          "Outlier": "\"Latent\"",
          "X": 51.7583203737318,
          "Y": 34.0298568142456
         },
         {
          "Outlier": "\"Latent\"",
          "X": 51.869491686423494,
          "Y": 34.762131083434156
         },
         {
          "Outlier": "\"Latent\"",
          "X": 53.21182084671806,
          "Y": 36.03756320732122
         },
         {
          "Outlier": "\"Latent\"",
          "X": 53.0569703422286,
          "Y": 36.5567856227276
         },
         {
          "Outlier": "\"Latent\"",
          "X": 53.96651618248842,
          "Y": 36.04564803686144
         },
         {
          "Outlier": "\"Latent\"",
          "X": 53.49559980956617,
          "Y": 38.62755233636234
         },
         {
          "Outlier": "\"Latent\"",
          "X": 52.47288863245848,
          "Y": 41.30160964811991
         },
         {
          "Outlier": "\"Latent\"",
          "X": 53.219593431089656,
          "Y": 42.35204772519747
         },
         {
          "Outlier": "\"Latent\"",
          "X": 54.536606354524736,
          "Y": 42.09247606544867
         },
         {
          "Outlier": "\"Latent\"",
          "X": 56.326281716337675,
          "Y": 44.74956246837245
         },
         {
          "Outlier": "\"Observed\"",
          "X": -11.433989934679131,
          "Y": 6.254420570821482
         },
         {
          "Outlier": "\"Observed\"",
          "X": -1.1365035493619906,
          "Y": -10.153204120648047
         },
         {
          "Outlier": "\"Observed\"",
          "X": 12.420025099014406,
          "Y": 7.271342600535435
         },
         {
          "Outlier": "\"Observed\"",
          "X": -8.36900297754651,
          "Y": 10.950895619808161
         },
         {
          "Outlier": "\"Observed\"",
          "X": 5.501158797979557,
          "Y": 12.297182861331065
         },
         {
          "Outlier": "\"Observed\"",
          "X": -12.008674566310287,
          "Y": -6.35435097232022
         },
         {
          "Outlier": "\"Observed\"",
          "X": 11.208566726485584,
          "Y": -6.609683056077985
         },
         {
          "Outlier": "\"Observed\"",
          "X": 5.129669433896323,
          "Y": 1.2260899401889689
         },
         {
          "Outlier": "\"Observed\"",
          "X": 8.181527983628403,
          "Y": 2.379191534514802
         },
         {
          "Outlier": "\"Observed\"",
          "X": 3.8485948271251766,
          "Y": 2.8110126860940357
         },
         {
          "Outlier": "\"Observed\"",
          "X": 11.538937886636543,
          "Y": -0.1116790130996741
         },
         {
          "Outlier": "\"Observed\"",
          "X": -21.370518499596876,
          "Y": 0.8194902340714901
         },
         {
          "Outlier": "\"Observed\"",
          "X": -15.766698602266946,
          "Y": -3.237973511294256
         },
         {
          "Outlier": "\"Observed\"",
          "X": 3.559377131467019,
          "Y": -10.293282363265776
         },
         {
          "Outlier": "\"Observed\"",
          "X": 8.719719711601858,
          "Y": -7.679150544576254
         },
         {
          "Outlier": "\"Observed\"",
          "X": 15.41094303165788,
          "Y": 0.7474970223789256
         },
         {
          "Outlier": "\"Observed\"",
          "X": 2.917677868776127,
          "Y": -12.995685359447553
         },
         {
          "Outlier": "\"Observed\"",
          "X": 12.428234024443501,
          "Y": 8.029455785730917
         },
         {
          "Outlier": "\"Observed\"",
          "X": 22.51863345984914,
          "Y": 4.104314432966543
         },
         {
          "Outlier": "\"Observed\"",
          "X": 15.02177345984552,
          "Y": 11.652835334793606
         },
         {
          "Outlier": "\"Observed\"",
          "X": 5.983400630344785,
          "Y": 4.215752002245747
         },
         {
          "Outlier": "\"Observed\"",
          "X": 20.866193361009277,
          "Y": 0.5074699962602782
         },
         {
          "Outlier": "\"Observed\"",
          "X": 9.846702211682754,
          "Y": -10.848441911416955
         },
         {
          "Outlier": "\"Observed\"",
          "X": -7.962779386584721,
          "Y": 14.909090594593168
         },
         {
          "Outlier": "\"Observed\"",
          "X": 11.82251732413353,
          "Y": 4.509930581799161
         },
         {
          "Outlier": "\"Observed\"",
          "X": 6.595912980628152,
          "Y": -1.594014706650544
         },
         {
          "Outlier": "\"Observed\"",
          "X": 12.692357051875323,
          "Y": 21.77711098057949
         },
         {
          "Outlier": "\"Observed\"",
          "X": 1.9676169092033788,
          "Y": 5.98228679493646
         },
         {
          "Outlier": "\"Observed\"",
          "X": 16.262219949801167,
          "Y": 3.4555076117227292
         },
         {
          "Outlier": "\"Observed\"",
          "X": 12.05174043765112,
          "Y": 12.759411275265482
         },
         {
          "Outlier": "\"Observed\"",
          "X": 15.55035285857111,
          "Y": 1.6128575602841533
         },
         {
          "Outlier": "\"Observed\"",
          "X": 14.18548837629102,
          "Y": 21.064272827685294
         },
         {
          "Outlier": "\"Observed\"",
          "X": 30.607478308112285,
          "Y": 16.54006003982622
         },
         {
          "Outlier": "\"Observed\"",
          "X": 19.541212491145323,
          "Y": 8.958695354453964
         },
         {
          "Outlier": "\"Observed\"",
          "X": 35.29283098022039,
          "Y": 2.30396334239531
         },
         {
          "Outlier": "\"Observed\"",
          "X": 14.724091742918809,
          "Y": -3.032656857610437
         },
         {
          "Outlier": "\"Observed\"",
          "X": 6.495828621377983,
          "Y": 5.601865682994605
         },
         {
          "Outlier": "\"Observed\"",
          "X": 2.5271829039124327,
          "Y": 8.39737530641758
         },
         {
          "Outlier": "\"Observed\"",
          "X": 9.918072628827643,
          "Y": 8.603035955225392
         },
         {
          "Outlier": "\"Observed\"",
          "X": 19.742971740964684,
          "Y": 16.277415198576463
         },
         {
          "Outlier": "\"Observed\"",
          "X": 22.88832083433529,
          "Y": 12.697675074534715
         },
         {
          "Outlier": "\"Observed\"",
          "X": 25.681483300180204,
          "Y": 11.008749697087891
         },
         {
          "Outlier": "\"Observed\"",
          "X": 26.509195597049782,
          "Y": 12.938519500414897
         },
         {
          "Outlier": "\"Observed\"",
          "X": 33.356122853375275,
          "Y": 5.206698633757685
         },
         {
          "Outlier": "\"Observed\"",
          "X": 5.74898026767146,
          "Y": 38.02470662536272
         },
         {
          "Outlier": "\"Observed\"",
          "X": 17.90244956611297,
          "Y": 3.6685814730306046
         },
         {
          "Outlier": "\"Observed\"",
          "X": 25.75995142461479,
          "Y": 4.473376636072704
         },
         {
          "Outlier": "\"Observed\"",
          "X": 35.556121344480346,
          "Y": 13.187872469098265
         },
         {
          "Outlier": "\"Observed\"",
          "X": 33.115108818784705,
          "Y": -8.505573978232542
         },
         {
          "Outlier": "\"Observed\"",
          "X": 47.54457993759859,
          "Y": 21.218969322346787
         },
         {
          "Outlier": "\"Observed\"",
          "X": 28.040181110494967,
          "Y": 27.979033053451055
         },
         {
          "Outlier": "\"Observed\"",
          "X": 31.14216592957201,
          "Y": 16.86929499350565
         },
         {
          "Outlier": "\"Observed\"",
          "X": 27.39312559891385,
          "Y": 30.648245100223072
         },
         {
          "Outlier": "\"Observed\"",
          "X": 22.272840821778743,
          "Y": 16.719659005954135
         },
         {
          "Outlier": "\"Observed\"",
          "X": 19.975326672380305,
          "Y": 19.863696183322666
         },
         {
          "Outlier": "\"Observed\"",
          "X": 11.1127612592309,
          "Y": 12.984555613052702
         },
         {
          "Outlier": "\"Observed\"",
          "X": 33.624085398005455,
          "Y": -6.111898102166403
         },
         {
          "Outlier": "\"Observed\"",
          "X": 14.424511567900401,
          "Y": 23.30524995178256
         },
         {
          "Outlier": "\"Observed\"",
          "X": 13.71672842087672,
          "Y": 22.82805849172146
         },
         {
          "Outlier": "\"Observed\"",
          "X": 38.70084715643655,
          "Y": 27.0852795908944
         },
         {
          "Outlier": "\"Observed\"",
          "X": 39.054116318430275,
          "Y": 23.547936395174194
         },
         {
          "Outlier": "\"Observed\"",
          "X": 38.912514594304135,
          "Y": 9.184618668256745
         },
         {
          "Outlier": "\"Observed\"",
          "X": 49.43410600882609,
          "Y": 25.46931040523716
         },
         {
          "Outlier": "\"Observed\"",
          "X": 22.28019817459831,
          "Y": 1.2797243791771287
         },
         {
          "Outlier": "\"Observed\"",
          "X": 30.814584110138014,
          "Y": 29.95390369070862
         },
         {
          "Outlier": "\"Observed\"",
          "X": 45.95736013385658,
          "Y": 32.194857336672754
         },
         {
          "Outlier": "\"Observed\"",
          "X": 40.779397364420404,
          "Y": 21.558442091281865
         },
         {
          "Outlier": "\"Observed\"",
          "X": 51.05606513876978,
          "Y": 8.09660182514298
         },
         {
          "Outlier": "\"Observed\"",
          "X": 33.1988379454359,
          "Y": 21.331760708972386
         },
         {
          "Outlier": "\"Observed\"",
          "X": 31.0480391143231,
          "Y": 22.820880214496754
         },
         {
          "Outlier": "\"Observed\"",
          "X": 27.874487617004508,
          "Y": 33.247619182763216
         },
         {
          "Outlier": "\"Observed\"",
          "X": 25.419784810706396,
          "Y": 25.84351077991484
         },
         {
          "Outlier": "\"Observed\"",
          "X": 32.79673024668291,
          "Y": 20.834448206803437
         },
         {
          "Outlier": "\"Observed\"",
          "X": 38.88068910906296,
          "Y": 16.44382801178432
         },
         {
          "Outlier": "\"Observed\"",
          "X": 30.22814687161444,
          "Y": 30.211849464356217
         },
         {
          "Outlier": "\"Observed\"",
          "X": 39.56231376182041,
          "Y": 42.68198200553014
         },
         {
          "Outlier": "\"Observed\"",
          "X": 51.30462349810158,
          "Y": 29.91817788184459
         },
         {
          "Outlier": "\"Observed\"",
          "X": 60.549945949561824,
          "Y": 38.99791913426867
         },
         {
          "Outlier": "\"Observed\"",
          "X": 45.3933577576284,
          "Y": 38.55021887992968
         },
         {
          "Outlier": "\"Observed\"",
          "X": 36.22439461637301,
          "Y": 13.893126941172513
         },
         {
          "Outlier": "\"Observed\"",
          "X": 51.25774331547083,
          "Y": 29.296485673352546
         },
         {
          "Outlier": "\"Observed\"",
          "X": 51.89900958646141,
          "Y": 39.93078769582107
         },
         {
          "Outlier": "\"Observed\"",
          "X": 46.97359946417907,
          "Y": 29.623490370650266
         },
         {
          "Outlier": "\"Observed\"",
          "X": 47.99480870779674,
          "Y": 31.98109408080955
         },
         {
          "Outlier": "\"Observed\"",
          "X": 43.412012186787585,
          "Y": 26.064293700527347
         },
         {
          "Outlier": "\"Observed\"",
          "X": 34.740152130099695,
          "Y": 28.748479509949128
         },
         {
          "Outlier": "\"Observed\"",
          "X": 42.315717541490024,
          "Y": 25.508381488496717
         },
         {
          "Outlier": "\"Observed\"",
          "X": 54.60681007183814,
          "Y": 52.8179594148187
         },
         {
          "Outlier": "\"Observed\"",
          "X": 56.91505224511463,
          "Y": 39.97883266015245
         },
         {
          "Outlier": "\"Observed\"",
          "X": 39.986615256685546,
          "Y": 41.37216791610884
         },
         {
          "Outlier": "\"Observed\"",
          "X": 57.59573597364459,
          "Y": 24.783979984930518
         },
         {
          "Outlier": "\"Observed\"",
          "X": 53.31604293196705,
          "Y": 36.01604806558377
         },
         {
          "Outlier": "\"Observed\"",
          "X": 47.63074484873275,
          "Y": 31.554863594621885
         },
         {
          "Outlier": "\"Observed\"",
          "X": 59.91707081962995,
          "Y": 32.136309170768456
         },
         {
          "Outlier": "\"Observed\"",
          "X": 39.22933048290337,
          "Y": 25.592973544799875
         },
         {
          "Outlier": "\"Observed\"",
          "X": 57.47576717651982,
          "Y": 40.20112225264514
         },
         {
          "Outlier": "\"Observed\"",
          "X": 57.19387693083445,
          "Y": 35.367719507207795
         },
         {
          "Outlier": "\"Observed\"",
          "X": 50.680612238091086,
          "Y": 49.386351156465714
         },
         {
          "Outlier": "\"Observed\"",
          "X": 87.93241819918308,
          "Y": 35.10206326708083
         },
         {
          "Outlier": "\"Observed\"",
          "X": 48.75776158577779,
          "Y": 43.34675943911818
         }
        ]
       },
       "encoding": {
        "color": {
         "field": "Outlier"
        },
        "x": {
         "field": "X",
         "type": "quantitative"
        },
        "y": {
         "field": "Y",
         "type": "quantitative"
        }
       },
       "height": 400,
       "mark": "circle",
       "width": 400
      },
      "image/png": "[encoded data removed]"
     },
     "metadata": {},
     "output_type": "display_data"
    }
   ],
   "source": [
    "(xs, ys, xs', ys') <- sampleIOfixed $ unzip4 <$> toList observations\n",
    "\n",
    "plotVega \n",
    "    (zip (zip (xs <> xs') (ys <> ys')) \n",
    "    (replicate 100 (T.pack \"Latent\") <> replicate 100 (T.pack \"Observed\")))"
   ]
  },
  {
   "cell_type": "markdown",
   "metadata": {},
   "source": [
    "We now have a dataset, as shown by the orange dots. The goal is to infer the positions of the actual random walk (the true values that generated the dataset are shown in blue)."
   ]
  },
  {
   "cell_type": "code",
   "execution_count": 9,
   "metadata": {},
   "outputs": [],
   "source": [
    "-- take the original random walk as a prior and condition on the observations\n",
    "-- to obtain a posterior random walk\n",
    "conditioning :: (MonadSample m, MonadCond m) => P.Producer (Double,Double) m ()\n",
    "conditioning = \n",
    "    P.zip walk (P.each (zip xs' ys')) \n",
    "    >-> P.chain (\\((x,y), (x',y')) -> factor (normalPdf x 2 x' * normalPdf y 2 y' ))\n",
    "    >-> P.map fst \n",
    "\n",
    "model :: MonadInfer m => m [(Double,Double)]\n",
    "model = toList conditioning"
   ]
  },
  {
   "cell_type": "markdown",
   "metadata": {},
   "source": [
    "`model` is the distribution we want to perform inference on.\n",
    "\n",
    "The intuition of the problem is that we need to guess the whole path, by taking into account not just the observation at each timestep, but the relation (expressed in the prior) of the inferred position at that timestep to the previous and subsequent ones.\n",
    "\n",
    "To perform approximate inference here, we can represent a distribution as a *population* of weighted samples, and at each factor statement, do a resampling operation to keep the population \"healthy\". This is **Sequential Monte Carlo**. \n",
    "\n",
    "<!-- The algorithm creates a population of $n$ samples (initially weighted equally) and updates them at each factor statement. The update is defined by `smcMultinomial`, which samples new samples from the empirical distribution defined by the population. More sophisticated resamplers are available, including `smcSystematic` (see TODO) -->"
   ]
  },
  {
   "cell_type": "code",
   "execution_count": 10,
   "metadata": {},
   "outputs": [],
   "source": [
    "smcRes <- sampleIOfixed $ runPopulation $ smcMultinomial 100 20 model"
   ]
  },
  {
   "cell_type": "code",
   "execution_count": 11,
   "metadata": {},
   "outputs": [
    {
     "data": {
      "application/vnd.vegalite.v4+json": {
       "$schema": "https://vega.github.io/schema/vega-lite/v4.json",
       "data": {
        "values": [
         {
          "Outlier": "\"Inferred\"",
          "X": -1.4632190584473854,
          "Y": 1.1460115674562212
         },
         {
          "Outlier": "\"Inferred\"",
          "X": -1.7118276184317947,
          "Y": 1.5199498428643763
         },
         {
          "Outlier": "\"Inferred\"",
          "X": -1.1451212558742327,
          "Y": 0.43325567442598056
         },
         {
          "Outlier": "\"Inferred\"",
          "X": 0.09790530449735213,
          "Y": 0.09183823494208365
         },
         {
          "Outlier": "\"Inferred\"",
          "X": 0.9581783158575121,
          "Y": 0.6372273839586171
         },
         {
          "Outlier": "\"Inferred\"",
          "X": 2.5799803588469556,
          "Y": 0.523509451383241
         },
         {
          "Outlier": "\"Inferred\"",
          "X": 3.5364105757371975,
          "Y": -0.40209772534924837
         },
         {
          "Outlier": "\"Inferred\"",
          "X": 4.664932100604214,
          "Y": -2.140932642360747
         },
         {
          "Outlier": "\"Inferred\"",
          "X": 2.4746963239138777,
          "Y": -0.5804564967471029
         },
         {
          "Outlier": "\"Inferred\"",
          "X": 2.110229444435011,
          "Y": 1.4259142559687394
         },
         {
          "Outlier": "\"Inferred\"",
          "X": 3.9634654660820057,
          "Y": 1.8981356297841037
         },
         {
          "Outlier": "\"Inferred\"",
          "X": 4.69492568720881,
          "Y": 0.15677173775497621
         },
         {
          "Outlier": "\"Inferred\"",
          "X": 5.875134046835195,
          "Y": 0.5537330762276659
         },
         {
          "Outlier": "\"Inferred\"",
          "X": 5.991343105080134,
          "Y": 0.23003903694963534
         },
         {
          "Outlier": "\"Inferred\"",
          "X": 7.828586324415983,
          "Y": 0.3099855688905947
         },
         {
          "Outlier": "\"Inferred\"",
          "X": 8.637247799337462,
          "Y": 0.32972518643906573
         },
         {
          "Outlier": "\"Inferred\"",
          "X": 9.429799089056653,
          "Y": 1.2004686406387626
         },
         {
          "Outlier": "\"Inferred\"",
          "X": 9.955995145083149,
          "Y": 1.0710641023365364
         },
         {
          "Outlier": "\"Inferred\"",
          "X": 8.961057894245952,
          "Y": 2.095054575309389
         },
         {
          "Outlier": "\"Inferred\"",
          "X": 9.525714171430419,
          "Y": 3.3946910209095384
         },
         {
          "Outlier": "\"Inferred\"",
          "X": 10.056149504214071,
          "Y": 3.941764888084009
         },
         {
          "Outlier": "\"Inferred\"",
          "X": 10.742879558865761,
          "Y": 4.009795810182553
         },
         {
          "Outlier": "\"Inferred\"",
          "X": 11.10403434697427,
          "Y": 2.7867422102933963
         },
         {
          "Outlier": "\"Inferred\"",
          "X": 11.960713904173794,
          "Y": 2.0458423211435957
         },
         {
          "Outlier": "\"Inferred\"",
          "X": 12.845856965497711,
          "Y": 2.069472339276387
         },
         {
          "Outlier": "\"Inferred\"",
          "X": 13.515425374843076,
          "Y": 3.1675809626865705
         },
         {
          "Outlier": "\"Inferred\"",
          "X": 14.003145109662707,
          "Y": 4.616807697671205
         },
         {
          "Outlier": "\"Inferred\"",
          "X": 14.933163021487445,
          "Y": 6.323452975478005
         },
         {
          "Outlier": "\"Inferred\"",
          "X": 14.642195760345665,
          "Y": 6.971699421070226
         },
         {
          "Outlier": "\"Inferred\"",
          "X": 14.775243818496065,
          "Y": 7.205913941603486
         },
         {
          "Outlier": "\"Inferred\"",
          "X": 15.773943814025744,
          "Y": 7.8796242281509095
         },
         {
          "Outlier": "\"Inferred\"",
          "X": 16.46622774003378,
          "Y": 8.085796452489822
         },
         {
          "Outlier": "\"Inferred\"",
          "X": 16.40876857559826,
          "Y": 7.695568806462646
         },
         {
          "Outlier": "\"Inferred\"",
          "X": 17.072804858250798,
          "Y": 8.361812307996882
         },
         {
          "Outlier": "\"Inferred\"",
          "X": 18.957721635080002,
          "Y": 7.243552986511533
         },
         {
          "Outlier": "\"Inferred\"",
          "X": 21.27914857222183,
          "Y": 7.957316624967394
         },
         {
          "Outlier": "\"Inferred\"",
          "X": 22.130363100896442,
          "Y": 8.506808830858049
         },
         {
          "Outlier": "\"Inferred\"",
          "X": 22.77093465888502,
          "Y": 8.536962697132648
         },
         {
          "Outlier": "\"Inferred\"",
          "X": 23.507718804789253,
          "Y": 9.03955307086803
         },
         {
          "Outlier": "\"Inferred\"",
          "X": 21.854990347846474,
          "Y": 9.792338304284812
         },
         {
          "Outlier": "\"Inferred\"",
          "X": 23.141717400402772,
          "Y": 10.782682280432736
         },
         {
          "Outlier": "\"Inferred\"",
          "X": 23.269433524141743,
          "Y": 12.520322711011502
         },
         {
          "Outlier": "\"Inferred\"",
          "X": 23.818412314122078,
          "Y": 13.121382793295346
         },
         {
          "Outlier": "\"Inferred\"",
          "X": 24.537499170427317,
          "Y": 12.409977073697402
         },
         {
          "Outlier": "\"Inferred\"",
          "X": 24.11641810369644,
          "Y": 11.85133114886185
         },
         {
          "Outlier": "\"Inferred\"",
          "X": 24.590585697000975,
          "Y": 13.309267337721515
         },
         {
          "Outlier": "\"Inferred\"",
          "X": 26.328764119133194,
          "Y": 13.726567615090897
         },
         {
          "Outlier": "\"Inferred\"",
          "X": 27.220587927226052,
          "Y": 14.295563350437416
         },
         {
          "Outlier": "\"Inferred\"",
          "X": 28.429975117902938,
          "Y": 15.412526141789447
         },
         {
          "Outlier": "\"Inferred\"",
          "X": 28.328328865514294,
          "Y": 16.362853458729017
         },
         {
          "Outlier": "\"Inferred\"",
          "X": 27.089280164867628,
          "Y": 17.35212638717457
         },
         {
          "Outlier": "\"Inferred\"",
          "X": 26.242168901856726,
          "Y": 18.126488783937308
         },
         {
          "Outlier": "\"Inferred\"",
          "X": 26.552623450761658,
          "Y": 17.232679047048723
         },
         {
          "Outlier": "\"Inferred\"",
          "X": 27.00073737555883,
          "Y": 18.116692484780174
         },
         {
          "Outlier": "\"Inferred\"",
          "X": 28.460039243781193,
          "Y": 18.87105220621511
         },
         {
          "Outlier": "\"Inferred\"",
          "X": 27.91337421365696,
          "Y": 19.27894391927708
         },
         {
          "Outlier": "\"Inferred\"",
          "X": 29.29898490135378,
          "Y": 19.488320247765536
         },
         {
          "Outlier": "\"Inferred\"",
          "X": 28.491121548999818,
          "Y": 20.272807750280517
         },
         {
          "Outlier": "\"Inferred\"",
          "X": 30.39367450911183,
          "Y": 20.802160156067767
         },
         {
          "Outlier": "\"Inferred\"",
          "X": 31.6757702708152,
          "Y": 21.36911181648472
         },
         {
          "Outlier": "\"Inferred\"",
          "X": 33.74759982260822,
          "Y": 20.69711986123539
         },
         {
          "Outlier": "\"Inferred\"",
          "X": 34.63189322178316,
          "Y": 20.720728025011358
         },
         {
          "Outlier": "\"Inferred\"",
          "X": 33.72095340440472,
          "Y": 20.18643007452745
         },
         {
          "Outlier": "\"Inferred\"",
          "X": 34.062176871877654,
          "Y": 21.154543557624706
         },
         {
          "Outlier": "\"Inferred\"",
          "X": 33.9848171930971,
          "Y": 20.831564989981114
         },
         {
          "Outlier": "\"Inferred\"",
          "X": 35.04349980705378,
          "Y": 20.63743217750142
         },
         {
          "Outlier": "\"Inferred\"",
          "X": 35.327480629872774,
          "Y": 20.477708401501026
         },
         {
          "Outlier": "\"Inferred\"",
          "X": 37.20792284440542,
          "Y": 19.326738182567325
         },
         {
          "Outlier": "\"Inferred\"",
          "X": 37.745210433704024,
          "Y": 20.375185659609897
         },
         {
          "Outlier": "\"Inferred\"",
          "X": 38.34570792779762,
          "Y": 20.2440379874392
         },
         {
          "Outlier": "\"Inferred\"",
          "X": 38.96315663662267,
          "Y": 21.827338481559668
         },
         {
          "Outlier": "\"Inferred\"",
          "X": 38.938821748177446,
          "Y": 22.48932041338014
         },
         {
          "Outlier": "\"Inferred\"",
          "X": 38.586660765051334,
          "Y": 24.032759905765502
         },
         {
          "Outlier": "\"Inferred\"",
          "X": 39.37946081479034,
          "Y": 25.00934673042843
         },
         {
          "Outlier": "\"Inferred\"",
          "X": 38.600692198851206,
          "Y": 25.133494126950534
         },
         {
          "Outlier": "\"Inferred\"",
          "X": 39.869427588058,
          "Y": 27.372108339550444
         },
         {
          "Outlier": "\"Inferred\"",
          "X": 40.03550317244538,
          "Y": 28.497694604719833
         },
         {
          "Outlier": "\"Inferred\"",
          "X": 40.961974261437945,
          "Y": 29.90960678871004
         },
         {
          "Outlier": "\"Inferred\"",
          "X": 41.83111229905103,
          "Y": 27.922721730186712
         },
         {
          "Outlier": "\"Inferred\"",
          "X": 42.128431253487044,
          "Y": 29.165793778034555
         },
         {
          "Outlier": "\"Inferred\"",
          "X": 42.268636065512254,
          "Y": 30.204582145083403
         },
         {
          "Outlier": "\"Inferred\"",
          "X": 43.853310144993074,
          "Y": 29.765900683778092
         },
         {
          "Outlier": "\"Inferred\"",
          "X": 43.14027816990447,
          "Y": 30.29704380348884
         },
         {
          "Outlier": "\"Inferred\"",
          "X": 42.33178776448083,
          "Y": 30.909019576469777
         },
         {
          "Outlier": "\"Inferred\"",
          "X": 43.2543632577272,
          "Y": 31.193541909053216
         },
         {
          "Outlier": "\"Inferred\"",
          "X": 44.692788023961256,
          "Y": 33.739873028551365
         },
         {
          "Outlier": "\"Inferred\"",
          "X": 46.853371516641204,
          "Y": 33.58590941650718
         },
         {
          "Outlier": "\"Inferred\"",
          "X": 46.38726967451954,
          "Y": 33.66945743524713
         },
         {
          "Outlier": "\"Inferred\"",
          "X": 48.184748103960075,
          "Y": 32.98049027724241
         },
         {
          "Outlier": "\"Inferred\"",
          "X": 50.03296598020516,
          "Y": 33.33130480504601
         },
         {
          "Outlier": "\"Inferred\"",
          "X": 51.7583203737318,
          "Y": 34.0298568142456
         },
         {
          "Outlier": "\"Inferred\"",
          "X": 51.869491686423494,
          "Y": 34.762131083434156
         },
         {
          "Outlier": "\"Inferred\"",
          "X": 53.21182084671806,
          "Y": 36.03756320732122
         },
         {
          "Outlier": "\"Inferred\"",
          "X": 53.0569703422286,
          "Y": 36.5567856227276
         },
         {
          "Outlier": "\"Inferred\"",
          "X": 53.96651618248842,
          "Y": 36.04564803686144
         },
         {
          "Outlier": "\"Inferred\"",
          "X": 53.49559980956617,
          "Y": 38.62755233636234
         },
         {
          "Outlier": "\"Inferred\"",
          "X": 52.47288863245848,
          "Y": 41.30160964811991
         },
         {
          "Outlier": "\"Inferred\"",
          "X": 53.219593431089656,
          "Y": 42.35204772519747
         },
         {
          "Outlier": "\"Inferred\"",
          "X": 54.536606354524736,
          "Y": 42.09247606544867
         },
         {
          "Outlier": "\"Inferred\"",
          "X": 56.326281716337675,
          "Y": 44.74956246837245
         },
         {
          "Outlier": "\"Latent\"",
          "X": -1.4632190584473854,
          "Y": 1.1460115674562212
         },
         {
          "Outlier": "\"Latent\"",
          "X": -0.565202321752021,
          "Y": 1.8033685590845012
         },
         {
          "Outlier": "\"Latent\"",
          "X": 2.2747844364132677,
          "Y": 2.850352206580395
         },
         {
          "Outlier": "\"Latent\"",
          "X": 1.5371973593175838,
          "Y": 5.85242551279717
         },
         {
          "Outlier": "\"Latent\"",
          "X": 1.5317179586482914,
          "Y": 7.431869923200625
         },
         {
          "Outlier": "\"Latent\"",
          "X": 0.6998853959356282,
          "Y": 6.49242685245356
         },
         {
          "Outlier": "\"Latent\"",
          "X": 1.7979496783445565,
          "Y": 4.591688260692488
         },
         {
          "Outlier": "\"Latent\"",
          "X": 1.9724549469323271,
          "Y": 3.6130803827830507
         },
         {
          "Outlier": "\"Latent\"",
          "X": 3.2584506946559477,
          "Y": 3.946405972933805
         },
         {
          "Outlier": "\"Latent\"",
          "X": 4.809773897426801,
          "Y": 3.5951024236233646
         },
         {
          "Outlier": "\"Latent\"",
          "X": 5.113346153118293,
          "Y": 4.325474251169949
         },
         {
          "Outlier": "\"Latent\"",
          "X": 3.241746251921179,
          "Y": 4.269944990189196
         },
         {
          "Outlier": "\"Latent\"",
          "X": 1.9741816224706097,
          "Y": 5.709474362717235
         },
         {
          "Outlier": "\"Latent\"",
          "X": 4.662809284510722,
          "Y": 3.145818793689059
         },
         {
          "Outlier": "\"Latent\"",
          "X": 6.496106538063458,
          "Y": 1.9459514982650592
         },
         {
          "Outlier": "\"Latent\"",
          "X": 7.839407093887828,
          "Y": 1.3781602498148688
         },
         {
          "Outlier": "\"Latent\"",
          "X": 7.225399701558638,
          "Y": 1.9731214127581183
         },
         {
          "Outlier": "\"Latent\"",
          "X": 10.273960556884512,
          "Y": 3.1272495851250746
         },
         {
          "Outlier": "\"Latent\"",
          "X": 11.658240692761755,
          "Y": 4.7081404843132955
         },
         {
          "Outlier": "\"Latent\"",
          "X": 12.089176006231874,
          "Y": 5.563419300556528
         },
         {
          "Outlier": "\"Latent\"",
          "X": 14.0729389264296,
          "Y": 5.384761184789606
         },
         {
          "Outlier": "\"Latent\"",
          "X": 15.767557490663135,
          "Y": 5.4676502846574415
         },
         {
          "Outlier": "\"Latent\"",
          "X": 13.971639104207993,
          "Y": 3.9050395380093716
         },
         {
          "Outlier": "\"Latent\"",
          "X": 13.021343266483207,
          "Y": 5.588993528110764
         },
         {
          "Outlier": "\"Latent\"",
          "X": 11.71081234912814,
          "Y": 5.8576253446905415
         },
         {
          "Outlier": "\"Latent\"",
          "X": 11.410644544044604,
          "Y": 6.988765580024394
         },
         {
          "Outlier": "\"Latent\"",
          "X": 11.205606989004808,
          "Y": 8.372366158964908
         },
         {
          "Outlier": "\"Latent\"",
          "X": 11.550989463312563,
          "Y": 7.974645224423241
         },
         {
          "Outlier": "\"Latent\"",
          "X": 11.595170948989274,
          "Y": 6.7280660100357945
         },
         {
          "Outlier": "\"Latent\"",
          "X": 12.489824169387779,
          "Y": 7.476213586130767
         },
         {
          "Outlier": "\"Latent\"",
          "X": 14.096204949939551,
          "Y": 7.7604326813257165
         },
         {
          "Outlier": "\"Latent\"",
          "X": 16.654279035751834,
          "Y": 8.953298458005806
         },
         {
          "Outlier": "\"Latent\"",
          "X": 17.362808261722755,
          "Y": 11.202216953390876
         },
         {
          "Outlier": "\"Latent\"",
          "X": 18.767748676038376,
          "Y": 10.185820143628874
         },
         {
          "Outlier": "\"Latent\"",
          "X": 20.567380997980944,
          "Y": 11.477954293536307
         },
         {
          "Outlier": "\"Latent\"",
          "X": 19.085205495991023,
          "Y": 9.687078934692291
         },
         {
          "Outlier": "\"Latent\"",
          "X": 17.77929028374309,
          "Y": 10.307608008248957
         },
         {
          "Outlier": "\"Latent\"",
          "X": 15.71454024396435,
          "Y": 11.793752186844355
         },
         {
          "Outlier": "\"Latent\"",
          "X": 14.211405784672884,
          "Y": 12.984403708572724
         },
         {
          "Outlier": "\"Latent\"",
          "X": 16.607158651445474,
          "Y": 13.871061016383843
         },
         {
          "Outlier": "\"Latent\"",
          "X": 18.09443930792901,
          "Y": 14.562937548581543
         },
         {
          "Outlier": "\"Latent\"",
          "X": 19.74181795343296,
          "Y": 14.959424812200865
         },
         {
          "Outlier": "\"Latent\"",
          "X": 21.50326967054157,
          "Y": 15.206681315110446
         },
         {
          "Outlier": "\"Latent\"",
          "X": 22.633436640512937,
          "Y": 14.44811116607015
         },
         {
          "Outlier": "\"Latent\"",
          "X": 22.076274542576865,
          "Y": 16.704598833075902
         },
         {
          "Outlier": "\"Latent\"",
          "X": 23.505166696303643,
          "Y": 15.798218168765974
         },
         {
          "Outlier": "\"Latent\"",
          "X": 24.733660189603416,
          "Y": 14.779682753223788
         },
         {
          "Outlier": "\"Latent\"",
          "X": 26.644716393642398,
          "Y": 14.063730212190618
         },
         {
          "Outlier": "\"Latent\"",
          "X": 27.15993563034085,
          "Y": 12.629741940023761
         },
         {
          "Outlier": "\"Latent\"",
          "X": 30.63231493803172,
          "Y": 12.561548543018622
         },
         {
          "Outlier": "\"Latent\"",
          "X": 30.645070341470575,
          "Y": 15.129932237250653
         },
         {
          "Outlier": "\"Latent\"",
          "X": 29.823551536391147,
          "Y": 14.42229123738987
         },
         {
          "Outlier": "\"Latent\"",
          "X": 29.616482366572843,
          "Y": 16.775056908060265
         },
         {
          "Outlier": "\"Latent\"",
          "X": 27.14632486084161,
          "Y": 17.894523206894835
         },
         {
          "Outlier": "\"Latent\"",
          "X": 26.494766964030056,
          "Y": 17.56796594931295
         },
         {
          "Outlier": "\"Latent\"",
          "X": 26.01323572349934,
          "Y": 16.709319247380886
         },
         {
          "Outlier": "\"Latent\"",
          "X": 25.186187739653146,
          "Y": 15.854777363040407
         },
         {
          "Outlier": "\"Latent\"",
          "X": 24.996378754678084,
          "Y": 17.190395393398248
         },
         {
          "Outlier": "\"Latent\"",
          "X": 25.34971879701334,
          "Y": 19.11787936128907
         },
         {
          "Outlier": "\"Latent\"",
          "X": 27.262746740609234,
          "Y": 19.107644558710103
         },
         {
          "Outlier": "\"Latent\"",
          "X": 29.397948508824708,
          "Y": 20.82523061145132
         },
         {
          "Outlier": "\"Latent\"",
          "X": 32.01511675558973,
          "Y": 20.547288903353625
         },
         {
          "Outlier": "\"Latent\"",
          "X": 34.80561408827779,
          "Y": 18.972636194343835
         },
         {
          "Outlier": "\"Latent\"",
          "X": 34.99269147134581,
          "Y": 18.087368309195945
         },
         {
          "Outlier": "\"Latent\"",
          "X": 36.81589150663064,
          "Y": 20.53827425429403
         },
         {
          "Outlier": "\"Latent\"",
          "X": 37.72543325152041,
          "Y": 20.423984246765684
         },
         {
          "Outlier": "\"Latent\"",
          "X": 38.80132892086412,
          "Y": 20.837906831050113
         },
         {
          "Outlier": "\"Latent\"",
          "X": 40.46586937197226,
          "Y": 19.55165146923003
         },
         {
          "Outlier": "\"Latent\"",
          "X": 39.217096214802346,
          "Y": 20.7770343991213
         },
         {
          "Outlier": "\"Latent\"",
          "X": 37.73311729533441,
          "Y": 21.78052227393485
         },
         {
          "Outlier": "\"Latent\"",
          "X": 37.415930111011285,
          "Y": 22.097574438149934
         },
         {
          "Outlier": "\"Latent\"",
          "X": 35.62282587635524,
          "Y": 23.815749646230554
         },
         {
          "Outlier": "\"Latent\"",
          "X": 34.6993065679342,
          "Y": 22.981325492496232
         },
         {
          "Outlier": "\"Latent\"",
          "X": 35.30100046941127,
          "Y": 21.892673942856398
         },
         {
          "Outlier": "\"Latent\"",
          "X": 35.96498584093279,
          "Y": 23.099368548435145
         },
         {
          "Outlier": "\"Latent\"",
          "X": 34.81698771655519,
          "Y": 25.138111451725813
         },
         {
          "Outlier": "\"Latent\"",
          "X": 37.06669116941395,
          "Y": 25.57589135851078
         },
         {
          "Outlier": "\"Latent\"",
          "X": 39.76522413486778,
          "Y": 26.390988666860146
         },
         {
          "Outlier": "\"Latent\"",
          "X": 41.86941419100303,
          "Y": 27.802781955912845
         },
         {
          "Outlier": "\"Latent\"",
          "X": 42.40244652831311,
          "Y": 26.975786865594838
         },
         {
          "Outlier": "\"Latent\"",
          "X": 44.33240403831243,
          "Y": 26.883614972549008
         },
         {
          "Outlier": "\"Latent\"",
          "X": 45.503034947950106,
          "Y": 29.018561989970895
         },
         {
          "Outlier": "\"Latent\"",
          "X": 44.31580253571675,
          "Y": 28.68687897038698
         },
         {
          "Outlier": "\"Latent\"",
          "X": 45.441863746146836,
          "Y": 30.23005268143656
         },
         {
          "Outlier": "\"Latent\"",
          "X": 45.44084100764482,
          "Y": 29.21533289032954
         },
         {
          "Outlier": "\"Latent\"",
          "X": 44.34224655129755,
          "Y": 30.031363805744935
         },
         {
          "Outlier": "\"Latent\"",
          "X": 45.86419755623003,
          "Y": 30.07067478656089
         },
         {
          "Outlier": "\"Latent\"",
          "X": 47.35143047144396,
          "Y": 31.781671640585287
         },
         {
          "Outlier": "\"Latent\"",
          "X": 46.503941335679045,
          "Y": 32.74147447855305
         },
         {
          "Outlier": "\"Latent\"",
          "X": 46.95892508203389,
          "Y": 35.46810428050059
         },
         {
          "Outlier": "\"Latent\"",
          "X": 48.891113658502995,
          "Y": 34.47453325700603
         },
         {
          "Outlier": "\"Latent\"",
          "X": 48.991443351165465,
          "Y": 34.89380689282136
         },
         {
          "Outlier": "\"Latent\"",
          "X": 50.23143920554187,
          "Y": 35.5349378200609
         },
         {
          "Outlier": "\"Latent\"",
          "X": 52.77642628187937,
          "Y": 35.52105267347379
         },
         {
          "Outlier": "\"Latent\"",
          "X": 52.39507840685315,
          "Y": 35.5291073649352
         },
         {
          "Outlier": "\"Latent\"",
          "X": 54.09270003176144,
          "Y": 36.78400553995767
         },
         {
          "Outlier": "\"Latent\"",
          "X": 54.03912477803799,
          "Y": 37.83307819763319
         },
         {
          "Outlier": "\"Latent\"",
          "X": 53.88208129080232,
          "Y": 39.81015870696045
         },
         {
          "Outlier": "\"Latent\"",
          "X": 55.948153919800134,
          "Y": 40.573403880293554
         },
         {
          "Outlier": "\"Latent\"",
          "X": 56.00011374867839,
          "Y": 41.49165148103862
         }
        ]
       },
       "encoding": {
        "color": {
         "field": "Outlier"
        },
        "x": {
         "field": "X",
         "type": "quantitative"
        },
        "y": {
         "field": "Y",
         "type": "quantitative"
        }
       },
       "height": 400,
       "mark": "circle",
       "width": 400
      },
      "image/png": "[encoded data removed]"
     },
     "metadata": {},
     "output_type": "display_data"
    }
   ],
   "source": [
    "(inferredXs, inferredYs) = unzip $ fst =<< smcRes\n",
    "\n",
    "plotVega \n",
    "    (zip (zip (xs <> inferredXs) (ys <> inferredYs)) \n",
    "    (replicate 100 (T.pack \"Inferred\") <> replicate 100 (T.pack \"Latent\")))"
   ]
  },
  {
   "cell_type": "code",
   "execution_count": null,
   "metadata": {},
   "outputs": [],
   "source": [
    "import Control.Monad.IO.Class\n",
    "import Control.Monad.Bayes.Sequential\n",
    "\n",
    "resampleMultinomialWithTrace x = fromWeightedList $ do\n",
    "    y <- runPopulation $ resampleMultinomial x\n",
    "    liftIO $ print $ fmap snd y\n",
    "    return y\n",
    "    \n",
    "\n",
    "smcRes <- sampleIOfixed $ runPopulation $ sir resampleMultinomialWithTrace 4 20000 (model)"
   ]
  },
  {
   "cell_type": "markdown",
   "metadata": {},
   "source": [
    "We can see here that `SMC` has done an ok job.\n",
    "\n",
    "The intuition of how SMC does well is that it is searching the space of solutions with some backtracking (because it has a whole population of guesses to rely on), and moreover, this search results in unbiased sampling from the distribution of interest. So if it makes a series of guesses the leads it astray, it can throw away this possiblity at a later stage. "
   ]
  }
 ],
 "metadata": {
  "kernelspec": {
   "display_name": "Haskell - nixpkgs",
   "language": "haskell",
   "name": "ihaskell_nixpkgs"
  },
  "language_info": {
   "codemirror_mode": "ihaskell",
   "file_extension": ".hs",
   "mimetype": "text/x-haskell",
   "name": "haskell",
   "pygments_lexer": "Haskell",
   "version": "9.0.2"
  }
 },
 "nbformat": 4,
 "nbformat_minor": 4
}
