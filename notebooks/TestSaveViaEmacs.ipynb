{
 "cells": [
  {
   "cell_type": "markdown",
   "id": "da4e1229",
   "metadata": {},
   "source": [
    "# Susceptible, Infected, Recovered: Influenza in a Boarding School"
   ]
  },
  {
   "cell_type": "markdown",
   "id": "902c5ee8",
   "metadata": {},
   "source": [
    "In 1978, anonymous authors sent a note to the British Medical Journal\n",
    "reporting an influenza outbreak in a boarding school in the north of\n",
    "England (@bmj-influenza). The chart below shows the solution of the\n",
    "SIR (Susceptible, Infected, Record) model with parameters which give\n",
    "roughly the results observed in the school."
   ]
  },
  {
   "cell_type": "markdown",
   "id": "4c7fbe1d",
   "metadata": {},
   "source": [
    "We can model this using the [textbook\n",
    "model](https://en.wikipedia.org/wiki/Compartmental_models_in_epidemiology) which\n",
    "is more or less the one that @1927RSPSA.115 published almost 100 years\n",
    "ago and which treats the number of infected individuals as continuous."
   ]
  },
  {
   "cell_type": "markdown",
   "id": "cdd607cd",
   "metadata": {},
   "source": [
    "The Susceptible / Infected / Recovered (SIR) model has three\n",
    "parameters: one describing how infectious the pathogen is ($\\beta$), one\n",
    "describing how much contact a host has with other hosts ($c$) and one\n",
    "describing how quickly a host recovers ($\\gamma$).\n",
    "\n",
    "$$\n",
    "\\begin{aligned}\n",
    "\\frac{d S}{d t} &=-c \\beta S \\frac{I}{N} \\\\\n",
    "\\frac{d I}{d t} &=c \\beta S \\frac{I}{N}-\\gamma I \\\\\n",
    "\\frac{d R}{d t} &=\\gamma I\n",
    "\\end{aligned}\n",
    "$$\n",
    "\n",
    "The infectivity rate and the contact rate are always used as $c\\beta$\n",
    "and are thus non-identifiable so we can replace this product with a\n",
    "single parameter $\\alpha = c\\beta$).\n",
    "\n",
    "$$\n",
    "\\begin{aligned}\n",
    "\\frac{d S}{d t} &=-\\alpha S \\frac{I}{N} \\\\\n",
    "\\frac{d I}{d t} &=\\alpha S \\frac{I}{N}-\\gamma I \\\\\n",
    "\\frac{d R}{d t} &=\\gamma I\n",
    "\\end{aligned}\n",
    "$$"
   ]
  },
  {
   "cell_type": "markdown",
   "id": "4cad3813",
   "metadata": {},
   "source": [
    "In order to estimate these parameters, we can assume that they come\n",
    "from prior distribution suggested by the literature and ideally then\n",
    "use a standard Markov Chain Monte Carlo (MCMC) technique to sample\n",
    "from the posterior. But with an Agent-Based Model (ABM), the\n",
    "likelihood is almost always intractable. We thus approximate the\n",
    "likelihood using particle filtering. The samples for the parameters\n",
    "that arise in this way are then drawn from the posterior and not just\n",
    "an approximation to the posterior.\n",
    "\n",
    "In a nutshell, we draw the parameters from a proposal distribution and\n",
    "then run the particle filter to calculate the likelihood and compare\n",
    "likelihoods as in standard MCMC in order to run the chain.\n",
    "\n",
    "Preliminary results have given a very good fit against observed data\n",
    "of an influenza outbreak in a boarding school in the UK."
   ]
  },
  {
   "cell_type": "code",
   "execution_count": 1,
   "id": "a88f483a",
   "metadata": {
    "collapsed": false,
    "jupyter": {
     "outputs_hidden": false
    }
   },
   "outputs": [],
   "source": [
    "{-# LANGUAGE ViewPatterns        #-}\n",
    "{-# LANGUAGE NumDecimals         #-}\n",
    "{-# LANGUAGE OverloadedLists     #-}\n",
    "{-# LANGUAGE FlexibleContexts    #-}\n",
    "{-# LANGUAGE RecordWildCards     #-}\n",
    "{-# LANGUAGE ScopedTypeVariables #-}\n",
    "\n",
    "import           Numeric.Sundials\n",
    "import           Numeric.LinearAlgebra hiding ((<>))\n",
    "import qualified Data.Vector.Storable as VS\n",
    "import           Control.Monad.Bayes.Class\n",
    "import qualified Data.Vector as V\n",
    "import           Control.Exception\n",
    "import           Control.Monad.IO.Class\n",
    "import           Katip\n",
    "import           Katip.Monadic ()\n",
    "import           System.IO\n",
    "import qualified Data.Text as T\n",
    "import qualified Data.Random as R\n",
    "\n",
    ":l Plotting.hs"
   ]
  },
  {
   "cell_type": "code",
   "execution_count": 2,
   "id": "f3177990",
   "metadata": {
    "collapsed": false,
    "jupyter": {
     "outputs_hidden": false
    }
   },
   "outputs": [],
   "source": [
    "{-# LANGUAGE ViewPatterns        #-}\n",
    "{-# LANGUAGE NumDecimals         #-}\n",
    "{-# LANGUAGE OverloadedLists     #-}\n",
    "{-# LANGUAGE FlexibleContexts    #-}\n",
    "{-# LANGUAGE RecordWildCards     #-}\n",
    "\n",
    "import           Numeric.Sundials\n",
    "import           Numeric.LinearAlgebra hiding ((<>))\n",
    "import qualified Data.Vector.Storable as VS\n",
    "import           Control.Monad.Bayes.Class\n",
    "import qualified Data.Vector as V\n",
    "import           Control.Exception\n",
    "import           Control.Monad.IO.Class\n",
    "import           Katip\n",
    "import           Katip.Monadic ()\n",
    "import           System.IO\n",
    "import qualified Data.Text as T\n",
    "\n",
    ":l Plotting.hs"
   ]
  },
  {
   "cell_type": "code",
   "execution_count": 3,
   "id": "86531f44",
   "metadata": {
    "collapsed": false,
    "jupyter": {
     "outputs_hidden": false
    }
   },
   "outputs": [],
   "source": [
    "data SirState = SirState {\n",
    "    sirStateS :: Double\n",
    "  , sirStateI :: Double\n",
    "  , sirStateR :: Double\n",
    "  } deriving (Eq, Show)\n",
    "\n",
    "data SirParams = SirParams {\n",
    "    sirParamsBeta  :: Double\n",
    "  , sirParamsC     :: Double\n",
    "  , sirParamsGamma :: Double\n",
    "  } deriving (Eq, Show)\n",
    "\n",
    "data SirParams' = SirParams' {\n",
    "    sirParamsR0    :: Double\n",
    "  , sirParamsKappa :: Double\n",
    "  } deriving (Eq, Show)\n",
    "\n",
    "data Sir = Sir {\n",
    "    sirS     :: SirState\n",
    "  , sirP     :: SirParams\n",
    "  } deriving (Eq, Show)\n",
    "\n",
    "data SirReparam = SirReparam {\n",
    "    sirS'     :: SirState\n",
    "  , sirP'     :: SirParams'\n",
    "  } deriving (Eq, Show)\n"
   ]
  },
  {
   "cell_type": "markdown",
   "id": "6ffb4d98",
   "metadata": {},
   "source": [
    "As in most languages, it's easy enough to define the actual ODE\n",
    "problem itself and then run a solver to return the results and then\n",
    "plot them. Here we are using a 4-th order implicit method from the\n",
    "[SUNDIALS ODE solver\n",
    "package](https://sundials.readthedocs.io/en/latest/arkode/Butcher_link.html#sdirk-5-3-4)\n",
    "but almost any solver would have worked for the set of equations we\n",
    "using as our example.\n",
    "\n",
    "I have hidden the details which can made be visible if the reader is\n",
    "interested."
   ]
  },
  {
   "cell_type": "code",
   "execution_count": 4,
   "id": "e4a4d894",
   "metadata": {
    "collapsed": false,
    "jupyter": {
     "outputs_hidden": false
    }
   },
   "outputs": [],
   "source": [
    "defaultOpts :: OdeMethod -> ODEOpts\n",
    "defaultOpts method = ODEOpts\n",
    "  { maxNumSteps = 1e5\n",
    "  , minStep     = 1.0e-14\n",
    "  , fixedStep   = 0\n",
    "  , maxFail     = 10\n",
    "  , odeMethod   = method\n",
    "  , initStep    = Nothing\n",
    "  , jacobianRepr = DenseJacobian\n",
    "  }\n",
    "\n",
    "emptyOdeProblem :: OdeProblem\n",
    "emptyOdeProblem = OdeProblem\n",
    "      { odeRhs = error \"emptyOdeProblem: no odeRhs provided\"\n",
    "      , odeJacobian = Nothing\n",
    "      , odeInitCond = error \"emptyOdeProblem: no odeInitCond provided\"\n",
    "      , odeEventDirections = V.empty\n",
    "      , odeEventConditions = eventConditionsPure V.empty\n",
    "      , odeTimeBasedEvents = TimeEventSpec $ return $ 1.0 / 0.0\n",
    "      , odeEventHandler = nilEventHandler\n",
    "      , odeMaxEvents = 100\n",
    "      , odeSolTimes = error \"emptyOdeProblem: no odeSolTimes provided\"\n",
    "      , odeTolerances = defaultTolerances\n",
    "      }\n",
    "\n",
    "nilEventHandler :: EventHandler\n",
    "nilEventHandler _ _ _ = throwIO $ ErrorCall \"nilEventHandler\"\n",
    "\n",
    "defaultTolerances :: Tolerances\n",
    "defaultTolerances = Tolerances\n",
    "  { absTolerances = Left 1.0e-6\n",
    "  , relTolerance = 1.0e-10\n",
    "  }"
   ]
  },
  {
   "cell_type": "code",
   "execution_count": 5,
   "id": "003235d1",
   "metadata": {
    "collapsed": false,
    "jupyter": {
     "outputs_hidden": false
    }
   },
   "outputs": [],
   "source": [
    "sir :: Vector Double -> Sir -> OdeProblem\n",
    "sir ts ps = emptyOdeProblem\n",
    "  { odeRhs = odeRhsPure f\n",
    "  , odeJacobian = Nothing\n",
    "  , odeInitCond = [initS, initI, initR]\n",
    "  , odeEventHandler = nilEventHandler\n",
    "  , odeMaxEvents = 0\n",
    "  , odeSolTimes = ts\n",
    "  , odeTolerances = defaultTolerances\n",
    "  }\n",
    "  where\n",
    "    f _ (VS.toList -> [s, i, r]) =\n",
    "      let n = s + i + r in\n",
    "        [ -beta * c * i / n * s\n",
    "        , beta * c * i / n * s - gamma * i\n",
    "        , gamma * i\n",
    "        ]\n",
    "    f _ _ = error \"Incorrect number of parameters\"\n",
    "\n",
    "    beta  = realToFrac (sirParamsBeta  $ sirP ps)\n",
    "    c     = realToFrac (sirParamsC     $ sirP ps)\n",
    "    gamma = realToFrac (sirParamsGamma $ sirP ps)\n",
    "    initS = realToFrac (sirStateS $ sirS ps)\n",
    "    initI = realToFrac (sirStateI $ sirS ps)\n",
    "    initR = realToFrac (sirStateR $ sirS ps)"
   ]
  },
  {
   "cell_type": "code",
   "execution_count": 6,
   "id": "3e3a95fc",
   "metadata": {
    "collapsed": false,
    "jupyter": {
     "outputs_hidden": false
    }
   },
   "outputs": [
    {
     "data": {},
     "metadata": {},
     "output_type": "display_data"
    },
    {
     "data": {
      "text/html": [
       "<div style='background: rgb(247, 247, 247);'><form><textarea id='code'>type OdeRhs :: *\n",
       "data OdeRhs = OdeRhsHaskell (Foreign.C.Types.CDouble -> Vector Foreign.C.Types.CDouble -> IO (Vector Foreign.C.Types.CDouble)) | OdeRhsC (GHC.Ptr.FunPtr OdeRhsCType) (GHC.Ptr.Ptr UserData)\n",
       "  \t-- Defined in ‘hmatrix-sundials-0.20.0.0:Numeric.Sundials.Common’\n",
       "</textarea></form></div><script>CodeMirror.fromTextArea(document.getElementById('code'), {mode: 'haskell', readOnly: 'nocursor'});</script>"
      ],
      "text/plain": [
       "type OdeRhs :: *\n",
       "data OdeRhs = OdeRhsHaskell (Foreign.C.Types.CDouble -> Vector Foreign.C.Types.CDouble -> IO (Vector Foreign.C.Types.CDouble)) | OdeRhsC (GHC.Ptr.FunPtr OdeRhsCType) (GHC.Ptr.Ptr UserData)\n",
       "  \t-- Defined in ‘hmatrix-sundials-0.20.0.0:Numeric.Sundials.Common’"
      ]
     },
     "metadata": {},
     "output_type": "display_data"
    }
   ],
   "source": [
    ":i OdeRhs"
   ]
  },
  {
   "cell_type": "code",
   "execution_count": 7,
   "id": "c2ecc68a",
   "metadata": {
    "collapsed": false,
    "jupyter": {
     "outputs_hidden": false
    }
   },
   "outputs": [],
   "source": [
    "us :: [Double]\n",
    "us = map fromIntegral [1 .. length actuals]\n",
    "\n",
    "actuals :: [Double]\n",
    "actuals = [1, 3, 8, 28, 76, 222, 293, 257, 237, 192, 126, 70, 28, 12, 5]"
   ]
  },
  {
   "cell_type": "code",
   "execution_count": 8,
   "id": "53484d7b",
   "metadata": {
    "collapsed": false,
    "jupyter": {
     "outputs_hidden": false
    }
   },
   "outputs": [],
   "source": [
    "solK :: (MonadIO m, Katip m) =>\n",
    "        (a -> b -> OdeProblem) -> b -> a -> m (Matrix Double)\n",
    "solK s ps ts = do\n",
    "  x <- solve (defaultOpts $ ARKMethod SDIRK_5_3_4) (s ts ps)\n",
    "  case x of\n",
    "    Left e  -> error $ show e\n",
    "    Right y -> return (solutionMatrix y)\n",
    "\n",
    "testSolK :: (MonadIO m, KatipContext m) => m [Double]\n",
    "testSolK = do\n",
    "  m <- solK sir (Sir (SirState 762 1 0) (SirParams 0.2 10.0 0.5)) (vector us)\n",
    "  let n = tr m\n",
    "  return $ toList (n!1)"
   ]
  },
  {
   "cell_type": "code",
   "execution_count": 9,
   "id": "aa70d8dc",
   "metadata": {
    "collapsed": false,
    "jupyter": {
     "outputs_hidden": false
    }
   },
   "outputs": [],
   "source": [
    "myBracketFormat :: LogItem a => ItemFormatter a\n",
    "myBracketFormat _withColor _verb Item {..} =\n",
    "    unLogStr _itemMessage"
   ]
  },
  {
   "cell_type": "code",
   "execution_count": 10,
   "id": "35a870bd",
   "metadata": {
    "collapsed": false,
    "jupyter": {
     "outputs_hidden": false
    }
   },
   "outputs": [],
   "source": [
    "main :: IO [Double]\n",
    "main = do\n",
    "  handleScribe <- mkHandleScribeWithFormatter myBracketFormat ColorIfTerminal stderr (permitItem DebugS) V2\n",
    "  logEnv <- registerScribe \"stderr\" handleScribe defaultScribeSettings =<< initLogEnv \"test\" \"devel\"\n",
    "  runKatipContextT logEnv (mempty :: LogContexts) mempty testSolK"
   ]
  },
  {
   "cell_type": "code",
   "execution_count": 11,
   "id": "8b045c36",
   "metadata": {
    "collapsed": false,
    "jupyter": {
     "outputs_hidden": false
    }
   },
   "outputs": [],
   "source": [
    "main :: IO [Double]\n",
    "main = do\n",
    "  handleScribe <- mkHandleScribeWithFormatter myBracketFormat ColorIfTerminal stderr (permitItem DebugS) V2\n",
    "  logEnv <- registerScribe \"stderr\" handleScribe defaultScribeSettings =<< initLogEnv \"test\" \"devel\"\n",
    "  runKatipContextT logEnv (mempty :: LogContexts) mempty testSolK"
   ]
  },
  {
   "cell_type": "code",
   "execution_count": 12,
   "id": "5f6e3f25",
   "metadata": {
    "collapsed": false,
    "jupyter": {
     "outputs_hidden": false
    }
   },
   "outputs": [
    {
     "data": {},
     "metadata": {},
     "output_type": "display_data"
    },
    {
     "data": {
      "text/html": [
       "<div style='background: rgb(247, 247, 247);'><form><textarea id='code'>type Plottable :: * -> Constraint\n",
       "class Plottable a where\n",
       "  plotVega :: a -> VegaLiteLab\n",
       "  {-# MINIMAL plotVega #-}\n",
       "  \t-- Defined at Plotting.hs:60:1\n",
       "instance Plottable [((Double, Double), T.Text)] -- Defined at Plotting.hs:63:10\n",
       "instance Plottable [((Double, Double), Double)] -- Defined at Plotting.hs:70:10\n",
       "instance Plottable [(T.Text, Double)] -- Defined at Plotting.hs:97:10\n",
       "instance Plottable ([Double], (Double, Double)) -- Defined at Plotting.hs:78:10\n",
       "</textarea></form></div><script>CodeMirror.fromTextArea(document.getElementById('code'), {mode: 'haskell', readOnly: 'nocursor'});</script>"
      ],
      "text/plain": [
       "type Plottable :: * -> Constraint\n",
       "class Plottable a where\n",
       "  plotVega :: a -> VegaLiteLab\n",
       "  {-# MINIMAL plotVega #-}\n",
       "  \t-- Defined at Plotting.hs:60:1\n",
       "instance Plottable [((Double, Double), T.Text)] -- Defined at Plotting.hs:63:10\n",
       "instance Plottable [((Double, Double), Double)] -- Defined at Plotting.hs:70:10\n",
       "instance Plottable [(T.Text, Double)] -- Defined at Plotting.hs:97:10\n",
       "instance Plottable ([Double], (Double, Double)) -- Defined at Plotting.hs:78:10"
      ]
     },
     "metadata": {},
     "output_type": "display_data"
    }
   ],
   "source": [
    ":i Plottable"
   ]
  },
  {
   "cell_type": "markdown",
   "id": "98b02fdc",
   "metadata": {},
   "source": [
    "Here's the results of running the solver with $R_0 = 4.0, \\kappa =0.5$\n",
    "and with $R_0 = 3.2, \\kappa = 0.55$, the former an educated guess and\n",
    "the latter as a result of running the inference method which is the\n",
    "main subject of this blog post."
   ]
  },
  {
   "cell_type": "code",
   "execution_count": 13,
   "id": "a3fa0bd2",
   "metadata": {
    "collapsed": false,
    "jupyter": {
     "outputs_hidden": false
    }
   },
   "outputs": [
    {
     "data": {
      "application/vnd.vegalite.v4+json": {
       "$schema": "https://vega.github.io/schema/vega-lite/v4.json",
       "data": {
        "values": [
         {
          "Outlier": "\"Actuals\"",
          "X": 1,
          "Y": 1
         },
         {
          "Outlier": "\"Actuals\"",
          "X": 2,
          "Y": 3
         },
         {
          "Outlier": "\"Actuals\"",
          "X": 3,
          "Y": 8
         },
         {
          "Outlier": "\"Actuals\"",
          "X": 4,
          "Y": 28
         },
         {
          "Outlier": "\"Actuals\"",
          "X": 5,
          "Y": 76
         },
         {
          "Outlier": "\"Actuals\"",
          "X": 6,
          "Y": 222
         },
         {
          "Outlier": "\"Actuals\"",
          "X": 7,
          "Y": 293
         },
         {
          "Outlier": "\"Actuals\"",
          "X": 8,
          "Y": 257
         },
         {
          "Outlier": "\"Actuals\"",
          "X": 9,
          "Y": 237
         },
         {
          "Outlier": "\"Actuals\"",
          "X": 10,
          "Y": 192
         },
         {
          "Outlier": "\"Actuals\"",
          "X": 11,
          "Y": 126
         },
         {
          "Outlier": "\"Actuals\"",
          "X": 12,
          "Y": 70
         },
         {
          "Outlier": "\"Actuals\"",
          "X": 13,
          "Y": 28
         },
         {
          "Outlier": "\"Actuals\"",
          "X": 14,
          "Y": 12
         },
         {
          "Outlier": "\"Actuals\"",
          "X": 15,
          "Y": 5
         },
         {
          "Outlier": "\"Simulated\"",
          "X": 1,
          "Y": 1
         },
         {
          "Outlier": "\"Simulated\"",
          "X": 2,
          "Y": 4.449470258029982
         },
         {
          "Outlier": "\"Simulated\"",
          "X": 3,
          "Y": 19.260613955067594
         },
         {
          "Outlier": "\"Simulated\"",
          "X": 4,
          "Y": 74.56001407651216
         },
         {
          "Outlier": "\"Simulated\"",
          "X": 5,
          "Y": 203.53132707275714
         },
         {
          "Outlier": "\"Simulated\"",
          "X": 6,
          "Y": 303.9377394431499
         },
         {
          "Outlier": "\"Simulated\"",
          "X": 7,
          "Y": 280.8355064841971
         },
         {
          "Outlier": "\"Simulated\"",
          "X": 8,
          "Y": 208.44313889488538
         },
         {
          "Outlier": "\"Simulated\"",
          "X": 9,
          "Y": 141.93376055400773
         },
         {
          "Outlier": "\"Simulated\"",
          "X": 10,
          "Y": 93.16867111576789
         },
         {
          "Outlier": "\"Simulated\"",
          "X": 11,
          "Y": 60.098401961236064
         },
         {
          "Outlier": "\"Simulated\"",
          "X": 12,
          "Y": 38.41317069995869
         },
         {
          "Outlier": "\"Simulated\"",
          "X": 13,
          "Y": 24.42723523310017
         },
         {
          "Outlier": "\"Simulated\"",
          "X": 14,
          "Y": 15.487105777221927
         },
         {
          "Outlier": "\"Simulated\"",
          "X": 15,
          "Y": 9.80136250623264
         }
        ]
       },
       "encoding": {
        "color": {
         "field": "Outlier"
        },
        "x": {
         "field": "X",
         "type": "quantitative"
        },
        "y": {
         "field": "Y",
         "type": "quantitative"
        }
       },
       "height": 200,
       "mark": "circle",
       "width": 200
      },
      "image/png": "[encoded data removed]"
     },
     "metadata": {},
     "output_type": "display_data"
    }
   ],
   "source": [
    "xs <- main\n",
    "\n",
    "f :: Int -> Double\n",
    "f = fromIntegral\n",
    "\n",
    "plotVega \n",
    "  (zip (zip (map f ([1..15] <> [1..15])) (actuals <> xs))\n",
    "       (replicate 15 (T.pack \"Actuals\") <> replicate 15 (T.pack \"Simulated\")))"
   ]
  },
  {
   "cell_type": "code",
   "execution_count": 14,
   "id": "1dde98e6",
   "metadata": {
    "collapsed": false,
    "jupyter": {
     "outputs_hidden": false
    }
   },
   "outputs": [
    {
     "data": {
      "text/plain": [
       "[1.0,4.449470258029982,19.260613955067594,74.56001407651216,203.53132707275714,303.9377394431499,280.8355064841971,208.44313889488538,141.93376055400773,93.16867111576789,60.098401961236064,38.41317069995869,24.42723523310017,15.487105777221927,9.80136250623264]"
      ]
     },
     "metadata": {},
     "output_type": "display_data"
    }
   ],
   "source": [
    "main"
   ]
  },
  {
   "cell_type": "markdown",
   "id": "edfb86b2",
   "metadata": {},
   "source": [
    "If $\\beta$ were constant, then $R_0 := \\beta / \\gamma$ would\n",
    "also be constant: the famous *basic reproduction number* for the SIR\n",
    "model.\n",
    "\n",
    "When the transmission rate is time-varying, then $R_0(t)$ is a\n",
    "time-varying version of the basic reproduction number.\n",
    "\n",
    "Prior to solving the model directly, we make a few changes:\n",
    "\n",
    "- Re-parameterize using $\\beta(t) = \\gamma R_0(t)$\n",
    "- Define the proportion of individuals in each state as $ s := S/N $ etc.\n",
    "- Divide each equation by $ N $, and write the system of ODEs in terms of the proportions\n",
    "\n",
    "$$\n",
    "\\begin{aligned}\n",
    "     \\frac{d s}{d t}  & = - \\gamma \\, R_0 \\, s \\,  i\n",
    "     \\\\\n",
    "     \\frac{d e}{d t}   & = \\gamma \\, R_0 \\, s \\,  i  - \\gamma i\n",
    "     \\\\\n",
    "      \\frac{d r}{d t}  & = \\gamma  i\n",
    "\\end{aligned}\n",
    "$$"
   ]
  },
  {
   "cell_type": "code",
   "execution_count": 15,
   "id": "1b797acb",
   "metadata": {
    "collapsed": false,
    "jupyter": {
     "outputs_hidden": false
    }
   },
   "outputs": [],
   "source": [
    "sirReparam :: Vector Double -> SirReparam -> OdeProblem\n",
    "sirReparam ts ps = emptyOdeProblem\n",
    "  { odeRhs = odeRhsPure f\n",
    "  , odeJacobian = Nothing\n",
    "  , odeInitCond = [initS, initI, initR]\n",
    "  , odeEventHandler = nilEventHandler\n",
    "  , odeMaxEvents = 0\n",
    "  , odeSolTimes = ts\n",
    "  , odeTolerances = defaultTolerances\n",
    "  }\n",
    "  where\n",
    "    f _ (VS.toList -> [s, i, r]) =\n",
    "      let n = s + i + r in\n",
    "        [ -kappa * r0 * i / n * s\n",
    "        , kappa * r0 * i / n * s - kappa * i\n",
    "        , kappa * i\n",
    "        ]\n",
    "    f _ _ = error \"Incorrect number of parameters\"\n",
    "\n",
    "    r0 = realToFrac (sirParamsR0  $ sirP' ps)\n",
    "    kappa = realToFrac (sirParamsKappa $ sirP' ps)\n",
    "    initS = realToFrac (sirStateS $ sirS' ps)\n",
    "    initI = realToFrac (sirStateI $ sirS' ps)\n",
    "    initR = realToFrac (sirStateR $ sirS' ps)"
   ]
  },
  {
   "cell_type": "code",
   "execution_count": 16,
   "id": "17f0b98a",
   "metadata": {
    "collapsed": false,
    "jupyter": {
     "outputs_hidden": false
    }
   },
   "outputs": [],
   "source": [
    "solK' :: (MonadIO m, Katip m) =>\n",
    "        (a -> b -> OdeProblem) -> b -> a -> m (Matrix Double)\n",
    "solK' s ps ts = do\n",
    "  x <- solve (defaultOpts $ ARKMethod SDIRK_5_3_4) (s ts ps)\n",
    "  case x of\n",
    "    Left e  -> error $ show e\n",
    "    Right y -> return (solutionMatrix y)\n",
    "\n",
    "testSolK' :: (MonadIO m, KatipContext m) => m [Double]\n",
    "testSolK' = do\n",
    "  m <- solK' sirReparam (SirReparam (SirState 762 1 0) (SirParams' 4.0 0.5)) (vector us)\n",
    "  let n = tr m\n",
    "  return $ toList (n!1)\n",
    "\n",
    "testSolK'' :: (MonadIO m, KatipContext m) => m [Double]\n",
    "testSolK'' = do\n",
    "  m <- solK' sirReparam (SirReparam (SirState 762 1 0) (SirParams' 3.2 0.55)) (vector us)\n",
    "  let n = tr m\n",
    "  return $ toList (n!1)"
   ]
  },
  {
   "cell_type": "code",
   "execution_count": 17,
   "id": "1613865c",
   "metadata": {
    "collapsed": false,
    "jupyter": {
     "outputs_hidden": false
    }
   },
   "outputs": [],
   "source": [
    "main1 :: IO [Double]\n",
    "main1 = do\n",
    "  handleScribe <- mkHandleScribeWithFormatter myBracketFormat ColorIfTerminal stderr (permitItem DebugS) V2\n",
    "  logEnv <- registerScribe \"stderr\" handleScribe defaultScribeSettings =<< initLogEnv \"test\" \"devel\"\n",
    "  runKatipContextT logEnv (mempty :: LogContexts) mempty testSolK'"
   ]
  },
  {
   "cell_type": "code",
   "execution_count": 18,
   "id": "6e50c808",
   "metadata": {
    "collapsed": false,
    "jupyter": {
     "outputs_hidden": false
    }
   },
   "outputs": [
    {
     "data": {
      "application/vnd.vegalite.v4+json": {
       "$schema": "https://vega.github.io/schema/vega-lite/v4.json",
       "data": {
        "values": [
         {
          "Outlier": "\"Predicted\"",
          "X": 1,
          "Y": 1
         },
         {
          "Outlier": "\"Predicted\"",
          "X": 2,
          "Y": 4.449470258029982
         },
         {
          "Outlier": "\"Predicted\"",
          "X": 3,
          "Y": 19.260613955067594
         },
         {
          "Outlier": "\"Predicted\"",
          "X": 4,
          "Y": 74.56001407651216
         },
         {
          "Outlier": "\"Predicted\"",
          "X": 5,
          "Y": 203.53132707275714
         },
         {
          "Outlier": "\"Predicted\"",
          "X": 6,
          "Y": 303.9377394431499
         },
         {
          "Outlier": "\"Predicted\"",
          "X": 7,
          "Y": 280.8355064841971
         },
         {
          "Outlier": "\"Predicted\"",
          "X": 8,
          "Y": 208.44313889488538
         },
         {
          "Outlier": "\"Predicted\"",
          "X": 9,
          "Y": 141.93376055400773
         },
         {
          "Outlier": "\"Predicted\"",
          "X": 10,
          "Y": 93.16867111576789
         },
         {
          "Outlier": "\"Predicted\"",
          "X": 11,
          "Y": 60.098401961236064
         },
         {
          "Outlier": "\"Predicted\"",
          "X": 12,
          "Y": 38.41317069995869
         },
         {
          "Outlier": "\"Predicted\"",
          "X": 13,
          "Y": 24.42723523310017
         },
         {
          "Outlier": "\"Predicted\"",
          "X": 14,
          "Y": 15.487105777221927
         },
         {
          "Outlier": "\"Predicted\"",
          "X": 15,
          "Y": 9.80136250623264
         }
        ]
       },
       "encoding": {
        "color": {
         "field": "Outlier"
        },
        "x": {
         "field": "X",
         "type": "quantitative"
        },
        "y": {
         "field": "Y",
         "type": "quantitative"
        }
       },
       "height": 200,
       "mark": "circle",
       "width": 200
      },
      "image/png": "[encoded data removed]"
     },
     "metadata": {},
     "output_type": "display_data"
    }
   ],
   "source": [
    "xs <- main1\n",
    "\n",
    "plotVega \n",
    "  (zip (zip (map f ([1..15])) (xs))\n",
    "       (replicate 15 (T.pack \"Predicted\")))"
   ]
  },
  {
   "cell_type": "markdown",
   "id": "c5c42467",
   "metadata": {},
   "source": [
    "We see that e.g. on day 10 our model predicts 93 students in the sick bay\n",
    "while in fact there are 192 students there. What we would like to do\n",
    "is to use the last observation to inform our prediction. First we have\n",
    "to generalise our model so that it can be influenced by the data by\n",
    "allowing the state to be a general distribution rather than a\n",
    "particular value. Once we have done this, we can, using particle\n",
    "filtering, approximate the conditional probability measure of the\n",
    "state given the observations prior to the state we wish to\n",
    "estimate. How this is done more precisely is given in the section\n",
    "\"Whatever\".\n",
    "\n",
    "So here is the generalised model where we add noise to the\n",
    "state. N.B. the invariant that the sum of the susceptible, infected\n",
    "and recovered remains constant no longer holds."
   ]
  },
  {
   "cell_type": "markdown",
   "id": "e32c1e37",
   "metadata": {},
   "source": [
    "## System of Stochastic Differential Equations"
   ]
  },
  {
   "cell_type": "markdown",
   "id": "d60718bb",
   "metadata": {},
   "source": [
    "We switch to a Stochastic Differential Equation (SDE) notation but without the stochasticity to start with.\n",
    "\n",
    "$$\n",
    "\\begin{aligned}\n",
    "     d s  & = - \\gamma \\, R_0 \\, s \\,  i \\, dt\n",
    "     \\\\\n",
    "      d i  & = \\left(\\gamma \\, R_0 \\, s \\,  i  - \\gamma  \\, i \\right) dt\n",
    "     \\\\\n",
    "     d r  & = \\gamma  \\, i \\, dt\n",
    "     \\\\\n",
    "\\end{aligned}\n",
    "$$\n",
    "\n",
    "The system can be written in vector form $x := [s, i, r, R_\\theta]$ with parameter tuple parameter tuple $p := (\\gamma, \\eta, \\sigma, \\bar{R}_0)$\n",
    "\n",
    "The general form of the SDE is.\n",
    "\n",
    "$$\n",
    "\\begin{aligned}\n",
    "d x_t &= F(x_t,t;p)dt + G(x_t,t;p) dW_t\n",
    "\\end{aligned}\n",
    "$$\n",
    "\n",
    "With the drift,\n",
    "\n",
    "$$\n",
    "F(x,t;p) := \\begin{bmatrix}\n",
    "    -\\gamma \\, R_0 \\, s \\,  i\n",
    "    \\\\\n",
    "    \\gamma \\, R_0 \\,  s \\,  i  - \\gamma i\n",
    "    \\\\\n",
    "    \\gamma i\n",
    "    \\\\\n",
    "    \\eta (\\bar{R}_0 - R_0)\n",
    "    \\\\\n",
    "\\end{bmatrix}\n",
    "$$\n",
    "\n",
    "Here, it is convenient but not necessary for $ dW_t $ to have the same dimension as $ x $.  If so, then we can use a square matrix $ G(x,t;p) $ to associate the shocks with the appropriate $ x $ (e.g. diagonal noise, or using a covariance matrix).\n",
    "\n",
    "As the source of Brownian motion only affects the $ d R_0 $ term (i.e. the 4th equation), we define the covariance matrix as\n",
    "\n",
    "$$\n",
    "\\begin{aligned}\n",
    "G(x,t;p) &:= \\begin{bmatrix}\n",
    "0 & 0 & 0 & 0 \\\\\n",
    "0 & 0 & 0 & 0 \\\\\n",
    "0 & 0 & 0 & 0 \\\\\n",
    "0 & 0 & 0 & \\sigma \\sqrt{R_0}\n",
    "\\end{bmatrix}\n",
    "\\end{aligned}\n",
    "$$"
   ]
  },
  {
   "cell_type": "code",
   "execution_count": 19,
   "id": "8347fcb4",
   "metadata": {
    "collapsed": false,
    "jupyter": {
     "outputs_hidden": false
    }
   },
   "outputs": [
    {
     "ename": "",
     "evalue": "",
     "header": "MessageHeader {mhIdentifiers = [\"3ca336d4-b259-4c14-b3e9-e59612750a07\"], mhParentHeader = Just (MessageHeader {mhIdentifiers = [\"3ca336d4-b259-4c14-b3e9-e59612750a07\"], mhParentHeader = Nothing, mhMetadata = Metadata (fromList [(\"cellId\",String \"8347fcb4\"),(\"collapsed\",Bool False),(\"deletedCells\",Array []),(\"jupyter\",Object (fromList [(\"outputs_hidden\",Bool False)])),(\"recordTiming\",Bool False)]), mhMessageId = UUID {uuidToString = \"a4c4993a-e421-4e31-9957-6a3e7f527747\"}, mhSessionId = UUID {uuidToString = \"3ca336d4-b259-4c14-b3e9-e59612750a07\"}, mhUsername = \"\", mhMsgType = ExecuteRequestMessage, mhBuffers = []}), mhMetadata = Metadata (fromList []), mhMessageId = UUID {uuidToString = \"88ee1069-069f-44c5-aca4-d17d7fcd9ce9\"}, mhSessionId = UUID {uuidToString = \"3ca336d4-b259-4c14-b3e9-e59612750a07\"}, mhUsername = \"\", mhMsgType = ExecuteErrorMessage, mhBuffers = []}",
     "output_type": "error",
     "traceback": [
      "<interactive>:2:27: error: Not in scope: type constructor or class ‘MonadReader’\n<interactive>:3:7: error: Not in scope: type constructor or class ‘Particles’\n<interactive>:7:7: error: Not in scope: type constructor or class ‘Particles’\n<interactive>:9:10: error: Not in scope: type constructor or class ‘Particles’\n<interactive>:9:23: error: Not in scope: type constructor or class ‘Particles’\n<interactive>:9:49: error: Not in scope: type constructor or class ‘Particles’"
     ]
    }
   ],
   "source": [
    "pf :: forall m g a b . (R.StatefulGen g m,\n",
    "                          MonadReader g m) =>\n",
    "      Particles a ->\n",
    "      (a -> m a) ->\n",
    "      (a -> m b) ->\n",
    "      (b -> b -> Double) ->\n",
    "      Particles Double ->\n",
    "      b ->\n",
    "      m (Particles b, Particles Double, Double, Particles a)\n",
    "pf statePrev ff g dd log_w y = do\n",
    "\n",
    "  let bigN = length log_w\n",
    "      wn   = map exp $\n",
    "             zipWith (-) log_w (replicate bigN (maximum log_w))\n",
    "      swn  = sum wn\n",
    "      wn'  = map (/ swn) wn\n",
    "\n",
    "  b <- resampleStratified wn'\n",
    "  let a              = map (\\i -> i - 1) b\n",
    "      stateResampled = map (\\i -> statePrev!!(a!!i)) [0 .. bigN - 1]\n",
    "\n",
    "  statePredicted <- mapM ff stateResampled\n",
    "  obsPredicted <- mapM g statePredicted\n",
    "\n",
    "  let ds                   = map (dd y) obsPredicted\n",
    "      maxWeight            = maximum ds\n",
    "      wm                   = map exp $\n",
    "                             zipWith (-) ds (replicate bigN maxWeight)\n",
    "      swm                  = sum wm\n",
    "      predictiveLikelihood =   maxWeight\n",
    "                             + log swm\n",
    "                             - log (fromIntegral bigN)\n",
    "\n",
    "  return (obsPredicted, ds, predictiveLikelihood, statePredicted)"
   ]
  },
  {
   "cell_type": "markdown",
   "id": "4f6680e3",
   "metadata": {},
   "source": [
    "Definition: Let $\\mathcal{C}$ be a category. A monad on $\\mathcal{C}$ is a triple\n",
    "\n",
    "$$\n",
    "\\left(C \\stackrel{T}{\\longrightarrow} C, T^{2} \\stackrel{\\mu}{\\Longrightarrow} T, I \\stackrel{\\eta}{\\Longrightarrow} T\\right)\n",
    "$$\n",
    "\n",
    "obeying the standard associativity and identity properties."
   ]
  },
  {
   "cell_type": "markdown",
   "id": "06396bbb",
   "metadata": {},
   "source": [
    "${\\mathcal{C}}_0$ measurable spaces ${\\mathcal{C}}_1$ measurable functions on the former"
   ]
  },
  {
   "cell_type": "markdown",
   "id": "4945b33a",
   "metadata": {},
   "source": [
    "Objects of ${\\mathcal{C}}$ and morphisms"
   ]
  },
  {
   "cell_type": "markdown",
   "id": "bc6a6c78",
   "metadata": {},
   "source": [
    "$$\n",
    "P : (X, \\Sigma_X) \\longrightarrow (PX, \\Sigma_{PX})\n",
    "$$"
   ]
  },
  {
   "cell_type": "markdown",
   "id": "6c61dfaf",
   "metadata": {},
   "source": [
    "$$\n",
    "\\begin{array}{ll}\n",
    "P X \\stackrel{ev_{E}}{\\longrightarrow}[0,1] & \\text { are measurable } \\\\\n",
    "\\mu \\longmapsto \\mu(E) & \\forall E \\in \\sum_{X}\n",
    "\\end{array}\n",
    "$$"
   ]
  },
  {
   "cell_type": "markdown",
   "id": "dabff43a",
   "metadata": {},
   "source": [
    "$\\Sigma_{PX}$ is the smallest $\\sigma$-algebra that makes the evaluation map $ev_E$ measurable."
   ]
  },
  {
   "cell_type": "markdown",
   "id": "5f899065",
   "metadata": {},
   "source": [
    "$$\n",
    "\\begin{aligned}\n",
    "\\left(X, \\Sigma_{X}\\right) \\stackrel{f}{\\longrightarrow}\\left(Y, \\Sigma_{r}\\right) & \\\\\n",
    "P X \\stackrel{P f}{\\longrightarrow} P Y \\quad(P f)(\\mu)=f_{*} \\mu \\\\\n",
    "\\left(f_{* \\mu}\\right)(A)=\\mu\\left(f^{-1}(A)\\right)\n",
    "\\end{aligned}\n",
    "$$"
   ]
  },
  {
   "cell_type": "markdown",
   "id": "5a5d211c",
   "metadata": {},
   "source": [
    "Monad on measurable spaces aka the Giry Monad"
   ]
  },
  {
   "cell_type": "markdown",
   "id": "64562d19",
   "metadata": {},
   "source": [
    "$$\n",
    "\\left(C \\stackrel{T}{\\longrightarrow} C, T^{2} \\stackrel{\\mu}{\\Longrightarrow} T, I \\stackrel{\\eta}{\\Longrightarrow} T\\right)\n",
    "$$\n",
    "\n",
    "The Kleisli categany associated with $(T, \\mu, \\eta)$ has objets the same as $C$"
   ]
  },
  {
   "cell_type": "markdown",
   "id": "ec51eeb1",
   "metadata": {},
   "source": [
    "while a morphism from $a$ to $b$ denoted $a \\stackrel{f}\\rightsquigarrow b$, is defined to be a morphism $a \\stackrel{f}{\\longrightarrow} T b$."
   ]
  },
  {
   "cell_type": "markdown",
   "id": "ca01548a",
   "metadata": {},
   "source": [
    "$$\n",
    "T_{c} \\stackrel{B_{c}}{\\longleftarrow} T_{c}^{2} \\stackrel{T_{g}}{\\longleftarrow} T_{\\hookleftarrow} \\stackrel{\\&}{\\longleftarrow}\n",
    "$$"
   ]
  },
  {
   "cell_type": "markdown",
   "id": "6b425057",
   "metadata": {},
   "source": [
    "$C \\stackrel{1_C}\\rightsquigarrow C$ is $C \\stackrel{\\eta_C}\\rightarrow TC$ "
   ]
  },
  {
   "cell_type": "markdown",
   "id": "608a0d99",
   "metadata": {},
   "source": [
    "${\\mathcal{C}} \\longrightarrow \\mathrm{Kl}(T)$"
   ]
  },
  {
   "cell_type": "markdown",
   "id": "beb689e9",
   "metadata": {},
   "source": [
    "Giry monad has the Kleisli category of measurable spaces and Markov kernels"
   ]
  },
  {
   "cell_type": "markdown",
   "id": "989d048a",
   "metadata": {},
   "source": [
    "Example: let $X = \\{0, 1, \\ldots, n - 1\\}$\n",
    "\n",
    "$PX = \\{(p_0, p_1, \\ldots, p_{n-1}) \\in \\mathbb{R}^n \\mid p_j \\ge 0 \\forall j \\& \\sum_j p_j =1 \\}$ in other words a $n - 1$-simplex."
   ]
  },
  {
   "cell_type": "markdown",
   "id": "4c1c1854",
   "metadata": {},
   "source": [
    "Recall the $\\sigma$-algebra on the space $PX$ is defined as the one which makes the evaluation maps measurable."
   ]
  },
  {
   "cell_type": "code",
   "execution_count": null,
   "id": "c1b86bba",
   "metadata": {
    "collapsed": false,
    "jupyter": {
     "outputs_hidden": false
    }
   },
   "outputs": [],
   "source": []
  }
 ],
 "metadata": {
  "kernelspec": {
   "display_name": "Haskell - nixpkgs",
   "language": "haskell",
   "name": "ihaskell_nixpkgs"
  },
  "language_info": {
   "codemirror_mode": "ihaskell",
   "file_extension": ".hs",
   "mimetype": "text/x-haskell",
   "name": "haskell",
   "pygments_lexer": "Haskell",
   "version": "9.0.2"
  },
  "name": "TestSaveViaEmacs.ipynb"
 },
 "nbformat": 4,
 "nbformat_minor": 5
}
